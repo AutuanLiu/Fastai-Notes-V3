{
 "cells": [
  {
   "cell_type": "code",
   "execution_count": 34,
   "metadata": {},
   "outputs": [],
   "source": [
    "%matplotlib inline\n",
    "%reload_ext autoreload\n",
    "%autoreload 2\n",
    "# 多行输出\n",
    "from IPython.core.interactiveshell import InteractiveShell\n",
    "InteractiveShell.ast_node_interactivity = \"all\" "
   ]
  },
  {
   "cell_type": "markdown",
   "metadata": {},
   "source": [
    "## 1 数据准备"
   ]
  },
  {
   "cell_type": "code",
   "execution_count": 35,
   "metadata": {},
   "outputs": [],
   "source": [
    "from fastai.vision import *"
   ]
  },
  {
   "cell_type": "code",
   "execution_count": 36,
   "metadata": {},
   "outputs": [
    {
     "data": {
      "text/plain": [
       "PosixPath('/home/lyc/Datasets/kaggle/competitions/iwildcam-2019-fgvc6')"
      ]
     },
     "execution_count": 36,
     "metadata": {},
     "output_type": "execute_result"
    },
    {
     "data": {
      "text/plain": [
       "'/home/lyc/Datasets/kaggle/competitions/iwildcam-2019-fgvc6'"
      ]
     },
     "execution_count": 36,
     "metadata": {},
     "output_type": "execute_result"
    }
   ],
   "source": [
    "# 设置数据路径\n",
    "path = Path('/home/lyc/Datasets/kaggle/competitions/iwildcam-2019-fgvc6')\n",
    "path\n",
    "path.as_posix()"
   ]
  },
  {
   "cell_type": "code",
   "execution_count": 37,
   "metadata": {},
   "outputs": [
    {
     "data": {
      "text/plain": [
       "[PosixPath('/home/lyc/Datasets/kaggle/competitions/iwildcam-2019-fgvc6/train.csv'),\n",
       " PosixPath('/home/lyc/Datasets/kaggle/competitions/iwildcam-2019-fgvc6/test.csv'),\n",
       " PosixPath('/home/lyc/Datasets/kaggle/competitions/iwildcam-2019-fgvc6/train'),\n",
       " PosixPath('/home/lyc/Datasets/kaggle/competitions/iwildcam-2019-fgvc6/sample_submission.csv'),\n",
       " PosixPath('/home/lyc/Datasets/kaggle/competitions/iwildcam-2019-fgvc6/test'),\n",
       " PosixPath('/home/lyc/Datasets/kaggle/competitions/iwildcam-2019-fgvc6/models')]"
      ]
     },
     "execution_count": 37,
     "metadata": {},
     "output_type": "execute_result"
    }
   ],
   "source": [
    "path.ls()"
   ]
  },
  {
   "cell_type": "code",
   "execution_count": 38,
   "metadata": {},
   "outputs": [],
   "source": [
    "name_id = ['empty', 'deer', 'moose', 'squirrel', 'rodent', 'small_mammal', 'elk', 'pronghorn_antelope', 'rabbit,bighorn_sheep', 'fox', 'coyote', 'black_bear', \n",
    "           'raccoon', 'skunk', 'wolf', 'bobcat', 'cat', 'dog', 'opossum', 'bison', 'mountain_goat', 'mountain_lion']"
   ]
  },
  {
   "cell_type": "markdown",
   "metadata": {},
   "source": [
    "- 这里每个图片都会有多个标签"
   ]
  },
  {
   "cell_type": "code",
   "execution_count": 39,
   "metadata": {},
   "outputs": [
    {
     "data": {
      "text/html": [
       "<div>\n",
       "<style scoped>\n",
       "    .dataframe tbody tr th:only-of-type {\n",
       "        vertical-align: middle;\n",
       "    }\n",
       "\n",
       "    .dataframe tbody tr th {\n",
       "        vertical-align: top;\n",
       "    }\n",
       "\n",
       "    .dataframe thead th {\n",
       "        text-align: right;\n",
       "    }\n",
       "</style>\n",
       "<table border=\"1\" class=\"dataframe\">\n",
       "  <thead>\n",
       "    <tr style=\"text-align: right;\">\n",
       "      <th></th>\n",
       "      <th>category_id</th>\n",
       "      <th>date_captured</th>\n",
       "      <th>file_name</th>\n",
       "      <th>frame_num</th>\n",
       "      <th>id</th>\n",
       "      <th>location</th>\n",
       "      <th>rights_holder</th>\n",
       "      <th>seq_id</th>\n",
       "      <th>seq_num_frames</th>\n",
       "      <th>width</th>\n",
       "      <th>height</th>\n",
       "    </tr>\n",
       "  </thead>\n",
       "  <tbody>\n",
       "    <tr>\n",
       "      <th>0</th>\n",
       "      <td>19</td>\n",
       "      <td>2011-05-13 23:43:18</td>\n",
       "      <td>5998cfa4-23d2-11e8-a6a3-ec086b02610b.jpg</td>\n",
       "      <td>1</td>\n",
       "      <td>5998cfa4-23d2-11e8-a6a3-ec086b02610b</td>\n",
       "      <td>33</td>\n",
       "      <td>Justin Brown</td>\n",
       "      <td>6f084ccc-5567-11e8-bc84-dca9047ef277</td>\n",
       "      <td>3</td>\n",
       "      <td>1024</td>\n",
       "      <td>747</td>\n",
       "    </tr>\n",
       "    <tr>\n",
       "      <th>1</th>\n",
       "      <td>19</td>\n",
       "      <td>2012-03-17 03:48:44</td>\n",
       "      <td>588a679f-23d2-11e8-a6a3-ec086b02610b.jpg</td>\n",
       "      <td>2</td>\n",
       "      <td>588a679f-23d2-11e8-a6a3-ec086b02610b</td>\n",
       "      <td>115</td>\n",
       "      <td>Justin Brown</td>\n",
       "      <td>6f12067d-5567-11e8-b3c0-dca9047ef277</td>\n",
       "      <td>3</td>\n",
       "      <td>1024</td>\n",
       "      <td>747</td>\n",
       "    </tr>\n",
       "    <tr>\n",
       "      <th>2</th>\n",
       "      <td>0</td>\n",
       "      <td>2014-05-11 11:56:46</td>\n",
       "      <td>59279ce3-23d2-11e8-a6a3-ec086b02610b.jpg</td>\n",
       "      <td>1</td>\n",
       "      <td>59279ce3-23d2-11e8-a6a3-ec086b02610b</td>\n",
       "      <td>96</td>\n",
       "      <td>Erin Boydston</td>\n",
       "      <td>6faa92d1-5567-11e8-b1ae-dca9047ef277</td>\n",
       "      <td>1</td>\n",
       "      <td>1024</td>\n",
       "      <td>747</td>\n",
       "    </tr>\n",
       "    <tr>\n",
       "      <th>3</th>\n",
       "      <td>0</td>\n",
       "      <td>2013-10-06 02:00:00</td>\n",
       "      <td>5a2af4ab-23d2-11e8-a6a3-ec086b02610b.jpg</td>\n",
       "      <td>1</td>\n",
       "      <td>5a2af4ab-23d2-11e8-a6a3-ec086b02610b</td>\n",
       "      <td>57</td>\n",
       "      <td>Erin Boydston</td>\n",
       "      <td>6f7d4702-5567-11e8-9e03-dca9047ef277</td>\n",
       "      <td>1</td>\n",
       "      <td>1024</td>\n",
       "      <td>747</td>\n",
       "    </tr>\n",
       "    <tr>\n",
       "      <th>4</th>\n",
       "      <td>0</td>\n",
       "      <td>2011-07-12 13:11:16</td>\n",
       "      <td>599fbd89-23d2-11e8-a6a3-ec086b02610b.jpg</td>\n",
       "      <td>3</td>\n",
       "      <td>599fbd89-23d2-11e8-a6a3-ec086b02610b</td>\n",
       "      <td>46</td>\n",
       "      <td>Justin Brown</td>\n",
       "      <td>6f1728a1-5567-11e8-9be7-dca9047ef277</td>\n",
       "      <td>3</td>\n",
       "      <td>1024</td>\n",
       "      <td>747</td>\n",
       "    </tr>\n",
       "  </tbody>\n",
       "</table>\n",
       "</div>"
      ],
      "text/plain": [
       "   category_id        date_captured                                 file_name  \\\n",
       "0           19  2011-05-13 23:43:18  5998cfa4-23d2-11e8-a6a3-ec086b02610b.jpg   \n",
       "1           19  2012-03-17 03:48:44  588a679f-23d2-11e8-a6a3-ec086b02610b.jpg   \n",
       "2            0  2014-05-11 11:56:46  59279ce3-23d2-11e8-a6a3-ec086b02610b.jpg   \n",
       "3            0  2013-10-06 02:00:00  5a2af4ab-23d2-11e8-a6a3-ec086b02610b.jpg   \n",
       "4            0  2011-07-12 13:11:16  599fbd89-23d2-11e8-a6a3-ec086b02610b.jpg   \n",
       "\n",
       "   frame_num                                    id  location  rights_holder  \\\n",
       "0          1  5998cfa4-23d2-11e8-a6a3-ec086b02610b        33   Justin Brown   \n",
       "1          2  588a679f-23d2-11e8-a6a3-ec086b02610b       115   Justin Brown   \n",
       "2          1  59279ce3-23d2-11e8-a6a3-ec086b02610b        96  Erin Boydston   \n",
       "3          1  5a2af4ab-23d2-11e8-a6a3-ec086b02610b        57  Erin Boydston   \n",
       "4          3  599fbd89-23d2-11e8-a6a3-ec086b02610b        46   Justin Brown   \n",
       "\n",
       "                                 seq_id  seq_num_frames  width  height  \n",
       "0  6f084ccc-5567-11e8-bc84-dca9047ef277               3   1024     747  \n",
       "1  6f12067d-5567-11e8-b3c0-dca9047ef277               3   1024     747  \n",
       "2  6faa92d1-5567-11e8-b1ae-dca9047ef277               1   1024     747  \n",
       "3  6f7d4702-5567-11e8-9e03-dca9047ef277               1   1024     747  \n",
       "4  6f1728a1-5567-11e8-9be7-dca9047ef277               3   1024     747  "
      ]
     },
     "execution_count": 39,
     "metadata": {},
     "output_type": "execute_result"
    }
   ],
   "source": [
    "train_df = pd.read_csv(path/'train.csv')\n",
    "train_df.head()"
   ]
  },
  {
   "cell_type": "code",
   "execution_count": 40,
   "metadata": {},
   "outputs": [
    {
     "data": {
      "text/html": [
       "<div>\n",
       "<style scoped>\n",
       "    .dataframe tbody tr th:only-of-type {\n",
       "        vertical-align: middle;\n",
       "    }\n",
       "\n",
       "    .dataframe tbody tr th {\n",
       "        vertical-align: top;\n",
       "    }\n",
       "\n",
       "    .dataframe thead th {\n",
       "        text-align: right;\n",
       "    }\n",
       "</style>\n",
       "<table border=\"1\" class=\"dataframe\">\n",
       "  <thead>\n",
       "    <tr style=\"text-align: right;\">\n",
       "      <th></th>\n",
       "      <th>date_captured</th>\n",
       "      <th>file_name</th>\n",
       "      <th>frame_num</th>\n",
       "      <th>id</th>\n",
       "      <th>location</th>\n",
       "      <th>rights_holder</th>\n",
       "      <th>seq_id</th>\n",
       "      <th>seq_num_frames</th>\n",
       "      <th>width</th>\n",
       "      <th>height</th>\n",
       "    </tr>\n",
       "  </thead>\n",
       "  <tbody>\n",
       "    <tr>\n",
       "      <th>0</th>\n",
       "      <td>2016-01-03 11:30:56</td>\n",
       "      <td>bce932f6-2bf6-11e9-bcad-06f10d5896c4.jpg</td>\n",
       "      <td>1</td>\n",
       "      <td>bce932f6-2bf6-11e9-bcad-06f10d5896c4</td>\n",
       "      <td>37</td>\n",
       "      <td>Idaho Department of Fish and Game</td>\n",
       "      <td>6e9ac61c-2e32-11e9-90ef-dca9047ef277</td>\n",
       "      <td>5</td>\n",
       "      <td>1024</td>\n",
       "      <td>726</td>\n",
       "    </tr>\n",
       "    <tr>\n",
       "      <th>1</th>\n",
       "      <td>2016-01-03 11:30:57</td>\n",
       "      <td>bce932f7-2bf6-11e9-bcad-06f10d5896c4.jpg</td>\n",
       "      <td>2</td>\n",
       "      <td>bce932f7-2bf6-11e9-bcad-06f10d5896c4</td>\n",
       "      <td>37</td>\n",
       "      <td>Idaho Department of Fish and Game</td>\n",
       "      <td>6e9ac61c-2e32-11e9-90ef-dca9047ef277</td>\n",
       "      <td>5</td>\n",
       "      <td>1024</td>\n",
       "      <td>726</td>\n",
       "    </tr>\n",
       "    <tr>\n",
       "      <th>2</th>\n",
       "      <td>2016-01-03 11:30:58</td>\n",
       "      <td>bce932f8-2bf6-11e9-bcad-06f10d5896c4.jpg</td>\n",
       "      <td>3</td>\n",
       "      <td>bce932f8-2bf6-11e9-bcad-06f10d5896c4</td>\n",
       "      <td>37</td>\n",
       "      <td>Idaho Department of Fish and Game</td>\n",
       "      <td>6e9ac61c-2e32-11e9-90ef-dca9047ef277</td>\n",
       "      <td>5</td>\n",
       "      <td>1024</td>\n",
       "      <td>726</td>\n",
       "    </tr>\n",
       "    <tr>\n",
       "      <th>3</th>\n",
       "      <td>2016-01-03 11:30:59</td>\n",
       "      <td>bce932f9-2bf6-11e9-bcad-06f10d5896c4.jpg</td>\n",
       "      <td>4</td>\n",
       "      <td>bce932f9-2bf6-11e9-bcad-06f10d5896c4</td>\n",
       "      <td>37</td>\n",
       "      <td>Idaho Department of Fish and Game</td>\n",
       "      <td>6e9ac61c-2e32-11e9-90ef-dca9047ef277</td>\n",
       "      <td>5</td>\n",
       "      <td>1024</td>\n",
       "      <td>726</td>\n",
       "    </tr>\n",
       "    <tr>\n",
       "      <th>4</th>\n",
       "      <td>2016-01-03 11:31:00</td>\n",
       "      <td>bce932fa-2bf6-11e9-bcad-06f10d5896c4.jpg</td>\n",
       "      <td>5</td>\n",
       "      <td>bce932fa-2bf6-11e9-bcad-06f10d5896c4</td>\n",
       "      <td>37</td>\n",
       "      <td>Idaho Department of Fish and Game</td>\n",
       "      <td>6e9ac61c-2e32-11e9-90ef-dca9047ef277</td>\n",
       "      <td>5</td>\n",
       "      <td>1024</td>\n",
       "      <td>726</td>\n",
       "    </tr>\n",
       "  </tbody>\n",
       "</table>\n",
       "</div>"
      ],
      "text/plain": [
       "         date_captured                                 file_name  frame_num  \\\n",
       "0  2016-01-03 11:30:56  bce932f6-2bf6-11e9-bcad-06f10d5896c4.jpg          1   \n",
       "1  2016-01-03 11:30:57  bce932f7-2bf6-11e9-bcad-06f10d5896c4.jpg          2   \n",
       "2  2016-01-03 11:30:58  bce932f8-2bf6-11e9-bcad-06f10d5896c4.jpg          3   \n",
       "3  2016-01-03 11:30:59  bce932f9-2bf6-11e9-bcad-06f10d5896c4.jpg          4   \n",
       "4  2016-01-03 11:31:00  bce932fa-2bf6-11e9-bcad-06f10d5896c4.jpg          5   \n",
       "\n",
       "                                     id  location  \\\n",
       "0  bce932f6-2bf6-11e9-bcad-06f10d5896c4        37   \n",
       "1  bce932f7-2bf6-11e9-bcad-06f10d5896c4        37   \n",
       "2  bce932f8-2bf6-11e9-bcad-06f10d5896c4        37   \n",
       "3  bce932f9-2bf6-11e9-bcad-06f10d5896c4        37   \n",
       "4  bce932fa-2bf6-11e9-bcad-06f10d5896c4        37   \n",
       "\n",
       "                       rights_holder                                seq_id  \\\n",
       "0  Idaho Department of Fish and Game  6e9ac61c-2e32-11e9-90ef-dca9047ef277   \n",
       "1  Idaho Department of Fish and Game  6e9ac61c-2e32-11e9-90ef-dca9047ef277   \n",
       "2  Idaho Department of Fish and Game  6e9ac61c-2e32-11e9-90ef-dca9047ef277   \n",
       "3  Idaho Department of Fish and Game  6e9ac61c-2e32-11e9-90ef-dca9047ef277   \n",
       "4  Idaho Department of Fish and Game  6e9ac61c-2e32-11e9-90ef-dca9047ef277   \n",
       "\n",
       "   seq_num_frames  width  height  \n",
       "0               5   1024     726  \n",
       "1               5   1024     726  \n",
       "2               5   1024     726  \n",
       "3               5   1024     726  \n",
       "4               5   1024     726  "
      ]
     },
     "execution_count": 40,
     "metadata": {},
     "output_type": "execute_result"
    }
   ],
   "source": [
    "test_df = pd.read_csv(path/'test.csv')\n",
    "test_df.head()"
   ]
  },
  {
   "cell_type": "code",
   "execution_count": 41,
   "metadata": {},
   "outputs": [],
   "source": [
    "# 图片变换\n",
    "tfms = get_transforms(do_flip=True, max_rotate=20, max_zoom=1.3, max_lighting=0.4,\n",
    "                      max_warp=0.4, p_affine=1., p_lighting=1.)"
   ]
  },
  {
   "cell_type": "code",
   "execution_count": 42,
   "metadata": {},
   "outputs": [],
   "source": [
    "test_set = ImageList.from_df(test_df, path=path, cols='id', folder='test', suffix='.jpg')"
   ]
  },
  {
   "cell_type": "code",
   "execution_count": 43,
   "metadata": {},
   "outputs": [],
   "source": [
    "# 构建数据集\n",
    "np.random.seed(42)\n",
    "# 使用 ImageList 是因为图像是多标签的\n",
    "src = (ImageList.from_df(train_df, path=path, folder='train', cols='id', suffix='.jpg')\n",
    "       .split_by_rand_pct(0.1)\n",
    "       .label_from_df(cols='category_id')\n",
    "       .add_test(test_set)\n",
    "      )"
   ]
  },
  {
   "cell_type": "markdown",
   "metadata": {},
   "source": [
    "- 图像大小设置为 32"
   ]
  },
  {
   "cell_type": "code",
   "execution_count": 44,
   "metadata": {},
   "outputs": [],
   "source": [
    "img_size=32\n",
    "bs=64"
   ]
  },
  {
   "cell_type": "code",
   "execution_count": 45,
   "metadata": {},
   "outputs": [],
   "source": [
    "data = (src.transform(tfms, size=img_size)\n",
    "        .databunch().normalize(imagenet_stats))"
   ]
  },
  {
   "cell_type": "code",
   "execution_count": 46,
   "metadata": {},
   "outputs": [
    {
     "data": {
      "text/plain": [
       "ImageDataBunch;\n",
       "\n",
       "Train: LabelList (176670 items)\n",
       "x: ImageList\n",
       "Image (3, 32, 32),Image (3, 32, 32),Image (3, 32, 32),Image (3, 32, 32),Image (3, 32, 32)\n",
       "y: CategoryList\n",
       "19,19,0,0,3\n",
       "Path: /home/lyc/Datasets/kaggle/competitions/iwildcam-2019-fgvc6;\n",
       "\n",
       "Valid: LabelList (19629 items)\n",
       "x: ImageList\n",
       "Image (3, 32, 32),Image (3, 32, 32),Image (3, 32, 32),Image (3, 32, 32),Image (3, 32, 32)\n",
       "y: CategoryList\n",
       "0,0,0,19,0\n",
       "Path: /home/lyc/Datasets/kaggle/competitions/iwildcam-2019-fgvc6;\n",
       "\n",
       "Test: LabelList (153730 items)\n",
       "x: ImageList\n",
       "Image (3, 32, 32),Image (3, 32, 32),Image (3, 32, 32),Image (3, 32, 32),Image (3, 32, 32)\n",
       "y: EmptyLabelList\n",
       ",,,,\n",
       "Path: /home/lyc/Datasets/kaggle/competitions/iwildcam-2019-fgvc6"
      ]
     },
     "execution_count": 46,
     "metadata": {},
     "output_type": "execute_result"
    }
   ],
   "source": [
    "data"
   ]
  },
  {
   "cell_type": "code",
   "execution_count": 47,
   "metadata": {},
   "outputs": [
    {
     "data": {
      "text/plain": [
       "14"
      ]
     },
     "execution_count": 47,
     "metadata": {},
     "output_type": "execute_result"
    }
   ],
   "source": [
    "data.c"
   ]
  },
  {
   "cell_type": "code",
   "execution_count": 48,
   "metadata": {},
   "outputs": [
    {
     "data": {
      "image/png": "[encoded data removed]",
      "text/plain": [
       "<Figure size 864x648 with 9 Axes>"
      ]
     },
     "metadata": {
      "needs_background": "light"
     },
     "output_type": "display_data"
    }
   ],
   "source": [
    "# 查看部分数据\n",
    "data.show_batch(rows=3, figsize=(12,9))"
   ]
  },
  {
   "cell_type": "markdown",
   "metadata": {},
   "source": [
    "- 使用 densenet169 作为模型"
   ]
  },
  {
   "cell_type": "code",
   "execution_count": 49,
   "metadata": {},
   "outputs": [],
   "source": [
    "arch = models.densenet169"
   ]
  },
  {
   "cell_type": "code",
   "execution_count": 55,
   "metadata": {},
   "outputs": [],
   "source": [
    "learn = cnn_learner(data, arch, metrics=[fbeta, accuracy])"
   ]
  },
  {
   "cell_type": "markdown",
   "metadata": {},
   "source": [
    "- 寻找学习率"
   ]
  },
  {
   "cell_type": "code",
   "execution_count": 51,
   "metadata": {},
   "outputs": [
    {
     "data": {
      "text/html": [],
      "text/plain": [
       "<IPython.core.display.HTML object>"
      ]
     },
     "metadata": {},
     "output_type": "display_data"
    },
    {
     "name": "stdout",
     "output_type": "stream",
     "text": [
      "LR Finder is complete, type {learner_name}.recorder.plot() to see the graph.\n"
     ]
    }
   ],
   "source": [
    "learn.lr_find()"
   ]
  },
  {
   "cell_type": "markdown",
   "metadata": {},
   "source": [
    "- 查看学习率情况并作出选择"
   ]
  },
  {
   "cell_type": "code",
   "execution_count": 52,
   "metadata": {},
   "outputs": [
    {
     "data": {
      "image/png": "[encoded data removed]",
      "text/plain": [
       "<Figure size 432x288 with 1 Axes>"
      ]
     },
     "metadata": {
      "needs_background": "light"
     },
     "output_type": "display_data"
    }
   ],
   "source": [
    "learn.recorder.plot()"
   ]
  },
  {
   "cell_type": "markdown",
   "metadata": {},
   "source": [
    "- 根据上述图像，我们选择学习率为 0.01 Find the thing with the steepest slope "
   ]
  },
  {
   "cell_type": "code",
   "execution_count": 53,
   "metadata": {},
   "outputs": [],
   "source": [
    "lr = 0.01"
   ]
  },
  {
   "cell_type": "markdown",
   "metadata": {},
   "source": [
    "- 训练模型"
   ]
  },
  {
   "cell_type": "code",
   "execution_count": null,
   "metadata": {},
   "outputs": [
    {
     "data": {
      "text/html": [
       "\n",
       "    <div>\n",
       "        <style>\n",
       "            /* Turns off some styling */\n",
       "            progress {\n",
       "                /* gets rid of default border in Firefox and Opera. */\n",
       "                border: none;\n",
       "                /* Needs to be in here for Safari polyfill so background images work as expected. */\n",
       "                background-size: auto;\n",
       "            }\n",
       "            .progress-bar-interrupted, .progress-bar-interrupted::-webkit-progress-bar {\n",
       "                background: #F44336;\n",
       "            }\n",
       "        </style>\n",
       "      <progress value='0' class='' max='5', style='width:300px; height:20px; vertical-align: middle;'></progress>\n",
       "      0.00% [0/5 00:00<00:00]\n",
       "    </div>\n",
       "    \n",
       "<table border=\"1\" class=\"dataframe\">\n",
       "  <thead>\n",
       "    <tr style=\"text-align: left;\">\n",
       "      <th>epoch</th>\n",
       "      <th>train_loss</th>\n",
       "      <th>valid_loss</th>\n",
       "      <th>fbeta</th>\n",
       "      <th>accuracy</th>\n",
       "      <th>time</th>\n",
       "    </tr>\n",
       "  </thead>\n",
       "  <tbody>\n",
       "  </tbody>\n",
       "</table><p>\n",
       "\n",
       "    <div>\n",
       "        <style>\n",
       "            /* Turns off some styling */\n",
       "            progress {\n",
       "                /* gets rid of default border in Firefox and Opera. */\n",
       "                border: none;\n",
       "                /* Needs to be in here for Safari polyfill so background images work as expected. */\n",
       "                background-size: auto;\n",
       "            }\n",
       "            .progress-bar-interrupted, .progress-bar-interrupted::-webkit-progress-bar {\n",
       "                background: #F44336;\n",
       "            }\n",
       "        </style>\n",
       "      <progress value='717' class='' max='2760', style='width:300px; height:20px; vertical-align: middle;'></progress>\n",
       "      25.98% [717/2760 17:28<49:46 0.8969]\n",
       "    </div>\n",
       "    "
      ],
      "text/plain": [
       "<IPython.core.display.HTML object>"
      ]
     },
     "metadata": {},
     "output_type": "display_data"
    }
   ],
   "source": [
    "learn.fit_one_cycle(5, lr)"
   ]
  },
  {
   "cell_type": "markdown",
   "metadata": {},
   "source": [
    "- 保存第一阶段的结果"
   ]
  },
  {
   "cell_type": "code",
   "execution_count": null,
   "metadata": {},
   "outputs": [],
   "source": [
    "learn.save('stage-1')"
   ]
  },
  {
   "cell_type": "markdown",
   "metadata": {},
   "source": [
    "- unfreeze 并训练浅层网络的权重，微调过程"
   ]
  },
  {
   "cell_type": "code",
   "execution_count": null,
   "metadata": {},
   "outputs": [],
   "source": [
    "learn.unfreeze()"
   ]
  },
  {
   "cell_type": "markdown",
   "metadata": {},
   "source": [
    "- 再次查找最佳学习率"
   ]
  },
  {
   "cell_type": "code",
   "execution_count": null,
   "metadata": {},
   "outputs": [],
   "source": [
    "learn.lr_find()\n",
    "learn.recorder.plot()"
   ]
  },
  {
   "cell_type": "markdown",
   "metadata": {},
   "source": [
    "- 根据上述图，选择 lr1=1e-4\n",
    "- 再次训练浅层网络并保存结果\n",
    "- 使用判别式学习率"
   ]
  },
  {
   "cell_type": "code",
   "execution_count": null,
   "metadata": {},
   "outputs": [],
   "source": [
    "lr1 = 1e-4\n",
    "learn.fit_one_cycle(10, slice(lr1, lr/5))"
   ]
  },
  {
   "cell_type": "code",
   "execution_count": null,
   "metadata": {},
   "outputs": [],
   "source": [
    "learn.save('stage-2')\n",
    "learn.export()"
   ]
  },
  {
   "cell_type": "markdown",
   "metadata": {},
   "source": [
    "## 图像大小设置为 128"
   ]
  },
  {
   "cell_type": "markdown",
   "metadata": {},
   "source": [
    "- 为了避免内存超出，这里将上述训练好的模型再次导入，并清理内存\n",
    "- 仍旧使用之前的学习器，只是简单地更换数据"
   ]
  },
  {
   "cell_type": "code",
   "execution_count": null,
   "metadata": {},
   "outputs": [],
   "source": [
    "learn.load('stage-2');"
   ]
  },
  {
   "cell_type": "code",
   "execution_count": null,
   "metadata": {},
   "outputs": [],
   "source": [
    "bs=32\n",
    "img_sz=128"
   ]
  },
  {
   "cell_type": "code",
   "execution_count": null,
   "metadata": {},
   "outputs": [],
   "source": [
    "data = (src.transform(tfms, size=img_sz)\n",
    "        .databunch(bs=bs).normalize(imagenet_stats))\n",
    "\n",
    "learn.data = data\n",
    "data"
   ]
  },
  {
   "cell_type": "code",
   "execution_count": null,
   "metadata": {},
   "outputs": [],
   "source": [
    "data.show_batch(rows=3, figsize=(12,9))"
   ]
  },
  {
   "cell_type": "markdown",
   "metadata": {},
   "source": [
    "- 我们仍然使用之前定义的模型\n",
    "- 再次训练之前，我们需要将浅层结构进行 freeze，不训练浅层结构的权重"
   ]
  },
  {
   "cell_type": "code",
   "execution_count": null,
   "metadata": {},
   "outputs": [],
   "source": [
    "learn.freeze()"
   ]
  },
  {
   "cell_type": "markdown",
   "metadata": {},
   "source": [
    "- 寻找最佳学习率并再次训练"
   ]
  },
  {
   "cell_type": "code",
   "execution_count": null,
   "metadata": {},
   "outputs": [],
   "source": [
    "learn.lr_find()\n",
    "learn.recorder.plot()"
   ]
  },
  {
   "cell_type": "code",
   "execution_count": null,
   "metadata": {},
   "outputs": [],
   "source": [
    "lr2=1e-3"
   ]
  },
  {
   "cell_type": "code",
   "execution_count": null,
   "metadata": {},
   "outputs": [],
   "source": [
    "learn.fit_one_cycle(10, slice(lr2))"
   ]
  },
  {
   "cell_type": "code",
   "execution_count": null,
   "metadata": {},
   "outputs": [],
   "source": [
    "learn.save('stage-1-128')"
   ]
  },
  {
   "cell_type": "markdown",
   "metadata": {},
   "source": [
    "- 继续进行第二阶段的微调"
   ]
  },
  {
   "cell_type": "code",
   "execution_count": null,
   "metadata": {},
   "outputs": [],
   "source": [
    "learn.unfreeze()"
   ]
  },
  {
   "cell_type": "code",
   "execution_count": null,
   "metadata": {},
   "outputs": [],
   "source": [
    "learn.lr_find()\n",
    "learn.recorder.plot()"
   ]
  },
  {
   "cell_type": "code",
   "execution_count": null,
   "metadata": {},
   "outputs": [],
   "source": [
    "lr3 = 1e-4"
   ]
  },
  {
   "cell_type": "code",
   "execution_count": null,
   "metadata": {},
   "outputs": [],
   "source": [
    "learn.fit_one_cycle(10, slice(lr3, lr2/5))"
   ]
  },
  {
   "cell_type": "markdown",
   "metadata": {},
   "source": [
    "- 查看训练损失"
   ]
  },
  {
   "cell_type": "code",
   "execution_count": null,
   "metadata": {},
   "outputs": [],
   "source": [
    "learn.recorder.plot_losses()"
   ]
  },
  {
   "cell_type": "markdown",
   "metadata": {},
   "source": [
    "- 保存结果"
   ]
  },
  {
   "cell_type": "code",
   "execution_count": null,
   "metadata": {},
   "outputs": [],
   "source": [
    "learn.save('stage-2-128')"
   ]
  },
  {
   "cell_type": "code",
   "execution_count": null,
   "metadata": {},
   "outputs": [],
   "source": [
    "learn.export()"
   ]
  },
  {
   "cell_type": "markdown",
   "metadata": {},
   "source": [
    "- 继续增大图片尺寸"
   ]
  },
  {
   "cell_type": "code",
   "execution_count": null,
   "metadata": {},
   "outputs": [],
   "source": [
    "learn.load('stage-2-128');"
   ]
  },
  {
   "cell_type": "code",
   "execution_count": null,
   "metadata": {},
   "outputs": [],
   "source": [
    "img_sz=128\n",
    "bs=16"
   ]
  },
  {
   "cell_type": "code",
   "execution_count": null,
   "metadata": {},
   "outputs": [],
   "source": [
    "data = (src.transform(tfms, size=img_sz)\n",
    "        .databunch(bs=bs).normalize(imagenet_stats))\n",
    "\n",
    "learn.data = data\n",
    "data"
   ]
  },
  {
   "cell_type": "code",
   "execution_count": null,
   "metadata": {},
   "outputs": [],
   "source": [
    "data.show_batch(rows=3, figsize=(12,9))"
   ]
  },
  {
   "cell_type": "code",
   "execution_count": null,
   "metadata": {},
   "outputs": [],
   "source": [
    "learn.freeze()"
   ]
  },
  {
   "cell_type": "code",
   "execution_count": null,
   "metadata": {},
   "outputs": [],
   "source": [
    "learn.lr_find()\n",
    "learn.recorder.plot()"
   ]
  },
  {
   "cell_type": "code",
   "execution_count": null,
   "metadata": {},
   "outputs": [],
   "source": []
  },
  {
   "cell_type": "code",
   "execution_count": null,
   "metadata": {},
   "outputs": [],
   "source": []
  },
  {
   "cell_type": "code",
   "execution_count": null,
   "metadata": {},
   "outputs": [],
   "source": []
  },
  {
   "cell_type": "code",
   "execution_count": null,
   "metadata": {},
   "outputs": [],
   "source": []
  },
  {
   "cell_type": "code",
   "execution_count": null,
   "metadata": {},
   "outputs": [],
   "source": []
  },
  {
   "cell_type": "code",
   "execution_count": null,
   "metadata": {},
   "outputs": [],
   "source": []
  },
  {
   "cell_type": "code",
   "execution_count": null,
   "metadata": {},
   "outputs": [],
   "source": []
  },
  {
   "cell_type": "code",
   "execution_count": null,
   "metadata": {},
   "outputs": [],
   "source": []
  },
  {
   "cell_type": "code",
   "execution_count": null,
   "metadata": {},
   "outputs": [],
   "source": []
  },
  {
   "cell_type": "code",
   "execution_count": null,
   "metadata": {},
   "outputs": [],
   "source": []
  },
  {
   "cell_type": "code",
   "execution_count": null,
   "metadata": {},
   "outputs": [],
   "source": []
  },
  {
   "cell_type": "markdown",
   "metadata": {},
   "source": [
    "## 测试集"
   ]
  },
  {
   "cell_type": "code",
   "execution_count": null,
   "metadata": {},
   "outputs": [],
   "source": [
    "test = ImageList.from_folder(path/'test-jpg').add(ImageList.from_folder(path/'test-jpg-additional'))\n",
    "len(test)"
   ]
  },
  {
   "cell_type": "markdown",
   "metadata": {},
   "source": [
    "- 重新加载学习器"
   ]
  },
  {
   "cell_type": "code",
   "execution_count": null,
   "metadata": {},
   "outputs": [],
   "source": [
    "learn = load_learner(path, test=test)\n",
    "preds, _ = learn.get_preds(ds_type=DatasetType.Test)"
   ]
  },
  {
   "cell_type": "code",
   "execution_count": null,
   "metadata": {},
   "outputs": [],
   "source": [
    "preds[:5]"
   ]
  },
  {
   "cell_type": "code",
   "execution_count": null,
   "metadata": {},
   "outputs": [],
   "source": [
    "thresh = 0.2\n",
    "labelled_preds = [' '.join([learn.data.classes[i] for i,p in enumerate(pred) if p > thresh]) for pred in preds]"
   ]
  },
  {
   "cell_type": "code",
   "execution_count": null,
   "metadata": {},
   "outputs": [],
   "source": [
    "labelled_preds[:5]"
   ]
  },
  {
   "cell_type": "code",
   "execution_count": null,
   "metadata": {},
   "outputs": [],
   "source": [
    "fnames = [f.name[:-4] for f in learn.data.test_ds.items]"
   ]
  },
  {
   "cell_type": "code",
   "execution_count": null,
   "metadata": {},
   "outputs": [],
   "source": [
    "df = pd.DataFrame({'image_name':fnames, 'tags':labelled_preds}, columns=['image_name', 'tags'])"
   ]
  },
  {
   "cell_type": "code",
   "execution_count": null,
   "metadata": {},
   "outputs": [],
   "source": [
    "df.to_csv(path/'submission.csv', index=False)"
   ]
  },
  {
   "cell_type": "markdown",
   "metadata": {},
   "source": [
    "## 提交结果"
   ]
  },
  {
   "cell_type": "code",
   "execution_count": null,
   "metadata": {},
   "outputs": [],
   "source": [
    "!kaggle competitions submit -c iwildcam-2019-fgvc6 -f {path}/submission.csv -m \"submit01\""
   ]
  },
  {
   "cell_type": "code",
   "execution_count": null,
   "metadata": {},
   "outputs": [],
   "source": []
  }
 ],
 "metadata": {
  "kernelspec": {
   "display_name": "Python 3",
   "language": "python",
   "name": "python3"
  },
  "language_info": {
   "codemirror_mode": {
    "name": "ipython",
    "version": 3
   },
   "file_extension": ".py",
   "mimetype": "text/x-python",
   "name": "python",
   "nbconvert_exporter": "python",
   "pygments_lexer": "ipython3",
   "version": "3.6.6"
  }
 },
 "nbformat": 4,
 "nbformat_minor": 2
}
