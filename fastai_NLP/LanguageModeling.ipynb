{
 "cells": [
  {
   "cell_type": "code",
   "execution_count": 2,
   "metadata": {},
   "outputs": [],
   "source": [
    "%matplotlib inline\n",
    "%reload_ext autoreload\n",
    "%autoreload 2\n",
    "# 多行输出\n",
    "from IPython.core.interactiveshell import InteractiveShell\n",
    "InteractiveShell.ast_node_interactivity = \"all\" "
   ]
  },
  {
   "cell_type": "markdown",
   "metadata": {},
   "source": [
    "# Language Modeling"
   ]
  },
  {
   "cell_type": "code",
   "execution_count": 3,
   "metadata": {},
   "outputs": [],
   "source": [
    "from fastai import *\n",
    "from fastai.text import *"
   ]
  },
  {
   "cell_type": "code",
   "execution_count": 3,
   "metadata": {},
   "outputs": [],
   "source": [
    "BATCH=32"
   ]
  },
  {
   "cell_type": "markdown",
   "metadata": {},
   "source": [
    "## 数据\n",
    "- 先在小数据集或者重采样数据集上进行模型的测试是一个策略"
   ]
  },
  {
   "cell_type": "code",
   "execution_count": 7,
   "metadata": {},
   "outputs": [
    {
     "data": {
      "text/plain": [
       "PosixPath('/home/lab/.fastai/data/imdb_sample')"
      ]
     },
     "execution_count": 7,
     "metadata": {},
     "output_type": "execute_result"
    },
    {
     "data": {
      "text/plain": [
       "[PosixPath('/home/lab/.fastai/data/imdb_sample/texts.csv'),\n",
       " PosixPath('/home/lab/.fastai/data/imdb_sample/data_lm')]"
      ]
     },
     "execution_count": 7,
     "metadata": {},
     "output_type": "execute_result"
    }
   ],
   "source": [
    "path = untar_data(URLs.IMDB_SAMPLE)\n",
    "path\n",
    "path.ls()"
   ]
  },
  {
   "cell_type": "code",
   "execution_count": 8,
   "metadata": {},
   "outputs": [
    {
     "data": {
      "text/html": [
       "<div>\n",
       "<style scoped>\n",
       "    .dataframe tbody tr th:only-of-type {\n",
       "        vertical-align: middle;\n",
       "    }\n",
       "\n",
       "    .dataframe tbody tr th {\n",
       "        vertical-align: top;\n",
       "    }\n",
       "\n",
       "    .dataframe thead th {\n",
       "        text-align: right;\n",
       "    }\n",
       "</style>\n",
       "<table border=\"1\" class=\"dataframe\">\n",
       "  <thead>\n",
       "    <tr style=\"text-align: right;\">\n",
       "      <th></th>\n",
       "      <th>label</th>\n",
       "      <th>text</th>\n",
       "      <th>is_valid</th>\n",
       "    </tr>\n",
       "  </thead>\n",
       "  <tbody>\n",
       "    <tr>\n",
       "      <th>0</th>\n",
       "      <td>negative</td>\n",
       "      <td>Un-bleeping-believable! Meg Ryan doesn't even ...</td>\n",
       "      <td>False</td>\n",
       "    </tr>\n",
       "    <tr>\n",
       "      <th>1</th>\n",
       "      <td>positive</td>\n",
       "      <td>This is a extremely well-made film. The acting...</td>\n",
       "      <td>False</td>\n",
       "    </tr>\n",
       "    <tr>\n",
       "      <th>2</th>\n",
       "      <td>negative</td>\n",
       "      <td>Every once in a long while a movie will come a...</td>\n",
       "      <td>False</td>\n",
       "    </tr>\n",
       "    <tr>\n",
       "      <th>3</th>\n",
       "      <td>positive</td>\n",
       "      <td>Name just says it all. I watched this movie wi...</td>\n",
       "      <td>False</td>\n",
       "    </tr>\n",
       "    <tr>\n",
       "      <th>4</th>\n",
       "      <td>negative</td>\n",
       "      <td>This movie succeeds at being one of the most u...</td>\n",
       "      <td>False</td>\n",
       "    </tr>\n",
       "  </tbody>\n",
       "</table>\n",
       "</div>"
      ],
      "text/plain": [
       "      label                                               text  is_valid\n",
       "0  negative  Un-bleeping-believable! Meg Ryan doesn't even ...     False\n",
       "1  positive  This is a extremely well-made film. The acting...     False\n",
       "2  negative  Every once in a long while a movie will come a...     False\n",
       "3  positive  Name just says it all. I watched this movie wi...     False\n",
       "4  negative  This movie succeeds at being one of the most u...     False"
      ]
     },
     "execution_count": 8,
     "metadata": {},
     "output_type": "execute_result"
    }
   ],
   "source": [
    "data = pd.read_csv(path/r'texts.csv')\n",
    "data.head()"
   ]
  },
  {
   "cell_type": "code",
   "execution_count": 9,
   "metadata": {},
   "outputs": [],
   "source": [
    "# data_lm = TextDataBunch.from_csv(path, 'texts.csv')  # 随机分割训练集和测试集"
   ]
  },
  {
   "cell_type": "markdown",
   "metadata": {},
   "source": [
    "上面这一步可能是耗时的。图像可以(几乎)直接输入到模型中，因为它们只是一个很大的像素值数组，这些像素值在0到1之间浮动。文本是由单词组成的，我们不能将数学函数直接应用于它们。我们首先要把它们转换成数字。\n",
    "\n",
    "这需要两个不同的步骤:标记化和数字化（向量化）"
   ]
  },
  {
   "cell_type": "markdown",
   "metadata": {},
   "source": [
    "- 先保存 避免每次都计算"
   ]
  },
  {
   "cell_type": "code",
   "execution_count": 10,
   "metadata": {},
   "outputs": [],
   "source": [
    "# data_lm.save('data_lm')"
   ]
  },
  {
   "cell_type": "code",
   "execution_count": 11,
   "metadata": {},
   "outputs": [],
   "source": [
    "data_lm = load_data(path, 'data_lm')"
   ]
  },
  {
   "cell_type": "code",
   "execution_count": 12,
   "metadata": {},
   "outputs": [
    {
     "data": {
      "text/html": [
       "<table border=\"1\" class=\"dataframe\">\n",
       "  <thead>\n",
       "    <tr style=\"text-align: right;\">\n",
       "      <th>text</th>\n",
       "      <th>target</th>\n",
       "    </tr>\n",
       "  </thead>\n",
       "  <tbody>\n",
       "    <tr>\n",
       "      <td>xxbos xxmaj raising xxmaj victor xxmaj vargas : a xxmaj review \\n \\n  xxmaj you know , xxmaj raising xxmaj victor xxmaj vargas is like sticking your hands into a big , xxunk bowl of xxunk . xxmaj it 's warm and gooey , but you 're not sure if it feels right . xxmaj try as i might , no matter how warm and gooey xxmaj raising xxmaj</td>\n",
       "      <td>negative</td>\n",
       "    </tr>\n",
       "    <tr>\n",
       "      <td>xxbos xxmaj now that xxmaj che(2008 ) has finished its relatively short xxmaj australian cinema run ( extremely limited xxunk screen in xxmaj sydney , after xxunk ) , i can xxunk join both xxunk of \" xxmaj at xxmaj the xxmaj movies \" in taking xxmaj steven xxmaj soderbergh to task . \\n \\n  xxmaj it 's usually satisfying to watch a film director change his style /</td>\n",
       "      <td>negative</td>\n",
       "    </tr>\n",
       "    <tr>\n",
       "      <td>xxbos xxmaj this film sat on my xxmaj tivo for weeks before i watched it . i xxunk a self - indulgent xxunk flick about relationships gone bad . i was wrong ; this was an xxunk xxunk into the screwed - up xxunk of xxmaj new xxmaj yorkers . \\n \\n  xxmaj the format is the same as xxmaj max xxmaj xxunk ' \" xxmaj la xxmaj ronde</td>\n",
       "      <td>positive</td>\n",
       "    </tr>\n",
       "    <tr>\n",
       "      <td>xxbos xxmaj many neglect that this is n't just a classic due to the fact that it 's the first xxup 3d game , or even the first xxunk - up . xxmaj it 's also one of the first stealth games , one of the xxunk definitely the first ) truly claustrophobic games , and just a pretty well - rounded gaming experience in general . xxmaj with graphics</td>\n",
       "      <td>positive</td>\n",
       "    </tr>\n",
       "    <tr>\n",
       "      <td>xxbos i really wanted to love this show . i truly , honestly did . \\n \\n  xxmaj for the first time , gay viewers get their own version of the \" xxmaj the xxmaj bachelor \" . xxmaj with the help of his obligatory \" hag \" xxmaj xxunk , xxmaj james , a good looking , well - to - do thirty - something has the chance</td>\n",
       "      <td>negative</td>\n",
       "    </tr>\n",
       "  </tbody>\n",
       "</table>"
      ],
      "text/plain": [
       "<IPython.core.display.HTML object>"
      ]
     },
     "metadata": {},
     "output_type": "display_data"
    }
   ],
   "source": [
    "data_lm.show_batch()"
   ]
  },
  {
   "cell_type": "markdown",
   "metadata": {},
   "source": [
    "一旦我们从文本中提取了标记，我们就通过创建使用的所有单词的列表将其转换为整数。我们**只保留两次**出现在列表中的单词，**最大词汇量为60,000**((默认情况下)，*并替换那些没有被未知标记扣掉的单词*"
   ]
  },
  {
   "cell_type": "code",
   "execution_count": 13,
   "metadata": {},
   "outputs": [
    {
     "data": {
      "text/plain": [
       "['xxunk',\n",
       " 'xxpad',\n",
       " 'xxbos',\n",
       " 'xxeos',\n",
       " 'xxfld',\n",
       " 'xxmaj',\n",
       " 'xxup',\n",
       " 'xxrep',\n",
       " 'xxwrep',\n",
       " 'the']"
      ]
     },
     "execution_count": 13,
     "metadata": {},
     "output_type": "execute_result"
    }
   ],
   "source": [
    "data_lm.vocab.itos[:10]"
   ]
  },
  {
   "cell_type": "code",
   "execution_count": 14,
   "metadata": {},
   "outputs": [
    {
     "data": {
      "text/plain": [
       "9"
      ]
     },
     "execution_count": 14,
     "metadata": {},
     "output_type": "execute_result"
    }
   ],
   "source": [
    "data_lm.vocab.stoi['the']"
   ]
  },
  {
   "cell_type": "code",
   "execution_count": 15,
   "metadata": {},
   "outputs": [],
   "source": [
    "x, y = data_lm.train_ds[0]"
   ]
  },
  {
   "cell_type": "code",
   "execution_count": 16,
   "metadata": {},
   "outputs": [
    {
     "data": {
      "text/plain": [
       "Text xxbos xxmaj having xxmaj just \" xxmaj welcomed xxmaj home \" my xxunk xxup xxunk old daughter from a year in xxmaj iraq , xxmaj camp xxmaj xxunk medical support unit , i felt compelled to get this xxup dvd . i wanted to hear other returning vets feelings in order to attempt to better understand her mentality on arrival and not waiting until after something bad happened . xxmaj regardless on your take on the war and peace this movie serves as a great start for all xxmaj americans to begin the healing of our returning vets emotional void . xxmaj the paramount statement of the entire movie is \" xxmaj take xxmaj action \" on the problem . xxmaj incredibly emotional movie . i would highly recommend this movie to the vet the vets entire mature family and ask that they follow through with a plan to listen comfort help the returning xxmaj gulf xxmaj war xxmaj xxunk xxmaj freedom vets . \n",
       " \n",
       "  xxmaj fast forward nearly one year later & xxmaj my daughter has seen this xxup dvd . xxmaj took account of her emotions and actually has made a commitment to re - up for another 6 years . xxmaj her take on her time spent in the sand is that she did some good . xxmaj local xxmaj xxunk children got first rate medical treatment for various common xxunk not ordinarily able to afford free with an xxunk and xxunk . xxmaj her look over her shoulder at her xxmaj iraq tour was . \" xxmaj we changed some hearts and minds back there \" xxmaj great xxup dvd you have to keep an open mind and see all sides"
      ]
     },
     "execution_count": 16,
     "metadata": {},
     "output_type": "execute_result"
    }
   ],
   "source": [
    "x # 原始的文本"
   ]
  },
  {
   "cell_type": "code",
   "execution_count": 17,
   "metadata": {},
   "outputs": [
    {
     "data": {
      "text/plain": [
       "array([   2,    5,  293,    5,   56,   22,    5, 6105,    5,  441])"
      ]
     },
     "execution_count": 17,
     "metadata": {},
     "output_type": "execute_result"
    }
   ],
   "source": [
    "x.data[:10] # 用于计算的数字 其单词的坐标"
   ]
  },
  {
   "cell_type": "code",
   "execution_count": 18,
   "metadata": {},
   "outputs": [
    {
     "data": {
      "text/plain": [
       "'xxbos xxmaj having xxmaj just \" xxmaj welcomed xxmaj home'"
      ]
     },
     "execution_count": 18,
     "metadata": {},
     "output_type": "execute_result"
    },
    {
     "data": {
      "text/plain": [
       "'xxbos xxmaj having xxmaj just \" xxmaj welcomed xxmaj home'"
      ]
     },
     "execution_count": 18,
     "metadata": {},
     "output_type": "execute_result"
    }
   ],
   "source": [
    "' '.join(data_lm.vocab.itos[i] for i in x.data[:10].tolist())\n",
    "' '.join(str(x).split(' ')[:10])"
   ]
  },
  {
   "cell_type": "markdown",
   "metadata": {},
   "source": [
    "- data block API"
   ]
  },
  {
   "cell_type": "code",
   "execution_count": 19,
   "metadata": {},
   "outputs": [],
   "source": [
    "data = (TextList.from_csv(path, 'texts.csv', cols='text')\n",
    "                .split_from_df(col=2)\n",
    "                .label_from_df(cols=0)\n",
    "                .databunch(bs=BATCH))"
   ]
  },
  {
   "cell_type": "markdown",
   "metadata": {},
   "source": [
    "## 使用全部的数据"
   ]
  },
  {
   "cell_type": "code",
   "execution_count": 20,
   "metadata": {},
   "outputs": [
    {
     "data": {
      "text/plain": [
       "PosixPath('/home/lab/.fastai/data/imdb')"
      ]
     },
     "execution_count": 20,
     "metadata": {},
     "output_type": "execute_result"
    },
    {
     "data": {
      "text/plain": [
       "[PosixPath('/home/lab/.fastai/data/imdb/tmp_lm'),\n",
       " PosixPath('/home/lab/.fastai/data/imdb/test'),\n",
       " PosixPath('/home/lab/.fastai/data/imdb/tmp_clas'),\n",
       " PosixPath('/home/lab/.fastai/data/imdb/unsup'),\n",
       " PosixPath('/home/lab/.fastai/data/imdb/train'),\n",
       " PosixPath('/home/lab/.fastai/data/imdb/imdb.vocab'),\n",
       " PosixPath('/home/lab/.fastai/data/imdb/models'),\n",
       " PosixPath('/home/lab/.fastai/data/imdb/imdb_textlist_class'),\n",
       " PosixPath('/home/lab/.fastai/data/imdb/data_lm'),\n",
       " PosixPath('/home/lab/.fastai/data/imdb/README')]"
      ]
     },
     "execution_count": 20,
     "metadata": {},
     "output_type": "execute_result"
    }
   ],
   "source": [
    "path = untar_data(URLs.IMDB)\n",
    "path\n",
    "path.ls()"
   ]
  },
  {
   "cell_type": "markdown",
   "metadata": {},
   "source": [
    "- unsup 是没有标签的数据"
   ]
  },
  {
   "cell_type": "markdown",
   "metadata": {},
   "source": [
    "### 使用预训练的语言模型\n",
    "\n",
    "- 在[The WikiText Long Term Dependency Language Modeling Dataset](https://blog.einstein.ai/the-wikitext-long-term-dependency-language-modeling-dataset/)数据上训练\n",
    "- 预测下一个单词是什么（多分类），预测下一个词的分布"
   ]
  },
  {
   "cell_type": "markdown",
   "metadata": {},
   "source": [
    "## 创建语言模型数据"
   ]
  },
  {
   "cell_type": "code",
   "execution_count": 21,
   "metadata": {},
   "outputs": [],
   "source": [
    "BATCH = 32"
   ]
  },
  {
   "cell_type": "markdown",
   "metadata": {},
   "source": [
    "- 这里使用所有的数据-训练集和测试集 训练我们的语言模型"
   ]
  },
  {
   "cell_type": "code",
   "execution_count": 22,
   "metadata": {},
   "outputs": [],
   "source": [
    "# data_lm = (TextList.from_folder(path)\n",
    "#            #Inputs: all the text files in path\n",
    "#             .filter_by_folder(include=['train', 'test']) \n",
    "#            #We may have other temp folders that contain text files so we only keep what's in train and test\n",
    "#             .split_by_rand_pct(0.1)\n",
    "#            #We randomly split and keep 10% (10,000 reviews) for validation\n",
    "#             .label_for_lm()           \n",
    "#            #We want to do a language model so we label accordingly, 自己就是自己的标签\n",
    "#             .databunch(bs=BATCH))"
   ]
  },
  {
   "cell_type": "markdown",
   "metadata": {},
   "source": [
    "- 保存数据集，避免重复性工作（标记化和数值化）"
   ]
  },
  {
   "cell_type": "code",
   "execution_count": 23,
   "metadata": {},
   "outputs": [],
   "source": [
    "# data_lm.save('data_lm')"
   ]
  },
  {
   "cell_type": "code",
   "execution_count": 24,
   "metadata": {},
   "outputs": [],
   "source": [
    "data_lm = load_data(path, 'data_lm', bs=BATCH)"
   ]
  },
  {
   "cell_type": "markdown",
   "metadata": {},
   "source": [
    "- 字典词数\n",
    "- 很多单词映射为unk"
   ]
  },
  {
   "cell_type": "code",
   "execution_count": 25,
   "metadata": {},
   "outputs": [
    {
     "data": {
      "text/plain": [
       "(49852, 49852)"
      ]
     },
     "execution_count": 25,
     "metadata": {},
     "output_type": "execute_result"
    }
   ],
   "source": [
    "len(data_lm.vocab.itos), len(data_lm.vocab.stoi)"
   ]
  },
  {
   "cell_type": "code",
   "execution_count": 26,
   "metadata": {},
   "outputs": [
    {
     "data": {
      "text/html": [
       "<table border=\"1\" class=\"dataframe\">\n",
       "  <thead>\n",
       "    <tr style=\"text-align: right;\">\n",
       "      <th>idx</th>\n",
       "      <th>text</th>\n",
       "    </tr>\n",
       "  </thead>\n",
       "  <tbody>\n",
       "    <tr>\n",
       "      <td>0</td>\n",
       "      <td>to do movies such as pretty in pink and sixteen xxunk is fun watching her a little xxunk not seen by many people .. i do n't even think the average movie fan has ever heard of this xxunk when i first came xxunk it i was glad i xxunk gave this movie 10 out of 10 stars as i think it is a fun movie the whole family can</td>\n",
       "    </tr>\n",
       "    <tr>\n",
       "      <td>1</td>\n",
       "      <td>my interpretation was that this film was taking the mickey out all the silly prejudices and innuendo of small town gossip and national tabloid sensationalism . i loved that the film was championing the cause that a person 's sexuality is xxup not determined by their hobbies , idiosyncrasies , fashion sense or whatever . xxmaj and then the ending goes and re - enforces all the gossip and stereotypes</td>\n",
       "    </tr>\n",
       "    <tr>\n",
       "      <td>2</td>\n",
       "      <td>knock it up a notch to the excellent category but i did talk to some viewers who felt that it was an excellent film . xxmaj louhimies said that back in xxmaj finland people either loved this movie or hated it and said a lot of people in theaters walked out on it . i 'm sure some objected to some of the violence , swearing , drug and alcohol</td>\n",
       "    </tr>\n",
       "    <tr>\n",
       "      <td>3</td>\n",
       "      <td>( \" xxmaj sorte xxmaj nula \" ) , or so he believes with that music on the car radio , and the dubious talk by his best friend and company associate who is taking him to parts unknown through a desert road . xxmaj alberto wished simply to be left alone , to take a flight abroad next day , with ",
       "  well , someone we 're left</td>\n",
       "    </tr>\n",
       "    <tr>\n",
       "      <td>4</td>\n",
       "      <td>to connect this film to xxmaj antonioni , i think is a bit of a stretch , the character most likely to be seen in one of xxmaj michaelangelo 's movies is xxmaj francoise xxmaj moitessier de xxmaj xxunk . xxmaj it 's funny on the main imdb page , he is n't even listed as playing \" xxmaj himself \" which is probably a function of his lengthy name</td>\n",
       "    </tr>\n",
       "  </tbody>\n",
       "</table>"
      ],
      "text/plain": [
       "<IPython.core.display.HTML object>"
      ]
     },
     "metadata": {},
     "output_type": "display_data"
    }
   ],
   "source": [
    "data_lm.show_batch()"
   ]
  },
  {
   "cell_type": "markdown",
   "metadata": {},
   "source": [
    "### 构建模型"
   ]
  },
  {
   "cell_type": "code",
   "execution_count": 27,
   "metadata": {},
   "outputs": [],
   "source": [
    "learn_lm = language_model_learner(data_lm, AWD_LSTM, drop_mult=0.3)"
   ]
  },
  {
   "cell_type": "code",
   "execution_count": 28,
   "metadata": {},
   "outputs": [
    {
     "data": {
      "text/html": [
       "<h4 id=\"RNNLearner.save_encoder\" class=\"doc_header\"><code>save_encoder</code><a href=\"https://github.com/fastai/fastai/blob/master/fastai/text/learner.py#L57\" class=\"source_link\" style=\"float:right\">[source]</a><a class=\"source_link\" data-toggle=\"collapse\" data-target=\"#RNNLearner-save_encoder-pytest\" style=\"float:right; padding-right:10px\">[test]</a></h4><blockquote><p><code>save_encoder</code>(<strong><code>name</code></strong>:<code>str</code>)</p>\n",
       "</blockquote>\n",
       "<div class=\"collapse\" id=\"RNNLearner-save_encoder-pytest\"><div class=\"card card-body pytest_card\"><a type=\"button\" data-toggle=\"collapse\" data-target=\"#RNNLearner-save_encoder-pytest\" class=\"close\" aria-label=\"Close\"><span aria-hidden=\"true\">&times;</span></a><p>No tests found for <code>save_encoder</code>. To contribute a test please refer to <a href=\"/dev/test.html\">this guide</a> and <a href=\"https://forums.fast.ai/t/improving-expanding-functional-tests/32929\">this discussion</a>.</p></div></div><p>Save the encoder to <code>name</code> inside the model directory.</p>\n",
       "<p><a href=\"https://docs.fast.ai/text.learner.html#RNNLearner.save_encoder\" target=\"_blank\" rel=\"noreferrer noopener\">Show in docs</a></p>\n"
      ]
     },
     "metadata": {},
     "output_type": "display_data"
    }
   ],
   "source": [
    "doc(learn_lm.save_encoder)"
   ]
  },
  {
   "cell_type": "markdown",
   "metadata": {},
   "source": [
    "- fastai 模型的第1层保存的是编码器部分，第二部分保存的是解码器部分"
   ]
  },
  {
   "cell_type": "code",
   "execution_count": 29,
   "metadata": {},
   "outputs": [
    {
     "data": {
      "text/plain": [
       "AWD_LSTM(\n",
       "  (encoder): Embedding(49852, 400, padding_idx=1)\n",
       "  (encoder_dp): EmbeddingDropout(\n",
       "    (emb): Embedding(49852, 400, padding_idx=1)\n",
       "  )\n",
       "  (rnns): ModuleList(\n",
       "    (0): WeightDropout(\n",
       "      (module): LSTM(400, 1150, batch_first=True)\n",
       "    )\n",
       "    (1): WeightDropout(\n",
       "      (module): LSTM(1150, 1150, batch_first=True)\n",
       "    )\n",
       "    (2): WeightDropout(\n",
       "      (module): LSTM(1150, 400, batch_first=True)\n",
       "    )\n",
       "  )\n",
       "  (input_dp): RNNDropout()\n",
       "  (hidden_dps): ModuleList(\n",
       "    (0): RNNDropout()\n",
       "    (1): RNNDropout()\n",
       "    (2): RNNDropout()\n",
       "  )\n",
       ")"
      ]
     },
     "execution_count": 29,
     "metadata": {},
     "output_type": "execute_result"
    }
   ],
   "source": [
    "encoder = get_model(learn_lm.model)[0]\n",
    "encoder"
   ]
  },
  {
   "cell_type": "markdown",
   "metadata": {},
   "source": [
    "- wiki 的字典"
   ]
  },
  {
   "cell_type": "code",
   "execution_count": 30,
   "metadata": {},
   "outputs": [],
   "source": [
    "wiki_itos = pickle.load(open(Config().model_path()/'wt103-1/itos_wt103.pkl', 'rb'))"
   ]
  },
  {
   "cell_type": "code",
   "execution_count": 31,
   "metadata": {},
   "outputs": [
    {
     "data": {
      "text/plain": [
       "['xxunk', 'xxpad', 'xxmaj', 'the', ',', '.', 'of', 'and', 'in', 'to']"
      ]
     },
     "execution_count": 31,
     "metadata": {},
     "output_type": "execute_result"
    }
   ],
   "source": [
    "wiki_itos[:10]"
   ]
  },
  {
   "cell_type": "code",
   "execution_count": 32,
   "metadata": {},
   "outputs": [
    {
     "data": {
      "text/plain": [
       "AWD_LSTM(\n",
       "  (encoder): Embedding(49852, 400, padding_idx=1)\n",
       "  (encoder_dp): EmbeddingDropout(\n",
       "    (emb): Embedding(49852, 400, padding_idx=1)\n",
       "  )\n",
       "  (rnns): ModuleList(\n",
       "    (0): WeightDropout(\n",
       "      (module): LSTM(400, 1150, batch_first=True)\n",
       "    )\n",
       "    (1): WeightDropout(\n",
       "      (module): LSTM(1150, 1150, batch_first=True)\n",
       "    )\n",
       "    (2): WeightDropout(\n",
       "      (module): LSTM(1150, 400, batch_first=True)\n",
       "    )\n",
       "  )\n",
       "  (input_dp): RNNDropout()\n",
       "  (hidden_dps): ModuleList(\n",
       "    (0): RNNDropout()\n",
       "    (1): RNNDropout()\n",
       "    (2): RNNDropout()\n",
       "  )\n",
       ")"
      ]
     },
     "execution_count": 32,
     "metadata": {},
     "output_type": "execute_result"
    }
   ],
   "source": [
    "awd_enc = learn_lm.model[0]\n",
    "awd_enc"
   ]
  },
  {
   "cell_type": "code",
   "execution_count": 33,
   "metadata": {},
   "outputs": [
    {
     "data": {
      "text/plain": [
       "LinearDecoder(\n",
       "  (decoder): Linear(in_features=400, out_features=49852, bias=True)\n",
       "  (output_dp): RNNDropout()\n",
       ")"
      ]
     },
     "execution_count": 33,
     "metadata": {},
     "output_type": "execute_result"
    }
   ],
   "source": [
    "dec = learn_lm.model[1]\n",
    "dec"
   ]
  },
  {
   "cell_type": "code",
   "execution_count": 34,
   "metadata": {},
   "outputs": [
    {
     "data": {
      "text/plain": [
       "Embedding(49852, 400, padding_idx=1)"
      ]
     },
     "execution_count": 34,
     "metadata": {},
     "output_type": "execute_result"
    },
    {
     "data": {
      "text/plain": [
       "tensor([[ 0.1519,  0.0584, -0.2037,  ..., -0.0608, -0.0194, -0.2690],\n",
       "        [ 0.2069, -0.0384,  0.1234,  ..., -0.0258, -0.0756, -0.1575],\n",
       "        [-0.9274,  0.0241,  0.1056,  ..., -0.1405, -0.1731,  0.0738],\n",
       "        ...,\n",
       "        [ 0.3072,  0.0193,  0.1959,  ...,  0.1347,  0.0935, -0.1177],\n",
       "        [ 0.2356, -0.0249,  0.1637,  ..., -0.0054, -0.0643, -0.1600],\n",
       "        [ 0.2356, -0.0249,  0.1637,  ..., -0.0054, -0.0643, -0.1600]],\n",
       "       device='cuda:0')"
      ]
     },
     "execution_count": 34,
     "metadata": {},
     "output_type": "execute_result"
    },
    {
     "data": {
      "text/plain": [
       "torch.Size([49852, 400])"
      ]
     },
     "execution_count": 34,
     "metadata": {},
     "output_type": "execute_result"
    }
   ],
   "source": [
    "enc = awd_enc.encoder # 编码器的embedding层\n",
    "enc\n",
    "enc.weight.data\n",
    "enc.weight.shape"
   ]
  },
  {
   "cell_type": "markdown",
   "metadata": {},
   "source": [
    "### IMDB 和 WIKI 的词汇是存在差别的，但是对于迁移学习这是没有任何问题的"
   ]
  },
  {
   "cell_type": "code",
   "execution_count": 35,
   "metadata": {},
   "outputs": [
    {
     "data": {
      "text/plain": [
       "(60001, 49852)"
      ]
     },
     "execution_count": 35,
     "metadata": {},
     "output_type": "execute_result"
    }
   ],
   "source": [
    "len(wiki_itos), len(data_lm.vocab.itos) # wiki 词汇， IMDB 词汇"
   ]
  },
  {
   "cell_type": "markdown",
   "metadata": {},
   "source": [
    "- 找不50个IMDB中有的词，但是wiki中没有"
   ]
  },
  {
   "cell_type": "code",
   "execution_count": 36,
   "metadata": {},
   "outputs": [],
   "source": [
    "i, unks = 0, []\n",
    "while len(unks) < 50:\n",
    "    if data_lm.vocab.itos[i] not in wiki_itos: unks.append((i, data_lm.vocab.itos[i]))\n",
    "    i += 1"
   ]
  },
  {
   "cell_type": "code",
   "execution_count": 37,
   "metadata": {},
   "outputs": [
    {
     "data": {
      "text/plain": [
       "[(2865, '---'),\n",
       " (2890, 'fulci'),\n",
       " (2987, ':)'),\n",
       " (2990, 'stanwyck'),\n",
       " (3382, 'matthau'),\n",
       " (3402, 'dialogs'),\n",
       " (3493, \"don't\"),\n",
       " (3575, 'anyways'),\n",
       " (3655, 'mst3'),\n",
       " (3858, 'drivel'),\n",
       " (3883, 'porno'),\n",
       " (3905, 'stinker'),\n",
       " (3962, 'unwatchable')]"
      ]
     },
     "execution_count": 37,
     "metadata": {},
     "output_type": "execute_result"
    }
   ],
   "source": [
    "unks[12:25]"
   ]
  },
  {
   "cell_type": "code",
   "execution_count": 38,
   "metadata": {},
   "outputs": [
    {
     "data": {
      "text/plain": [
       "\"don't\""
      ]
     },
     "execution_count": 38,
     "metadata": {},
     "output_type": "execute_result"
    }
   ],
   "source": [
    "data_lm.vocab.itos[3493]"
   ]
  },
  {
   "cell_type": "code",
   "execution_count": 39,
   "metadata": {},
   "outputs": [
    {
     "data": {
      "text/plain": [
       "17445"
      ]
     },
     "execution_count": 39,
     "metadata": {},
     "output_type": "execute_result"
    }
   ],
   "source": [
    "diff = set.difference(set(data_lm.vocab.itos), set(wiki_itos))\n",
    "len(diff)\n",
    "# diff"
   ]
  },
  {
   "cell_type": "markdown",
   "metadata": {},
   "source": [
    "- 只在 imdb 中出现而不在 wiki 中出现的词汇的权重会被随机初始化为相同的权重，我们会在训练中，学习到这些词的准确权重"
   ]
  },
  {
   "cell_type": "code",
   "execution_count": 40,
   "metadata": {},
   "outputs": [
    {
     "data": {
      "text/plain": [
       "(False, True)"
      ]
     },
     "execution_count": 40,
     "metadata": {},
     "output_type": "execute_result"
    },
    {
     "data": {
      "text/plain": [
       "(False, True)"
      ]
     },
     "execution_count": 40,
     "metadata": {},
     "output_type": "execute_result"
    }
   ],
   "source": [
    "\"30-something\" in wiki_itos, \"30-something\" in data_lm.vocab.itos\n",
    "\"linklater\" in wiki_itos, \"30-something\" in data_lm.vocab.itos\n",
    "# 30-something 在 IMDB中但是不在 wiki中"
   ]
  },
  {
   "cell_type": "code",
   "execution_count": 41,
   "metadata": {},
   "outputs": [
    {
     "data": {
      "text/plain": [
       "28229"
      ]
     },
     "execution_count": 41,
     "metadata": {},
     "output_type": "execute_result"
    }
   ],
   "source": [
    "data_lm.vocab.stoi[\"30-something\"]"
   ]
  },
  {
   "cell_type": "markdown",
   "metadata": {},
   "source": [
    "- enc 是一个 embedding 层"
   ]
  },
  {
   "cell_type": "code",
   "execution_count": 42,
   "metadata": {},
   "outputs": [
    {
     "data": {
      "text/plain": [
       "Embedding(49852, 400, padding_idx=1)"
      ]
     },
     "execution_count": 42,
     "metadata": {},
     "output_type": "execute_result"
    }
   ],
   "source": [
    "enc"
   ]
  },
  {
   "cell_type": "code",
   "execution_count": 43,
   "metadata": {},
   "outputs": [
    {
     "data": {
      "text/plain": [
       "tensor([ 2.3563e-01, -2.4887e-02,  1.6367e-01, -1.5576e-01, -3.9991e-02,\n",
       "        -1.1837e+00,  1.3771e-02,  2.6963e+00, -2.4460e-01, -3.0679e-01,\n",
       "         4.9507e-02, -9.3249e-02, -1.2190e-01,  7.3875e-02,  8.2177e-02,\n",
       "         1.7709e-01, -4.6640e-02, -1.6259e-01,  1.3047e-01, -7.7981e-02,\n",
       "         1.9621e-01, -2.2501e-01, -8.7846e-02, -7.1112e-02,  2.4189e-01,\n",
       "        -9.3553e-02, -1.2042e-02,  1.6407e-01, -6.7238e-02, -3.6608e-01,\n",
       "        -4.9779e-02, -2.6294e-01, -5.8337e-02,  2.9274e-01,  3.0474e-02,\n",
       "        -4.3713e-01,  9.1709e-02, -7.4387e-02,  1.3249e-01, -2.5243e-02,\n",
       "         1.0777e-01,  5.1872e-02, -1.1154e-01,  3.9594e-02,  1.6266e-01,\n",
       "        -1.2775e-01,  3.4357e-02, -3.5956e-02, -3.2496e-01, -1.6485e-01,\n",
       "        -3.0641e-02, -7.6774e-02,  1.4561e-01,  1.1531e-01,  1.8984e+00,\n",
       "         1.5799e-01,  8.4391e-02, -1.3433e-01,  1.1566e-01, -1.2106e-01,\n",
       "         1.0962e+00,  2.9572e-01,  2.3983e-01,  1.1480e-01,  6.6237e-03,\n",
       "        -1.3348e-01,  6.8766e-02,  1.5964e-01, -8.7224e-02, -2.3924e-01,\n",
       "        -1.7510e-01,  2.0747e-01, -1.6984e-01, -2.3177e-03, -4.9442e-01,\n",
       "        -1.6792e-01,  1.3460e-01, -1.8338e-02, -2.6355e-01, -1.6453e-01,\n",
       "         4.1224e-02, -1.8444e-01, -3.0363e-02, -6.3805e-02, -4.0107e-02,\n",
       "        -2.5481e-01,  3.1321e-02,  1.9193e+00, -2.1612e-01, -6.2593e-02,\n",
       "        -1.5077e-03,  5.2033e-03,  8.3699e-02,  4.0290e-02,  2.8803e-01,\n",
       "        -2.0666e-01,  1.1335e-01, -9.5299e-02,  2.2939e-01,  4.0757e-01,\n",
       "        -3.3981e-01, -9.0904e-02, -1.7730e-01, -5.3028e-02, -1.9618e-01,\n",
       "        -1.2492e-02, -1.0680e-01, -1.5958e-01, -5.0954e-02,  8.5235e-02,\n",
       "        -1.1794e-01,  3.0984e-01,  9.6872e-02,  3.1385e-01, -4.9641e-01,\n",
       "         5.1671e-03, -1.9114e-01,  1.5572e-01, -7.9885e-02,  1.3268e-01,\n",
       "         9.0588e-01,  6.7491e-02,  2.2338e-01, -1.0066e-01,  4.6575e-01,\n",
       "        -1.2312e-01,  9.3612e-02,  1.3096e-01, -3.3108e-01, -1.7744e-01,\n",
       "         1.1523e+00, -1.1713e+00, -3.3524e-02,  1.5911e-01, -1.0232e-01,\n",
       "        -1.4164e-01, -3.1028e-01, -2.4289e-01,  4.4483e-02, -7.8837e-04,\n",
       "        -2.5294e-01, -1.4119e-01,  7.1791e-03, -7.7787e-02,  6.7305e-02,\n",
       "         1.1571e-01, -9.7474e-02, -1.0530e+00, -1.5756e-01,  1.9618e-01,\n",
       "        -1.4641e-01, -2.1020e-01, -6.0207e-02,  2.0658e+00, -5.8721e-02,\n",
       "         1.3172e+00, -1.1151e-01, -6.5037e-02,  2.6665e-01, -1.5142e-01,\n",
       "        -1.2816e-02,  2.9121e-01,  1.5877e-01, -2.1064e-01, -2.3437e-01,\n",
       "         1.2074e-03,  1.3788e-01,  8.4911e-02,  9.8629e-03,  1.5704e-01,\n",
       "         1.1210e-01, -3.4607e-01,  2.2828e-02,  1.6462e-01, -5.3240e-02,\n",
       "         7.4044e-03,  3.4998e-02,  3.2578e-02, -1.2031e-01, -7.6079e-03,\n",
       "        -6.2595e-02,  1.6175e-01, -1.2981e-01,  2.4086e-01,  6.1456e-01,\n",
       "        -1.1655e-01,  1.2812e-01,  7.0912e-03,  6.9810e-02,  1.2587e-02,\n",
       "        -3.8313e-01,  3.9995e-01,  4.6975e-02, -3.8577e-02,  4.7613e-03,\n",
       "        -8.6680e-02,  8.2375e-02,  1.8488e-01,  6.3544e-02,  9.2193e+00,\n",
       "        -1.6143e-01,  9.3521e-02,  1.4227e-01, -1.1530e-02, -1.0175e-02,\n",
       "         1.7004e-02,  9.6651e-02,  7.3341e-01, -8.3059e-02, -8.0967e-02,\n",
       "        -2.4441e-01, -2.1112e-01,  1.3093e-01, -2.7853e-02, -3.1662e-02,\n",
       "         3.0409e-02,  2.4478e-02,  1.3748e-01,  5.7066e-01,  1.0895e-01,\n",
       "         1.0938e-02, -8.3650e-01, -1.2638e-01,  1.2183e-01, -1.4355e-01,\n",
       "        -4.6536e-02, -2.8628e-01, -1.8231e-01, -1.2930e-01,  1.6428e-01,\n",
       "         1.3582e-02, -1.5254e-01,  2.9710e-01,  3.5783e-02,  2.2965e-02,\n",
       "        -1.3139e-01,  6.8671e-02, -7.0601e-02,  4.3105e-03, -7.3840e-02,\n",
       "        -1.4461e-01, -1.2314e-01,  8.2990e-02,  1.5063e-01,  4.9478e-02,\n",
       "        -1.0543e-01, -1.4868e-01, -6.2989e-02, -2.4564e-01,  1.2984e-01,\n",
       "        -9.8305e-02,  9.6116e-03,  1.8233e-01,  1.1220e-01,  1.3147e-01,\n",
       "        -1.0651e-01, -1.9505e-03,  7.7677e-03, -1.5431e+00,  5.4617e-02,\n",
       "         1.4792e-01,  9.1974e-02, -5.9575e-02,  9.0482e-02, -4.0548e-02,\n",
       "         2.7410e-02,  1.6957e-01,  1.7686e-01, -2.4234e-01,  5.2125e-03,\n",
       "        -4.4122e-02,  4.4026e-02, -7.9261e-02, -1.2375e-01,  3.3830e-01,\n",
       "        -1.0975e-01, -4.1963e-02,  6.1868e-02,  3.8249e-02, -3.4647e-01,\n",
       "         6.9477e-02, -2.7612e-02, -9.5724e-02,  3.5617e-02,  3.0908e-01,\n",
       "         1.5625e-02, -1.5706e-02, -1.8647e-02, -1.3613e+00,  3.9733e-02,\n",
       "        -1.4360e-02, -5.6631e-01,  1.4364e-02, -2.0767e-01,  1.0025e-01,\n",
       "         5.8167e-01, -1.2165e-01, -9.4708e-02,  8.2568e-02,  1.6126e-01,\n",
       "         9.0681e-04,  2.1125e-01, -1.5409e-01, -1.5994e-01, -1.4560e-01,\n",
       "         8.7726e-02,  2.9405e-01,  2.7593e-02,  1.7728e-01, -4.0951e-02,\n",
       "         7.2310e-02, -1.1495e-01,  3.9496e-02, -1.3501e-01, -5.7911e-02,\n",
       "        -1.2620e-01,  2.1860e-01,  5.4778e-02,  5.2384e-02,  1.2734e-01,\n",
       "        -3.0588e-02, -2.3094e-01, -1.8980e-01, -2.1621e-02, -1.8698e-01,\n",
       "         5.8853e-01, -4.9644e-02, -1.7897e-01,  7.8744e-02,  1.8341e-01,\n",
       "        -1.0343e-01, -3.8085e-02, -1.4170e+00, -1.2232e-01,  6.6738e-02,\n",
       "        -1.5288e-01,  3.8547e-02,  1.4078e+00,  9.0353e-01, -6.9630e-02,\n",
       "         4.7199e-02,  1.0277e-01, -1.1472e-01, -3.2788e-02,  1.1692e-01,\n",
       "         8.2559e-02, -7.4094e-02, -1.7668e-01, -1.9571e-01, -1.2744e-01,\n",
       "         4.8258e-02, -6.5957e-02, -1.0730e-01, -1.7549e-01,  5.2153e-03,\n",
       "        -4.1777e-02, -2.4510e-02,  5.3595e-02, -5.0036e-02, -3.6234e-01,\n",
       "        -1.4430e-01,  1.5534e-01,  1.4770e-01,  2.0897e-03,  2.1379e-01,\n",
       "         1.8835e-02, -5.7863e-02,  9.5830e-02,  2.3745e-02, -1.2344e-01,\n",
       "        -1.3102e-01,  8.9221e-02,  4.6883e-02,  5.0474e-02, -4.1123e-02,\n",
       "         2.2810e+00,  5.2746e-01,  4.3884e-02,  1.1691e+00, -4.7088e-01,\n",
       "        -1.0998e-01,  5.3738e-02,  5.3674e-01, -1.0251e-01, -4.4597e-02,\n",
       "         1.1504e-01,  4.9237e-02,  9.1344e-02, -1.7354e-01,  9.9623e-02,\n",
       "        -3.6215e-02,  3.1805e-02,  8.1981e-02,  4.9603e-02, -9.5985e-01,\n",
       "        -1.3482e-01,  1.3472e-01, -5.4147e-03, -6.4292e-02, -1.5996e-01],\n",
       "       device='cuda:0', grad_fn=<SelectBackward>)"
      ]
     },
     "execution_count": 43,
     "metadata": {},
     "output_type": "execute_result"
    },
    {
     "data": {
      "text/plain": [
       "tensor([ 2.3563e-01, -2.4887e-02,  1.6367e-01, -1.5576e-01, -3.9991e-02,\n",
       "        -1.1837e+00,  1.3771e-02,  2.6963e+00, -2.4460e-01, -3.0679e-01,\n",
       "         4.9507e-02, -9.3249e-02, -1.2190e-01,  7.3875e-02,  8.2177e-02,\n",
       "         1.7709e-01, -4.6640e-02, -1.6259e-01,  1.3047e-01, -7.7981e-02,\n",
       "         1.9621e-01, -2.2501e-01, -8.7846e-02, -7.1112e-02,  2.4189e-01,\n",
       "        -9.3553e-02, -1.2042e-02,  1.6407e-01, -6.7238e-02, -3.6608e-01,\n",
       "        -4.9779e-02, -2.6294e-01, -5.8337e-02,  2.9274e-01,  3.0474e-02,\n",
       "        -4.3713e-01,  9.1709e-02, -7.4387e-02,  1.3249e-01, -2.5243e-02,\n",
       "         1.0777e-01,  5.1872e-02, -1.1154e-01,  3.9594e-02,  1.6266e-01,\n",
       "        -1.2775e-01,  3.4357e-02, -3.5956e-02, -3.2496e-01, -1.6485e-01,\n",
       "        -3.0641e-02, -7.6774e-02,  1.4561e-01,  1.1531e-01,  1.8984e+00,\n",
       "         1.5799e-01,  8.4391e-02, -1.3433e-01,  1.1566e-01, -1.2106e-01,\n",
       "         1.0962e+00,  2.9572e-01,  2.3983e-01,  1.1480e-01,  6.6237e-03,\n",
       "        -1.3348e-01,  6.8766e-02,  1.5964e-01, -8.7224e-02, -2.3924e-01,\n",
       "        -1.7510e-01,  2.0747e-01, -1.6984e-01, -2.3177e-03, -4.9442e-01,\n",
       "        -1.6792e-01,  1.3460e-01, -1.8338e-02, -2.6355e-01, -1.6453e-01,\n",
       "         4.1224e-02, -1.8444e-01, -3.0363e-02, -6.3805e-02, -4.0107e-02,\n",
       "        -2.5481e-01,  3.1321e-02,  1.9193e+00, -2.1612e-01, -6.2593e-02,\n",
       "        -1.5077e-03,  5.2033e-03,  8.3699e-02,  4.0290e-02,  2.8803e-01,\n",
       "        -2.0666e-01,  1.1335e-01, -9.5299e-02,  2.2939e-01,  4.0757e-01,\n",
       "        -3.3981e-01, -9.0904e-02, -1.7730e-01, -5.3028e-02, -1.9618e-01,\n",
       "        -1.2492e-02, -1.0680e-01, -1.5958e-01, -5.0954e-02,  8.5235e-02,\n",
       "        -1.1794e-01,  3.0984e-01,  9.6872e-02,  3.1385e-01, -4.9641e-01,\n",
       "         5.1671e-03, -1.9114e-01,  1.5572e-01, -7.9885e-02,  1.3268e-01,\n",
       "         9.0588e-01,  6.7491e-02,  2.2338e-01, -1.0066e-01,  4.6575e-01,\n",
       "        -1.2312e-01,  9.3612e-02,  1.3096e-01, -3.3108e-01, -1.7744e-01,\n",
       "         1.1523e+00, -1.1713e+00, -3.3524e-02,  1.5911e-01, -1.0232e-01,\n",
       "        -1.4164e-01, -3.1028e-01, -2.4289e-01,  4.4483e-02, -7.8837e-04,\n",
       "        -2.5294e-01, -1.4119e-01,  7.1791e-03, -7.7787e-02,  6.7305e-02,\n",
       "         1.1571e-01, -9.7474e-02, -1.0530e+00, -1.5756e-01,  1.9618e-01,\n",
       "        -1.4641e-01, -2.1020e-01, -6.0207e-02,  2.0658e+00, -5.8721e-02,\n",
       "         1.3172e+00, -1.1151e-01, -6.5037e-02,  2.6665e-01, -1.5142e-01,\n",
       "        -1.2816e-02,  2.9121e-01,  1.5877e-01, -2.1064e-01, -2.3437e-01,\n",
       "         1.2074e-03,  1.3788e-01,  8.4911e-02,  9.8629e-03,  1.5704e-01,\n",
       "         1.1210e-01, -3.4607e-01,  2.2828e-02,  1.6462e-01, -5.3240e-02,\n",
       "         7.4044e-03,  3.4998e-02,  3.2578e-02, -1.2031e-01, -7.6079e-03,\n",
       "        -6.2595e-02,  1.6175e-01, -1.2981e-01,  2.4086e-01,  6.1456e-01,\n",
       "        -1.1655e-01,  1.2812e-01,  7.0912e-03,  6.9810e-02,  1.2587e-02,\n",
       "        -3.8313e-01,  3.9995e-01,  4.6975e-02, -3.8577e-02,  4.7613e-03,\n",
       "        -8.6680e-02,  8.2375e-02,  1.8488e-01,  6.3544e-02,  9.2193e+00,\n",
       "        -1.6143e-01,  9.3521e-02,  1.4227e-01, -1.1530e-02, -1.0175e-02,\n",
       "         1.7004e-02,  9.6651e-02,  7.3341e-01, -8.3059e-02, -8.0967e-02,\n",
       "        -2.4441e-01, -2.1112e-01,  1.3093e-01, -2.7853e-02, -3.1662e-02,\n",
       "         3.0409e-02,  2.4478e-02,  1.3748e-01,  5.7066e-01,  1.0895e-01,\n",
       "         1.0938e-02, -8.3650e-01, -1.2638e-01,  1.2183e-01, -1.4355e-01,\n",
       "        -4.6536e-02, -2.8628e-01, -1.8231e-01, -1.2930e-01,  1.6428e-01,\n",
       "         1.3582e-02, -1.5254e-01,  2.9710e-01,  3.5783e-02,  2.2965e-02,\n",
       "        -1.3139e-01,  6.8671e-02, -7.0601e-02,  4.3105e-03, -7.3840e-02,\n",
       "        -1.4461e-01, -1.2314e-01,  8.2990e-02,  1.5063e-01,  4.9478e-02,\n",
       "        -1.0543e-01, -1.4868e-01, -6.2989e-02, -2.4564e-01,  1.2984e-01,\n",
       "        -9.8305e-02,  9.6116e-03,  1.8233e-01,  1.1220e-01,  1.3147e-01,\n",
       "        -1.0651e-01, -1.9505e-03,  7.7677e-03, -1.5431e+00,  5.4617e-02,\n",
       "         1.4792e-01,  9.1974e-02, -5.9575e-02,  9.0482e-02, -4.0548e-02,\n",
       "         2.7410e-02,  1.6957e-01,  1.7686e-01, -2.4234e-01,  5.2125e-03,\n",
       "        -4.4122e-02,  4.4026e-02, -7.9261e-02, -1.2375e-01,  3.3830e-01,\n",
       "        -1.0975e-01, -4.1963e-02,  6.1868e-02,  3.8249e-02, -3.4647e-01,\n",
       "         6.9477e-02, -2.7612e-02, -9.5724e-02,  3.5617e-02,  3.0908e-01,\n",
       "         1.5625e-02, -1.5706e-02, -1.8647e-02, -1.3613e+00,  3.9733e-02,\n",
       "        -1.4360e-02, -5.6631e-01,  1.4364e-02, -2.0767e-01,  1.0025e-01,\n",
       "         5.8167e-01, -1.2165e-01, -9.4708e-02,  8.2568e-02,  1.6126e-01,\n",
       "         9.0681e-04,  2.1125e-01, -1.5409e-01, -1.5994e-01, -1.4560e-01,\n",
       "         8.7726e-02,  2.9405e-01,  2.7593e-02,  1.7728e-01, -4.0951e-02,\n",
       "         7.2310e-02, -1.1495e-01,  3.9496e-02, -1.3501e-01, -5.7911e-02,\n",
       "        -1.2620e-01,  2.1860e-01,  5.4778e-02,  5.2384e-02,  1.2734e-01,\n",
       "        -3.0588e-02, -2.3094e-01, -1.8980e-01, -2.1621e-02, -1.8698e-01,\n",
       "         5.8853e-01, -4.9644e-02, -1.7897e-01,  7.8744e-02,  1.8341e-01,\n",
       "        -1.0343e-01, -3.8085e-02, -1.4170e+00, -1.2232e-01,  6.6738e-02,\n",
       "        -1.5288e-01,  3.8547e-02,  1.4078e+00,  9.0353e-01, -6.9630e-02,\n",
       "         4.7199e-02,  1.0277e-01, -1.1472e-01, -3.2788e-02,  1.1692e-01,\n",
       "         8.2559e-02, -7.4094e-02, -1.7668e-01, -1.9571e-01, -1.2744e-01,\n",
       "         4.8258e-02, -6.5957e-02, -1.0730e-01, -1.7549e-01,  5.2153e-03,\n",
       "        -4.1777e-02, -2.4510e-02,  5.3595e-02, -5.0036e-02, -3.6234e-01,\n",
       "        -1.4430e-01,  1.5534e-01,  1.4770e-01,  2.0897e-03,  2.1379e-01,\n",
       "         1.8835e-02, -5.7863e-02,  9.5830e-02,  2.3745e-02, -1.2344e-01,\n",
       "        -1.3102e-01,  8.9221e-02,  4.6883e-02,  5.0474e-02, -4.1123e-02,\n",
       "         2.2810e+00,  5.2746e-01,  4.3884e-02,  1.1691e+00, -4.7088e-01,\n",
       "        -1.0998e-01,  5.3738e-02,  5.3674e-01, -1.0251e-01, -4.4597e-02,\n",
       "         1.1504e-01,  4.9237e-02,  9.1344e-02, -1.7354e-01,  9.9623e-02,\n",
       "        -3.6215e-02,  3.1805e-02,  8.1981e-02,  4.9603e-02, -9.5985e-01,\n",
       "        -1.3482e-01,  1.3472e-01, -5.4147e-03, -6.4292e-02, -1.5996e-01],\n",
       "       device='cuda:0', grad_fn=<SelectBackward>)"
      ]
     },
     "execution_count": 43,
     "metadata": {},
     "output_type": "execute_result"
    }
   ],
   "source": [
    "enc.weight[data_lm.vocab.stoi[\"30-something\"]]\n",
    "enc.weight[data_lm.vocab.stoi[\"linklater\"]]"
   ]
  },
  {
   "cell_type": "code",
   "execution_count": 44,
   "metadata": {},
   "outputs": [
    {
     "data": {
      "text/plain": [
       "True"
      ]
     },
     "execution_count": 44,
     "metadata": {},
     "output_type": "execute_result"
    }
   ],
   "source": [
    "np.allclose(enc.weight[data_lm.vocab.stoi[\"30-something\"]], enc.weight[data_lm.vocab.stoi[\"linklater\"]])"
   ]
  },
  {
   "cell_type": "markdown",
   "metadata": {},
   "source": [
    "- 对于都有的词汇，使用预训练的权重"
   ]
  },
  {
   "cell_type": "code",
   "execution_count": 45,
   "metadata": {},
   "outputs": [
    {
     "data": {
      "text/plain": [
       "(True, True)"
      ]
     },
     "execution_count": 45,
     "metadata": {},
     "output_type": "execute_result"
    }
   ],
   "source": [
    "\"house\" in wiki_itos, \"30-something\" in data_lm.vocab.itos"
   ]
  },
  {
   "cell_type": "code",
   "execution_count": 46,
   "metadata": {},
   "outputs": [
    {
     "data": {
      "text/plain": [
       "False"
      ]
     },
     "execution_count": 46,
     "metadata": {},
     "output_type": "execute_result"
    }
   ],
   "source": [
    "np.allclose(enc.weight[data_lm.vocab.stoi[\"30-something\"]], enc.weight[data_lm.vocab.stoi[\"house\"]])"
   ]
  },
  {
   "cell_type": "markdown",
   "metadata": {},
   "source": [
    "## 生成假的评论，使用语言模型预测"
   ]
  },
  {
   "cell_type": "code",
   "execution_count": 47,
   "metadata": {},
   "outputs": [],
   "source": [
    "TEXT = \"The color of the sky is\"\n",
    "N_WORDS = 40\n",
    "N_SENTENCES = 2"
   ]
  },
  {
   "cell_type": "code",
   "execution_count": 48,
   "metadata": {},
   "outputs": [
    {
     "name": "stdout",
     "output_type": "stream",
     "text": [
      "The color of the sky is a mixture of Christian and Protestant Values . The sky is distinctive in that the sky consists of dark - coloured images of the Sun , and the stars are based on the Holy\n",
      "\n",
      "The color of the sky is European , the Caribbean , the Andes , and the Mediterranean . \n",
      " \n",
      "  = = = Internal = = = \n",
      " \n",
      "  The United States has a long history of about 70 million\n"
     ]
    }
   ],
   "source": [
    "print(\"\\n\\n\".join(learn_lm.predict(TEXT, N_WORDS, temperature=0.75) for _ in range(N_SENTENCES)))"
   ]
  },
  {
   "cell_type": "code",
   "execution_count": 49,
   "metadata": {},
   "outputs": [
    {
     "name": "stdout",
     "output_type": "stream",
     "text": [
      "The color of the sky is a mixture of Italian and Greek and European words . The Italian used a second red , Spanish , as Italian . The other Italian word for \" Italian \"\n",
      "\n",
      "The color of the sky is Throat - Henry , a French Canadian using a Latin name , and has a \" French \" accent . He also wears a French , Australian , and\n"
     ]
    }
   ],
   "source": [
    "print(\"\\n\\n\".join(learn_lm.predict(TEXT, N_WORDS, temperature=0.75) for _ in range(N_SENTENCES)))"
   ]
  },
  {
   "cell_type": "code",
   "execution_count": 50,
   "metadata": {},
   "outputs": [
    {
     "data": {
      "text/html": [
       "<h4 id=\"LanguageLearner.predict\" class=\"doc_header\"><code>predict</code><a href=\"https://github.com/fastai/fastai/blob/master/fastai/text/learner.py#L116\" class=\"source_link\" style=\"float:right\">[source]</a><a class=\"source_link\" data-toggle=\"collapse\" data-target=\"#LanguageLearner-predict-pytest\" style=\"float:right; padding-right:10px\">[test]</a></h4><blockquote><p><code>predict</code>(<strong><code>text</code></strong>:<code>str</code>, <strong><code>n_words</code></strong>:<code>int</code>=<strong><em><code>1</code></em></strong>, <strong><code>no_unk</code></strong>:<code>bool</code>=<strong><em><code>True</code></em></strong>, <strong><code>temperature</code></strong>:<code>float</code>=<strong><em><code>1.0</code></em></strong>, <strong><code>min_p</code></strong>:<code>float</code>=<strong><em><code>None</code></em></strong>, <strong><code>sep</code></strong>:<code>str</code>=<strong><em><code>' '</code></em></strong>, <strong><code>decoder</code></strong>=<strong><em><code>'decode_spec_tokens'</code></em></strong>)</p>\n",
       "</blockquote>\n",
       "<div class=\"collapse\" id=\"LanguageLearner-predict-pytest\"><div class=\"card card-body pytest_card\"><a type=\"button\" data-toggle=\"collapse\" data-target=\"#LanguageLearner-predict-pytest\" class=\"close\" aria-label=\"Close\"><span aria-hidden=\"true\">&times;</span></a><p>No tests found for <code>predict</code>. To contribute a test please refer to <a href=\"/dev/test.html\">this guide</a> and <a href=\"https://forums.fast.ai/t/improving-expanding-functional-tests/32929\">this discussion</a>.</p></div></div><p>Return the <code>n_words</code> that come after <code>text</code>.</p>\n",
       "<p><a href=\"https://docs.fast.ai/text.learner.html#LanguageLearner.predict\" target=\"_blank\" rel=\"noreferrer noopener\">Show in docs</a></p>\n"
      ]
     },
     "metadata": {},
     "output_type": "display_data"
    }
   ],
   "source": [
    "doc(LanguageLearner.predict)"
   ]
  },
  {
   "cell_type": "markdown",
   "metadata": {},
   "source": [
    "`temperature` 控制生成文本的随机性"
   ]
  },
  {
   "cell_type": "code",
   "execution_count": 51,
   "metadata": {},
   "outputs": [
    {
     "name": "stdout",
     "output_type": "stream",
     "text": [
      "The color of the sky is a reference to the American Civil War . The American Civil War was the first war in Europe . The United States Army was the first to use\n",
      "The color of the sky is a combination of English and French , and the French language is French . The French language is French , and the French language is French . The French\n"
     ]
    }
   ],
   "source": [
    "print(\"\\n\".join(learn_lm.predict(TEXT, N_WORDS, temperature=0.1) for _ in range(N_SENTENCES)))"
   ]
  },
  {
   "cell_type": "markdown",
   "metadata": {},
   "source": [
    "## 精调模型"
   ]
  },
  {
   "cell_type": "code",
   "execution_count": 52,
   "metadata": {},
   "outputs": [
    {
     "data": {
      "text/html": [],
      "text/plain": [
       "<IPython.core.display.HTML object>"
      ]
     },
     "metadata": {},
     "output_type": "display_data"
    },
    {
     "name": "stdout",
     "output_type": "stream",
     "text": [
      "LR Finder is complete, type {learner_name}.recorder.plot() to see the graph.\n"
     ]
    }
   ],
   "source": [
    "learn_lm.lr_find()"
   ]
  },
  {
   "cell_type": "code",
   "execution_count": 53,
   "metadata": {},
   "outputs": [
    {
     "data": {
      "image/png": "[encoded data removed]",
      "text/plain": [
       "<Figure size 432x288 with 1 Axes>"
      ]
     },
     "metadata": {
      "needs_background": "light"
     },
     "output_type": "display_data"
    }
   ],
   "source": [
    "learn_lm.recorder.plot(skip_end=10)"
   ]
  },
  {
   "cell_type": "code",
   "execution_count": 54,
   "metadata": {},
   "outputs": [
    {
     "data": {
      "text/html": [
       "Total time: 14:14 <p><table border=\"1\" class=\"dataframe\">\n",
       "  <thead>\n",
       "    <tr style=\"text-align: left;\">\n",
       "      <th>epoch</th>\n",
       "      <th>train_loss</th>\n",
       "      <th>valid_loss</th>\n",
       "      <th>accuracy</th>\n",
       "      <th>time</th>\n",
       "    </tr>\n",
       "  </thead>\n",
       "  <tbody>\n",
       "    <tr>\n",
       "      <td>0</td>\n",
       "      <td>4.260913</td>\n",
       "      <td>5.668831</td>\n",
       "      <td>0.142857</td>\n",
       "      <td>14:14</td>\n",
       "    </tr>\n",
       "  </tbody>\n",
       "</table>"
      ],
      "text/plain": [
       "<IPython.core.display.HTML object>"
      ]
     },
     "metadata": {},
     "output_type": "display_data"
    }
   ],
   "source": [
    "learn_lm.fit_one_cycle(1, 1e-2, moms=(0.8, 0.7))"
   ]
  },
  {
   "cell_type": "code",
   "execution_count": 55,
   "metadata": {},
   "outputs": [
    {
     "data": {
      "text/plain": [
       "7663"
      ]
     },
     "execution_count": 55,
     "metadata": {},
     "output_type": "execute_result"
    }
   ],
   "source": [
    "gc.collect()"
   ]
  },
  {
   "cell_type": "markdown",
   "metadata": {},
   "source": [
    "- 保存权重"
   ]
  },
  {
   "cell_type": "code",
   "execution_count": 56,
   "metadata": {},
   "outputs": [],
   "source": [
    "learn_lm.save('fit_1')"
   ]
  },
  {
   "cell_type": "markdown",
   "metadata": {},
   "source": [
    "- 这一步适应性训练"
   ]
  },
  {
   "cell_type": "code",
   "execution_count": 58,
   "metadata": {},
   "outputs": [
    {
     "data": {
      "text/plain": [
       "False"
      ]
     },
     "execution_count": 58,
     "metadata": {},
     "output_type": "execute_result"
    }
   ],
   "source": [
    "np.allclose(enc.weight[data_lm.vocab.stoi[\"30-something\"], :], \n",
    "            enc.weight[data_lm.vocab.stoi[\"linklater\"], :])"
   ]
  },
  {
   "cell_type": "code",
   "execution_count": 59,
   "metadata": {},
   "outputs": [],
   "source": [
    "learn_lm.unfreeze()"
   ]
  },
  {
   "cell_type": "code",
   "execution_count": 60,
   "metadata": {},
   "outputs": [],
   "source": [
    "learn_lm.load('fit_1');"
   ]
  },
  {
   "cell_type": "code",
   "execution_count": 61,
   "metadata": {},
   "outputs": [
    {
     "data": {
      "text/html": [
       "Total time: 16:43 <p><table border=\"1\" class=\"dataframe\">\n",
       "  <thead>\n",
       "    <tr style=\"text-align: left;\">\n",
       "      <th>epoch</th>\n",
       "      <th>train_loss</th>\n",
       "      <th>valid_loss</th>\n",
       "      <th>accuracy</th>\n",
       "      <th>time</th>\n",
       "    </tr>\n",
       "  </thead>\n",
       "  <tbody>\n",
       "    <tr>\n",
       "      <td>0</td>\n",
       "      <td>3.917771</td>\n",
       "      <td>5.118861</td>\n",
       "      <td>0.185714</td>\n",
       "      <td>16:43</td>\n",
       "    </tr>\n",
       "  </tbody>\n",
       "</table>"
      ],
      "text/plain": [
       "<IPython.core.display.HTML object>"
      ]
     },
     "metadata": {},
     "output_type": "display_data"
    }
   ],
   "source": [
    "learn_lm.fit_one_cycle(1, 1e-3, moms=(0.8,0.7))"
   ]
  },
  {
   "cell_type": "code",
   "execution_count": 62,
   "metadata": {},
   "outputs": [],
   "source": [
    "learn_lm.save('fine_tuned')"
   ]
  },
  {
   "cell_type": "code",
   "execution_count": 63,
   "metadata": {},
   "outputs": [
    {
     "data": {
      "text/plain": [
       "22"
      ]
     },
     "execution_count": 63,
     "metadata": {},
     "output_type": "execute_result"
    }
   ],
   "source": [
    "learn_lm = None\n",
    "gc.collect()"
   ]
  },
  {
   "cell_type": "markdown",
   "metadata": {},
   "source": [
    "### 重新加载模型"
   ]
  },
  {
   "cell_type": "code",
   "execution_count": 64,
   "metadata": {},
   "outputs": [],
   "source": [
    "learn_lm = language_model_learner(data_lm, AWD_LSTM, drop_mult=0.3)"
   ]
  },
  {
   "cell_type": "code",
   "execution_count": 65,
   "metadata": {},
   "outputs": [],
   "source": [
    "learn_lm.load('fine_tuned');"
   ]
  },
  {
   "cell_type": "markdown",
   "metadata": {},
   "source": [
    "- 现在看一下只有 IMDB 中有的某些的词的权重\n",
    "- 训练之后就不一样了"
   ]
  },
  {
   "cell_type": "code",
   "execution_count": 66,
   "metadata": {},
   "outputs": [
    {
     "data": {
      "text/plain": [
       "tensor([ 3.2072e-03, -1.6049e-01,  2.1455e-01, -6.2848e-02, -2.8184e-01,\n",
       "        -9.3318e-01, -1.0888e-01,  2.1016e+00, -4.3233e-01, -8.8225e-03,\n",
       "         1.4522e-01, -2.9050e-01, -1.9969e-01, -9.7504e-02,  1.1139e-01,\n",
       "        -2.4093e-01, -3.9123e-01, -1.7941e-01, -1.4594e-01,  3.5768e-01,\n",
       "         3.1340e-02, -1.2044e+00, -3.4958e-01, -8.0277e-02, -8.3552e-03,\n",
       "        -4.3774e-02,  8.2727e-02,  1.1909e-01,  1.0847e-01, -4.1513e-01,\n",
       "        -6.0598e-02, -1.0957e-01,  1.0951e-01, -4.2390e-02,  8.6893e-02,\n",
       "        -5.6217e-01,  8.1836e-02, -3.1742e-02,  1.0327e-01, -2.5945e-01,\n",
       "         2.8270e-02, -2.5572e-01,  3.9597e-02,  2.4161e-01,  3.7453e-01,\n",
       "         4.4306e-02, -1.4005e-01,  1.8597e-01, -3.8311e-01, -2.4049e-01,\n",
       "         1.5460e-01, -2.1910e-01,  3.0859e-02,  4.8729e-01,  1.5921e+00,\n",
       "         1.5239e-01, -3.4949e-02, -3.6023e-01,  1.0635e-01,  3.2286e-02,\n",
       "        -3.7845e-01,  8.3109e-02,  1.6261e-01,  2.8154e-01,  3.8619e-01,\n",
       "        -2.0305e-01, -1.4512e-01,  1.1038e-01, -3.5582e-01, -1.9876e-01,\n",
       "        -5.3879e-01, -1.4806e-01, -2.1337e-01,  3.4775e-01, -4.2924e-01,\n",
       "        -1.1430e-01, -5.5299e-02, -2.1030e-01, -3.0929e-01, -5.1003e-01,\n",
       "         8.7944e-02, -3.2874e-01, -2.8365e-01, -1.3081e-01,  1.9118e-01,\n",
       "        -2.7696e-01,  2.0294e-01,  1.3704e+00, -2.0966e-01,  4.8365e-02,\n",
       "         4.2256e-02, -5.6682e-01,  1.2348e-01, -6.4662e-02,  1.5671e-01,\n",
       "        -3.7555e-01,  2.4129e-01, -4.8201e-01,  9.7320e-02,  5.6699e-01,\n",
       "        -1.5622e-01, -3.4294e-01, -1.6296e-02, -3.0570e-01, -6.3216e-01,\n",
       "        -1.1362e-01,  1.8251e-02, -2.0633e-01, -4.0456e-01, -4.0568e-01,\n",
       "        -2.6845e-02,  4.0977e-01,  5.6334e-02,  2.9079e-01,  6.8994e-01,\n",
       "        -5.6448e-02,  2.5892e-02, -2.9972e-01, -3.5513e-01, -5.0623e-02,\n",
       "         7.8032e-01,  5.2905e-01,  6.2244e-01,  1.7565e-01,  4.3115e-01,\n",
       "         2.0677e-02,  6.8202e-02,  7.4512e-03, -2.1387e-01, -2.4766e-01,\n",
       "         2.6501e-01, -1.8106e-01, -1.5098e-01,  9.9215e-02,  2.7061e-01,\n",
       "         1.1871e-02, -8.1747e-01, -1.0925e-01,  8.9148e-02, -6.4667e-03,\n",
       "         5.5533e-01,  6.0048e-02,  1.7300e-01, -9.7943e-02,  4.8628e-02,\n",
       "         6.4111e-01, -1.1639e-01,  1.4264e-01, -3.7794e-01,  4.0327e-01,\n",
       "        -6.5348e-02, -5.6119e-01, -1.7663e-01,  1.1106e+00, -1.1166e-01,\n",
       "         7.4152e-02, -3.3279e-01,  8.8858e-02,  3.2363e-01, -3.2095e-01,\n",
       "         2.9635e-01,  4.0026e-01,  7.7452e-02,  3.3269e-03,  6.7458e-03,\n",
       "         3.4015e-01,  9.0730e-01,  3.3794e-01,  2.2707e-02,  2.9353e-01,\n",
       "         7.8215e-02, -4.4989e-01,  3.8187e-02,  2.6789e-01, -3.1380e-01,\n",
       "        -2.4873e-01,  2.9518e-01, -8.9570e-02, -1.9902e-01,  1.7157e-02,\n",
       "        -4.8244e-01, -3.2615e-02, -1.9876e-01,  2.9867e-01,  8.6943e-01,\n",
       "        -1.5601e-01,  5.5195e-01,  5.0381e-02,  3.3495e-01,  1.8484e-01,\n",
       "        -3.8948e-01,  3.6178e-01,  1.0290e-01, -1.3010e-01,  3.5800e-01,\n",
       "         1.9129e-01, -2.0529e-01,  5.0182e-01, -4.0331e-02,  8.8757e+00,\n",
       "        -5.9882e-02, -2.2947e-01,  2.0299e-01, -1.5453e-01, -1.2900e-01,\n",
       "         2.2644e-01,  1.2496e-01,  5.6830e-01, -1.8268e-01,  9.3942e-02,\n",
       "        -4.1212e-01, -9.5684e-01, -3.8017e-01, -2.1725e-01,  2.6683e-01,\n",
       "        -1.9907e-01,  2.7064e-01,  1.1694e-01,  3.5839e-01,  2.1850e-01,\n",
       "        -3.7102e-01, -1.4626e-01, -2.5134e-01,  7.4154e-02, -2.5009e-01,\n",
       "        -3.2561e-01, -2.2738e-01, -3.7088e-01,  6.0383e-01,  2.5604e-01,\n",
       "        -6.3643e-01, -2.5005e-01,  4.3555e-01,  2.8744e-02,  1.9224e-01,\n",
       "        -1.0021e-01, -1.1240e-01,  2.8212e-01, -4.3475e-01, -8.3729e-02,\n",
       "         6.3341e-02, -1.3068e-01, -1.1026e-01,  5.9544e-01, -2.5056e-01,\n",
       "        -5.8367e-02, -2.8420e-01, -6.0897e-02, -1.9172e-01,  1.2294e-01,\n",
       "         5.1019e-02,  5.0826e-03,  3.5157e-01,  1.5534e-01,  3.3241e-02,\n",
       "        -1.3837e-01,  1.8443e-01,  2.9667e-01, -6.9218e-01, -1.1258e-01,\n",
       "         5.8610e-02,  2.7609e-01, -4.4075e-01, -5.0866e-01, -5.0395e-02,\n",
       "         8.1926e-02,  4.2362e-02,  3.0205e-02, -5.5013e-01,  1.7376e-01,\n",
       "        -1.4639e-01, -1.2295e-01, -6.2993e-02, -2.5340e-01,  9.6575e-01,\n",
       "        -2.9015e-02, -1.4661e-01,  1.9746e-01, -2.0859e-02, -7.5505e-01,\n",
       "         4.1256e-01, -2.9339e-01, -4.4570e-02,  1.3843e-01,  5.8493e-01,\n",
       "         2.1994e-01, -3.3715e-01,  1.4294e-01, -1.1739e+00, -4.6497e-02,\n",
       "        -2.6216e-01, -1.2824e-01,  5.7833e-02, -2.0968e-01,  9.1114e-02,\n",
       "         6.1353e-01, -2.1772e-01,  6.0257e-02, -6.2656e-02,  4.2045e-01,\n",
       "         5.1398e-02,  5.3682e-01,  1.4036e-02, -1.3292e-01,  8.0947e-02,\n",
       "         1.0566e-01,  3.1596e-02, -4.0706e-01,  3.3408e-02, -4.3693e-01,\n",
       "        -1.6066e-01, -1.9122e-02, -1.7751e-01, -5.9775e-01,  1.4602e-01,\n",
       "        -2.5772e-02,  5.1349e-01,  1.0483e-01,  2.2570e-01, -4.7489e-01,\n",
       "         4.6471e-01, -3.5066e-01, -5.3258e-01,  2.6321e-01, -1.9204e-01,\n",
       "        -7.6083e-02, -3.5986e-01, -2.3723e-01,  3.3098e-01,  2.6599e-01,\n",
       "        -5.5280e-02, -4.2651e-01, -1.5426e+00,  3.7679e-02, -1.3529e-01,\n",
       "        -2.2923e-01,  1.6272e-01, -3.9520e-02,  7.4568e-01,  3.0796e-01,\n",
       "        -1.1327e-01,  3.0942e-01,  1.0860e-02, -5.6625e-02,  2.7232e-01,\n",
       "        -6.9728e-03, -1.6894e-01,  9.4825e-02,  8.7606e-02,  1.0178e-02,\n",
       "         1.0923e-01, -4.0916e-01, -1.4897e-01, -2.3481e-01,  2.6810e-01,\n",
       "        -2.6776e-01,  7.7929e-03,  8.7749e-02,  1.7263e-01, -3.6510e-01,\n",
       "        -6.0855e-02,  1.5435e-01,  4.6148e-02, -4.5243e-01, -2.5102e-01,\n",
       "         1.1618e-01, -4.6618e-01,  3.9574e-01,  2.3393e-01, -2.2546e-01,\n",
       "        -3.0398e-01,  1.6105e-01,  1.7953e-01,  5.1444e-02,  1.0394e-01,\n",
       "         2.1791e+00,  3.3454e-02,  5.2646e-01,  3.0997e-01, -3.6243e-01,\n",
       "        -6.3585e-02, -4.9616e-03,  6.0955e-01,  1.8524e-01, -2.4877e-01,\n",
       "         6.6345e-01, -4.4104e-02, -6.1766e-02, -1.5054e-01,  8.3021e-02,\n",
       "        -4.4084e-02, -3.8747e-02,  4.3642e-02,  4.4176e-01, -1.4935e+00,\n",
       "        -2.0664e-01,  6.6437e-02,  2.7769e-02, -2.3057e-01,  4.1281e-02],\n",
       "       device='cuda:0', grad_fn=<SelectBackward>)"
      ]
     },
     "execution_count": 66,
     "metadata": {},
     "output_type": "execute_result"
    },
    {
     "data": {
      "text/plain": [
       "tensor([-2.8410e-01, -1.8796e-01,  4.4240e-01, -4.2873e-02, -1.2539e-01,\n",
       "        -1.1355e+00, -1.4613e-01,  2.2823e+00, -3.4737e-01, -1.5362e-01,\n",
       "         1.3069e-01, -3.0548e-01, -4.7165e-01,  1.9453e-01, -5.0568e-03,\n",
       "        -6.0487e-02, -6.3183e-02,  1.8900e-02,  5.2805e-02,  2.5666e-01,\n",
       "         5.8136e-01, -6.8515e-01, -5.9119e-02,  7.8001e-03, -1.7621e-01,\n",
       "         1.7742e-01,  2.3140e-01,  1.7526e-01, -6.6958e-03, -5.5932e-01,\n",
       "        -2.6108e-01, -1.1224e-01,  1.3781e-01,  5.2185e-02, -1.0861e-02,\n",
       "        -8.6108e-01,  2.8564e-01, -7.3393e-02,  2.9471e-01, -4.2485e-01,\n",
       "        -5.1629e-02, -5.6315e-01,  2.6824e-01, -1.5991e-02,  9.3768e-02,\n",
       "         1.9217e-01, -2.1691e-01, -1.1009e-01, -3.7561e-01, -3.5039e-01,\n",
       "         1.2531e-01, -2.2624e-01, -2.5802e-01,  4.4876e-01,  1.8530e+00,\n",
       "         6.5083e-01, -3.6856e-01, -7.3601e-02,  1.0223e-01,  1.7379e-01,\n",
       "        -1.9559e-01, -1.0485e-01,  1.7183e-01,  1.0943e-01, -8.1200e-03,\n",
       "         4.7157e-02,  2.2152e-01,  3.3878e-01, -8.8590e-01, -6.6900e-02,\n",
       "        -6.2824e-01, -2.7627e-02, -6.1724e-01,  3.9871e-01, -5.7253e-01,\n",
       "        -1.9158e-01, -1.0822e-01, -3.0273e-01, -4.0532e-01, -4.8808e-01,\n",
       "        -2.1560e-01, -5.5545e-01, -2.4717e-02, -2.1521e-01, -1.5785e-03,\n",
       "        -1.8136e-01,  2.8467e-01,  1.3490e+00, -2.4802e-01, -4.8331e-02,\n",
       "         2.0568e-02,  1.3431e-01, -1.6624e-01, -2.9725e-03,  3.8115e-01,\n",
       "        -1.5479e-01,  5.2534e-02, -1.9676e-01, -4.3543e-02,  7.1940e-01,\n",
       "        -2.7793e-01, -1.2500e-01, -1.2166e-01, -2.1813e-01, -2.3993e-01,\n",
       "        -1.1590e-01,  2.4179e-01, -7.4378e-02, -1.4798e-01, -4.1731e-01,\n",
       "        -1.5961e-01,  2.3532e-01,  3.2890e-01,  2.3144e-01,  8.2273e-01,\n",
       "         1.5512e-01, -2.8808e-01,  6.8657e-02, -1.2321e-01,  2.2262e-03,\n",
       "         9.2312e-01,  3.5150e-01,  4.7032e-01,  4.0830e-01,  1.5860e-01,\n",
       "         3.0736e-02,  2.4376e-01,  3.2240e-01, -3.9955e-01, -3.9860e-01,\n",
       "         2.5719e-01, -5.7429e-01, -1.2209e-01,  8.5918e-01,  3.8260e-01,\n",
       "        -9.9970e-02, -1.0898e+00, -3.4944e-01, -1.4341e-01,  1.5101e-03,\n",
       "         5.5787e-01,  3.6318e-01,  6.1475e-02, -4.2635e-01,  2.0925e-01,\n",
       "         8.2191e-01, -7.1197e-01,  2.2355e-01, -4.0029e-01,  1.4997e-01,\n",
       "        -7.0186e-01, -1.7296e-01, -2.7346e-01,  2.5176e-01,  2.3784e-01,\n",
       "         6.5719e-01, -3.7346e-01, -1.0494e-01,  1.1830e-01, -2.9759e-02,\n",
       "         3.3359e-01,  2.8145e-01,  3.4801e-01,  2.2596e-02,  2.3512e-03,\n",
       "         3.6920e-01,  5.5980e-01,  1.3984e-01,  1.8084e-01, -9.7945e-02,\n",
       "         1.1761e-01, -1.8338e-01, -1.8169e-01,  3.7646e-01, -2.9441e-01,\n",
       "        -1.8420e-01, -7.5501e-02,  1.3482e-01, -5.4801e-01, -7.3966e-02,\n",
       "        -2.7229e-01,  6.7325e-02, -1.0520e-01,  3.3520e-01,  6.1277e-01,\n",
       "        -2.3914e-01,  3.2733e-01,  8.5604e-03,  8.3634e-02,  2.8925e-02,\n",
       "        -3.7579e-01,  4.1374e-01, -1.9406e-01, -4.1681e-01,  9.2406e-02,\n",
       "        -1.5869e-01, -4.0148e-01,  1.1211e+00, -1.0736e-01,  7.2367e+00,\n",
       "        -2.7321e-01, -2.0823e-01,  8.4814e-02,  1.4035e-01, -1.1856e-01,\n",
       "         1.6187e-01,  6.7617e-01,  3.5006e-01, -1.3847e-01,  1.1139e-01,\n",
       "         3.1352e-02, -1.2064e+00, -3.5382e-02,  1.7106e-01,  1.8934e-01,\n",
       "         4.4297e-02,  5.1899e-01, -2.2949e-01,  5.7160e-02,  2.6484e-01,\n",
       "        -4.5649e-02, -3.8650e-01, -2.9634e-01, -1.0247e-01, -3.8327e-01,\n",
       "        -2.4686e-01, -3.6578e-01, -4.4170e-02,  1.7244e-01, -5.4352e-02,\n",
       "        -1.0271e+00,  9.7718e-02,  5.8638e-01, -2.7264e-01, -1.9690e-01,\n",
       "        -5.1144e-02, -5.1291e-02,  3.2031e-01, -7.6261e-01, -1.3990e-01,\n",
       "        -1.2354e-01,  1.9556e-02, -2.4576e-01,  4.4885e-01,  1.0648e-01,\n",
       "        -4.2025e-01,  1.6266e-01, -2.6699e-01, -4.8763e-01,  4.8752e-01,\n",
       "        -1.8274e-01, -1.3313e-01,  2.6738e-01,  6.0671e-02,  7.3673e-03,\n",
       "        -2.3561e-01, -1.2789e-01,  3.7196e-01, -1.2162e+00,  2.1617e-01,\n",
       "         1.8818e-01,  3.0653e-02,  8.2175e-02, -7.8372e-01, -2.0378e-01,\n",
       "        -2.4649e-01, -3.5442e-01,  8.9984e-02, -3.9282e-01,  3.8246e-01,\n",
       "        -6.5304e-01,  2.0555e-02, -7.1869e-01, -3.4911e-01,  1.1765e+00,\n",
       "        -1.6891e-01, -1.3634e-01,  1.1095e-01,  1.8429e-01, -9.7468e-01,\n",
       "         6.5331e-01, -1.5775e-01,  1.6140e-01,  5.7514e-02,  7.0419e-01,\n",
       "        -3.0371e-01, -3.3138e-01, -1.8356e-01, -1.5634e+00, -3.3345e-01,\n",
       "        -2.0439e-01,  3.8797e-02, -2.1169e-01, -5.0553e-01, -8.1121e-02,\n",
       "         5.5980e-01, -4.9569e-01,  1.4824e-01,  1.4086e-01,  1.0681e-01,\n",
       "         6.8477e-03,  9.3167e-01,  1.5246e-01,  2.5944e-01,  1.3474e-02,\n",
       "         3.7308e-01,  3.7578e-01, -2.6785e-01, -1.6664e-01, -6.4617e-01,\n",
       "        -7.6377e-02, -1.5058e-01, -7.4865e-02, -3.9274e-01, -1.6629e-01,\n",
       "        -2.5767e-01,  2.0508e-01, -1.8796e-01,  3.2464e-01, -1.7722e-01,\n",
       "         2.5431e-01,  1.4741e-01, -3.4853e-01,  2.3387e-01, -8.7161e-05,\n",
       "        -8.7632e-01, -5.1200e-02, -1.6130e-01, -1.1157e-01,  5.2701e-01,\n",
       "        -9.9872e-02, -6.3589e-01, -2.0251e+00,  1.4272e-01, -2.7880e-01,\n",
       "         2.0807e-01,  2.0852e-01,  4.2798e-01,  8.0418e-01,  3.3886e-01,\n",
       "        -3.2953e-01,  1.7258e-01,  2.1137e-01,  1.3464e-01, -9.6772e-02,\n",
       "         2.0936e-01, -1.3584e-01,  4.0104e-02, -2.0041e-02,  2.2589e-02,\n",
       "         4.5968e-02, -4.7307e-01,  3.3104e-01,  8.5960e-02,  1.1722e-01,\n",
       "        -1.3776e-01, -5.3053e-02,  8.7054e-02, -2.7274e-01, -3.2108e-01,\n",
       "        -8.7048e-03,  4.2871e-01,  4.2416e-01, -5.4685e-01, -5.0112e-01,\n",
       "        -3.1476e-02, -5.6220e-01,  1.0262e-01,  1.4496e-02, -3.2813e-01,\n",
       "         3.2563e-01,  9.6348e-01,  8.1113e-02,  2.8098e-01,  5.5310e-01,\n",
       "         1.7733e+00,  1.2737e-01,  2.6959e-02,  7.0505e-01, -7.8179e-02,\n",
       "         2.0829e-01, -9.1146e-02,  9.8538e-01, -3.2410e-01, -5.4431e-01,\n",
       "         6.1956e-01,  2.0331e-01, -1.1844e-01, -6.0821e-01, -1.3395e-01,\n",
       "         5.0338e-01,  3.4244e-01, -2.1357e-01,  2.3819e-01, -1.6635e+00,\n",
       "         5.8559e-03,  4.0923e-01,  1.0143e-01,  2.5649e-02, -1.8601e-01],\n",
       "       device='cuda:0', grad_fn=<SelectBackward>)"
      ]
     },
     "execution_count": 66,
     "metadata": {},
     "output_type": "execute_result"
    }
   ],
   "source": [
    "enc.weight[data_lm.vocab.stoi[\"30-something\"]]\n",
    "enc.weight[data_lm.vocab.stoi[\"linklater\"]]"
   ]
  },
  {
   "cell_type": "code",
   "execution_count": 67,
   "metadata": {},
   "outputs": [
    {
     "data": {
      "text/plain": [
       "False"
      ]
     },
     "execution_count": 67,
     "metadata": {},
     "output_type": "execute_result"
    }
   ],
   "source": [
    "np.allclose(enc.weight[data_lm.vocab.stoi[\"30-something\"], :], \n",
    "            enc.weight[data_lm.vocab.stoi[\"linklater\"], :])"
   ]
  },
  {
   "cell_type": "markdown",
   "metadata": {},
   "source": [
    "- 使用训练好的语言模型生成假的评论"
   ]
  },
  {
   "cell_type": "code",
   "execution_count": 68,
   "metadata": {},
   "outputs": [],
   "source": [
    "TEXT = \"i liked this movie because\"\n",
    "N_WORDS = 40\n",
    "N_SENTENCES = 2"
   ]
  },
  {
   "cell_type": "code",
   "execution_count": 69,
   "metadata": {},
   "outputs": [
    {
     "name": "stdout",
     "output_type": "stream",
     "text": [
      "i liked this movie because it was one of my favorite movies of all time . i was in a high school , i was a teenager . It was a new life that i was earned at the time of the Film\n",
      "\n",
      "i liked this movie because i am a huge fan of Prom Night , and for those of Blair Witch Project who have the better performances of the three . \n",
      " \n",
      "  The plot of the movie is about the\n"
     ]
    }
   ],
   "source": [
    "print(\"\\n\\n\".join(learn_lm.predict(TEXT, N_WORDS, temperature=0.75) for _ in range(N_SENTENCES)))"
   ]
  },
  {
   "cell_type": "code",
   "execution_count": 70,
   "metadata": {},
   "outputs": [
    {
     "name": "stdout",
     "output_type": "stream",
     "text": [
      "i liked this movie because it was a great movie . It was a great movie . It was a great movie . It was a great movie . It was a great movie . It was a great movie\n",
      "\n",
      "i liked this movie because it was a great movie . It was a great movie , and i loved it . It was a great movie , and i loved it . It was a great movie . It was\n"
     ]
    }
   ],
   "source": [
    "print(\"\\n\\n\".join(learn_lm.predict(TEXT, N_WORDS, temperature=0.1) for _ in range(N_SENTENCES)))"
   ]
  },
  {
   "cell_type": "markdown",
   "metadata": {},
   "source": [
    "## 保存编码器\n",
    "- fastai 的第1层保存的是模型的编码器部分"
   ]
  },
  {
   "cell_type": "code",
   "execution_count": 71,
   "metadata": {},
   "outputs": [],
   "source": [
    "learn_lm.save_encoder('fine_tuned_enc')"
   ]
  },
  {
   "cell_type": "markdown",
   "metadata": {},
   "source": [
    "**语言模型涉及到一些伦理问题**"
   ]
  },
  {
   "cell_type": "code",
   "execution_count": 72,
   "metadata": {},
   "outputs": [
    {
     "data": {
      "text/plain": [
       "0"
      ]
     },
     "execution_count": 72,
     "metadata": {},
     "output_type": "execute_result"
    }
   ],
   "source": [
    "learn_lm = None\n",
    "gc.collect()"
   ]
  },
  {
   "cell_type": "markdown",
   "metadata": {},
   "source": [
    "## 分类器"
   ]
  },
  {
   "cell_type": "code",
   "execution_count": 4,
   "metadata": {},
   "outputs": [],
   "source": [
    "path = untar_data(URLs.IMDB)\n",
    "BATCH = 32"
   ]
  },
  {
   "cell_type": "code",
   "execution_count": 74,
   "metadata": {},
   "outputs": [],
   "source": [
    "# data_clas = (TextList.from_folder(path, vocab=data_lm.vocab)\n",
    "#              #grab all the text files in path\n",
    "#              .split_by_folder(valid='test')\n",
    "#              #split by train and valid folder (that only keeps 'train' and 'test' so no need to filter)\n",
    "#              .label_from_folder(classes=['neg', 'pos'])\n",
    "#              #label them all with their folders\n",
    "#              .databunch(bs=BATCH))"
   ]
  },
  {
   "cell_type": "markdown",
   "metadata": {},
   "source": [
    "- 保存预处理数据"
   ]
  },
  {
   "cell_type": "code",
   "execution_count": 75,
   "metadata": {},
   "outputs": [],
   "source": [
    "# data_clas.save('imdb_textlist_class')"
   ]
  },
  {
   "cell_type": "markdown",
   "metadata": {},
   "source": [
    "- 加载预处理数据"
   ]
  },
  {
   "cell_type": "code",
   "execution_count": 5,
   "metadata": {},
   "outputs": [],
   "source": [
    "data_clas = load_data(path, 'imdb_textlist_class', bs=BATCH)"
   ]
  },
  {
   "cell_type": "code",
   "execution_count": 77,
   "metadata": {},
   "outputs": [
    {
     "data": {
      "text/html": [
       "<table border=\"1\" class=\"dataframe\">\n",
       "  <thead>\n",
       "    <tr style=\"text-align: right;\">\n",
       "      <th>text</th>\n",
       "      <th>target</th>\n",
       "    </tr>\n",
       "  </thead>\n",
       "  <tbody>\n",
       "    <tr>\n",
       "      <td>xxbos xxmaj match 1 : xxmaj tag xxmaj team xxmaj table xxmaj match xxmaj bubba xxmaj ray and xxmaj spike xxmaj dudley vs xxmaj eddie xxmaj guerrero and xxmaj chris xxmaj benoit xxmaj bubba xxmaj ray and xxmaj spike xxmaj dudley started things off with a xxmaj tag xxmaj team xxmaj table xxmaj match against xxmaj eddie xxmaj guerrero and xxmaj chris xxmaj benoit . xxmaj according to the rules</td>\n",
       "      <td>pos</td>\n",
       "    </tr>\n",
       "    <tr>\n",
       "      <td>xxbos xxmaj in xxup nyc , seaman xxmaj michael o'hara ( xxmaj orson xxmaj welles ) rescues xxmaj elsa xxmaj bannister ( xxmaj rita xxmaj hayworth ) from a mugging &amp; rape as she takes a horse &amp; carriage through xxmaj central xxmaj park -and lives to regret it . xxmaj xxunk - haired xxmaj hayworth 's a platinum blonde in this one ; as dazzling as fresh - fallen</td>\n",
       "      <td>pos</td>\n",
       "    </tr>\n",
       "    <tr>\n",
       "      <td>xxbos xxmaj after reading the previous comments , i 'm just glad that i was n't the only person left confused , especially by the last 20 minutes . xxmaj john xxmaj carradine is shown twice walking down into a grave and pulling the lid shut after him . i anxiously awaited some kind of explanation for this odd behavior ... naturally i assumed he had something to do with</td>\n",
       "      <td>neg</td>\n",
       "    </tr>\n",
       "    <tr>\n",
       "      <td>xxbos xxmaj in his 1966 film \" xxmaj blow xxmaj up \" , xxmaj antonioni had his hero question truth against a backdrop of xxmaj british youth protesters . xxmaj by setting such questions against a fabric of hippie youth movements , xxmaj antonioni questioned , intentionally or not , the effectiveness of these organisations . xxmaj how can you fight for a cause when what you think is true</td>\n",
       "      <td>neg</td>\n",
       "    </tr>\n",
       "    <tr>\n",
       "      <td>xxbos xxmaj this movie was extremely poorly conceived from every angle except technological . i stood and watched everyone xxunk out of the theater , their faces drained like their lives flashed before their eyes -- eyes wandering at their neighbor , wondering if it was just them . i mean , how could the movie really be bad . xxmaj xxunk admit it , it 's a classic case</td>\n",
       "      <td>neg</td>\n",
       "    </tr>\n",
       "  </tbody>\n",
       "</table>"
      ],
      "text/plain": [
       "<IPython.core.display.HTML object>"
      ]
     },
     "metadata": {},
     "output_type": "display_data"
    }
   ],
   "source": [
    "data_clas.show_batch()"
   ]
  },
  {
   "cell_type": "markdown",
   "metadata": {},
   "source": [
    "- 构建分类模型"
   ]
  },
  {
   "cell_type": "code",
   "execution_count": 6,
   "metadata": {},
   "outputs": [],
   "source": [
    "learn_c = text_classifier_learner(data_clas, AWD_LSTM, drop_mult=0.5)"
   ]
  },
  {
   "cell_type": "code",
   "execution_count": 7,
   "metadata": {},
   "outputs": [
    {
     "data": {
      "text/plain": [
       "SequentialRNN(\n",
       "  (0): MultiBatchEncoder(\n",
       "    (module): AWD_LSTM(\n",
       "      (encoder): Embedding(49852, 400, padding_idx=1)\n",
       "      (encoder_dp): EmbeddingDropout(\n",
       "        (emb): Embedding(49852, 400, padding_idx=1)\n",
       "      )\n",
       "      (rnns): ModuleList(\n",
       "        (0): WeightDropout(\n",
       "          (module): LSTM(400, 1150, batch_first=True)\n",
       "        )\n",
       "        (1): WeightDropout(\n",
       "          (module): LSTM(1150, 1150, batch_first=True)\n",
       "        )\n",
       "        (2): WeightDropout(\n",
       "          (module): LSTM(1150, 400, batch_first=True)\n",
       "        )\n",
       "      )\n",
       "      (input_dp): RNNDropout()\n",
       "      (hidden_dps): ModuleList(\n",
       "        (0): RNNDropout()\n",
       "        (1): RNNDropout()\n",
       "        (2): RNNDropout()\n",
       "      )\n",
       "    )\n",
       "  )\n",
       "  (1): PoolingLinearClassifier(\n",
       "    (layers): Sequential(\n",
       "      (0): BatchNorm1d(1200, eps=1e-05, momentum=0.1, affine=True, track_running_stats=True)\n",
       "      (1): Dropout(p=0.2)\n",
       "      (2): Linear(in_features=1200, out_features=50, bias=True)\n",
       "      (3): ReLU(inplace)\n",
       "      (4): BatchNorm1d(50, eps=1e-05, momentum=0.1, affine=True, track_running_stats=True)\n",
       "      (5): Dropout(p=0.1)\n",
       "      (6): Linear(in_features=50, out_features=2, bias=True)\n",
       "    )\n",
       "  )\n",
       ")"
      ]
     },
     "execution_count": 7,
     "metadata": {},
     "output_type": "execute_result"
    }
   ],
   "source": [
    "learn_c.model"
   ]
  },
  {
   "cell_type": "code",
   "execution_count": 8,
   "metadata": {},
   "outputs": [
    {
     "data": {
      "text/plain": [
       "MultiBatchEncoder(\n",
       "  (module): AWD_LSTM(\n",
       "    (encoder): Embedding(49852, 400, padding_idx=1)\n",
       "    (encoder_dp): EmbeddingDropout(\n",
       "      (emb): Embedding(49852, 400, padding_idx=1)\n",
       "    )\n",
       "    (rnns): ModuleList(\n",
       "      (0): WeightDropout(\n",
       "        (module): LSTM(400, 1150, batch_first=True)\n",
       "      )\n",
       "      (1): WeightDropout(\n",
       "        (module): LSTM(1150, 1150, batch_first=True)\n",
       "      )\n",
       "      (2): WeightDropout(\n",
       "        (module): LSTM(1150, 400, batch_first=True)\n",
       "      )\n",
       "    )\n",
       "    (input_dp): RNNDropout()\n",
       "    (hidden_dps): ModuleList(\n",
       "      (0): RNNDropout()\n",
       "      (1): RNNDropout()\n",
       "      (2): RNNDropout()\n",
       "    )\n",
       "  )\n",
       ")"
      ]
     },
     "execution_count": 8,
     "metadata": {},
     "output_type": "execute_result"
    }
   ],
   "source": [
    "# 编码器\n",
    "enc = learn_c.model[0]\n",
    "enc"
   ]
  },
  {
   "cell_type": "code",
   "execution_count": 9,
   "metadata": {},
   "outputs": [
    {
     "data": {
      "text/plain": [
       "PoolingLinearClassifier(\n",
       "  (layers): Sequential(\n",
       "    (0): BatchNorm1d(1200, eps=1e-05, momentum=0.1, affine=True, track_running_stats=True)\n",
       "    (1): Dropout(p=0.2)\n",
       "    (2): Linear(in_features=1200, out_features=50, bias=True)\n",
       "    (3): ReLU(inplace)\n",
       "    (4): BatchNorm1d(50, eps=1e-05, momentum=0.1, affine=True, track_running_stats=True)\n",
       "    (5): Dropout(p=0.1)\n",
       "    (6): Linear(in_features=50, out_features=2, bias=True)\n",
       "  )\n",
       ")"
      ]
     },
     "execution_count": 9,
     "metadata": {},
     "output_type": "execute_result"
    }
   ],
   "source": [
    "# 解码器\n",
    "dec = learn_c.model[1]\n",
    "dec"
   ]
  },
  {
   "cell_type": "code",
   "execution_count": 79,
   "metadata": {},
   "outputs": [
    {
     "data": {
      "text/html": [
       "<h4 id=\"text_classifier_learner\" class=\"doc_header\"><code>text_classifier_learner</code><a href=\"https://github.com/fastai/fastai/blob/master/fastai/text/learner.py#L286\" class=\"source_link\" style=\"float:right\">[source]</a><a class=\"source_link\" data-toggle=\"collapse\" data-target=\"#text_classifier_learner-pytest\" style=\"float:right; padding-right:10px\">[test]</a></h4><blockquote><p><code>text_classifier_learner</code>(<strong><code>data</code></strong>:<a href=\"https://docs.fast.ai/basic_data.html#DataBunch\"><code>DataBunch</code></a>, <strong><code>arch</code></strong>:<code>Callable</code>, <strong><code>bptt</code></strong>:<code>int</code>=<strong><em><code>70</code></em></strong>, <strong><code>max_len</code></strong>:<code>int</code>=<strong><em><code>1400</code></em></strong>, <strong><code>config</code></strong>:<code>dict</code>=<strong><em><code>None</code></em></strong>, <strong><code>pretrained</code></strong>:<code>bool</code>=<strong><em><code>True</code></em></strong>, <strong><code>drop_mult</code></strong>:<code>float</code>=<strong><em><code>1.0</code></em></strong>, <strong><code>lin_ftrs</code></strong>:<code>Collection</code>[<code>int</code>]=<strong><em><code>None</code></em></strong>, <strong><code>ps</code></strong>:<code>Collection</code>[<code>float</code>]=<strong><em><code>None</code></em></strong>, <strong>**<code>learn_kwargs</code></strong>) → <code>TextClassifierLearner</code></p>\n",
       "</blockquote>\n",
       "<div class=\"collapse\" id=\"text_classifier_learner-pytest\"><div class=\"card card-body pytest_card\"><a type=\"button\" data-toggle=\"collapse\" data-target=\"#text_classifier_learner-pytest\" class=\"close\" aria-label=\"Close\"><span aria-hidden=\"true\">&times;</span></a><p>Tests found for <code>text_classifier_learner</code>:</p><ul><li><code>pytest -sv tests/test_text_train.py::test_classifier</code> <a href=\"https://github.com/fastai/fastai/blob/master/tests/test_text_train.py#L100\" class=\"source_link\" style=\"float:right\">[source]</a></li><li><code>pytest -sv tests/test_text_train.py::test_order_preds</code> <a href=\"https://github.com/fastai/fastai/blob/master/tests/test_text_train.py#L139\" class=\"source_link\" style=\"float:right\">[source]</a></li></ul><p>To run tests please refer to this <a href=\"/dev/test.html#quick-guide\">guide</a>.</p></div></div><p>Create a <a href=\"https://docs.fast.ai/basic_train.html#Learner\"><code>Learner</code></a> with a text classifier from <code>data</code> and <code>arch</code>.</p>\n",
       "<p><a href=\"https://docs.fast.ai/text.learner.html#text_classifier_learner\" target=\"_blank\" rel=\"noreferrer noopener\">Show in docs</a></p>\n"
      ]
     },
     "metadata": {},
     "output_type": "display_data"
    }
   ],
   "source": [
    "doc(text_classifier_learner)"
   ]
  },
  {
   "cell_type": "markdown",
   "metadata": {},
   "source": [
    "- 使用从语言模型学习到的embedding向量-编码器（加载完成后悔freeze）"
   ]
  },
  {
   "cell_type": "code",
   "execution_count": 10,
   "metadata": {},
   "outputs": [],
   "source": [
    "learn_c.load_encoder('fine_tuned_enc')"
   ]
  },
  {
   "cell_type": "code",
   "execution_count": 81,
   "metadata": {},
   "outputs": [
    {
     "data": {
      "text/html": [],
      "text/plain": [
       "<IPython.core.display.HTML object>"
      ]
     },
     "metadata": {},
     "output_type": "display_data"
    },
    {
     "name": "stdout",
     "output_type": "stream",
     "text": [
      "LR Finder is complete, type {learner_name}.recorder.plot() to see the graph.\n"
     ]
    },
    {
     "data": {
      "image/png": "[encoded data removed]",
      "text/plain": [
       "<Figure size 432x288 with 1 Axes>"
      ]
     },
     "metadata": {
      "needs_background": "light"
     },
     "output_type": "display_data"
    }
   ],
   "source": [
    "learn_c.lr_find()\n",
    "learn_c.recorder.plot()"
   ]
  },
  {
   "cell_type": "code",
   "execution_count": 11,
   "metadata": {},
   "outputs": [
    {
     "data": {
      "text/html": [
       "Total time: 12:26 <p><table border=\"1\" class=\"dataframe\">\n",
       "  <thead>\n",
       "    <tr style=\"text-align: left;\">\n",
       "      <th>epoch</th>\n",
       "      <th>train_loss</th>\n",
       "      <th>valid_loss</th>\n",
       "      <th>accuracy</th>\n",
       "      <th>time</th>\n",
       "    </tr>\n",
       "  </thead>\n",
       "  <tbody>\n",
       "    <tr>\n",
       "      <td>0</td>\n",
       "      <td>0.360218</td>\n",
       "      <td>0.269857</td>\n",
       "      <td>0.888720</td>\n",
       "      <td>04:17</td>\n",
       "    </tr>\n",
       "    <tr>\n",
       "      <td>1</td>\n",
       "      <td>0.343186</td>\n",
       "      <td>0.255186</td>\n",
       "      <td>0.898080</td>\n",
       "      <td>04:09</td>\n",
       "    </tr>\n",
       "    <tr>\n",
       "      <td>2</td>\n",
       "      <td>0.325663</td>\n",
       "      <td>0.251580</td>\n",
       "      <td>0.898920</td>\n",
       "      <td>03:59</td>\n",
       "    </tr>\n",
       "  </tbody>\n",
       "</table>"
      ],
      "text/plain": [
       "<IPython.core.display.HTML object>"
      ]
     },
     "metadata": {},
     "output_type": "display_data"
    }
   ],
   "source": [
    "learn_c.fit_one_cycle(3, 5e-3, moms=(0.8, 0.7))"
   ]
  },
  {
   "cell_type": "code",
   "execution_count": 12,
   "metadata": {},
   "outputs": [],
   "source": [
    "learn_c.save('fine1')"
   ]
  },
  {
   "cell_type": "code",
   "execution_count": 21,
   "metadata": {},
   "outputs": [
    {
     "data": {
      "text/plain": [
       "549"
      ]
     },
     "execution_count": 21,
     "metadata": {},
     "output_type": "execute_result"
    }
   ],
   "source": [
    "learn_c = None\n",
    "gc.collect()"
   ]
  },
  {
   "cell_type": "code",
   "execution_count": 22,
   "metadata": {},
   "outputs": [],
   "source": [
    "learn_c = text_classifier_learner(data_clas, AWD_LSTM, drop_mult=0.5)"
   ]
  },
  {
   "cell_type": "code",
   "execution_count": 23,
   "metadata": {},
   "outputs": [],
   "source": [
    "learn_c.load('fine1');"
   ]
  },
  {
   "cell_type": "code",
   "execution_count": 24,
   "metadata": {},
   "outputs": [],
   "source": [
    "learn_c.unfreeze()"
   ]
  },
  {
   "cell_type": "code",
   "execution_count": 25,
   "metadata": {},
   "outputs": [],
   "source": [
    "data_clas = load_data(path, 'imdb_textlist_class', bs=BATCH//2)"
   ]
  },
  {
   "cell_type": "code",
   "execution_count": 26,
   "metadata": {},
   "outputs": [],
   "source": [
    "learn_c.data = data_clas"
   ]
  },
  {
   "cell_type": "code",
   "execution_count": 27,
   "metadata": {},
   "outputs": [
    {
     "data": {
      "text/html": [
       "Total time: 1:06:36 <p><table border=\"1\" class=\"dataframe\">\n",
       "  <thead>\n",
       "    <tr style=\"text-align: left;\">\n",
       "      <th>epoch</th>\n",
       "      <th>train_loss</th>\n",
       "      <th>valid_loss</th>\n",
       "      <th>accuracy</th>\n",
       "      <th>time</th>\n",
       "    </tr>\n",
       "  </thead>\n",
       "  <tbody>\n",
       "    <tr>\n",
       "      <td>0</td>\n",
       "      <td>0.292029</td>\n",
       "      <td>0.212996</td>\n",
       "      <td>0.919720</td>\n",
       "      <td>21:17</td>\n",
       "    </tr>\n",
       "    <tr>\n",
       "      <td>1</td>\n",
       "      <td>0.272948</td>\n",
       "      <td>0.196127</td>\n",
       "      <td>0.927080</td>\n",
       "      <td>22:58</td>\n",
       "    </tr>\n",
       "    <tr>\n",
       "      <td>2</td>\n",
       "      <td>0.199419</td>\n",
       "      <td>0.175645</td>\n",
       "      <td>0.933280</td>\n",
       "      <td>22:20</td>\n",
       "    </tr>\n",
       "  </tbody>\n",
       "</table>"
      ],
      "text/plain": [
       "<IPython.core.display.HTML object>"
      ]
     },
     "metadata": {},
     "output_type": "display_data"
    }
   ],
   "source": [
    "learn_c.fit_one_cycle(3, 5e-4, moms=(0.8, 0.7))"
   ]
  },
  {
   "cell_type": "code",
   "execution_count": 29,
   "metadata": {},
   "outputs": [],
   "source": [
    "learn_c.save('fine2')"
   ]
  },
  {
   "cell_type": "code",
   "execution_count": 30,
   "metadata": {},
   "outputs": [
    {
     "data": {
      "text/plain": [
       "(Category pos, tensor(1), tensor([0.0021, 0.9979]))"
      ]
     },
     "execution_count": 30,
     "metadata": {},
     "output_type": "execute_result"
    }
   ],
   "source": [
    "learn_c.predict(\"I really loved that movie, it was awesome!\")"
   ]
  },
  {
   "cell_type": "code",
   "execution_count": 31,
   "metadata": {},
   "outputs": [
    {
     "data": {
      "text/plain": [
       "(Category neg, tensor(0), tensor([0.9127, 0.0873]))"
      ]
     },
     "execution_count": 31,
     "metadata": {},
     "output_type": "execute_result"
    }
   ],
   "source": [
    "learn_c.predict(\"I really hated that movie!\")"
   ]
  },
  {
   "cell_type": "markdown",
   "metadata": {},
   "source": [
    "- 逐层 unfreeze 会更有效"
   ]
  },
  {
   "cell_type": "code",
   "execution_count": 33,
   "metadata": {},
   "outputs": [
    {
     "data": {
      "text/plain": [
       "374"
      ]
     },
     "execution_count": 33,
     "metadata": {},
     "output_type": "execute_result"
    }
   ],
   "source": [
    "learn_c = None\n",
    "gc.collect()"
   ]
  },
  {
   "cell_type": "code",
   "execution_count": null,
   "metadata": {},
   "outputs": [],
   "source": []
  }
 ],
 "metadata": {
  "kernelspec": {
   "display_name": "Python 3",
   "language": "python",
   "name": "python3"
  },
  "language_info": {
   "codemirror_mode": {
    "name": "ipython",
    "version": 3
   },
   "file_extension": ".py",
   "mimetype": "text/x-python",
   "name": "python",
   "nbconvert_exporter": "python",
   "pygments_lexer": "ipython3",
   "version": "3.6.8"
  }
 },
 "nbformat": 4,
 "nbformat_minor": 2
}
