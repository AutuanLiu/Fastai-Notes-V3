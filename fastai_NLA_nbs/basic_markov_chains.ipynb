{
 "cells": [
  {
   "cell_type": "code",
   "execution_count": 1,
   "metadata": {},
   "outputs": [],
   "source": [
    "%matplotlib inline\n",
    "%reload_ext autoreload\n",
    "%autoreload 2\n",
    "# 多行输出\n",
    "from IPython.core.interactiveshell import InteractiveShell\n",
    "InteractiveShell.ast_node_interactivity = \"all\" "
   ]
  },
  {
   "cell_type": "markdown",
   "metadata": {},
   "source": [
    "## markov chains"
   ]
  },
  {
   "cell_type": "markdown",
   "metadata": {},
   "source": [
    "马尔科夫链咋医学的应用\n",
    "\n",
    "假设初始状态为：\n",
    "- 85% asymptomatic\n",
    "- 10% symptomatic\n",
    "- 5% AIDS\n",
    "- 0% death\n",
    "\n",
    "求1年之后的状态\n",
    "\n",
    "![markov chains](../imgs/markov_health.jpg)"
   ]
  },
  {
   "cell_type": "markdown",
   "metadata": {},
   "source": [
    "由上述可以知道初始状态为 $\\pi(0)=[0.85, 0.1, 0.05, 0]$, 而且已经知道了状态转移矩阵，那么一年以后的状态为"
   ]
  },
  {
   "cell_type": "code",
   "execution_count": 2,
   "metadata": {},
   "outputs": [],
   "source": [
    "import torch"
   ]
  },
  {
   "cell_type": "code",
   "execution_count": 4,
   "metadata": {},
   "outputs": [],
   "source": [
    "pi0 = torch.tensor([0.85, 0.1, 0.05, 0]).cuda()\n",
    "tm = torch.tensor([[0.9, 0.07, 0.02, 0.01], [0, 0.93, 0.05, 0.02], [0, 0, 0.85, 0.15], [0, 0, 0, 1]]).cuda()"
   ]
  },
  {
   "cell_type": "code",
   "execution_count": 5,
   "metadata": {},
   "outputs": [
    {
     "data": {
      "text/plain": [
       "tensor([0.7650, 0.1525, 0.0645, 0.0180], device='cuda:0')"
      ]
     },
     "execution_count": 5,
     "metadata": {},
     "output_type": "execute_result"
    }
   ],
   "source": [
    "pi1 = pi0 @ tm\n",
    "pi1"
   ]
  },
  {
   "cell_type": "code",
   "execution_count": null,
   "metadata": {},
   "outputs": [],
   "source": []
  }
 ],
 "metadata": {
  "kernelspec": {
   "display_name": "Python 3",
   "language": "python",
   "name": "python3"
  },
  "language_info": {
   "codemirror_mode": {
    "name": "ipython",
    "version": 3
   },
   "file_extension": ".py",
   "mimetype": "text/x-python",
   "name": "python",
   "nbconvert_exporter": "python",
   "pygments_lexer": "ipython3",
   "version": "3.6.7"
  }
 },
 "nbformat": 4,
 "nbformat_minor": 2
}
