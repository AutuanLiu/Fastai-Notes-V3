{
 "cells": [
  {
   "cell_type": "markdown",
   "metadata": {
    "colab_type": "text",
    "id": "XqLEbsvyOjJ5"
   },
   "source": [
    "# 在Fastai框架下基于BERT模型的中文文本分类\n"
   ]
  },
  {
   "cell_type": "code",
   "execution_count": 2,
   "metadata": {},
   "outputs": [],
   "source": [
    "%matplotlib inline\n",
    "%reload_ext autoreload\n",
    "%autoreload 2\n",
    "# 多行输出\n",
    "from IPython.core.interactiveshell import InteractiveShell\n",
    "InteractiveShell.ast_node_interactivity = \"all\" "
   ]
  },
  {
   "cell_type": "markdown",
   "metadata": {
    "colab_type": "text",
    "id": "KdRDycJLO1qW"
   },
   "source": [
    "## Preparation"
   ]
  },
  {
   "cell_type": "code",
   "execution_count": 3,
   "metadata": {
    "colab": {},
    "colab_type": "code",
    "id": "Yea4tylQORLi"
   },
   "outputs": [],
   "source": [
    "#安装pytorch下包含BERT预训练模型的库\n",
    "# !pip install pytorch-pretrained-bert"
   ]
  },
  {
   "cell_type": "code",
   "execution_count": 1,
   "metadata": {
    "colab": {},
    "colab_type": "code",
    "id": "hmikQXQAPenZ"
   },
   "outputs": [],
   "source": [
    "#引入必要的依赖包\n",
    "import numpy as np\n",
    "import pandas as pd\n",
    "\n",
    "from pathlib import Path\n",
    "from typing import *\n",
    "\n",
    "import torch\n",
    "import torch.optim as optim\n",
    "\n",
    "from fastai import *\n",
    "from fastai.vision import *\n",
    "from fastai.text import *\n",
    "from fastai.callbacks import *"
   ]
  },
  {
   "cell_type": "code",
   "execution_count": 44,
   "metadata": {
    "colab": {},
    "colab_type": "code",
    "id": "uFPURKkfQATE"
   },
   "outputs": [],
   "source": [
    "#设置一个config类，便于参数配置与更改\n",
    "class Config1(dict):\n",
    "    def __init__(self, **kwargs):\n",
    "        super().__init__(**kwargs)\n",
    "        for k, v in kwargs.items():\n",
    "            setattr(self, k, v)\n",
    "    \n",
    "    def set(self, key, val):\n",
    "        self[key] = val\n",
    "        setattr(self, key, val)\n",
    "\n",
    "config = Config1(\n",
    "    testing=False,\n",
    "    bert_model_name=\"bert-base-chinese\", \n",
    "    #选用中文预训练模型：Chinese Simplified and Traditional, 12-layer, 768-hidden, 12-heads, 110M parameters\n",
    "    max_lr=3e-5,\n",
    "    epochs=5,\n",
    "    use_fp16=False, #fastai里可以方便地调整精度，加快训练速度：learner.to_fp16()\n",
    "    bs=8,\n",
    "    max_seq_len=128, #选取合适的seq_length，较大的值可能导致训练极慢报错等\n",
    ")"
   ]
  },
  {
   "cell_type": "code",
   "execution_count": 71,
   "metadata": {
    "colab": {},
    "colab_type": "code",
    "id": "3dS1_jNESiEv"
   },
   "outputs": [],
   "source": [
    "root = Path('~/.fastai/data/xiecheng/')"
   ]
  },
  {
   "cell_type": "code",
   "execution_count": 2,
   "metadata": {},
   "outputs": [
    {
     "data": {
      "text/plain": [
       "fastai.datasets.Config"
      ]
     },
     "execution_count": 2,
     "metadata": {},
     "output_type": "execute_result"
    }
   ],
   "source": [
    "Config"
   ]
  },
  {
   "cell_type": "markdown",
   "metadata": {
    "colab_type": "text",
    "id": "bYXEtepaSilw"
   },
   "source": [
    "## Customize Tokenizer and Vocab"
   ]
  },
  {
   "cell_type": "code",
   "execution_count": 6,
   "metadata": {
    "colab": {
     "base_uri": "https://localhost:8080/",
     "height": 34
    },
    "colab_type": "code",
    "id": "JiKPDWViStZS",
    "outputId": "3e7057eb-4b85-41a6-c79d-30c2fa61735a"
   },
   "outputs": [],
   "source": [
    "#pytorch_bert包提供了BertTokenizer类，从选取的模型中提取tok\n",
    "from pytorch_pretrained_bert import BertTokenizer\n",
    "bert_tok = BertTokenizer.from_pretrained(\n",
    "    config.bert_model_name,\n",
    ")"
   ]
  },
  {
   "cell_type": "markdown",
   "metadata": {
    "colab_type": "text",
    "id": "8WHx6utjUCVs"
   },
   "source": [
    "定制Tokenizer需要继承fastai的BaseTokenizer类，注意BERT会在sequence的首尾加上特殊token[CLS]和[SEP]，与fastai里的bos和eos有重合，所以在之后会有include_eos=Fasle的设置"
   ]
  },
  {
   "cell_type": "code",
   "execution_count": 7,
   "metadata": {
    "colab": {},
    "colab_type": "code",
    "id": "09bYVoWBT0wr"
   },
   "outputs": [],
   "source": [
    "class FastAiBertTokenizer(BaseTokenizer):\n",
    "    \"\"\"Wrapper around a BertTokenizer to be a BaseTokenizer in fastai\"\"\"\n",
    "    def __init__(self, tokenizer: BertTokenizer, max_seq_len: int=128, **kwargs):\n",
    "        self._pretrained_tokenizer = tokenizer\n",
    "        self.max_seq_len = max_seq_len\n",
    "\n",
    "    def __call__(self, *args, **kwargs):\n",
    "        return self\n",
    "\n",
    "    def tokenizer(self, t:str) -> List[str]:\n",
    "        \"\"\"Limits the maximum sequence length\"\"\"\n",
    "        return [\"[CLS]\"] + self._pretrained_tokenizer.tokenize(t)[:self.max_seq_len - 2] + [\"[SEP]\"]"
   ]
  },
  {
   "cell_type": "code",
   "execution_count": 8,
   "metadata": {
    "colab": {},
    "colab_type": "code",
    "id": "0HD1qCGCVMMe"
   },
   "outputs": [],
   "source": [
    "#最终的tokenizer\n",
    "fastai_tokenizer = Tokenizer(\n",
    "    tok_func=FastAiBertTokenizer(bert_tok, max_seq_len=config.max_seq_len), \n",
    "    pre_rules=[], \n",
    "    post_rules=[]\n",
    ")"
   ]
  },
  {
   "cell_type": "code",
   "execution_count": 9,
   "metadata": {
    "colab": {
     "base_uri": "https://localhost:8080/",
     "height": 369
    },
    "colab_type": "code",
    "id": "LxXk9yB1V0nB",
    "outputId": "cb24389b-849a-4396-e2af-2fc8b60b0475"
   },
   "outputs": [
    {
     "data": {
      "text/plain": [
       "[('傲', 1000),\n",
       " ('傳', 1001),\n",
       " ('債', 1002),\n",
       " ('傷', 1003),\n",
       " ('傻', 1004),\n",
       " ('傾', 1005),\n",
       " ('僅', 1006),\n",
       " ('働', 1007),\n",
       " ('像', 1008),\n",
       " ('僑', 1009)]"
      ]
     },
     "execution_count": 9,
     "metadata": {},
     "output_type": "execute_result"
    }
   ],
   "source": [
    "#check the vocab\n",
    "list(bert_tok.vocab.items())[1000:1010]"
   ]
  },
  {
   "cell_type": "code",
   "execution_count": 10,
   "metadata": {
    "colab": {},
    "colab_type": "code",
    "id": "NYIrjtkHW2F2"
   },
   "outputs": [],
   "source": [
    "#设置vocab\n",
    "fastai_bert_vocab = Vocab(list(bert_tok.vocab.keys()))"
   ]
  },
  {
   "cell_type": "code",
   "execution_count": null,
   "metadata": {
    "colab": {},
    "colab_type": "code",
    "id": "DUU3lFXrXAUw"
   },
   "outputs": [],
   "source": []
  },
  {
   "cell_type": "markdown",
   "metadata": {
    "colab_type": "text",
    "id": "KHfJODECXEVp"
   },
   "source": [
    "## Dataset"
   ]
  },
  {
   "cell_type": "markdown",
   "metadata": {
    "colab_type": "text",
    "id": "rwkcOhG3Uc_x"
   },
   "source": [
    "本次使用的数据集信息：\n",
    "\n",
    "*   名称及出处：[ChnSentiCorp_htl_all](https://github.com/ZeroLeon/ChineseNlpCorpus/blob/master/datasets/ChnSentiCorp_htl_all/intro.ipynb)\n",
    "*   数据概览： 7000 多条酒店评论数据，5000 多条正向评论，2000 多条负向评论\n",
    "*   推荐实验： 情感/观点/评论 倾向性分析\n",
    "*   数据来源： 携程网\n",
    "*   原数据集： ChnSentiCorp_htl，由谭松波老师整理的一份数据集\n",
    "\n"
   ]
  },
  {
   "cell_type": "code",
   "execution_count": 11,
   "metadata": {
    "colab": {},
    "colab_type": "code",
    "id": "5gU8EtWUXRjS"
   },
   "outputs": [],
   "source": [
    "# !wget https://github.com/SophonPlus/ChineseNlpCorpus/raw/master/datasets/ChnSentiCorp_htl_all/ChnSentiCorp_htl_all.csv"
   ]
  },
  {
   "cell_type": "code",
   "execution_count": 12,
   "metadata": {
    "colab": {},
    "colab_type": "code",
    "id": "xk7iS5FpXngc"
   },
   "outputs": [],
   "source": [
    "df_htl = pd.read_csv('data/ChnSentiCorp_htl_all.csv')"
   ]
  },
  {
   "cell_type": "code",
   "execution_count": 13,
   "metadata": {
    "colab": {
     "base_uri": "https://localhost:8080/",
     "height": 343
    },
    "colab_type": "code",
    "id": "E7EE0A_hYS4E",
    "outputId": "33fdd402-59e3-4588-eca5-ffc0c0ad85df"
   },
   "outputs": [
    {
     "data": {
      "text/html": [
       "<div>\n",
       "<style scoped>\n",
       "    .dataframe tbody tr th:only-of-type {\n",
       "        vertical-align: middle;\n",
       "    }\n",
       "\n",
       "    .dataframe tbody tr th {\n",
       "        vertical-align: top;\n",
       "    }\n",
       "\n",
       "    .dataframe thead th {\n",
       "        text-align: right;\n",
       "    }\n",
       "</style>\n",
       "<table border=\"1\" class=\"dataframe\">\n",
       "  <thead>\n",
       "    <tr style=\"text-align: right;\">\n",
       "      <th></th>\n",
       "      <th>label</th>\n",
       "      <th>review</th>\n",
       "    </tr>\n",
       "  </thead>\n",
       "  <tbody>\n",
       "    <tr>\n",
       "      <th>6124</th>\n",
       "      <td>0</td>\n",
       "      <td>酒店服务还可以，就是设施有点旧了，抽水马桶坏了（应该是自动上水装置出现问题），每次冲过水后，...</td>\n",
       "    </tr>\n",
       "    <tr>\n",
       "      <th>6791</th>\n",
       "      <td>0</td>\n",
       "      <td>我把该酒店的一些设施用相机照了下来,作为附件不知怎么发给你。（我现在不记得是住317还是31...</td>\n",
       "    </tr>\n",
       "    <tr>\n",
       "      <th>647</th>\n",
       "      <td>1</td>\n",
       "      <td>这次去是在香港挂黑色暴雨警报那天，本想取消的，但是之前给携程打电话想取消，携程和酒店沟通后说...</td>\n",
       "    </tr>\n",
       "    <tr>\n",
       "      <th>4871</th>\n",
       "      <td>1</td>\n",
       "      <td>从庐山下来住了一夜,第二天打出租车到长途车站乘车去黄山。这里就在火车站旁边，如果坐火车倒是近...</td>\n",
       "    </tr>\n",
       "    <tr>\n",
       "      <th>5249</th>\n",
       "      <td>1</td>\n",
       "      <td>5月底入住的。房间装修感觉还不错，就是房间小了点，大床居然还是两张床拼起来的，有点奇怪。地理...</td>\n",
       "    </tr>\n",
       "    <tr>\n",
       "      <th>7426</th>\n",
       "      <td>0</td>\n",
       "      <td>除了地段可以，其他是一塌糊涂，惨不忍睹。和招待所差不多。</td>\n",
       "    </tr>\n",
       "    <tr>\n",
       "      <th>7553</th>\n",
       "      <td>0</td>\n",
       "      <td>1.客房服务态度较好2.早餐还算不错.3.就是房间的灯光,太不满意~~</td>\n",
       "    </tr>\n",
       "    <tr>\n",
       "      <th>5954</th>\n",
       "      <td>0</td>\n",
       "      <td>服务差，怎有一酒店水呢?我之前看到是一月的点评说没热方不到现去还是没有，投诉说要换另一家他们...</td>\n",
       "    </tr>\n",
       "    <tr>\n",
       "      <th>7330</th>\n",
       "      <td>0</td>\n",
       "      <td>竟然有如此差的酒店,楼下的居然说满意,还有哪有什么接机,送机免费,我真怀疑你是媒子.四星级酒...</td>\n",
       "    </tr>\n",
       "    <tr>\n",
       "      <th>6313</th>\n",
       "      <td>0</td>\n",
       "      <td>房间冷的受不了，让服务员那条被子足足半小时，电话打了好几个，那床比木板还硬洗澡的水没有热气，...</td>\n",
       "    </tr>\n",
       "  </tbody>\n",
       "</table>\n",
       "</div>"
      ],
      "text/plain": [
       "      label                                             review\n",
       "6124      0  酒店服务还可以，就是设施有点旧了，抽水马桶坏了（应该是自动上水装置出现问题），每次冲过水后，...\n",
       "6791      0  我把该酒店的一些设施用相机照了下来,作为附件不知怎么发给你。（我现在不记得是住317还是31...\n",
       "647       1  这次去是在香港挂黑色暴雨警报那天，本想取消的，但是之前给携程打电话想取消，携程和酒店沟通后说...\n",
       "4871      1  从庐山下来住了一夜,第二天打出租车到长途车站乘车去黄山。这里就在火车站旁边，如果坐火车倒是近...\n",
       "5249      1  5月底入住的。房间装修感觉还不错，就是房间小了点，大床居然还是两张床拼起来的，有点奇怪。地理...\n",
       "7426      0                       除了地段可以，其他是一塌糊涂，惨不忍睹。和招待所差不多。\n",
       "7553      0                1.客房服务态度较好2.早餐还算不错.3.就是房间的灯光,太不满意~~\n",
       "5954      0  服务差，怎有一酒店水呢?我之前看到是一月的点评说没热方不到现去还是没有，投诉说要换另一家他们...\n",
       "7330      0  竟然有如此差的酒店,楼下的居然说满意,还有哪有什么接机,送机免费,我真怀疑你是媒子.四星级酒...\n",
       "6313      0  房间冷的受不了，让服务员那条被子足足半小时，电话打了好几个，那床比木板还硬洗澡的水没有热气，..."
      ]
     },
     "execution_count": 13,
     "metadata": {},
     "output_type": "execute_result"
    }
   ],
   "source": [
    "#标签涵义：1代表正向评论，0代表负向评论\n",
    "label_denotation = {1:'positive',0:'negative'}\n",
    "df_htl.sample(10)"
   ]
  },
  {
   "cell_type": "markdown",
   "metadata": {},
   "source": [
    "- 正负向语料"
   ]
  },
  {
   "cell_type": "code",
   "execution_count": 14,
   "metadata": {},
   "outputs": [
    {
     "name": "stdout",
     "output_type": "stream",
     "text": [
      "评论数目（总体）：7766\n",
      "评论数目（正向）：5322\n",
      "评论数目（负向）：2444\n"
     ]
    }
   ],
   "source": [
    "print('评论数目（总体）：%d' % df_htl.shape[0])\n",
    "print('评论数目（正向）：%d' % df_htl[df_htl.label==1].shape[0])\n",
    "print('评论数目（负向）：%d' % df_htl[df_htl.label==0].shape[0])"
   ]
  },
  {
   "cell_type": "code",
   "execution_count": 15,
   "metadata": {},
   "outputs": [],
   "source": [
    "df_htl.dropna(inplace=True)"
   ]
  },
  {
   "cell_type": "code",
   "execution_count": null,
   "metadata": {},
   "outputs": [],
   "source": []
  },
  {
   "cell_type": "markdown",
   "metadata": {},
   "source": [
    "### 构造平衡语料\n",
    "- 用随机抽样的方法，很容易构造出类似的平衡语料"
   ]
  },
  {
   "cell_type": "code",
   "execution_count": 16,
   "metadata": {},
   "outputs": [],
   "source": [
    "pd_positive = df_htl[df_htl.label==1]\n",
    "pd_negative = df_htl[df_htl.label==0]\n",
    "\n",
    "def get_balance_corpus(corpus_size, corpus_pos, corpus_neg):\n",
    "    sample_size = corpus_size // 2\n",
    "    # 是否有放回抽样\n",
    "    pd_corpus_balance = pd.concat([corpus_pos.sample(sample_size, random_state=123, replace=corpus_pos.shape[0]<sample_size), \\\n",
    "                                   corpus_neg.sample(sample_size, random_state=123, replace=corpus_neg.shape[0]<sample_size)])\n",
    "    \n",
    "    print('评论数目（总体）：%d' % pd_corpus_balance.shape[0])\n",
    "    print('评论数目（正向）：%d' % pd_corpus_balance[pd_corpus_balance.label==1].shape[0])\n",
    "    print('评论数目（负向）：%d' % pd_corpus_balance[pd_corpus_balance.label==0].shape[0])    \n",
    "    \n",
    "    return pd_corpus_balance"
   ]
  },
  {
   "cell_type": "code",
   "execution_count": 17,
   "metadata": {},
   "outputs": [
    {
     "name": "stdout",
     "output_type": "stream",
     "text": [
      "评论数目（总体）：10000\n",
      "评论数目（正向）：5000\n",
      "评论数目（负向）：5000\n"
     ]
    },
    {
     "data": {
      "text/html": [
       "<div>\n",
       "<style scoped>\n",
       "    .dataframe tbody tr th:only-of-type {\n",
       "        vertical-align: middle;\n",
       "    }\n",
       "\n",
       "    .dataframe tbody tr th {\n",
       "        vertical-align: top;\n",
       "    }\n",
       "\n",
       "    .dataframe thead th {\n",
       "        text-align: right;\n",
       "    }\n",
       "</style>\n",
       "<table border=\"1\" class=\"dataframe\">\n",
       "  <thead>\n",
       "    <tr style=\"text-align: right;\">\n",
       "      <th></th>\n",
       "      <th>label</th>\n",
       "      <th>review</th>\n",
       "    </tr>\n",
       "  </thead>\n",
       "  <tbody>\n",
       "    <tr>\n",
       "      <th>2454</th>\n",
       "      <td>1</td>\n",
       "      <td>1、酒店还算可以，设施有点旧，四星级勉强2、地处陈家坪，没有大型商场超市，背后有个美食街。送...</td>\n",
       "    </tr>\n",
       "    <tr>\n",
       "      <th>3048</th>\n",
       "      <td>1</td>\n",
       "      <td>酒店的外部环境很好,绿树成荫,楼与楼之间有点远,不过这才是别墅的特色,去餐厅有一点点远(我们...</td>\n",
       "    </tr>\n",
       "    <tr>\n",
       "      <th>7597</th>\n",
       "      <td>0</td>\n",
       "      <td>位置不错,在市中心,而且离周边几家4,5星酒店都只有10分钟路程.</td>\n",
       "    </tr>\n",
       "    <tr>\n",
       "      <th>7593</th>\n",
       "      <td>0</td>\n",
       "      <td>客观的评价，酒店的位置不错，但是周围的环境不好，门的位置较偏，感觉酒店不旺，但是生意较好，都...</td>\n",
       "    </tr>\n",
       "    <tr>\n",
       "      <th>5628</th>\n",
       "      <td>0</td>\n",
       "      <td>本来预定的就是别墅标间,前台小姐很热情的给我们推荐了\"超超豪华的普通标间\"给我们入住,说是比...</td>\n",
       "    </tr>\n",
       "    <tr>\n",
       "      <th>6829</th>\n",
       "      <td>0</td>\n",
       "      <td>招待所改装,确实是不行。以后再也不会住这里了。建议携程取消该定点，否则可能连带损害携程的声誉。</td>\n",
       "    </tr>\n",
       "    <tr>\n",
       "      <th>137</th>\n",
       "      <td>1</td>\n",
       "      <td>环境不错，8月18号入住，8月16号安装好了电梯，预约人员对此信息不了解，这几月出行最好的酒...</td>\n",
       "    </tr>\n",
       "    <tr>\n",
       "      <th>4738</th>\n",
       "      <td>1</td>\n",
       "      <td>我于10月28日入住酒店.白天游览黄龙后,晚上7点登记入住,结果房间门卡有问题,以至我楼上楼...</td>\n",
       "    </tr>\n",
       "    <tr>\n",
       "      <th>3906</th>\n",
       "      <td>1</td>\n",
       "      <td>地理位置非常优越,机场大巴\\地铁和公车几乎就在门口,但靠街的房间晚上可能会有点吵.</td>\n",
       "    </tr>\n",
       "    <tr>\n",
       "      <th>4931</th>\n",
       "      <td>1</td>\n",
       "      <td>端午节期间去厦门自助游，选择入住了这里，酒店挂牌4星，我个人感觉是一家质量相当好的酒店，房价...</td>\n",
       "    </tr>\n",
       "  </tbody>\n",
       "</table>\n",
       "</div>"
      ],
      "text/plain": [
       "      label                                             review\n",
       "2454      1  1、酒店还算可以，设施有点旧，四星级勉强2、地处陈家坪，没有大型商场超市，背后有个美食街。送...\n",
       "3048      1  酒店的外部环境很好,绿树成荫,楼与楼之间有点远,不过这才是别墅的特色,去餐厅有一点点远(我们...\n",
       "7597      0                  位置不错,在市中心,而且离周边几家4,5星酒店都只有10分钟路程.\n",
       "7593      0  客观的评价，酒店的位置不错，但是周围的环境不好，门的位置较偏，感觉酒店不旺，但是生意较好，都...\n",
       "5628      0  本来预定的就是别墅标间,前台小姐很热情的给我们推荐了\"超超豪华的普通标间\"给我们入住,说是比...\n",
       "6829      0    招待所改装,确实是不行。以后再也不会住这里了。建议携程取消该定点，否则可能连带损害携程的声誉。\n",
       "137       1  环境不错，8月18号入住，8月16号安装好了电梯，预约人员对此信息不了解，这几月出行最好的酒...\n",
       "4738      1  我于10月28日入住酒店.白天游览黄龙后,晚上7点登记入住,结果房间门卡有问题,以至我楼上楼...\n",
       "3906      1          地理位置非常优越,机场大巴\\地铁和公车几乎就在门口,但靠街的房间晚上可能会有点吵.\n",
       "4931      1  端午节期间去厦门自助游，选择入住了这里，酒店挂牌4星，我个人感觉是一家质量相当好的酒店，房价..."
      ]
     },
     "execution_count": 17,
     "metadata": {},
     "output_type": "execute_result"
    }
   ],
   "source": [
    "ChnSentiCorp_htl_ba_10000 = get_balance_corpus(10000, pd_positive, pd_negative)\n",
    "ChnSentiCorp_htl_ba_10000.sample(10)"
   ]
  },
  {
   "cell_type": "code",
   "execution_count": 63,
   "metadata": {
    "colab": {},
    "colab_type": "code",
    "id": "LKBd5hlzYUkr"
   },
   "outputs": [],
   "source": [
    "#分割训练集train与验证集val\n",
    "from sklearn.model_selection import train_test_split\n",
    "# 按分类分层抽样\n",
    "train, val = train_test_split(ChnSentiCorp_htl_ba_10000, test_size=0.1, stratify=ChnSentiCorp_htl_ba_10000.label)"
   ]
  },
  {
   "cell_type": "code",
   "execution_count": 64,
   "metadata": {
    "colab": {
     "base_uri": "https://localhost:8080/",
     "height": 34
    },
    "colab_type": "code",
    "id": "N69Q-7GjZzxq",
    "outputId": "45f15c1c-9bd8-4f1f-8af1-a729e78f3f8b"
   },
   "outputs": [
    {
     "name": "stdout",
     "output_type": "stream",
     "text": [
      "(9000, 2) (1000, 2)\n"
     ]
    }
   ],
   "source": [
    "#check their size\n",
    "print(train.shape,val.shape)"
   ]
  },
  {
   "cell_type": "code",
   "execution_count": 65,
   "metadata": {},
   "outputs": [
    {
     "data": {
      "text/plain": [
       "(4500, 4500)"
      ]
     },
     "execution_count": 65,
     "metadata": {},
     "output_type": "execute_result"
    },
    {
     "data": {
      "text/plain": [
       "(500, 500)"
      ]
     },
     "execution_count": 65,
     "metadata": {},
     "output_type": "execute_result"
    }
   ],
   "source": [
    "train[train.label==1].shape[0], train[train.label==0].shape[0]\n",
    "val[val.label==1].shape[0], val[val.label==0].shape[0]"
   ]
  },
  {
   "cell_type": "code",
   "execution_count": 66,
   "metadata": {},
   "outputs": [
    {
     "data": {
      "text/html": [
       "<div>\n",
       "<style scoped>\n",
       "    .dataframe tbody tr th:only-of-type {\n",
       "        vertical-align: middle;\n",
       "    }\n",
       "\n",
       "    .dataframe tbody tr th {\n",
       "        vertical-align: top;\n",
       "    }\n",
       "\n",
       "    .dataframe thead th {\n",
       "        text-align: right;\n",
       "    }\n",
       "</style>\n",
       "<table border=\"1\" class=\"dataframe\">\n",
       "  <thead>\n",
       "    <tr style=\"text-align: right;\">\n",
       "      <th></th>\n",
       "      <th>label</th>\n",
       "      <th>review</th>\n",
       "    </tr>\n",
       "  </thead>\n",
       "  <tbody>\n",
       "    <tr>\n",
       "      <th>5785</th>\n",
       "      <td>0</td>\n",
       "      <td>这个酒店在苏州的园区，位置相当远，房间也一般，好象原先这个楼不是设计为酒店的，因为在园区内这...</td>\n",
       "    </tr>\n",
       "    <tr>\n",
       "      <th>2797</th>\n",
       "      <td>1</td>\n",
       "      <td>房间很大，可以和家里的媲美。进门就有种家的感觉，有衣物间，还有厨房。房间不大，但是客厅很大，...</td>\n",
       "    </tr>\n",
       "    <tr>\n",
       "      <th>3187</th>\n",
       "      <td>1</td>\n",
       "      <td>周边环境优美,交通便利.早餐种类较少,前台服务态度一般,如多一点热情微笑则更佳.</td>\n",
       "    </tr>\n",
       "    <tr>\n",
       "      <th>1189</th>\n",
       "      <td>1</td>\n",
       "      <td>环境还可以，房间不大但也不是太小，够住了。写字桌前的落地灯离得太近了，每次移椅子都会碰到，另...</td>\n",
       "    </tr>\n",
       "    <tr>\n",
       "      <th>7366</th>\n",
       "      <td>0</td>\n",
       "      <td>办入住的时候，说没有收到携程的预定，但还是给了携程的价格。问了早餐的事情才给了餐卷，早餐很差...</td>\n",
       "    </tr>\n",
       "  </tbody>\n",
       "</table>\n",
       "</div>"
      ],
      "text/plain": [
       "      label                                             review\n",
       "5785      0  这个酒店在苏州的园区，位置相当远，房间也一般，好象原先这个楼不是设计为酒店的，因为在园区内这...\n",
       "2797      1  房间很大，可以和家里的媲美。进门就有种家的感觉，有衣物间，还有厨房。房间不大，但是客厅很大，...\n",
       "3187      1           周边环境优美,交通便利.早餐种类较少,前台服务态度一般,如多一点热情微笑则更佳.\n",
       "1189      1  环境还可以，房间不大但也不是太小，够住了。写字桌前的落地灯离得太近了，每次移椅子都会碰到，另...\n",
       "7366      0  办入住的时候，说没有收到携程的预定，但还是给了携程的价格。问了早餐的事情才给了餐卷，早餐很差..."
      ]
     },
     "execution_count": 66,
     "metadata": {},
     "output_type": "execute_result"
    }
   ],
   "source": [
    "train.head()"
   ]
  },
  {
   "cell_type": "code",
   "execution_count": 67,
   "metadata": {},
   "outputs": [
    {
     "data": {
      "text/plain": [
       "Index(['label', 'review'], dtype='object')"
      ]
     },
     "execution_count": 67,
     "metadata": {},
     "output_type": "execute_result"
    }
   ],
   "source": [
    "train.columns"
   ]
  },
  {
   "cell_type": "code",
   "execution_count": 68,
   "metadata": {},
   "outputs": [],
   "source": [
    "train.reset_index(inplace=True, drop=True)\n",
    "val.reset_index(inplace=True, drop=True)"
   ]
  },
  {
   "cell_type": "code",
   "execution_count": 82,
   "metadata": {},
   "outputs": [],
   "source": [
    "train.to_csv(root/'train.csv', index=False)\n",
    "val.to_csv(root/'val.csv', index=False)"
   ]
  },
  {
   "cell_type": "code",
   "execution_count": 24,
   "metadata": {},
   "outputs": [
    {
     "data": {
      "text/html": [
       "<div>\n",
       "<style scoped>\n",
       "    .dataframe tbody tr th:only-of-type {\n",
       "        vertical-align: middle;\n",
       "    }\n",
       "\n",
       "    .dataframe tbody tr th {\n",
       "        vertical-align: top;\n",
       "    }\n",
       "\n",
       "    .dataframe thead th {\n",
       "        text-align: right;\n",
       "    }\n",
       "</style>\n",
       "<table border=\"1\" class=\"dataframe\">\n",
       "  <thead>\n",
       "    <tr style=\"text-align: right;\">\n",
       "      <th></th>\n",
       "      <th>label</th>\n",
       "      <th>review</th>\n",
       "    </tr>\n",
       "  </thead>\n",
       "  <tbody>\n",
       "    <tr>\n",
       "      <th>0</th>\n",
       "      <td>1</td>\n",
       "      <td>优点:1.房间装修真的不错,属于常见的经济型酒店.(最大的优点)2.早餐也很丰富(每天有换品...</td>\n",
       "    </tr>\n",
       "    <tr>\n",
       "      <th>1</th>\n",
       "      <td>0</td>\n",
       "      <td>可以说酒店很差。强烈建议CTRIP在郴州多准备几家酒店供选择。房间有霉味，床很大，但床垫很不...</td>\n",
       "    </tr>\n",
       "    <tr>\n",
       "      <th>2</th>\n",
       "      <td>0</td>\n",
       "      <td>看到门口的样子，就知道不是真正的凯莱了，门厅零落要的商务房，对马路，跟没有玻璃一样，晚上吵闹...</td>\n",
       "    </tr>\n",
       "    <tr>\n",
       "      <th>3</th>\n",
       "      <td>1</td>\n",
       "      <td>服务态度比较好，愿意听取客户所提出意见，290元的房间设施还可以，房间空间稍微小了些，早餐比...</td>\n",
       "    </tr>\n",
       "    <tr>\n",
       "      <th>4</th>\n",
       "      <td>1</td>\n",
       "      <td>地处市中心,价格有竞争力,服务可以.规模不太大,前段时间正在重新装修.总体影响不错,值得一住.</td>\n",
       "    </tr>\n",
       "  </tbody>\n",
       "</table>\n",
       "</div>"
      ],
      "text/plain": [
       "   label                                             review\n",
       "0      1  优点:1.房间装修真的不错,属于常见的经济型酒店.(最大的优点)2.早餐也很丰富(每天有换品...\n",
       "1      0  可以说酒店很差。强烈建议CTRIP在郴州多准备几家酒店供选择。房间有霉味，床很大，但床垫很不...\n",
       "2      0  看到门口的样子，就知道不是真正的凯莱了，门厅零落要的商务房，对马路，跟没有玻璃一样，晚上吵闹...\n",
       "3      1  服务态度比较好，愿意听取客户所提出意见，290元的房间设施还可以，房间空间稍微小了些，早餐比...\n",
       "4      1    地处市中心,价格有竞争力,服务可以.规模不太大,前段时间正在重新装修.总体影响不错,值得一住."
      ]
     },
     "execution_count": 24,
     "metadata": {},
     "output_type": "execute_result"
    }
   ],
   "source": [
    "val.head()"
   ]
  },
  {
   "cell_type": "code",
   "execution_count": 25,
   "metadata": {
    "colab": {},
    "colab_type": "code",
    "id": "GWq0P4LnaL9M"
   },
   "outputs": [],
   "source": [
    "#建立TextDataBunch\n",
    "databunch = TextClasDataBunch.from_df(\".\", train, val,\n",
    "                  tokenizer=fastai_tokenizer,\n",
    "                  vocab=fastai_bert_vocab,\n",
    "                  include_bos=False,\n",
    "                  include_eos=False,\n",
    "                  text_cols=\"review\",\n",
    "                  label_cols='label',\n",
    "                  bs=config.bs,\n",
    "                  collate_fn=partial(pad_collate, pad_first=False, pad_idx=0)\n",
    "             )"
   ]
  },
  {
   "cell_type": "code",
   "execution_count": 26,
   "metadata": {},
   "outputs": [
    {
     "data": {
      "text/html": [
       "<h4 id=\"pad_collate\" class=\"doc_header\"><code>pad_collate</code><a href=\"https://github.com/fastai/fastai/blob/master/fastai/text/data.py#L128\" class=\"source_link\" style=\"float:right\">[source]</a><a class=\"source_link\" data-toggle=\"collapse\" data-target=\"#pad_collate-pytest\" style=\"float:right; padding-right:10px\">[test]</a></h4><blockquote><p><code>pad_collate</code>(<strong><code>samples</code></strong>:<code>BatchSamples</code>, <strong><code>pad_idx</code></strong>:<code>int</code>=<strong><em><code>1</code></em></strong>, <strong><code>pad_first</code></strong>:<code>bool</code>=<strong><em><code>True</code></em></strong>, <strong><code>backwards</code></strong>:<code>bool</code>=<strong><em><code>False</code></em></strong>) → <code>Tuple</code>[<code>LongTensor</code>, <code>LongTensor</code>]</p>\n",
       "</blockquote>\n",
       "<div class=\"collapse\" id=\"pad_collate-pytest\"><div class=\"card card-body pytest_card\"><a type=\"button\" data-toggle=\"collapse\" data-target=\"#pad_collate-pytest\" class=\"close\" aria-label=\"Close\"><span aria-hidden=\"true\">&times;</span></a><p>No tests found for <code>pad_collate</code>. To contribute a test please refer to <a href=\"/dev/test.html\">this guide</a> and <a href=\"https://forums.fast.ai/t/improving-expanding-functional-tests/32929\">this discussion</a>.</p></div></div><p>Function that collect samples and adds padding. Flips token order if needed</p>\n",
       "<p><a href=\"https://docs.fast.ai/text.data.html#pad_collate\" target=\"_blank\" rel=\"noreferrer noopener\">Show in docs</a></p>\n"
      ]
     },
     "metadata": {},
     "output_type": "display_data"
    }
   ],
   "source": [
    "doc(pad_collate)"
   ]
  },
  {
   "cell_type": "code",
   "execution_count": 27,
   "metadata": {
    "colab": {
     "base_uri": "https://localhost:8080/",
     "height": 279
    },
    "colab_type": "code",
    "id": "2EtfF2hrfFQw",
    "outputId": "c27831b3-a7c9-452b-dcfa-e469cd361f73"
   },
   "outputs": [
    {
     "data": {
      "text/html": [
       "<table border=\"1\" class=\"dataframe\">\n",
       "  <thead>\n",
       "    <tr style=\"text-align: right;\">\n",
       "      <th>text</th>\n",
       "      <th>target</th>\n",
       "    </tr>\n",
       "  </thead>\n",
       "  <tbody>\n",
       "    <tr>\n",
       "      <td>[CLS] 非 常 非 常 一 般 的 酒 店 ， 无 法 跟 如 家 或 者 莫 泰 比 ， 居 然 还 称 之 为 是 环 保 经 济 型 酒 店 ， 汗 啊 。 第 一 次 见 到 房 间 里 有 燃 气 热 水 器 ， 还 是 [UNK] 前 锋 [UNK] 的 ， 是 那 种 开 了 之 后</td>\n",
       "      <td>0</td>\n",
       "    </tr>\n",
       "    <tr>\n",
       "      <td>[CLS] 如 果 一 个 人 住 ， 挑 18 号 的 大 床 房 ， 两 面 有 窗 户 ， 光 线 好 。 房 间 的 环 境 不 过 不 失 ， 就 是 空 调 声 稍 微 大 些 ， 但 上 网 速 度 奇 快 ！ down 一 部 400 多 兆 的 电 影 用 了 约 4 分 钟 ！</td>\n",
       "      <td>1</td>\n",
       "    </tr>\n",
       "    <tr>\n",
       "      <td>[CLS] 呼 和 浩 特 的 holiday ##in ##n 绝 对 超 过 我 的 预 期 , 原 先 以 为 内 陆 城 市 条 件 会 差 些 呢 . 酒 店 感 觉 挺 新 的 , 住 的 是 豪 华 房 , 它 有 专 门 的 楼 层 , 好 象 是 六 楼 和 七 楼 . 八 楼 和 九 楼</td>\n",
       "      <td>1</td>\n",
       "    </tr>\n",
       "    <tr>\n",
       "      <td>[CLS] 优 点 ： 位 置 极 佳 ， 服 务 很 好 ， 尤 其 专 设 了 一 名 电 梯 操 作 员 ， 很 好 ！ 早 餐 品 种 、 口 味 都 不 错 。 部 分 房 间 有 电 脑 ， 非 常 方 便 ！ 缺 点 ： 1 、 因 临 近 马 路 ， 房 间 有 些 嘈</td>\n",
       "      <td>1</td>\n",
       "    </tr>\n",
       "    <tr>\n",
       "      <td>[CLS] 刚 住 过 这 里 ， 感 觉 不 好 ， 房 间 味 道 太 大 ， 一 股 子 霉 味 ， 房 间 各 种 设 施 都 很 陈 旧 ， 我 所 预 订 的 大 床 间 ， 却 没 有 宽 带 ， 只 能 一 个 住 在 双 人 标 间 。 因 为 去 的 时 候 较 晚</td>\n",
       "      <td>0</td>\n",
       "    </tr>\n",
       "  </tbody>\n",
       "</table>"
      ],
      "text/plain": [
       "<IPython.core.display.HTML object>"
      ]
     },
     "metadata": {},
     "output_type": "display_data"
    }
   ],
   "source": [
    "databunch.show_batch()"
   ]
  },
  {
   "cell_type": "code",
   "execution_count": 28,
   "metadata": {
    "colab": {},
    "colab_type": "code",
    "id": "EWFDIeoJbgfb"
   },
   "outputs": [],
   "source": [
    "x, y = databunch.train_ds[0]"
   ]
  },
  {
   "cell_type": "code",
   "execution_count": 29,
   "metadata": {},
   "outputs": [
    {
     "data": {
      "text/plain": [
       "'[CLS] 房 间 设 施 陈 旧 ， 屋 子 里 全 是 霉 味 。 网 络 收 费 为 每 分 钟 1 元 ， 每 天 100 元 ， 简 直 是 抢 。 顶 层 餐 厅 非 常 棒 ， 黄 浦 江 美 景 尽 收 眼 底 ， 漂 亮 。 。 [SEP]'"
      ]
     },
     "execution_count": 29,
     "metadata": {},
     "output_type": "execute_result"
    },
    {
     "data": {
      "text/plain": [
       "Category 1"
      ]
     },
     "execution_count": 29,
     "metadata": {},
     "output_type": "execute_result"
    },
    {
     "data": {
      "text/plain": [
       "1"
      ]
     },
     "execution_count": 29,
     "metadata": {},
     "output_type": "execute_result"
    }
   ],
   "source": [
    "str(x)\n",
    "y\n",
    "y.data"
   ]
  },
  {
   "cell_type": "code",
   "execution_count": 30,
   "metadata": {},
   "outputs": [
    {
     "data": {
      "text/plain": [
       "129"
      ]
     },
     "execution_count": 30,
     "metadata": {},
     "output_type": "execute_result"
    }
   ],
   "source": [
    "len(str(x))"
   ]
  },
  {
   "cell_type": "code",
   "execution_count": 31,
   "metadata": {},
   "outputs": [
    {
     "data": {
      "text/plain": [
       "Text [CLS] 酒 店 所 处 环 境 不 错 , 尤 其 是 下 午 五 点 半 所 有 喷 泉 一 起 启 动 , 真 是 很 壮 观 ! 晚 上 出 来 散 步 , 感 受 的 是 静 谧 和 清 新 , 一 排 排 整 齐 的 小 灯 , 仿 佛 带 你 走 进 梦 幻 的 世 界 . 如 果 情 侣 度 假 , 选 择 这 个 酒 店 是 很 好 的 . 遗 憾 的 是 没 看 到 桃 花 , 说 是 花 期 过 了 . 早 餐 太 简 单 了 , 和 酒 店 的 标 准 不 符 . 退 房 的 时 候 [SEP]"
      ]
     },
     "execution_count": 31,
     "metadata": {},
     "output_type": "execute_result"
    },
    {
     "data": {
      "text/plain": [
       "Category 1"
      ]
     },
     "execution_count": 31,
     "metadata": {},
     "output_type": "execute_result"
    }
   ],
   "source": [
    "x1, y1 = databunch.train_ds[2]\n",
    "x1\n",
    "y1"
   ]
  },
  {
   "cell_type": "code",
   "execution_count": 32,
   "metadata": {},
   "outputs": [
    {
     "data": {
      "text/plain": [
       "263"
      ]
     },
     "execution_count": 32,
     "metadata": {},
     "output_type": "execute_result"
    }
   ],
   "source": [
    "len(str(x1))"
   ]
  },
  {
   "cell_type": "code",
   "execution_count": 80,
   "metadata": {},
   "outputs": [],
   "source": [
    "databunch.save('zh_databunch')"
   ]
  },
  {
   "cell_type": "code",
   "execution_count": 81,
   "metadata": {},
   "outputs": [],
   "source": [
    "!mv zh_databunch {root.as_posix()}"
   ]
  },
  {
   "cell_type": "code",
   "execution_count": null,
   "metadata": {},
   "outputs": [],
   "source": []
  },
  {
   "cell_type": "markdown",
   "metadata": {
    "colab_type": "text",
    "id": "CZ4lw8TadPMS"
   },
   "source": [
    "## Model and Loss Function"
   ]
  },
  {
   "cell_type": "code",
   "execution_count": 32,
   "metadata": {
    "colab": {
     "base_uri": "https://localhost:8080/",
     "height": 34
    },
    "colab_type": "code",
    "id": "6CLYlVWYdQlH",
    "outputId": "b58a66da-0dd6-4d17-e51d-ad16bd0cf1c1"
   },
   "outputs": [],
   "source": [
    "from pytorch_pretrained_bert.modeling import BertConfig, BertForSequenceClassification\n",
    "bert_model = BertForSequenceClassification.from_pretrained(config.bert_model_name, num_labels=2)"
   ]
  },
  {
   "cell_type": "code",
   "execution_count": 33,
   "metadata": {
    "colab": {},
    "colab_type": "code",
    "id": "xyaJ7ooIdhvq"
   },
   "outputs": [],
   "source": [
    "#二分类问题选用CrossEntrypyLoss作为损失函数\n",
    "loss_func = nn.CrossEntropyLoss()"
   ]
  },
  {
   "cell_type": "code",
   "execution_count": 34,
   "metadata": {
    "colab": {},
    "colab_type": "code",
    "id": "oN47kdZ-d69i"
   },
   "outputs": [],
   "source": [
    "#建立Learner(数据,预训练模型,损失函数)\n",
    "learner = Learner(databunch, bert_model, loss_func=loss_func, metrics=accuracy)"
   ]
  },
  {
   "cell_type": "code",
   "execution_count": 35,
   "metadata": {
    "colab": {
     "base_uri": "https://localhost:8080/",
     "height": 34
    },
    "colab_type": "code",
    "id": "VhCBr5YyeYQz",
    "outputId": "cbf4de65-dc42-479e-f258-3d19af52a24e"
   },
   "outputs": [
    {
     "data": {
      "text/html": [],
      "text/plain": [
       "<IPython.core.display.HTML object>"
      ]
     },
     "metadata": {},
     "output_type": "display_data"
    },
    {
     "name": "stdout",
     "output_type": "stream",
     "text": [
      "LR Finder is complete, type {learner_name}.recorder.plot() to see the graph.\n"
     ]
    }
   ],
   "source": [
    "#尝试寻找合适的最大学习率，这里使用了BERT原论文推荐的学习率3e-5作为默认值\n",
    "learner.lr_find()"
   ]
  },
  {
   "cell_type": "code",
   "execution_count": 36,
   "metadata": {
    "colab": {
     "base_uri": "https://localhost:8080/",
     "height": 283
    },
    "colab_type": "code",
    "id": "qj9hzFd0efEx",
    "outputId": "dee9db99-5783-400a-c20f-a33f098af923"
   },
   "outputs": [
    {
     "name": "stdout",
     "output_type": "stream",
     "text": [
      "Min numerical gradient: 5.75E-04\n"
     ]
    },
    {
     "data": {
      "image/png": "[encoded data removed]",
      "text/plain": [
       "<Figure size 432x288 with 1 Axes>"
      ]
     },
     "metadata": {
      "needs_background": "light"
     },
     "output_type": "display_data"
    }
   ],
   "source": [
    "learner.recorder.plot(suggestion=True, skip_end=20)"
   ]
  },
  {
   "cell_type": "code",
   "execution_count": 37,
   "metadata": {
    "colab": {
     "base_uri": "https://localhost:8080/",
     "height": 77
    },
    "colab_type": "code",
    "id": "2C9Jwn7KemDB",
    "outputId": "a1fef34d-5ae6-4083-d81c-467015066ad0"
   },
   "outputs": [
    {
     "data": {
      "text/html": [
       "Total time: 15:45 <p><table border=\"1\" class=\"dataframe\">\n",
       "  <thead>\n",
       "    <tr style=\"text-align: left;\">\n",
       "      <th>epoch</th>\n",
       "      <th>train_loss</th>\n",
       "      <th>valid_loss</th>\n",
       "      <th>accuracy</th>\n",
       "      <th>time</th>\n",
       "    </tr>\n",
       "  </thead>\n",
       "  <tbody>\n",
       "    <tr>\n",
       "      <td>0</td>\n",
       "      <td>0.286651</td>\n",
       "      <td>0.210489</td>\n",
       "      <td>0.908000</td>\n",
       "      <td>03:08</td>\n",
       "    </tr>\n",
       "    <tr>\n",
       "      <td>1</td>\n",
       "      <td>0.187557</td>\n",
       "      <td>0.171379</td>\n",
       "      <td>0.930000</td>\n",
       "      <td>03:09</td>\n",
       "    </tr>\n",
       "    <tr>\n",
       "      <td>2</td>\n",
       "      <td>0.127004</td>\n",
       "      <td>0.140221</td>\n",
       "      <td>0.950000</td>\n",
       "      <td>03:09</td>\n",
       "    </tr>\n",
       "    <tr>\n",
       "      <td>3</td>\n",
       "      <td>0.038747</td>\n",
       "      <td>0.172435</td>\n",
       "      <td>0.952000</td>\n",
       "      <td>03:09</td>\n",
       "    </tr>\n",
       "    <tr>\n",
       "      <td>4</td>\n",
       "      <td>0.008313</td>\n",
       "      <td>0.159150</td>\n",
       "      <td>0.959000</td>\n",
       "      <td>03:09</td>\n",
       "    </tr>\n",
       "  </tbody>\n",
       "</table>"
      ],
      "text/plain": [
       "<IPython.core.display.HTML object>"
      ]
     },
     "metadata": {},
     "output_type": "display_data"
    }
   ],
   "source": [
    "#开始训练\n",
    "learner.fit_one_cycle(config.epochs, slice(3e-5))"
   ]
  },
  {
   "cell_type": "code",
   "execution_count": 38,
   "metadata": {},
   "outputs": [],
   "source": [
    "learner.save('htl_stage1')"
   ]
  },
  {
   "cell_type": "code",
   "execution_count": 39,
   "metadata": {},
   "outputs": [
    {
     "data": {
      "text/plain": [
       "BertForSequenceClassification(\n",
       "  (bert): BertModel(\n",
       "    (embeddings): BertEmbeddings(\n",
       "      (word_embeddings): Embedding(21128, 768, padding_idx=0)\n",
       "      (position_embeddings): Embedding(512, 768)\n",
       "      (token_type_embeddings): Embedding(2, 768)\n",
       "      (LayerNorm): BertLayerNorm()\n",
       "      (dropout): Dropout(p=0.1)\n",
       "    )\n",
       "    (encoder): BertEncoder(\n",
       "      (layer): ModuleList(\n",
       "        (0): BertLayer(\n",
       "          (attention): BertAttention(\n",
       "            (self): BertSelfAttention(\n",
       "              (query): Linear(in_features=768, out_features=768, bias=True)\n",
       "              (key): Linear(in_features=768, out_features=768, bias=True)\n",
       "              (value): Linear(in_features=768, out_features=768, bias=True)\n",
       "              (dropout): Dropout(p=0.1)\n",
       "            )\n",
       "            (output): BertSelfOutput(\n",
       "              (dense): Linear(in_features=768, out_features=768, bias=True)\n",
       "              (LayerNorm): BertLayerNorm()\n",
       "              (dropout): Dropout(p=0.1)\n",
       "            )\n",
       "          )\n",
       "          (intermediate): BertIntermediate(\n",
       "            (dense): Linear(in_features=768, out_features=3072, bias=True)\n",
       "          )\n",
       "          (output): BertOutput(\n",
       "            (dense): Linear(in_features=3072, out_features=768, bias=True)\n",
       "            (LayerNorm): BertLayerNorm()\n",
       "            (dropout): Dropout(p=0.1)\n",
       "          )\n",
       "        )\n",
       "        (1): BertLayer(\n",
       "          (attention): BertAttention(\n",
       "            (self): BertSelfAttention(\n",
       "              (query): Linear(in_features=768, out_features=768, bias=True)\n",
       "              (key): Linear(in_features=768, out_features=768, bias=True)\n",
       "              (value): Linear(in_features=768, out_features=768, bias=True)\n",
       "              (dropout): Dropout(p=0.1)\n",
       "            )\n",
       "            (output): BertSelfOutput(\n",
       "              (dense): Linear(in_features=768, out_features=768, bias=True)\n",
       "              (LayerNorm): BertLayerNorm()\n",
       "              (dropout): Dropout(p=0.1)\n",
       "            )\n",
       "          )\n",
       "          (intermediate): BertIntermediate(\n",
       "            (dense): Linear(in_features=768, out_features=3072, bias=True)\n",
       "          )\n",
       "          (output): BertOutput(\n",
       "            (dense): Linear(in_features=3072, out_features=768, bias=True)\n",
       "            (LayerNorm): BertLayerNorm()\n",
       "            (dropout): Dropout(p=0.1)\n",
       "          )\n",
       "        )\n",
       "        (2): BertLayer(\n",
       "          (attention): BertAttention(\n",
       "            (self): BertSelfAttention(\n",
       "              (query): Linear(in_features=768, out_features=768, bias=True)\n",
       "              (key): Linear(in_features=768, out_features=768, bias=True)\n",
       "              (value): Linear(in_features=768, out_features=768, bias=True)\n",
       "              (dropout): Dropout(p=0.1)\n",
       "            )\n",
       "            (output): BertSelfOutput(\n",
       "              (dense): Linear(in_features=768, out_features=768, bias=True)\n",
       "              (LayerNorm): BertLayerNorm()\n",
       "              (dropout): Dropout(p=0.1)\n",
       "            )\n",
       "          )\n",
       "          (intermediate): BertIntermediate(\n",
       "            (dense): Linear(in_features=768, out_features=3072, bias=True)\n",
       "          )\n",
       "          (output): BertOutput(\n",
       "            (dense): Linear(in_features=3072, out_features=768, bias=True)\n",
       "            (LayerNorm): BertLayerNorm()\n",
       "            (dropout): Dropout(p=0.1)\n",
       "          )\n",
       "        )\n",
       "        (3): BertLayer(\n",
       "          (attention): BertAttention(\n",
       "            (self): BertSelfAttention(\n",
       "              (query): Linear(in_features=768, out_features=768, bias=True)\n",
       "              (key): Linear(in_features=768, out_features=768, bias=True)\n",
       "              (value): Linear(in_features=768, out_features=768, bias=True)\n",
       "              (dropout): Dropout(p=0.1)\n",
       "            )\n",
       "            (output): BertSelfOutput(\n",
       "              (dense): Linear(in_features=768, out_features=768, bias=True)\n",
       "              (LayerNorm): BertLayerNorm()\n",
       "              (dropout): Dropout(p=0.1)\n",
       "            )\n",
       "          )\n",
       "          (intermediate): BertIntermediate(\n",
       "            (dense): Linear(in_features=768, out_features=3072, bias=True)\n",
       "          )\n",
       "          (output): BertOutput(\n",
       "            (dense): Linear(in_features=3072, out_features=768, bias=True)\n",
       "            (LayerNorm): BertLayerNorm()\n",
       "            (dropout): Dropout(p=0.1)\n",
       "          )\n",
       "        )\n",
       "        (4): BertLayer(\n",
       "          (attention): BertAttention(\n",
       "            (self): BertSelfAttention(\n",
       "              (query): Linear(in_features=768, out_features=768, bias=True)\n",
       "              (key): Linear(in_features=768, out_features=768, bias=True)\n",
       "              (value): Linear(in_features=768, out_features=768, bias=True)\n",
       "              (dropout): Dropout(p=0.1)\n",
       "            )\n",
       "            (output): BertSelfOutput(\n",
       "              (dense): Linear(in_features=768, out_features=768, bias=True)\n",
       "              (LayerNorm): BertLayerNorm()\n",
       "              (dropout): Dropout(p=0.1)\n",
       "            )\n",
       "          )\n",
       "          (intermediate): BertIntermediate(\n",
       "            (dense): Linear(in_features=768, out_features=3072, bias=True)\n",
       "          )\n",
       "          (output): BertOutput(\n",
       "            (dense): Linear(in_features=3072, out_features=768, bias=True)\n",
       "            (LayerNorm): BertLayerNorm()\n",
       "            (dropout): Dropout(p=0.1)\n",
       "          )\n",
       "        )\n",
       "        (5): BertLayer(\n",
       "          (attention): BertAttention(\n",
       "            (self): BertSelfAttention(\n",
       "              (query): Linear(in_features=768, out_features=768, bias=True)\n",
       "              (key): Linear(in_features=768, out_features=768, bias=True)\n",
       "              (value): Linear(in_features=768, out_features=768, bias=True)\n",
       "              (dropout): Dropout(p=0.1)\n",
       "            )\n",
       "            (output): BertSelfOutput(\n",
       "              (dense): Linear(in_features=768, out_features=768, bias=True)\n",
       "              (LayerNorm): BertLayerNorm()\n",
       "              (dropout): Dropout(p=0.1)\n",
       "            )\n",
       "          )\n",
       "          (intermediate): BertIntermediate(\n",
       "            (dense): Linear(in_features=768, out_features=3072, bias=True)\n",
       "          )\n",
       "          (output): BertOutput(\n",
       "            (dense): Linear(in_features=3072, out_features=768, bias=True)\n",
       "            (LayerNorm): BertLayerNorm()\n",
       "            (dropout): Dropout(p=0.1)\n",
       "          )\n",
       "        )\n",
       "        (6): BertLayer(\n",
       "          (attention): BertAttention(\n",
       "            (self): BertSelfAttention(\n",
       "              (query): Linear(in_features=768, out_features=768, bias=True)\n",
       "              (key): Linear(in_features=768, out_features=768, bias=True)\n",
       "              (value): Linear(in_features=768, out_features=768, bias=True)\n",
       "              (dropout): Dropout(p=0.1)\n",
       "            )\n",
       "            (output): BertSelfOutput(\n",
       "              (dense): Linear(in_features=768, out_features=768, bias=True)\n",
       "              (LayerNorm): BertLayerNorm()\n",
       "              (dropout): Dropout(p=0.1)\n",
       "            )\n",
       "          )\n",
       "          (intermediate): BertIntermediate(\n",
       "            (dense): Linear(in_features=768, out_features=3072, bias=True)\n",
       "          )\n",
       "          (output): BertOutput(\n",
       "            (dense): Linear(in_features=3072, out_features=768, bias=True)\n",
       "            (LayerNorm): BertLayerNorm()\n",
       "            (dropout): Dropout(p=0.1)\n",
       "          )\n",
       "        )\n",
       "        (7): BertLayer(\n",
       "          (attention): BertAttention(\n",
       "            (self): BertSelfAttention(\n",
       "              (query): Linear(in_features=768, out_features=768, bias=True)\n",
       "              (key): Linear(in_features=768, out_features=768, bias=True)\n",
       "              (value): Linear(in_features=768, out_features=768, bias=True)\n",
       "              (dropout): Dropout(p=0.1)\n",
       "            )\n",
       "            (output): BertSelfOutput(\n",
       "              (dense): Linear(in_features=768, out_features=768, bias=True)\n",
       "              (LayerNorm): BertLayerNorm()\n",
       "              (dropout): Dropout(p=0.1)\n",
       "            )\n",
       "          )\n",
       "          (intermediate): BertIntermediate(\n",
       "            (dense): Linear(in_features=768, out_features=3072, bias=True)\n",
       "          )\n",
       "          (output): BertOutput(\n",
       "            (dense): Linear(in_features=3072, out_features=768, bias=True)\n",
       "            (LayerNorm): BertLayerNorm()\n",
       "            (dropout): Dropout(p=0.1)\n",
       "          )\n",
       "        )\n",
       "        (8): BertLayer(\n",
       "          (attention): BertAttention(\n",
       "            (self): BertSelfAttention(\n",
       "              (query): Linear(in_features=768, out_features=768, bias=True)\n",
       "              (key): Linear(in_features=768, out_features=768, bias=True)\n",
       "              (value): Linear(in_features=768, out_features=768, bias=True)\n",
       "              (dropout): Dropout(p=0.1)\n",
       "            )\n",
       "            (output): BertSelfOutput(\n",
       "              (dense): Linear(in_features=768, out_features=768, bias=True)\n",
       "              (LayerNorm): BertLayerNorm()\n",
       "              (dropout): Dropout(p=0.1)\n",
       "            )\n",
       "          )\n",
       "          (intermediate): BertIntermediate(\n",
       "            (dense): Linear(in_features=768, out_features=3072, bias=True)\n",
       "          )\n",
       "          (output): BertOutput(\n",
       "            (dense): Linear(in_features=3072, out_features=768, bias=True)\n",
       "            (LayerNorm): BertLayerNorm()\n",
       "            (dropout): Dropout(p=0.1)\n",
       "          )\n",
       "        )\n",
       "        (9): BertLayer(\n",
       "          (attention): BertAttention(\n",
       "            (self): BertSelfAttention(\n",
       "              (query): Linear(in_features=768, out_features=768, bias=True)\n",
       "              (key): Linear(in_features=768, out_features=768, bias=True)\n",
       "              (value): Linear(in_features=768, out_features=768, bias=True)\n",
       "              (dropout): Dropout(p=0.1)\n",
       "            )\n",
       "            (output): BertSelfOutput(\n",
       "              (dense): Linear(in_features=768, out_features=768, bias=True)\n",
       "              (LayerNorm): BertLayerNorm()\n",
       "              (dropout): Dropout(p=0.1)\n",
       "            )\n",
       "          )\n",
       "          (intermediate): BertIntermediate(\n",
       "            (dense): Linear(in_features=768, out_features=3072, bias=True)\n",
       "          )\n",
       "          (output): BertOutput(\n",
       "            (dense): Linear(in_features=3072, out_features=768, bias=True)\n",
       "            (LayerNorm): BertLayerNorm()\n",
       "            (dropout): Dropout(p=0.1)\n",
       "          )\n",
       "        )\n",
       "        (10): BertLayer(\n",
       "          (attention): BertAttention(\n",
       "            (self): BertSelfAttention(\n",
       "              (query): Linear(in_features=768, out_features=768, bias=True)\n",
       "              (key): Linear(in_features=768, out_features=768, bias=True)\n",
       "              (value): Linear(in_features=768, out_features=768, bias=True)\n",
       "              (dropout): Dropout(p=0.1)\n",
       "            )\n",
       "            (output): BertSelfOutput(\n",
       "              (dense): Linear(in_features=768, out_features=768, bias=True)\n",
       "              (LayerNorm): BertLayerNorm()\n",
       "              (dropout): Dropout(p=0.1)\n",
       "            )\n",
       "          )\n",
       "          (intermediate): BertIntermediate(\n",
       "            (dense): Linear(in_features=768, out_features=3072, bias=True)\n",
       "          )\n",
       "          (output): BertOutput(\n",
       "            (dense): Linear(in_features=3072, out_features=768, bias=True)\n",
       "            (LayerNorm): BertLayerNorm()\n",
       "            (dropout): Dropout(p=0.1)\n",
       "          )\n",
       "        )\n",
       "        (11): BertLayer(\n",
       "          (attention): BertAttention(\n",
       "            (self): BertSelfAttention(\n",
       "              (query): Linear(in_features=768, out_features=768, bias=True)\n",
       "              (key): Linear(in_features=768, out_features=768, bias=True)\n",
       "              (value): Linear(in_features=768, out_features=768, bias=True)\n",
       "              (dropout): Dropout(p=0.1)\n",
       "            )\n",
       "            (output): BertSelfOutput(\n",
       "              (dense): Linear(in_features=768, out_features=768, bias=True)\n",
       "              (LayerNorm): BertLayerNorm()\n",
       "              (dropout): Dropout(p=0.1)\n",
       "            )\n",
       "          )\n",
       "          (intermediate): BertIntermediate(\n",
       "            (dense): Linear(in_features=768, out_features=3072, bias=True)\n",
       "          )\n",
       "          (output): BertOutput(\n",
       "            (dense): Linear(in_features=3072, out_features=768, bias=True)\n",
       "            (LayerNorm): BertLayerNorm()\n",
       "            (dropout): Dropout(p=0.1)\n",
       "          )\n",
       "        )\n",
       "      )\n",
       "    )\n",
       "    (pooler): BertPooler(\n",
       "      (dense): Linear(in_features=768, out_features=768, bias=True)\n",
       "      (activation): Tanh()\n",
       "    )\n",
       "  )\n",
       "  (dropout): Dropout(p=0.1)\n",
       "  (classifier): Linear(in_features=768, out_features=2, bias=True)\n",
       ")"
      ]
     },
     "execution_count": 39,
     "metadata": {},
     "output_type": "execute_result"
    }
   ],
   "source": [
    "learner.model"
   ]
  },
  {
   "cell_type": "code",
   "execution_count": 40,
   "metadata": {},
   "outputs": [
    {
     "data": {
      "text/plain": [
       "======================================================================\n",
       "Layer (type)         Output Shape         Param #    Trainable \n",
       "======================================================================\n",
       "Embedding            [128, 768]           16,226,304 True      \n",
       "______________________________________________________________________\n",
       "Embedding            [128, 768]           393,216    True      \n",
       "______________________________________________________________________\n",
       "Embedding            [128, 768]           1,536      True      \n",
       "______________________________________________________________________\n",
       "BertLayerNorm        [128, 768]           1,536      True      \n",
       "______________________________________________________________________\n",
       "Dropout              [128, 768]           0          False     \n",
       "______________________________________________________________________\n",
       "Linear               [128, 768]           590,592    True      \n",
       "______________________________________________________________________\n",
       "Linear               [128, 768]           590,592    True      \n",
       "______________________________________________________________________\n",
       "Linear               [128, 768]           590,592    True      \n",
       "______________________________________________________________________\n",
       "Dropout              [12, 128, 128]       0          False     \n",
       "______________________________________________________________________\n",
       "Linear               [128, 768]           590,592    True      \n",
       "______________________________________________________________________\n",
       "BertLayerNorm        [128, 768]           1,536      True      \n",
       "______________________________________________________________________\n",
       "Dropout              [128, 768]           0          False     \n",
       "______________________________________________________________________\n",
       "Linear               [128, 3072]          2,362,368  True      \n",
       "______________________________________________________________________\n",
       "Linear               [128, 768]           2,360,064  True      \n",
       "______________________________________________________________________\n",
       "BertLayerNorm        [128, 768]           1,536      True      \n",
       "______________________________________________________________________\n",
       "Dropout              [128, 768]           0          False     \n",
       "______________________________________________________________________\n",
       "Linear               [128, 768]           590,592    True      \n",
       "______________________________________________________________________\n",
       "Linear               [128, 768]           590,592    True      \n",
       "______________________________________________________________________\n",
       "Linear               [128, 768]           590,592    True      \n",
       "______________________________________________________________________\n",
       "Dropout              [12, 128, 128]       0          False     \n",
       "______________________________________________________________________\n",
       "Linear               [128, 768]           590,592    True      \n",
       "______________________________________________________________________\n",
       "BertLayerNorm        [128, 768]           1,536      True      \n",
       "______________________________________________________________________\n",
       "Dropout              [128, 768]           0          False     \n",
       "______________________________________________________________________\n",
       "Linear               [128, 3072]          2,362,368  True      \n",
       "______________________________________________________________________\n",
       "Linear               [128, 768]           2,360,064  True      \n",
       "______________________________________________________________________\n",
       "BertLayerNorm        [128, 768]           1,536      True      \n",
       "______________________________________________________________________\n",
       "Dropout              [128, 768]           0          False     \n",
       "______________________________________________________________________\n",
       "Linear               [128, 768]           590,592    True      \n",
       "______________________________________________________________________\n",
       "Linear               [128, 768]           590,592    True      \n",
       "______________________________________________________________________\n",
       "Linear               [128, 768]           590,592    True      \n",
       "______________________________________________________________________\n",
       "Dropout              [12, 128, 128]       0          False     \n",
       "______________________________________________________________________\n",
       "Linear               [128, 768]           590,592    True      \n",
       "______________________________________________________________________\n",
       "BertLayerNorm        [128, 768]           1,536      True      \n",
       "______________________________________________________________________\n",
       "Dropout              [128, 768]           0          False     \n",
       "______________________________________________________________________\n",
       "Linear               [128, 3072]          2,362,368  True      \n",
       "______________________________________________________________________\n",
       "Linear               [128, 768]           2,360,064  True      \n",
       "______________________________________________________________________\n",
       "BertLayerNorm        [128, 768]           1,536      True      \n",
       "______________________________________________________________________\n",
       "Dropout              [128, 768]           0          False     \n",
       "______________________________________________________________________\n",
       "Linear               [128, 768]           590,592    True      \n",
       "______________________________________________________________________\n",
       "Linear               [128, 768]           590,592    True      \n",
       "______________________________________________________________________\n",
       "Linear               [128, 768]           590,592    True      \n",
       "______________________________________________________________________\n",
       "Dropout              [12, 128, 128]       0          False     \n",
       "______________________________________________________________________\n",
       "Linear               [128, 768]           590,592    True      \n",
       "______________________________________________________________________\n",
       "BertLayerNorm        [128, 768]           1,536      True      \n",
       "______________________________________________________________________\n",
       "Dropout              [128, 768]           0          False     \n",
       "______________________________________________________________________\n",
       "Linear               [128, 3072]          2,362,368  True      \n",
       "______________________________________________________________________\n",
       "Linear               [128, 768]           2,360,064  True      \n",
       "______________________________________________________________________\n",
       "BertLayerNorm        [128, 768]           1,536      True      \n",
       "______________________________________________________________________\n",
       "Dropout              [128, 768]           0          False     \n",
       "______________________________________________________________________\n",
       "Linear               [128, 768]           590,592    True      \n",
       "______________________________________________________________________\n",
       "Linear               [128, 768]           590,592    True      \n",
       "______________________________________________________________________\n",
       "Linear               [128, 768]           590,592    True      \n",
       "______________________________________________________________________\n",
       "Dropout              [12, 128, 128]       0          False     \n",
       "______________________________________________________________________\n",
       "Linear               [128, 768]           590,592    True      \n",
       "______________________________________________________________________\n",
       "BertLayerNorm        [128, 768]           1,536      True      \n",
       "______________________________________________________________________\n",
       "Dropout              [128, 768]           0          False     \n",
       "______________________________________________________________________\n",
       "Linear               [128, 3072]          2,362,368  True      \n",
       "______________________________________________________________________\n",
       "Linear               [128, 768]           2,360,064  True      \n",
       "______________________________________________________________________\n",
       "BertLayerNorm        [128, 768]           1,536      True      \n",
       "______________________________________________________________________\n",
       "Dropout              [128, 768]           0          False     \n",
       "______________________________________________________________________\n",
       "Linear               [128, 768]           590,592    True      \n",
       "______________________________________________________________________\n",
       "Linear               [128, 768]           590,592    True      \n",
       "______________________________________________________________________\n",
       "Linear               [128, 768]           590,592    True      \n",
       "______________________________________________________________________\n",
       "Dropout              [12, 128, 128]       0          False     \n",
       "______________________________________________________________________\n",
       "Linear               [128, 768]           590,592    True      \n",
       "______________________________________________________________________\n",
       "BertLayerNorm        [128, 768]           1,536      True      \n",
       "______________________________________________________________________\n",
       "Dropout              [128, 768]           0          False     \n",
       "______________________________________________________________________\n",
       "Linear               [128, 3072]          2,362,368  True      \n",
       "______________________________________________________________________\n",
       "Linear               [128, 768]           2,360,064  True      \n",
       "______________________________________________________________________\n",
       "BertLayerNorm        [128, 768]           1,536      True      \n",
       "______________________________________________________________________\n",
       "Dropout              [128, 768]           0          False     \n",
       "______________________________________________________________________\n",
       "Linear               [128, 768]           590,592    True      \n",
       "______________________________________________________________________\n",
       "Linear               [128, 768]           590,592    True      \n",
       "______________________________________________________________________\n",
       "Linear               [128, 768]           590,592    True      \n",
       "______________________________________________________________________\n",
       "Dropout              [12, 128, 128]       0          False     \n",
       "______________________________________________________________________\n",
       "Linear               [128, 768]           590,592    True      \n",
       "______________________________________________________________________\n",
       "BertLayerNorm        [128, 768]           1,536      True      \n",
       "______________________________________________________________________\n",
       "Dropout              [128, 768]           0          False     \n",
       "______________________________________________________________________\n",
       "Linear               [128, 3072]          2,362,368  True      \n",
       "______________________________________________________________________\n",
       "Linear               [128, 768]           2,360,064  True      \n",
       "______________________________________________________________________\n",
       "BertLayerNorm        [128, 768]           1,536      True      \n",
       "______________________________________________________________________\n",
       "Dropout              [128, 768]           0          False     \n",
       "______________________________________________________________________\n",
       "Linear               [128, 768]           590,592    True      \n",
       "______________________________________________________________________\n",
       "Linear               [128, 768]           590,592    True      \n",
       "______________________________________________________________________\n",
       "Linear               [128, 768]           590,592    True      \n",
       "______________________________________________________________________\n",
       "Dropout              [12, 128, 128]       0          False     \n",
       "______________________________________________________________________\n",
       "Linear               [128, 768]           590,592    True      \n",
       "______________________________________________________________________\n",
       "BertLayerNorm        [128, 768]           1,536      True      \n",
       "______________________________________________________________________\n",
       "Dropout              [128, 768]           0          False     \n",
       "______________________________________________________________________\n",
       "Linear               [128, 3072]          2,362,368  True      \n",
       "______________________________________________________________________\n",
       "Linear               [128, 768]           2,360,064  True      \n",
       "______________________________________________________________________\n",
       "BertLayerNorm        [128, 768]           1,536      True      \n",
       "______________________________________________________________________\n",
       "Dropout              [128, 768]           0          False     \n",
       "______________________________________________________________________\n",
       "Linear               [128, 768]           590,592    True      \n",
       "______________________________________________________________________\n",
       "Linear               [128, 768]           590,592    True      \n",
       "______________________________________________________________________\n",
       "Linear               [128, 768]           590,592    True      \n",
       "______________________________________________________________________\n",
       "Dropout              [12, 128, 128]       0          False     \n",
       "______________________________________________________________________\n",
       "Linear               [128, 768]           590,592    True      \n",
       "______________________________________________________________________\n",
       "BertLayerNorm        [128, 768]           1,536      True      \n",
       "______________________________________________________________________\n",
       "Dropout              [128, 768]           0          False     \n",
       "______________________________________________________________________\n",
       "Linear               [128, 3072]          2,362,368  True      \n",
       "______________________________________________________________________\n",
       "Linear               [128, 768]           2,360,064  True      \n",
       "______________________________________________________________________\n",
       "BertLayerNorm        [128, 768]           1,536      True      \n",
       "______________________________________________________________________\n",
       "Dropout              [128, 768]           0          False     \n",
       "______________________________________________________________________\n",
       "Linear               [128, 768]           590,592    True      \n",
       "______________________________________________________________________\n",
       "Linear               [128, 768]           590,592    True      \n",
       "______________________________________________________________________\n",
       "Linear               [128, 768]           590,592    True      \n",
       "______________________________________________________________________\n",
       "Dropout              [12, 128, 128]       0          False     \n",
       "______________________________________________________________________\n",
       "Linear               [128, 768]           590,592    True      \n",
       "______________________________________________________________________\n",
       "BertLayerNorm        [128, 768]           1,536      True      \n",
       "______________________________________________________________________\n",
       "Dropout              [128, 768]           0          False     \n",
       "______________________________________________________________________\n",
       "Linear               [128, 3072]          2,362,368  True      \n",
       "______________________________________________________________________\n",
       "Linear               [128, 768]           2,360,064  True      \n",
       "______________________________________________________________________\n",
       "BertLayerNorm        [128, 768]           1,536      True      \n",
       "______________________________________________________________________\n",
       "Dropout              [128, 768]           0          False     \n",
       "______________________________________________________________________\n",
       "Linear               [128, 768]           590,592    True      \n",
       "______________________________________________________________________\n",
       "Linear               [128, 768]           590,592    True      \n",
       "______________________________________________________________________\n",
       "Linear               [128, 768]           590,592    True      \n",
       "______________________________________________________________________\n",
       "Dropout              [12, 128, 128]       0          False     \n",
       "______________________________________________________________________\n",
       "Linear               [128, 768]           590,592    True      \n",
       "______________________________________________________________________\n",
       "BertLayerNorm        [128, 768]           1,536      True      \n",
       "______________________________________________________________________\n",
       "Dropout              [128, 768]           0          False     \n",
       "______________________________________________________________________\n",
       "Linear               [128, 3072]          2,362,368  True      \n",
       "______________________________________________________________________\n",
       "Linear               [128, 768]           2,360,064  True      \n",
       "______________________________________________________________________\n",
       "BertLayerNorm        [128, 768]           1,536      True      \n",
       "______________________________________________________________________\n",
       "Dropout              [128, 768]           0          False     \n",
       "______________________________________________________________________\n",
       "Linear               [128, 768]           590,592    True      \n",
       "______________________________________________________________________\n",
       "Linear               [128, 768]           590,592    True      \n",
       "______________________________________________________________________\n",
       "Linear               [128, 768]           590,592    True      \n",
       "______________________________________________________________________\n",
       "Dropout              [12, 128, 128]       0          False     \n",
       "______________________________________________________________________\n",
       "Linear               [128, 768]           590,592    True      \n",
       "______________________________________________________________________\n",
       "BertLayerNorm        [128, 768]           1,536      True      \n",
       "______________________________________________________________________\n",
       "Dropout              [128, 768]           0          False     \n",
       "______________________________________________________________________\n",
       "Linear               [128, 3072]          2,362,368  True      \n",
       "______________________________________________________________________\n",
       "Linear               [128, 768]           2,360,064  True      \n",
       "______________________________________________________________________\n",
       "BertLayerNorm        [128, 768]           1,536      True      \n",
       "______________________________________________________________________\n",
       "Dropout              [128, 768]           0          False     \n",
       "______________________________________________________________________\n",
       "Linear               [768]                590,592    True      \n",
       "______________________________________________________________________\n",
       "Tanh                 [768]                0          False     \n",
       "______________________________________________________________________\n",
       "Dropout              [768]                0          False     \n",
       "______________________________________________________________________\n",
       "Linear               [2]                  1,538      True      \n",
       "______________________________________________________________________\n",
       "\n",
       "Total params: 102,269,186\n",
       "Total trainable params: 102,269,186\n",
       "Total non-trainable params: 0"
      ]
     },
     "execution_count": 40,
     "metadata": {},
     "output_type": "execute_result"
    }
   ],
   "source": [
    "learner.summary()"
   ]
  },
  {
   "cell_type": "code",
   "execution_count": 41,
   "metadata": {},
   "outputs": [],
   "source": [
    "learner.unfreeze()"
   ]
  },
  {
   "cell_type": "code",
   "execution_count": 42,
   "metadata": {},
   "outputs": [
    {
     "data": {
      "text/html": [
       "Total time: 09:27 <p><table border=\"1\" class=\"dataframe\">\n",
       "  <thead>\n",
       "    <tr style=\"text-align: left;\">\n",
       "      <th>epoch</th>\n",
       "      <th>train_loss</th>\n",
       "      <th>valid_loss</th>\n",
       "      <th>accuracy</th>\n",
       "      <th>time</th>\n",
       "    </tr>\n",
       "  </thead>\n",
       "  <tbody>\n",
       "    <tr>\n",
       "      <td>0</td>\n",
       "      <td>0.034001</td>\n",
       "      <td>0.352218</td>\n",
       "      <td>0.929000</td>\n",
       "      <td>03:09</td>\n",
       "    </tr>\n",
       "    <tr>\n",
       "      <td>1</td>\n",
       "      <td>0.014278</td>\n",
       "      <td>0.243409</td>\n",
       "      <td>0.950000</td>\n",
       "      <td>03:09</td>\n",
       "    </tr>\n",
       "    <tr>\n",
       "      <td>2</td>\n",
       "      <td>0.001612</td>\n",
       "      <td>0.281989</td>\n",
       "      <td>0.947000</td>\n",
       "      <td>03:09</td>\n",
       "    </tr>\n",
       "  </tbody>\n",
       "</table>"
      ],
      "text/plain": [
       "<IPython.core.display.HTML object>"
      ]
     },
     "metadata": {},
     "output_type": "display_data"
    }
   ],
   "source": [
    "learner.fit_one_cycle(3, slice(3e-5/2.6))"
   ]
  },
  {
   "cell_type": "code",
   "execution_count": 43,
   "metadata": {},
   "outputs": [],
   "source": [
    "learner.save('htl_stage2')"
   ]
  },
  {
   "cell_type": "code",
   "execution_count": 44,
   "metadata": {},
   "outputs": [
    {
     "data": {
      "text/plain": [
       "(Category 0, tensor(0), tensor([9.9972e-01, 2.8313e-04]))"
      ]
     },
     "execution_count": 44,
     "metadata": {},
     "output_type": "execute_result"
    }
   ],
   "source": [
    "#用样例测试下\n",
    "learner.predict(\"设施老化，紧靠马路噪音太大，晚上楼上卫生间的水流声和空调噪音非常大，无法入眠\")"
   ]
  },
  {
   "cell_type": "code",
   "execution_count": 45,
   "metadata": {},
   "outputs": [
    {
     "data": {
      "text/plain": [
       "(Category 1, tensor(1), tensor([3.6966e-05, 9.9996e-01]))"
      ]
     },
     "execution_count": 45,
     "metadata": {},
     "output_type": "execute_result"
    }
   ],
   "source": [
    "learner.predict(\"位置真是好的没话讲，距解放碑步行只要两分钟不到，周边吃的、买的、看的都很多\")"
   ]
  }
 ],
 "metadata": {
  "accelerator": "GPU",
  "colab": {
   "collapsed_sections": [],
   "name": "Chinese_htlData_Classification_with_BERT.ipynb",
   "provenance": [],
   "version": "0.3.2"
  },
  "kernelspec": {
   "display_name": "Python 3",
   "language": "python",
   "name": "python3"
  },
  "language_info": {
   "codemirror_mode": {
    "name": "ipython",
    "version": 3
   },
   "file_extension": ".py",
   "mimetype": "text/x-python",
   "name": "python",
   "nbconvert_exporter": "python",
   "pygments_lexer": "ipython3",
   "version": "3.6.6"
  }
 },
 "nbformat": 4,
 "nbformat_minor": 2
}
