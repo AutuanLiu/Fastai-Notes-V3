{
 "cells": [
  {
   "cell_type": "code",
   "execution_count": 6,
   "metadata": {},
   "outputs": [],
   "source": [
    "%matplotlib inline\n",
    "%reload_ext autoreload\n",
    "%autoreload 2\n",
    "# 多行输出\n",
    "from IPython.core.interactiveshell import InteractiveShell\n",
    "InteractiveShell.ast_node_interactivity = \"all\" "
   ]
  },
  {
   "cell_type": "markdown",
   "metadata": {},
   "source": [
    "# 精调通用语言模型用于文本分类\n",
    "- [fastai/ULMFit.ipynb at master · fastai/fastai](https://github.com/fastai/fastai/blob/master/examples/ULMFit.ipynb)"
   ]
  },
  {
   "cell_type": "markdown",
   "metadata": {},
   "source": [
    "- 文本预处理做的比较糙，繁体简体咩有考虑"
   ]
  },
  {
   "cell_type": "code",
   "execution_count": 70,
   "metadata": {},
   "outputs": [],
   "source": [
    "from fastai import *\n",
    "from fastai.text import *\n",
    "from fastai.core import *\n",
    "from sklearn.metrics import f1_score"
   ]
  },
  {
   "cell_type": "markdown",
   "metadata": {},
   "source": [
    "- 基于中文维基百科训练"
   ]
  },
  {
   "cell_type": "code",
   "execution_count": 8,
   "metadata": {},
   "outputs": [],
   "source": [
    "bs = 64\n",
    "lang = 'zh'"
   ]
  },
  {
   "cell_type": "code",
   "execution_count": 9,
   "metadata": {},
   "outputs": [
    {
     "data": {
      "text/plain": [
       "PosixPath('/home/lab/.fastai/data')"
      ]
     },
     "execution_count": 9,
     "metadata": {},
     "output_type": "execute_result"
    }
   ],
   "source": [
    "data_path = Config.data_path()\n",
    "data_path"
   ]
  },
  {
   "cell_type": "markdown",
   "metadata": {},
   "source": [
    "- 提取TXT文件放在 docs 文件夹下"
   ]
  },
  {
   "cell_type": "code",
   "execution_count": 10,
   "metadata": {},
   "outputs": [],
   "source": [
    "name = f'{lang}wiki'\n",
    "path = data_path/name\n",
    "path.mkdir(exist_ok=True, parents=True)\n",
    "dest = path/'docs'\n",
    "lm_fns_bwd = [f'{lang}_wt_bwd', f'{lang}_wt_vocab_bwd']"
   ]
  },
  {
   "cell_type": "markdown",
   "metadata": {},
   "source": [
    "- 下载的文件为 xml 格式\n",
    "- 大概有 46480 词目"
   ]
  },
  {
   "cell_type": "markdown",
   "metadata": {},
   "source": [
    "- 提取信息"
   ]
  },
  {
   "cell_type": "code",
   "execution_count": 11,
   "metadata": {},
   "outputs": [
    {
     "data": {
      "text/plain": [
       "[PosixPath('/home/lab/.fastai/data/zhwiki/log'),\n",
       " PosixPath('/home/lab/.fastai/data/zhwiki/train.csv'),\n",
       " PosixPath('/home/lab/.fastai/data/zhwiki/zhwiki'),\n",
       " PosixPath('/home/lab/.fastai/data/zhwiki/zh_textlist_class'),\n",
       " PosixPath('/home/lab/.fastai/data/zhwiki/models'),\n",
       " PosixPath('/home/lab/.fastai/data/zhwiki/docs'),\n",
       " PosixPath('/home/lab/.fastai/data/zhwiki/zhwiki-latest-pages-articles.xml'),\n",
       " PosixPath('/home/lab/.fastai/data/zhwiki/val.csv'),\n",
       " PosixPath('/home/lab/.fastai/data/zhwiki/zh_databunch'),\n",
       " PosixPath('/home/lab/.fastai/data/zhwiki/zhwiki-latest-pages-articles.xml.bz2'),\n",
       " PosixPath('/home/lab/.fastai/data/zhwiki/wikiextractor')]"
      ]
     },
     "execution_count": 11,
     "metadata": {},
     "output_type": "execute_result"
    }
   ],
   "source": [
    "path.ls()"
   ]
  },
  {
   "cell_type": "markdown",
   "metadata": {},
   "source": [
    "### 创建数据\n",
    "- 先运行 forward\n",
    "- 先加载 forward 数据做个对比\n",
    "- 创建 backward 数据\n",
    "- backward模型\n",
    "- 集成"
   ]
  },
  {
   "cell_type": "markdown",
   "metadata": {},
   "source": [
    "- token和数值"
   ]
  },
  {
   "cell_type": "code",
   "execution_count": 12,
   "metadata": {},
   "outputs": [],
   "source": [
    "data = load_data(path, f'{lang}_databunch', bs=bs)"
   ]
  },
  {
   "cell_type": "code",
   "execution_count": 13,
   "metadata": {},
   "outputs": [
    {
     "data": {
      "text/html": [
       "<table border=\"1\" class=\"dataframe\">\n",
       "  <thead>\n",
       "    <tr style=\"text-align: right;\">\n",
       "      <th>idx</th>\n",
       "      <th>text</th>\n",
       "    </tr>\n",
       "  </thead>\n",
       "  <tbody>\n",
       "    <tr>\n",
       "      <td>0</td>\n",
       "      <td>xxmaj junior xxunk xxmaj junior xxunk xxmaj xxunk 。 \\n \\n  xxunk xxunk xxmaj lasting xxmaj xxunk 。 \\n \\n  xxunk xxunk 。 \\n \\n  xxunk 。 \\n \\n  xxunk xxunk xxmaj junior xxmaj kiss xxmaj the xxunk 。 \\n \\n  xxunk xxunk xxunk 。 \\n \\n  xxunk xxmaj junior xxmaj kiss xxmaj the xxmaj xxunk 。 \\n \\n  xxunk xxunk xxunk 。</td>\n",
       "    </tr>\n",
       "    <tr>\n",
       "      <td>1</td>\n",
       "      <td>xxunk - xxunk - xxunk 。 \\n \\n  xxunk - xxunk 。 \\n \\n  xxunk 。 \\n \\n  xxunk 。 \\n \\n  xxunk 。 \\n \\n  xxunk 。 \\n \\n  xxunk / xxunk / xxunk / xxunk / xxunk 。 \\n \\n  xxunk - xxunk 。 \\n \\n  xxunk 。 \\n \\n  xxunk 。 \\n \\n  xxunk 。 \\n \\n</td>\n",
       "    </tr>\n",
       "    <tr>\n",
       "      <td>2</td>\n",
       "      <td>\\n \\n  xxunk 。 \\n \\n  xxup xxunk / xxup xxunk / xxup xxunk / xxunk 。 \\n \\n  xxunk / xxup xxunk / xxup xxunk / xxup xxunk / xxup xxunk / xxup xxunk / xxup xxunk - xxup xxunk - xxup xxunk - xxunk 。 \\n \\n  xxunk 。 \\n \\n  xxunk 。 \\n \\n  xxunk xxrep 4 、 xxunk 。 \\n</td>\n",
       "    </tr>\n",
       "    <tr>\n",
       "      <td>3</td>\n",
       "      <td>。 ” \\n \\n  《 xxunk 。 ” \\n \\n  《 xxunk 。 ” \\n \\n  xxunk 》 ） \\n \\n  《 xxunk 。 ” \\n \\n  xxunk 》 ） \\n \\n  《 xxunk … … xxunk … … xxunk ） 。 \\n \\n  xxunk 》 ） \\n \\n  xxunk 》 ） \\n \\n  xxunk 》 ） \\n \\n  xxunk</td>\n",
       "    </tr>\n",
       "    <tr>\n",
       "      <td>4</td>\n",
       "      <td>。 \\n \\n  xxunk 。 \\n \\n  xxunk ： \\n \\n  xxunk 。 \\n \\n  xxunk ： \\n \\n  formula_4 \\n \\n  xxunk \\n  xxunk 。 \\n \\n  xxunk xxunk ： \\n \\n  formula_13 \\n \\n  xxunk ： \\n \\n  xxunk 。 \\n \\n  xxunk \\n \\n  xxunk \\n \\n  xxunk \\n \\n  xxunk \\n</td>\n",
       "    </tr>\n",
       "  </tbody>\n",
       "</table>"
      ],
      "text/plain": [
       "<IPython.core.display.HTML object>"
      ]
     },
     "metadata": {},
     "output_type": "display_data"
    }
   ],
   "source": [
    "data.show_batch()"
   ]
  },
  {
   "cell_type": "code",
   "execution_count": 16,
   "metadata": {},
   "outputs": [],
   "source": [
    "data_bwd = load_data(dest, f'{lang}_databunch_bwd', bs=bs, backwards=True)"
   ]
  },
  {
   "cell_type": "code",
   "execution_count": 17,
   "metadata": {},
   "outputs": [
    {
     "data": {
      "text/html": [
       "<table border=\"1\" class=\"dataframe\">\n",
       "  <thead>\n",
       "    <tr style=\"text-align: right;\">\n",
       "      <th>idx</th>\n",
       "      <th>text</th>\n",
       "    </tr>\n",
       "  </thead>\n",
       "  <tbody>\n",
       "    <tr>\n",
       "      <td>0</td>\n",
       "      <td>\\n \\n \\n \\n \\n \\n \\n \\n  。 xxunk \\n \\n  。 xxunk xxup \\n \\n  。 xxunk xxup \\n \\n  。 xxunk / xxunk xxup \\n \\n  。 xxunk \\n \\n  。 xxunk xxup \\n \\n  。 xxunk \\n \\n  。 xxunk \\n \\n  。 xxunk \\n \\n  。 xxunk \\n \\n  。 xxunk \\n \\n</td>\n",
       "    </tr>\n",
       "    <tr>\n",
       "      <td>1</td>\n",
       "      <td>xxmaj xxunk xxunk san xxmaj of xxunk xxunk xxmaj xxunk xxunk xxunk xxmaj xxunk de bautista xxmaj xxunk de gaspar xxmaj xxunk \\n \\n  。 xxunk \\n \\n  。 xxunk - xxunk - xxunk \\n \\n  。 xxunk / xxunk \\n \\n  。 xxunk \\n \\n  。 」 xxunk \\n  。 xxunk \\n \\n  。 ） （ 」 xxunk \\n \\n  。</td>\n",
       "    </tr>\n",
       "    <tr>\n",
       "      <td>2</td>\n",
       "      <td>。 xxunk \\n \\n  。 xxunk xxmaj xxunk \\n \\n  。 xxunk \\n \\n  ” 。 xxunk \\n \\n  。 xxunk xxmaj xxunk \\n \\n  。 xxunk xxmaj xxunk xxmaj xxunk \\n \\n  。 xxunk \\n \\n  。 xxunk xxmaj xxunk \\n \\n  。 xxunk \\n \\n  ” 。 xxunk \\n \\n  。 」 xxunk xxmaj xxunk \\n \\n</td>\n",
       "    </tr>\n",
       "    <tr>\n",
       "      <td>3</td>\n",
       "      <td>; 》 : cn - zh &gt; = 〉 ; 》 : hans - xxunk - zh &gt; = 〈 ; 《 : cn - zh &gt; = 〈 ; 《 : hans - xxunk \\n \\n  xxunk xxbos \\n  &gt; doc / &lt; \\n \\n \\n \\n  。 xxunk \\n \\n  。 xxunk xxmaj xxunk \\n \\n  ） basin xxunk （ xxunk xxmaj xxunk</td>\n",
       "    </tr>\n",
       "    <tr>\n",
       "      <td>4</td>\n",
       "      <td>。 xxunk \\n \\n  。 xxunk \\n \\n  。 xxunk xxup , boundary growth urban ( 」 xxunk \\n \\n  。 xxunk \\n \\n  。 % xxunk \\n \\n  。 xxunk \\n \\n  。 xxunk \\n \\n  。 xxunk \\n \\n  。 xxunk ° xxunk ° xxunk \\n \\n  。 xxunk \\n \\n  。 xxunk \\n \\n  。 xxunk</td>\n",
       "    </tr>\n",
       "  </tbody>\n",
       "</table>"
      ],
      "text/plain": [
       "<IPython.core.display.HTML object>"
      ]
     },
     "metadata": {},
     "output_type": "display_data"
    }
   ],
   "source": [
    "data_bwd.show_batch()"
   ]
  },
  {
   "cell_type": "markdown",
   "metadata": {},
   "source": [
    "- 数据对比"
   ]
  },
  {
   "cell_type": "code",
   "execution_count": 20,
   "metadata": {},
   "outputs": [],
   "source": [
    "x, y = data.train_ds[0]\n",
    "x1, y1 = data_bwd.train_ds[0]"
   ]
  },
  {
   "cell_type": "code",
   "execution_count": 25,
   "metadata": {},
   "outputs": [
    {
     "data": {
      "text/plain": [
       "True"
      ]
     },
     "execution_count": 25,
     "metadata": {},
     "output_type": "execute_result"
    }
   ],
   "source": [
    "x == x1"
   ]
  },
  {
   "cell_type": "markdown",
   "metadata": {},
   "source": [
    "- 模型配置"
   ]
  },
  {
   "cell_type": "code",
   "execution_count": 28,
   "metadata": {},
   "outputs": [
    {
     "data": {
      "text/plain": [
       "{'emb_sz': 400,\n",
       " 'n_hid': 1152,\n",
       " 'n_layers': 3,\n",
       " 'pad_token': 1,\n",
       " 'qrnn': False,\n",
       " 'bidir': False,\n",
       " 'output_p': 0.1,\n",
       " 'hidden_p': 0.15,\n",
       " 'input_p': 0.25,\n",
       " 'embed_p': 0.02,\n",
       " 'weight_p': 0.2,\n",
       " 'tie_weights': True,\n",
       " 'out_bias': True}"
      ]
     },
     "execution_count": 28,
     "metadata": {},
     "output_type": "execute_result"
    }
   ],
   "source": [
    "awd_lstm_lm_config"
   ]
  },
  {
   "cell_type": "code",
   "execution_count": null,
   "metadata": {},
   "outputs": [],
   "source": []
  },
  {
   "cell_type": "markdown",
   "metadata": {},
   "source": [
    "- 不使用预训练权重，我们从头训练，使用中文维基百科"
   ]
  },
  {
   "cell_type": "code",
   "execution_count": 39,
   "metadata": {},
   "outputs": [],
   "source": [
    "learn = language_model_learner(data_bwd, AWD_LSTM, drop_mult=0.5, pretrained=False).to_fp16()"
   ]
  },
  {
   "cell_type": "code",
   "execution_count": 40,
   "metadata": {},
   "outputs": [
    {
     "data": {
      "text/html": [],
      "text/plain": [
       "<IPython.core.display.HTML object>"
      ]
     },
     "metadata": {},
     "output_type": "display_data"
    },
    {
     "name": "stdout",
     "output_type": "stream",
     "text": [
      "LR Finder is complete, type {learner_name}.recorder.plot() to see the graph.\n"
     ]
    },
    {
     "data": {
      "image/png": "[encoded data removed]",
      "text/plain": [
       "<Figure size 432x288 with 1 Axes>"
      ]
     },
     "metadata": {
      "needs_background": "light"
     },
     "output_type": "display_data"
    }
   ],
   "source": [
    "learn.lr_find()\n",
    "learn.recorder.plot()"
   ]
  },
  {
   "cell_type": "code",
   "execution_count": 41,
   "metadata": {},
   "outputs": [],
   "source": [
    "lr = 1e-2\n",
    "lr *= bs/48  # Scale learning rate by batch size\n",
    "# 所有层都是可以训练的\n",
    "learn.unfreeze()"
   ]
  },
  {
   "cell_type": "code",
   "execution_count": 42,
   "metadata": {},
   "outputs": [
    {
     "data": {
      "text/html": [
       "Total time: 58:32 <p><table border=\"1\" class=\"dataframe\">\n",
       "  <thead>\n",
       "    <tr style=\"text-align: left;\">\n",
       "      <th>epoch</th>\n",
       "      <th>train_loss</th>\n",
       "      <th>valid_loss</th>\n",
       "      <th>accuracy</th>\n",
       "      <th>time</th>\n",
       "    </tr>\n",
       "  </thead>\n",
       "  <tbody>\n",
       "    <tr>\n",
       "      <td>0</td>\n",
       "      <td>1.944244</td>\n",
       "      <td>1.763525</td>\n",
       "      <td>0.674630</td>\n",
       "      <td>05:50</td>\n",
       "    </tr>\n",
       "    <tr>\n",
       "      <td>1</td>\n",
       "      <td>1.773503</td>\n",
       "      <td>1.668512</td>\n",
       "      <td>0.680306</td>\n",
       "      <td>05:51</td>\n",
       "    </tr>\n",
       "    <tr>\n",
       "      <td>2</td>\n",
       "      <td>1.766582</td>\n",
       "      <td>1.624066</td>\n",
       "      <td>0.685923</td>\n",
       "      <td>05:51</td>\n",
       "    </tr>\n",
       "    <tr>\n",
       "      <td>3</td>\n",
       "      <td>1.641661</td>\n",
       "      <td>1.605911</td>\n",
       "      <td>0.688057</td>\n",
       "      <td>05:50</td>\n",
       "    </tr>\n",
       "    <tr>\n",
       "      <td>4</td>\n",
       "      <td>1.734819</td>\n",
       "      <td>1.585995</td>\n",
       "      <td>0.689517</td>\n",
       "      <td>05:50</td>\n",
       "    </tr>\n",
       "    <tr>\n",
       "      <td>5</td>\n",
       "      <td>1.663317</td>\n",
       "      <td>1.569859</td>\n",
       "      <td>0.692416</td>\n",
       "      <td>05:50</td>\n",
       "    </tr>\n",
       "    <tr>\n",
       "      <td>6</td>\n",
       "      <td>1.549388</td>\n",
       "      <td>1.553046</td>\n",
       "      <td>0.695026</td>\n",
       "      <td>05:50</td>\n",
       "    </tr>\n",
       "    <tr>\n",
       "      <td>7</td>\n",
       "      <td>1.562497</td>\n",
       "      <td>1.537944</td>\n",
       "      <td>0.696345</td>\n",
       "      <td>05:51</td>\n",
       "    </tr>\n",
       "    <tr>\n",
       "      <td>8</td>\n",
       "      <td>1.598402</td>\n",
       "      <td>1.531919</td>\n",
       "      <td>0.697588</td>\n",
       "      <td>05:51</td>\n",
       "    </tr>\n",
       "    <tr>\n",
       "      <td>9</td>\n",
       "      <td>1.475013</td>\n",
       "      <td>1.531701</td>\n",
       "      <td>0.697916</td>\n",
       "      <td>05:51</td>\n",
       "    </tr>\n",
       "  </tbody>\n",
       "</table>"
      ],
      "text/plain": [
       "<IPython.core.display.HTML object>"
      ]
     },
     "metadata": {},
     "output_type": "display_data"
    }
   ],
   "source": [
    "learn.fit_one_cycle(10, lr, moms=(0.8,0.7))"
   ]
  },
  {
   "cell_type": "markdown",
   "metadata": {},
   "source": [
    "- 保存模型权重与字典"
   ]
  },
  {
   "cell_type": "code",
   "execution_count": 43,
   "metadata": {},
   "outputs": [
    {
     "data": {
      "text/plain": [
       "[PosixPath('/home/lab/.fastai/data/zhwiki/log'),\n",
       " PosixPath('/home/lab/.fastai/data/zhwiki/train.csv'),\n",
       " PosixPath('/home/lab/.fastai/data/zhwiki/zhwiki'),\n",
       " PosixPath('/home/lab/.fastai/data/zhwiki/zh_textlist_class'),\n",
       " PosixPath('/home/lab/.fastai/data/zhwiki/models'),\n",
       " PosixPath('/home/lab/.fastai/data/zhwiki/docs'),\n",
       " PosixPath('/home/lab/.fastai/data/zhwiki/zhwiki-latest-pages-articles.xml'),\n",
       " PosixPath('/home/lab/.fastai/data/zhwiki/val.csv'),\n",
       " PosixPath('/home/lab/.fastai/data/zhwiki/zh_databunch'),\n",
       " PosixPath('/home/lab/.fastai/data/zhwiki/zhwiki-latest-pages-articles.xml.bz2'),\n",
       " PosixPath('/home/lab/.fastai/data/zhwiki/wikiextractor')]"
      ]
     },
     "execution_count": 43,
     "metadata": {},
     "output_type": "execute_result"
    }
   ],
   "source": [
    "path.ls()"
   ]
  },
  {
   "cell_type": "code",
   "execution_count": 44,
   "metadata": {},
   "outputs": [],
   "source": [
    "mdl_path = path/'models'\n",
    "mdl_path.mkdir(exist_ok=True)\n",
    "learn.to_fp32().save(mdl_path/lm_fns_bwd[0], with_opt=False)\n",
    "learn.data.vocab.save(mdl_path/(lm_fns_bwd[1] + '.pkl'))"
   ]
  },
  {
   "cell_type": "code",
   "execution_count": 45,
   "metadata": {},
   "outputs": [],
   "source": [
    "TEXT = \"中国\"\n",
    "N_WORDS = 40\n",
    "N_SENTENCES = 2"
   ]
  },
  {
   "cell_type": "code",
   "execution_count": 46,
   "metadata": {},
   "outputs": [
    {
     "name": "stdout",
     "output_type": "stream",
     "text": [
      "中国 > doc / < \n",
      " \n",
      " \n",
      " \n",
      "  。 ” “ ： 》 side The \" \n",
      " \n",
      "  。 ” 》 《 》 《 （ 」 。 》 《 、 》 《 ： \n",
      " \n",
      "  。 》 《 ： 》 《 、 》\n",
      "\n",
      "中国 > doc / < \n",
      " \n",
      " \n",
      "  。 ” ” 。 』 ？ ！ 」 ？ ！ ！ ！ ？ ？ 』 ？ 。 。 ’ ） （ ？ ！ … … review Sales File Groove The\n"
     ]
    }
   ],
   "source": [
    "print(\"\\n\\n\".join(learn.predict(TEXT, N_WORDS, temperature=0.9) for _ in range(N_SENTENCES)))"
   ]
  },
  {
   "cell_type": "markdown",
   "metadata": {},
   "source": [
    "### 进行语义分析任务backward\n",
    "- 参看 [中文数据集](BERT.ipynb)"
   ]
  },
  {
   "cell_type": "code",
   "execution_count": 47,
   "metadata": {},
   "outputs": [],
   "source": [
    "data_lm_bwd = load_data(f'{lang}_clas_databunch', bs=bs, backward=True)"
   ]
  },
  {
   "cell_type": "code",
   "execution_count": 54,
   "metadata": {},
   "outputs": [
    {
     "data": {
      "text/html": [
       "<table border=\"1\" class=\"dataframe\">\n",
       "  <thead>\n",
       "    <tr style=\"text-align: right;\">\n",
       "      <th>idx</th>\n",
       "      <th>text</th>\n",
       "    </tr>\n",
       "  </thead>\n",
       "  <tbody>\n",
       "    <tr>\n",
       "      <td>0</td>\n",
       "      <td>xxunk xxbos xxunk xxbos xxunk xxrep xxunk 。 xxbos 虽说合肥的酒店及服务比较差能理解,但没见过这么差的服务及酒店设施!还四星级呢,简直不如街边的小旅馆!服务员前台和大堂经理的素质特低!房间简直就是垃圾房拼的,而且酒店还说通过携程订的房间就是这种房,而且还是最差的,要么就在酒店前台订,房价一样房间却要好很多 xxrep 7 . 晕!强烈谴责此酒店的做法!坚决不会再入住该酒店!火车站旁边有个邮政宾馆还可以 xxbos 10月25日入住单人大床间一晚,感觉较差:1.晚上22:30左右入住,前台接待很冷淡,无笑容,感觉不亲切;2.最可怕的是冲澡3分钟后淋浴龙头停水,2分钟以后浴缸龙头也完全停水.没办法浴室内打电话给大堂,说派人上来看一下,这时发现房间内未配浴袍.后大堂副理上来,告诉也有其它房间有类似情况,因最近酒店附近管理维修.只是建议给换房间 xxbos 头两晚入住单间,窗式空调以及窗外传来的噪音让人无法入睡。查因房间唯一的窗户外是两栋大厦的夹缝,宽约两米,而两栋大厦的所有空调机都安装于此,可想而知同时启动的噪音有多么的轰动.但正值元旦假期,只能屈就.第三天转为双人间,犹如从地狱转往天堂,空调是分体的,远离夹缝,面积大两倍,还可远眺香港城貌,房价只交多100元.建议有意入住该酒店的朋友哪怕一个人也选择双人间,这里的地理位置实在棒极了. xxbos 优点就是地理位置，到外滩和南京路走路10分钟。房间比较小，楼层举架低，有点压抑。卫生间毛巾也许消过毒，但很旧，颜色发黄，没办法，我用的自带毛巾。服务人员都不太热情，办理入住的女孩子们还好，大堂前的服务生，问个路什么的回答问题时基本不正眼看我，很锻炼我的脾气，有利于修身养性 。 xxbos xxunk xxbos xxunk ！ xxbos xxunk / xxunk 。 xxbos xxunk 。 xxbos xxup xxunk ！ xxbos xxunk 。 xxbos xxunk 。 xxbos xxunk 。 。 。 xxbos 一个词 xxrep 4 - \" 大失所望\"!!!去广州之前,在携程上研究了半天,后来应老公的要求选择了elan,因为他从欧洲带过来的那本\"china xxrep 4 - lonelyplanet\"上极尽完美之辞的推荐了该酒店.网上看图片和介绍,觉得应该也不错(没有查点评),我当时认为应该和\"有一家\"的水平差不多.可是一进房间,发现和图片实在相差太远.房间小得可怜,没有地方放行李,甚至连坐的地方都没有.一张小得可怜的写字台上有一台小得可怜的\"液晶电视\".如果你想躺在床上看电视,恐怕需要一双\"千里眼\";如果你想使用那张写字台,那你一定需要很苗条,才能坐在那个位置,并且需要带一台小于12寸的笔记本，否则是放不下的.房间也不干净,首先进去的那间330元的大床房,马桶里居然还漂着头发.后来立马换了间560元的套房,其实也就稍微大一点点,多了个坐的地方,有沙发和桌子及大一点的普通电视.房间设施很陈旧,地板有些地方已经翘起来了,隔音不好,热水水压也不够 xxrep 5 . 前台服务还不错,服务员能说英语;但是压根没见到行李生.个人感觉,不值那个价钱;个人意见,不推荐入住 ! xxbos xxunk 。 xxbos xxunk</td>\n",
       "    </tr>\n",
       "    <tr>\n",
       "      <td>1</td>\n",
       "      <td>4 . xxunk xxrep 4 . xxunk xxrep 5 . xxbos xxunk 。 xxbos 很老的酒店，箱柜旧的都没法看了，前台服务跟门童都值得夸奖。不然真的是一无是处了。270的价格让人诧异，有点疯。不会再去了 。 xxbos xxunk ！ xxbos xxunk ！ xxbos xxunk xxrep 8 ！ xxunk ！ xxbos 隔音效果非常非常非常的差，睡在房间里象睡在马路边一样，路上声音听的清清楚楚。我还是看了携程上该酒店的点评，采纳网友意见预定了5楼以上的房间。结果还是非常的吵，到晚上12点还是睡不着，只好打开电视以掩盖马路上的车声。不知道几点睡着了，一大早就被车声吵醒，一看表，才早上4点！才4点啊，也就是说就算晚上12点我睡着了，也才睡了4个小时。头疼啊，白天还要工作啊，闭上眼睛努力睡，怎么样也睡不着啊，太吵了。坚持到5：30实在是受不了了，打电话给前台，问有没有安静点的房间可以换，现在不能换晚上换也可以，答曰：没有。盯着天花板熬到6：30，起床。在早餐厅灌了3杯咖啡后，马上去退房。本来是要住三天的，实在是受不了这个吵啊。真不明白这样差的条件怎么在携程上有4.0的评分。另：1.电视播放太复杂，不方便2.服务员服务意识不强，没有为客人着想、以解决问题为本的意识。体现在早餐券、开发票等问题上3、网线太短，大概就20厘米长吧，不能在床上上网4.电源接触不好，电脑电源连到插座上时火花噼里啪啦的冒，当时我想：因为电源问题损坏电脑不知道酒店赔不赔再次表示疑问：这样的酒店上怎么会有4、0的高分数，宾馆反馈2008年3月30日：首先感谢您的入住并提出宝贵的意见，由于房间的环境问题影响到您的休息为此我们深表歉意。对于您提出的一些问题，我们会酌情整改，另外酒店早餐是凭房卡用的，没有早餐券；我们客房中心随时都为一些有特殊要求的客人准备了较长的网线，如果有需要只要一个电话，马上送到房间。非常感谢您的宝贵意见，真诚期待您能再次光临，给我们一个能为您提供更好服务的机会 。 xxbos xxunk ! xxbos xxunk 。 xxbos xxunk xxbos xxunk / xxunk / xxunk xxbos 好小的门面，没有电梯，房间也不是很一致！豪华房居然要400多，马桶还是坏的！酒店太自作主张了 xxrep 4 。 xxbos xxunk ! xxbos xxunk 。 xxbos 好小的门面，没有电梯，房间也不是很一致！最郁闷的是我不知道我们公司跟他们有合约，他就让我的客人（另外一次）直接用我们公司的名义住的酒店，而没有通过ctrip。还好第二天ctrip打电话给我确认，让我退单了 。 xxbos xxunk 。 xxbos xxunk 。 xxbos xxunk 。 xxbos</td>\n",
       "    </tr>\n",
       "    <tr>\n",
       "      <td>2</td>\n",
       "      <td>。 xxbos xxunk xxbos xxunk 。 xxbos 入住当晚,因火车到达得较晚。到酒店前门一看，感觉就象烂尾楼，黑灯瞎火的，还以为出租车拉错地方了。后面到总台一问说是大堂搞装修。上到房间一看，房间内的设置就更差了。地毯上到处是补丁，一股子霉味，我住的还是豪华标双。不晓得普标哪得成什么样？两百多人民币还不如现如今的经济型酒店，太失望了，货不对板(跟图片上比）。宾馆反馈2008年5月30日：谢谢您的宝贵意见!实在对不起,我代表酒店向您致以诚挚的歉意!您提的这几个问题酒店现在已经全部解决,欢迎您下次入住 ! xxbos 酒店房间太烂。服务一般。地点也差。房间小，卫生间小，居然还是蹲便 。 。 。 xxbos xxunk ！ xxbos xxunk xxrep 8 ！ xxunk xxrep 6 ！ xxbos xxunk 。 xxbos 房间还可以,设施简单,不像是四星标准。早餐还算丰富,不过要早去。前台接待、结算速度和态度还不错。后院停车场很有特点，一晚上有两台车被划伤，真恐怖，最关键的是保安及小头目还不想认帐，气愤啊 xxbos xxunk 。 xxbos 订的豪华标间，738元的价格，住过的同等对比是最差的。周边环境除了一地铁口没有其它，餐厅不行，周边也找不着吃的。房间小，住了两天还有一天晚上没水，宽带收费40，打印贡献了几十个10元。绝对不值 。 xxbos xxup 388元的房间,也就值248元.上网居然收费且人工配制ip.打死也不再住. xxbos xxunk ! xxbos xxunk xxbos 房间巨小，电视成了摆设，开不了，服务员态度冷漠。以后不会再进这家酒店 xxbos xxunk xxbos 请各位注意酒店提供的饮用水是自来水，这是前台服务员说的。所以各位千万不能生喝酒店提供的饮用水。2008年了，北京的酒店还是这种水平，真是令人心寒 。 xxbos 1 \\ xxunk \\ xxunk \\ xxunk \\ xxunk xxbos 酒店比较旧，听说有十几年的历史，房间也比较小。一个所谓三星酒店连一次性的剃须刀都不提供，要另外花15块钱买。总体上还不如火车站周边的商务酒店 。 xxbos xxunk 。 xxbos 临近道路边,相当的吵,隔音效果差</td>\n",
       "    </tr>\n",
       "    <tr>\n",
       "      <td>3</td>\n",
       "      <td>- xxunk xxrep 4 . xxunk xxrep 4 . xxup xxunk 。 xxbos xxunk xxbos 根本就是家庭旅馆 .. 还298 + 12基金 ... 我去的时候刚好是国庆他们说在装修,把我安排在前面的民宅一样的地方 .. 刚开始带我去6号楼，妈的根本不是人住的破 .. 然后把我带回8号楼.大一点 .. 而且这个地方离海很远,,到的晚上说明天会用车送我们到海边,第2天下大雨,说车不在，我朋友和他交涉,旅游的心情都被影响 ... 被ctrip的照片骗了 .. 这个破旅馆真的不是人住的!!以后再也不图便宜了!!补充点评2007年10月11日：298的房间ctrip上标有\"宽带免费\" .. 可那里根本不能上网 .. 我带的那么重的电脑就白拿了 .. 我有被骗的感觉 ! ! xxbos xxunk ! xxbos xxup 9月9日入住,从小事即可见一斑：浴帘比浴盆高200毫米，弄得卫生间一地水，功能丧失，不如说是遮羞布；餐厅桌布油迹斑斑，服务员总是理直气壮地回答，昨晚忘记换了。让人不可思议的是房间不能打国际长途！11日晚23时，我要打国际长途，前台首先声明不好使，建议买ic卡打（想赚卡钱吧？）。在我的坚持下开通了国际长途，但拨号后传来了中文提示：这个号码是空号 xxrep 6 . 。 xxup 显然没有“出国”。与前台理论，找值班经理都不解决问题，无奈，找出一张ip卡，试拨17900，无法拨通，又试拨10060（该宾馆号称用网通的电话），也不能拨通。最后用手机拨打了国际长途。电话打过，确久久不能入睡，倒不是心痛电话费过高。而是心中恐怖，万一夜里着火、被盗，我能拨打119、110吗？可爱的正宗三星级酒店！抬眼看日历，啊！9月11日--恐怖的911！！！次日提前退房离去。留下携程与你长期合作 。 xxbos xxunk xxbos 一个字：差！招待所的水平，地毯很葬，卫生间很陈旧。补充点评2007年9月12日：离三孔有一段距离，有停车位。号称其装修和布置是儒家风格，但本人无论如何也没有看出来。据说曲阜的宾馆都是如此水平 。 xxbos xxunk 。 xxbos xxup xxunk 。 xxbos 这家酒店太烂了。特别是服务差的很，简直让人火大。我通过携程预定了早餐，结果被告知从七点钟才开始，那我说我退掉吧，结果告诉我携程订了就不能退。早晨在房间打电话告诉前台查房，结果我到前台后，前台还没打，等到再次说退房时，才磨磨蹭蹭的打电话，结果等了几分钟还是没人查。等签单时才发现自己名字的两个字竟然被搞反了，真搞不懂，我实在是不敢恭维，而且莫名其妙的在我的名字后面竟然出现了另一个人名。建议各位不要入住。至所以给服务打两分，是因为其餐厅给我送了碗姜汤，比较感动，要不然服务肯定的一分 。 xxbos xxunk</td>\n",
       "    </tr>\n",
       "    <tr>\n",
       "      <td>4</td>\n",
       "      <td>... xxunk xxrep 4 . xxunk xxbos xxunk xxrep 5 ！ xxbos xxunk 。 xxbos xxunk xxbos xxunk 。 xxbos xxunk 。 xxbos 第一住的房都是味，地上有好香灰，后了另外一味那麽重！建酒店清生必注意，及最好有非吸 xxbos xxunk 。 xxbos xxup xxunk 。 xxbos xxup xxunk ！ xxbos xxunk xxbos xxunk xxrep 6 ~ xxunk xxbos 这家酒店太烂了。特别是服务差的很，简直让人火大。我通过携程预定了早餐，结果被告知从七点钟才开始，那我说我退掉吧，结果告诉我携程订了就不能退。早晨在房间打电话告诉前台查房，结果我到前台后，前台还没打，等到再次说退房时，才磨磨蹭蹭的打电话，结果等了几分钟还是没人查。等签单时才发现自己名字的两个字竟然被搞反了，真搞不懂，我实在是不敢恭维，而且莫名其妙的在我的名字后面竟然出现了另一个人名。建议各位不要入住。至所以给服务打两分，是因为其餐厅给我送了碗姜汤，比较感动，要不然服务肯定的一分 。 xxbos 前台手续复杂且慢，用两个房间要签三次字；有客人刚办完入住手续就发现房间冷而要求不住的，服务人员坚持按已经住过收费，让人感到是“可下子抓住一个客人决不放过”；我们入住和离开时分别看到有客人不小心弄脏了毛巾、床单，看上去洗一下也就没事了，可服务员一定要客人赔偿，且价格不低，一条白床单要价180元；携程的价格高于该店的优惠价 。 xxbos xxunk xxbos 房间和走廊里味道很重，楼外下面马路上的声音很吵，早上隔壁的电视机的声音听的很清楚，可以当闹钟使用，但时间是隔壁定的，没有给“闹钟”定时，结帐的时候发票没有给我盖章，总的感觉是让人失望。今后不会再住了 。 xxbos xxunk xxrep 4 ！ xxunk ！ xxbos xxunk 。 xxbos xxunk 。 xxbos xxunk 。</td>\n",
       "    </tr>\n",
       "  </tbody>\n",
       "</table>"
      ],
      "text/plain": [
       "<IPython.core.display.HTML object>"
      ]
     },
     "metadata": {},
     "output_type": "display_data"
    }
   ],
   "source": [
    "data_lm_bwd.show_batch()"
   ]
  },
  {
   "cell_type": "markdown",
   "metadata": {},
   "source": [
    "### 使用我们之前训练的模型学习一个语言模型"
   ]
  },
  {
   "cell_type": "markdown",
   "metadata": {},
   "source": [
    "- `pretrained_fnames=lm_fns`"
   ]
  },
  {
   "cell_type": "code",
   "execution_count": 55,
   "metadata": {},
   "outputs": [
    {
     "data": {
      "text/plain": [
       "['zh_wt', 'zh_wt_vocab']"
      ]
     },
     "execution_count": 55,
     "metadata": {},
     "output_type": "execute_result"
    }
   ],
   "source": [
    "lm_fns"
   ]
  },
  {
   "cell_type": "code",
   "execution_count": 56,
   "metadata": {},
   "outputs": [],
   "source": [
    "learn_lm = language_model_learner(data_lm_bwd, AWD_LSTM, pretrained_fnames=lm_fns_bwd, wd=0.1, drop_mult=1.)"
   ]
  },
  {
   "cell_type": "code",
   "execution_count": 57,
   "metadata": {},
   "outputs": [],
   "source": [
    "lr = 1e-3\n",
    "lr *= bs/48"
   ]
  },
  {
   "cell_type": "code",
   "execution_count": 58,
   "metadata": {},
   "outputs": [
    {
     "data": {
      "text/html": [
       "Total time: 00:01 <p><table border=\"1\" class=\"dataframe\">\n",
       "  <thead>\n",
       "    <tr style=\"text-align: left;\">\n",
       "      <th>epoch</th>\n",
       "      <th>train_loss</th>\n",
       "      <th>valid_loss</th>\n",
       "      <th>accuracy</th>\n",
       "      <th>time</th>\n",
       "    </tr>\n",
       "  </thead>\n",
       "  <tbody>\n",
       "    <tr>\n",
       "      <td>0</td>\n",
       "      <td>6.697358</td>\n",
       "      <td>5.175411</td>\n",
       "      <td>0.212500</td>\n",
       "      <td>00:00</td>\n",
       "    </tr>\n",
       "    <tr>\n",
       "      <td>1</td>\n",
       "      <td>6.201413</td>\n",
       "      <td>4.778626</td>\n",
       "      <td>0.230804</td>\n",
       "      <td>00:00</td>\n",
       "    </tr>\n",
       "  </tbody>\n",
       "</table>"
      ],
      "text/plain": [
       "<IPython.core.display.HTML object>"
      ]
     },
     "metadata": {},
     "output_type": "display_data"
    }
   ],
   "source": [
    "learn_lm.fit_one_cycle(2, lr*10, moms=(0.8,0.7))"
   ]
  },
  {
   "cell_type": "code",
   "execution_count": 59,
   "metadata": {},
   "outputs": [
    {
     "data": {
      "text/html": [
       "Total time: 00:07 <p><table border=\"1\" class=\"dataframe\">\n",
       "  <thead>\n",
       "    <tr style=\"text-align: left;\">\n",
       "      <th>epoch</th>\n",
       "      <th>train_loss</th>\n",
       "      <th>valid_loss</th>\n",
       "      <th>accuracy</th>\n",
       "      <th>time</th>\n",
       "    </tr>\n",
       "  </thead>\n",
       "  <tbody>\n",
       "    <tr>\n",
       "      <td>0</td>\n",
       "      <td>5.548280</td>\n",
       "      <td>4.604518</td>\n",
       "      <td>0.240179</td>\n",
       "      <td>00:00</td>\n",
       "    </tr>\n",
       "    <tr>\n",
       "      <td>1</td>\n",
       "      <td>5.249329</td>\n",
       "      <td>3.720865</td>\n",
       "      <td>0.347321</td>\n",
       "      <td>00:00</td>\n",
       "    </tr>\n",
       "    <tr>\n",
       "      <td>2</td>\n",
       "      <td>4.763565</td>\n",
       "      <td>2.581959</td>\n",
       "      <td>0.468304</td>\n",
       "      <td>00:00</td>\n",
       "    </tr>\n",
       "    <tr>\n",
       "      <td>3</td>\n",
       "      <td>4.259766</td>\n",
       "      <td>2.183122</td>\n",
       "      <td>0.579241</td>\n",
       "      <td>00:00</td>\n",
       "    </tr>\n",
       "    <tr>\n",
       "      <td>4</td>\n",
       "      <td>3.877409</td>\n",
       "      <td>2.004621</td>\n",
       "      <td>0.593750</td>\n",
       "      <td>00:00</td>\n",
       "    </tr>\n",
       "    <tr>\n",
       "      <td>5</td>\n",
       "      <td>3.585753</td>\n",
       "      <td>1.897657</td>\n",
       "      <td>0.604911</td>\n",
       "      <td>00:00</td>\n",
       "    </tr>\n",
       "    <tr>\n",
       "      <td>6</td>\n",
       "      <td>3.358438</td>\n",
       "      <td>1.860995</td>\n",
       "      <td>0.610045</td>\n",
       "      <td>00:00</td>\n",
       "    </tr>\n",
       "    <tr>\n",
       "      <td>7</td>\n",
       "      <td>3.205450</td>\n",
       "      <td>1.840042</td>\n",
       "      <td>0.615848</td>\n",
       "      <td>00:00</td>\n",
       "    </tr>\n",
       "  </tbody>\n",
       "</table>"
      ],
      "text/plain": [
       "<IPython.core.display.HTML object>"
      ]
     },
     "metadata": {},
     "output_type": "display_data"
    }
   ],
   "source": [
    "learn_lm.unfreeze()\n",
    "learn_lm.fit_one_cycle(8, lr, moms=(0.8,0.7))"
   ]
  },
  {
   "cell_type": "code",
   "execution_count": 60,
   "metadata": {},
   "outputs": [],
   "source": [
    "learn_lm.save(f'{lang}fine_tuned_bwd')\n",
    "learn_lm.save_encoder(f'{lang}fine_tuned_enc_bwd')"
   ]
  },
  {
   "cell_type": "code",
   "execution_count": 61,
   "metadata": {},
   "outputs": [],
   "source": [
    "TEXT = '我喜欢'"
   ]
  },
  {
   "cell_type": "code",
   "execution_count": 62,
   "metadata": {},
   "outputs": [
    {
     "name": "stdout",
     "output_type": "stream",
     "text": [
      "我喜欢 > xxbos . > xxbos 。 xxbos ) xxbos / xxbos 。 > / / ( - : . 10 . ) ( ! ! ! ! ! ! ! ! xxbos . ! xxbos\n",
      "\n",
      "我喜欢 / - ! ! 9 ! ! ! ! ! ! xxbos , * 5 ? ? ! 4 ! 4 ? ! 4 ! ! 12 ..... !!!!! !!!!! !!!!! !!!!! !!!!! xxbosxxbosxxbosxxbosxxbos\n"
     ]
    }
   ],
   "source": [
    "print(\"\\n\\n\".join(learn_lm.predict(TEXT, N_WORDS, temperature=0.9) for _ in range(N_SENTENCES)))"
   ]
  },
  {
   "cell_type": "code",
   "execution_count": 63,
   "metadata": {},
   "outputs": [
    {
     "data": {
      "text/plain": [
       "9000"
      ]
     },
     "execution_count": 63,
     "metadata": {},
     "output_type": "execute_result"
    }
   ],
   "source": [
    "len(data_lm.train_ds)"
   ]
  },
  {
   "cell_type": "markdown",
   "metadata": {},
   "source": [
    "### 分类"
   ]
  },
  {
   "cell_type": "code",
   "execution_count": 65,
   "metadata": {},
   "outputs": [],
   "source": [
    "data_clas_bwd = load_data(path, f'{lang}_textlist_class', bs=bs, num_workers=4, backward=True)"
   ]
  },
  {
   "cell_type": "code",
   "execution_count": 66,
   "metadata": {},
   "outputs": [],
   "source": [
    "@np_func\n",
    "def f1(inp,targ): return f1_score(targ, np.argmax(inp, axis=-1))"
   ]
  },
  {
   "cell_type": "code",
   "execution_count": 67,
   "metadata": {},
   "outputs": [],
   "source": [
    "learn_c = text_classifier_learner(data_clas_bwd, AWD_LSTM, pretrained=False, drop_mult=0.5, metrics=[f1, accuracy], wd=0.1).to_fp16()\n",
    "learn_c.load_encoder(f'{lang}fine_tuned_enc_bwd')\n",
    "learn_c.freeze()"
   ]
  },
  {
   "cell_type": "code",
   "execution_count": 68,
   "metadata": {},
   "outputs": [],
   "source": [
    "lr=2e-2\n",
    "lr *= bs/48"
   ]
  },
  {
   "cell_type": "code",
   "execution_count": 71,
   "metadata": {},
   "outputs": [
    {
     "data": {
      "text/html": [
       "Total time: 00:12 <p><table border=\"1\" class=\"dataframe\">\n",
       "  <thead>\n",
       "    <tr style=\"text-align: left;\">\n",
       "      <th>epoch</th>\n",
       "      <th>train_loss</th>\n",
       "      <th>valid_loss</th>\n",
       "      <th>f1</th>\n",
       "      <th>accuracy</th>\n",
       "      <th>time</th>\n",
       "    </tr>\n",
       "  </thead>\n",
       "  <tbody>\n",
       "    <tr>\n",
       "      <td>0</td>\n",
       "      <td>0.477027</td>\n",
       "      <td>0.522003</td>\n",
       "      <td>0.737219</td>\n",
       "      <td>0.745556</td>\n",
       "      <td>00:01</td>\n",
       "    </tr>\n",
       "    <tr>\n",
       "      <td>1</td>\n",
       "      <td>0.485022</td>\n",
       "      <td>0.495955</td>\n",
       "      <td>0.741332</td>\n",
       "      <td>0.751111</td>\n",
       "      <td>00:01</td>\n",
       "    </tr>\n",
       "    <tr>\n",
       "      <td>2</td>\n",
       "      <td>0.493099</td>\n",
       "      <td>0.518831</td>\n",
       "      <td>0.710202</td>\n",
       "      <td>0.737778</td>\n",
       "      <td>00:01</td>\n",
       "    </tr>\n",
       "    <tr>\n",
       "      <td>3</td>\n",
       "      <td>0.484330</td>\n",
       "      <td>0.494661</td>\n",
       "      <td>0.752563</td>\n",
       "      <td>0.754444</td>\n",
       "      <td>00:01</td>\n",
       "    </tr>\n",
       "    <tr>\n",
       "      <td>4</td>\n",
       "      <td>0.483695</td>\n",
       "      <td>0.509657</td>\n",
       "      <td>0.745997</td>\n",
       "      <td>0.745556</td>\n",
       "      <td>00:01</td>\n",
       "    </tr>\n",
       "    <tr>\n",
       "      <td>5</td>\n",
       "      <td>0.481792</td>\n",
       "      <td>0.494413</td>\n",
       "      <td>0.743542</td>\n",
       "      <td>0.748889</td>\n",
       "      <td>00:01</td>\n",
       "    </tr>\n",
       "    <tr>\n",
       "      <td>6</td>\n",
       "      <td>0.468664</td>\n",
       "      <td>0.899974</td>\n",
       "      <td>0.735527</td>\n",
       "      <td>0.748889</td>\n",
       "      <td>00:01</td>\n",
       "    </tr>\n",
       "    <tr>\n",
       "      <td>7</td>\n",
       "      <td>0.472452</td>\n",
       "      <td>0.513543</td>\n",
       "      <td>0.745006</td>\n",
       "      <td>0.751111</td>\n",
       "      <td>00:01</td>\n",
       "    </tr>\n",
       "  </tbody>\n",
       "</table>"
      ],
      "text/plain": [
       "<IPython.core.display.HTML object>"
      ]
     },
     "metadata": {},
     "output_type": "display_data"
    },
    {
     "name": "stderr",
     "output_type": "stream",
     "text": [
      "/home/lab/Softwares/miniconda3/envs/fastai/lib/python3.6/site-packages/sklearn/metrics/classification.py:1143: UndefinedMetricWarning: F-score is ill-defined and being set to 0.0 due to no predicted samples.\n",
      "  'precision', 'predicted', average, warn_for)\n"
     ]
    }
   ],
   "source": [
    "learn_c.fit_one_cycle(8, lr, moms=(0.8,0.7))"
   ]
  },
  {
   "cell_type": "code",
   "execution_count": 72,
   "metadata": {},
   "outputs": [
    {
     "data": {
      "text/html": [
       "Total time: 00:05 <p><table border=\"1\" class=\"dataframe\">\n",
       "  <thead>\n",
       "    <tr style=\"text-align: left;\">\n",
       "      <th>epoch</th>\n",
       "      <th>train_loss</th>\n",
       "      <th>valid_loss</th>\n",
       "      <th>f1</th>\n",
       "      <th>accuracy</th>\n",
       "      <th>time</th>\n",
       "    </tr>\n",
       "  </thead>\n",
       "  <tbody>\n",
       "    <tr>\n",
       "      <td>0</td>\n",
       "      <td>0.481273</td>\n",
       "      <td>0.493253</td>\n",
       "      <td>0.769983</td>\n",
       "      <td>0.750000</td>\n",
       "      <td>00:01</td>\n",
       "    </tr>\n",
       "    <tr>\n",
       "      <td>1</td>\n",
       "      <td>0.479506</td>\n",
       "      <td>0.586876</td>\n",
       "      <td>0.763711</td>\n",
       "      <td>0.740000</td>\n",
       "      <td>00:01</td>\n",
       "    </tr>\n",
       "    <tr>\n",
       "      <td>2</td>\n",
       "      <td>0.471515</td>\n",
       "      <td>0.503489</td>\n",
       "      <td>0.751259</td>\n",
       "      <td>0.748889</td>\n",
       "      <td>00:01</td>\n",
       "    </tr>\n",
       "  </tbody>\n",
       "</table>"
      ],
      "text/plain": [
       "<IPython.core.display.HTML object>"
      ]
     },
     "metadata": {},
     "output_type": "display_data"
    }
   ],
   "source": [
    "learn_c.freeze_to(-2)\n",
    "learn_c.fit_one_cycle(3, slice(lr/(2.6**4),lr), moms=(0.8,0.7))"
   ]
  },
  {
   "cell_type": "code",
   "execution_count": 73,
   "metadata": {},
   "outputs": [
    {
     "data": {
      "text/html": [
       "Total time: 00:08 <p><table border=\"1\" class=\"dataframe\">\n",
       "  <thead>\n",
       "    <tr style=\"text-align: left;\">\n",
       "      <th>epoch</th>\n",
       "      <th>train_loss</th>\n",
       "      <th>valid_loss</th>\n",
       "      <th>f1</th>\n",
       "      <th>accuracy</th>\n",
       "      <th>time</th>\n",
       "    </tr>\n",
       "  </thead>\n",
       "  <tbody>\n",
       "    <tr>\n",
       "      <td>0</td>\n",
       "      <td>0.485243</td>\n",
       "      <td>0.508445</td>\n",
       "      <td>0.761227</td>\n",
       "      <td>0.744444</td>\n",
       "      <td>00:02</td>\n",
       "    </tr>\n",
       "    <tr>\n",
       "      <td>1</td>\n",
       "      <td>0.473014</td>\n",
       "      <td>0.498693</td>\n",
       "      <td>0.757239</td>\n",
       "      <td>0.753333</td>\n",
       "      <td>00:02</td>\n",
       "    </tr>\n",
       "    <tr>\n",
       "      <td>2</td>\n",
       "      <td>0.470699</td>\n",
       "      <td>0.495109</td>\n",
       "      <td>0.762190</td>\n",
       "      <td>0.747778</td>\n",
       "      <td>00:02</td>\n",
       "    </tr>\n",
       "  </tbody>\n",
       "</table>"
      ],
      "text/plain": [
       "<IPython.core.display.HTML object>"
      ]
     },
     "metadata": {},
     "output_type": "display_data"
    }
   ],
   "source": [
    "learn_c.freeze_to(-3)\n",
    "learn_c.fit_one_cycle(3, slice(lr/(2.6**4),lr), moms=(0.8,0.7))"
   ]
  },
  {
   "cell_type": "code",
   "execution_count": 74,
   "metadata": {},
   "outputs": [
    {
     "data": {
      "text/html": [
       "Total time: 00:19 <p><table border=\"1\" class=\"dataframe\">\n",
       "  <thead>\n",
       "    <tr style=\"text-align: left;\">\n",
       "      <th>epoch</th>\n",
       "      <th>train_loss</th>\n",
       "      <th>valid_loss</th>\n",
       "      <th>f1</th>\n",
       "      <th>accuracy</th>\n",
       "      <th>time</th>\n",
       "    </tr>\n",
       "  </thead>\n",
       "  <tbody>\n",
       "    <tr>\n",
       "      <td>0</td>\n",
       "      <td>0.466742</td>\n",
       "      <td>0.570398</td>\n",
       "      <td>0.752874</td>\n",
       "      <td>0.753333</td>\n",
       "      <td>00:03</td>\n",
       "    </tr>\n",
       "    <tr>\n",
       "      <td>1</td>\n",
       "      <td>0.462775</td>\n",
       "      <td>0.502431</td>\n",
       "      <td>0.754329</td>\n",
       "      <td>0.751111</td>\n",
       "      <td>00:03</td>\n",
       "    </tr>\n",
       "    <tr>\n",
       "      <td>2</td>\n",
       "      <td>0.460959</td>\n",
       "      <td>0.502710</td>\n",
       "      <td>0.754793</td>\n",
       "      <td>0.752222</td>\n",
       "      <td>00:03</td>\n",
       "    </tr>\n",
       "    <tr>\n",
       "      <td>3</td>\n",
       "      <td>0.458740</td>\n",
       "      <td>0.520910</td>\n",
       "      <td>0.754775</td>\n",
       "      <td>0.752222</td>\n",
       "      <td>00:03</td>\n",
       "    </tr>\n",
       "    <tr>\n",
       "      <td>4</td>\n",
       "      <td>0.455853</td>\n",
       "      <td>0.500027</td>\n",
       "      <td>0.761132</td>\n",
       "      <td>0.752222</td>\n",
       "      <td>00:03</td>\n",
       "    </tr>\n",
       "  </tbody>\n",
       "</table>"
      ],
      "text/plain": [
       "<IPython.core.display.HTML object>"
      ]
     },
     "metadata": {},
     "output_type": "display_data"
    }
   ],
   "source": [
    "learn_c.unfreeze()\n",
    "learn_c.fit_one_cycle(5, slice(lr/10/(2.6**4),lr/10), moms=(0.8,0.7))"
   ]
  },
  {
   "cell_type": "code",
   "execution_count": 75,
   "metadata": {},
   "outputs": [],
   "source": [
    "learn_c.save(f'{lang}clas_bwd')"
   ]
  },
  {
   "cell_type": "markdown",
   "metadata": {},
   "source": [
    "### Ensembling the two models¶\n",
    "平均 forward and the backward models的结果. Since the samples are sorted by text lengths for batching, we pass the argument ordered=True to get the predictions in the order of the texts"
   ]
  },
  {
   "cell_type": "code",
   "execution_count": null,
   "metadata": {},
   "outputs": [],
   "source": [
    "data_clas_fwd = load_data(path, f'{lang}_textlist_class', bs=bs, num_workers=4)"
   ]
  },
  {
   "cell_type": "code",
   "execution_count": null,
   "metadata": {},
   "outputs": [],
   "source": [
    "learn_c_fwd = text_classifier_learner(data_clas_fwd, AWD_LSTM, pretrained=False, drop_mult=0.5, wd=0.1, metrics=[f1, accuracy]).to_fp16()"
   ]
  },
  {
   "cell_type": "code",
   "execution_count": null,
   "metadata": {},
   "outputs": [],
   "source": [
    "learn_c_fwd.load(f'{lang}clas')"
   ]
  },
  {
   "cell_type": "code",
   "execution_count": null,
   "metadata": {},
   "outputs": [],
   "source": [
    "pred_fwd, lbl_fwd = learn.get_preds(ordered=True)\n",
    "pred_bwd, lbl_bwd = learn_c.get_preds(ordered=True)\n",
    "final_pred = (pred_fwd+pred_bwd)/2"
   ]
  },
  {
   "cell_type": "code",
   "execution_count": null,
   "metadata": {},
   "outputs": [],
   "source": [
    "accuracy(final_pred, lbl_fwd)， f1(final_pred, lbl_fwd)"
   ]
  }
 ],
 "metadata": {
  "kernelspec": {
   "display_name": "Python 3",
   "language": "python",
   "name": "python3"
  },
  "language_info": {
   "codemirror_mode": {
    "name": "ipython",
    "version": 3
   },
   "file_extension": ".py",
   "mimetype": "text/x-python",
   "name": "python",
   "nbconvert_exporter": "python",
   "pygments_lexer": "ipython3",
   "version": "3.6.7"
  }
 },
 "nbformat": 4,
 "nbformat_minor": 2
}
