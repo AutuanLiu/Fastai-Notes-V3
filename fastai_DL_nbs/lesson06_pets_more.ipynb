{
 "cells": [
  {
   "cell_type": "code",
   "execution_count": 1,
   "metadata": {},
   "outputs": [],
   "source": [
    "%matplotlib inline\n",
    "%reload_ext autoreload\n",
    "%autoreload 2\n",
    "# 多行输出\n",
    "from IPython.core.interactiveshell import InteractiveShell\n",
    "InteractiveShell.ast_node_interactivity = \"all\" "
   ]
  },
  {
   "cell_type": "markdown",
   "metadata": {},
   "source": [
    "# pets 分类"
   ]
  },
  {
   "cell_type": "markdown",
   "metadata": {},
   "source": [
    "1. fit_one_cycle 中如果单独使用一个数值，那么各层的学习率是一样的，如果使用 slice 则表明使用 discriminative learning rates\n",
    "2. 输入一个数字（例如1e-3）：每一层都有相同的学习率\n",
    "3. slice(1e-3)：最后一层使用学习率（1e-3），然后所有其他层使用相同的学习率，即 1e-3/3.所以其他所有层都是1e-3/3。 最后一层将是1e-3。\n",
    "4. slice(1e-5, 1e-3)。 最后的层（这些随机添加的层）仍将是1e-3。 第一层是1e-5，其他层将获得在这两层之间平均分布的学习率，如果有三层，则会有1e-5,1e-4,1e-3，每次都是相等的倍数。"
   ]
  },
  {
   "cell_type": "code",
   "execution_count": 2,
   "metadata": {},
   "outputs": [],
   "source": [
    "from fastai.vision import *"
   ]
  },
  {
   "cell_type": "code",
   "execution_count": 3,
   "metadata": {},
   "outputs": [],
   "source": [
    "path = untar_data(URLs.MNIST_SAMPLE)\n",
    "data = ImageDataBunch.from_folder(path)"
   ]
  },
  {
   "cell_type": "code",
   "execution_count": 4,
   "metadata": {},
   "outputs": [],
   "source": [
    "learn = cnn_learner(data, models.resnet18, metrics=accuracy, callback_fns=ShowGraph).to_fp16()"
   ]
  },
  {
   "cell_type": "code",
   "execution_count": 5,
   "metadata": {},
   "outputs": [
    {
     "data": {
      "text/plain": [
       "Sequential(\n",
       "  (0): Sequential(\n",
       "    (0): Conv2d(3, 64, kernel_size=(7, 7), stride=(2, 2), padding=(3, 3), bias=False)\n",
       "    (1): BatchNorm2d(64, eps=1e-05, momentum=0.1, affine=True, track_running_stats=True)\n",
       "    (2): ReLU(inplace)\n",
       "    (3): MaxPool2d(kernel_size=3, stride=2, padding=1, dilation=1, ceil_mode=False)\n",
       "    (4): Sequential(\n",
       "      (0): BasicBlock(\n",
       "        (conv1): Conv2d(64, 64, kernel_size=(3, 3), stride=(1, 1), padding=(1, 1), bias=False)\n",
       "        (bn1): BatchNorm2d(64, eps=1e-05, momentum=0.1, affine=True, track_running_stats=True)\n",
       "        (relu): ReLU(inplace)\n",
       "        (conv2): Conv2d(64, 64, kernel_size=(3, 3), stride=(1, 1), padding=(1, 1), bias=False)\n",
       "        (bn2): BatchNorm2d(64, eps=1e-05, momentum=0.1, affine=True, track_running_stats=True)\n",
       "      )\n",
       "      (1): BasicBlock(\n",
       "        (conv1): Conv2d(64, 64, kernel_size=(3, 3), stride=(1, 1), padding=(1, 1), bias=False)\n",
       "        (bn1): BatchNorm2d(64, eps=1e-05, momentum=0.1, affine=True, track_running_stats=True)\n",
       "        (relu): ReLU(inplace)\n",
       "        (conv2): Conv2d(64, 64, kernel_size=(3, 3), stride=(1, 1), padding=(1, 1), bias=False)\n",
       "        (bn2): BatchNorm2d(64, eps=1e-05, momentum=0.1, affine=True, track_running_stats=True)\n",
       "      )\n",
       "    )\n",
       "    (5): Sequential(\n",
       "      (0): BasicBlock(\n",
       "        (conv1): Conv2d(64, 128, kernel_size=(3, 3), stride=(2, 2), padding=(1, 1), bias=False)\n",
       "        (bn1): BatchNorm2d(128, eps=1e-05, momentum=0.1, affine=True, track_running_stats=True)\n",
       "        (relu): ReLU(inplace)\n",
       "        (conv2): Conv2d(128, 128, kernel_size=(3, 3), stride=(1, 1), padding=(1, 1), bias=False)\n",
       "        (bn2): BatchNorm2d(128, eps=1e-05, momentum=0.1, affine=True, track_running_stats=True)\n",
       "        (downsample): Sequential(\n",
       "          (0): Conv2d(64, 128, kernel_size=(1, 1), stride=(2, 2), bias=False)\n",
       "          (1): BatchNorm2d(128, eps=1e-05, momentum=0.1, affine=True, track_running_stats=True)\n",
       "        )\n",
       "      )\n",
       "      (1): BasicBlock(\n",
       "        (conv1): Conv2d(128, 128, kernel_size=(3, 3), stride=(1, 1), padding=(1, 1), bias=False)\n",
       "        (bn1): BatchNorm2d(128, eps=1e-05, momentum=0.1, affine=True, track_running_stats=True)\n",
       "        (relu): ReLU(inplace)\n",
       "        (conv2): Conv2d(128, 128, kernel_size=(3, 3), stride=(1, 1), padding=(1, 1), bias=False)\n",
       "        (bn2): BatchNorm2d(128, eps=1e-05, momentum=0.1, affine=True, track_running_stats=True)\n",
       "      )\n",
       "    )\n",
       "    (6): Sequential(\n",
       "      (0): BasicBlock(\n",
       "        (conv1): Conv2d(128, 256, kernel_size=(3, 3), stride=(2, 2), padding=(1, 1), bias=False)\n",
       "        (bn1): BatchNorm2d(256, eps=1e-05, momentum=0.1, affine=True, track_running_stats=True)\n",
       "        (relu): ReLU(inplace)\n",
       "        (conv2): Conv2d(256, 256, kernel_size=(3, 3), stride=(1, 1), padding=(1, 1), bias=False)\n",
       "        (bn2): BatchNorm2d(256, eps=1e-05, momentum=0.1, affine=True, track_running_stats=True)\n",
       "        (downsample): Sequential(\n",
       "          (0): Conv2d(128, 256, kernel_size=(1, 1), stride=(2, 2), bias=False)\n",
       "          (1): BatchNorm2d(256, eps=1e-05, momentum=0.1, affine=True, track_running_stats=True)\n",
       "        )\n",
       "      )\n",
       "      (1): BasicBlock(\n",
       "        (conv1): Conv2d(256, 256, kernel_size=(3, 3), stride=(1, 1), padding=(1, 1), bias=False)\n",
       "        (bn1): BatchNorm2d(256, eps=1e-05, momentum=0.1, affine=True, track_running_stats=True)\n",
       "        (relu): ReLU(inplace)\n",
       "        (conv2): Conv2d(256, 256, kernel_size=(3, 3), stride=(1, 1), padding=(1, 1), bias=False)\n",
       "        (bn2): BatchNorm2d(256, eps=1e-05, momentum=0.1, affine=True, track_running_stats=True)\n",
       "      )\n",
       "    )\n",
       "    (7): Sequential(\n",
       "      (0): BasicBlock(\n",
       "        (conv1): Conv2d(256, 512, kernel_size=(3, 3), stride=(2, 2), padding=(1, 1), bias=False)\n",
       "        (bn1): BatchNorm2d(512, eps=1e-05, momentum=0.1, affine=True, track_running_stats=True)\n",
       "        (relu): ReLU(inplace)\n",
       "        (conv2): Conv2d(512, 512, kernel_size=(3, 3), stride=(1, 1), padding=(1, 1), bias=False)\n",
       "        (bn2): BatchNorm2d(512, eps=1e-05, momentum=0.1, affine=True, track_running_stats=True)\n",
       "        (downsample): Sequential(\n",
       "          (0): Conv2d(256, 512, kernel_size=(1, 1), stride=(2, 2), bias=False)\n",
       "          (1): BatchNorm2d(512, eps=1e-05, momentum=0.1, affine=True, track_running_stats=True)\n",
       "        )\n",
       "      )\n",
       "      (1): BasicBlock(\n",
       "        (conv1): Conv2d(512, 512, kernel_size=(3, 3), stride=(1, 1), padding=(1, 1), bias=False)\n",
       "        (bn1): BatchNorm2d(512, eps=1e-05, momentum=0.1, affine=True, track_running_stats=True)\n",
       "        (relu): ReLU(inplace)\n",
       "        (conv2): Conv2d(512, 512, kernel_size=(3, 3), stride=(1, 1), padding=(1, 1), bias=False)\n",
       "        (bn2): BatchNorm2d(512, eps=1e-05, momentum=0.1, affine=True, track_running_stats=True)\n",
       "      )\n",
       "    )\n",
       "  )\n",
       "  (1): Sequential(\n",
       "    (0): AdaptiveConcatPool2d(\n",
       "      (ap): AdaptiveAvgPool2d(output_size=1)\n",
       "      (mp): AdaptiveMaxPool2d(output_size=1)\n",
       "    )\n",
       "    (1): Flatten()\n",
       "    (2): BatchNorm1d(1024, eps=1e-05, momentum=0.1, affine=True, track_running_stats=True)\n",
       "    (3): Dropout(p=0.25)\n",
       "    (4): Linear(in_features=1024, out_features=512, bias=True)\n",
       "    (5): ReLU(inplace)\n",
       "    (6): BatchNorm1d(512, eps=1e-05, momentum=0.1, affine=True, track_running_stats=True)\n",
       "    (7): Dropout(p=0.5)\n",
       "    (8): Linear(in_features=512, out_features=2, bias=True)\n",
       "  )\n",
       ")"
      ]
     },
     "execution_count": 5,
     "metadata": {},
     "output_type": "execute_result"
    }
   ],
   "source": [
    "learn.model"
   ]
  },
  {
   "cell_type": "code",
   "execution_count": 6,
   "metadata": {},
   "outputs": [
    {
     "data": {
      "text/plain": [
       "3"
      ]
     },
     "execution_count": 6,
     "metadata": {},
     "output_type": "execute_result"
    },
    {
     "data": {
      "text/plain": [
       "[Sequential(\n",
       "   (0): Conv2d(3, 64, kernel_size=(7, 7), stride=(2, 2), padding=(3, 3), bias=False)\n",
       "   (1): BatchNorm2d(64, eps=1e-05, momentum=0.1, affine=True, track_running_stats=True)\n",
       "   (2): ReLU(inplace)\n",
       "   (3): MaxPool2d(kernel_size=3, stride=2, padding=1, dilation=1, ceil_mode=False)\n",
       "   (4): Conv2d(64, 64, kernel_size=(3, 3), stride=(1, 1), padding=(1, 1), bias=False)\n",
       "   (5): BatchNorm2d(64, eps=1e-05, momentum=0.1, affine=True, track_running_stats=True)\n",
       "   (6): ReLU(inplace)\n",
       "   (7): Conv2d(64, 64, kernel_size=(3, 3), stride=(1, 1), padding=(1, 1), bias=False)\n",
       "   (8): BatchNorm2d(64, eps=1e-05, momentum=0.1, affine=True, track_running_stats=True)\n",
       "   (9): Conv2d(64, 64, kernel_size=(3, 3), stride=(1, 1), padding=(1, 1), bias=False)\n",
       "   (10): BatchNorm2d(64, eps=1e-05, momentum=0.1, affine=True, track_running_stats=True)\n",
       "   (11): ReLU(inplace)\n",
       "   (12): Conv2d(64, 64, kernel_size=(3, 3), stride=(1, 1), padding=(1, 1), bias=False)\n",
       "   (13): BatchNorm2d(64, eps=1e-05, momentum=0.1, affine=True, track_running_stats=True)\n",
       "   (14): Conv2d(64, 128, kernel_size=(3, 3), stride=(2, 2), padding=(1, 1), bias=False)\n",
       "   (15): BatchNorm2d(128, eps=1e-05, momentum=0.1, affine=True, track_running_stats=True)\n",
       "   (16): ReLU(inplace)\n",
       "   (17): Conv2d(128, 128, kernel_size=(3, 3), stride=(1, 1), padding=(1, 1), bias=False)\n",
       "   (18): BatchNorm2d(128, eps=1e-05, momentum=0.1, affine=True, track_running_stats=True)\n",
       "   (19): Conv2d(64, 128, kernel_size=(1, 1), stride=(2, 2), bias=False)\n",
       "   (20): BatchNorm2d(128, eps=1e-05, momentum=0.1, affine=True, track_running_stats=True)\n",
       "   (21): Conv2d(128, 128, kernel_size=(3, 3), stride=(1, 1), padding=(1, 1), bias=False)\n",
       "   (22): BatchNorm2d(128, eps=1e-05, momentum=0.1, affine=True, track_running_stats=True)\n",
       "   (23): ReLU(inplace)\n",
       "   (24): Conv2d(128, 128, kernel_size=(3, 3), stride=(1, 1), padding=(1, 1), bias=False)\n",
       "   (25): BatchNorm2d(128, eps=1e-05, momentum=0.1, affine=True, track_running_stats=True)\n",
       " ), Sequential(\n",
       "   (0): Conv2d(128, 256, kernel_size=(3, 3), stride=(2, 2), padding=(1, 1), bias=False)\n",
       "   (1): BatchNorm2d(256, eps=1e-05, momentum=0.1, affine=True, track_running_stats=True)\n",
       "   (2): ReLU(inplace)\n",
       "   (3): Conv2d(256, 256, kernel_size=(3, 3), stride=(1, 1), padding=(1, 1), bias=False)\n",
       "   (4): BatchNorm2d(256, eps=1e-05, momentum=0.1, affine=True, track_running_stats=True)\n",
       "   (5): Conv2d(128, 256, kernel_size=(1, 1), stride=(2, 2), bias=False)\n",
       "   (6): BatchNorm2d(256, eps=1e-05, momentum=0.1, affine=True, track_running_stats=True)\n",
       "   (7): Conv2d(256, 256, kernel_size=(3, 3), stride=(1, 1), padding=(1, 1), bias=False)\n",
       "   (8): BatchNorm2d(256, eps=1e-05, momentum=0.1, affine=True, track_running_stats=True)\n",
       "   (9): ReLU(inplace)\n",
       "   (10): Conv2d(256, 256, kernel_size=(3, 3), stride=(1, 1), padding=(1, 1), bias=False)\n",
       "   (11): BatchNorm2d(256, eps=1e-05, momentum=0.1, affine=True, track_running_stats=True)\n",
       "   (12): Conv2d(256, 512, kernel_size=(3, 3), stride=(2, 2), padding=(1, 1), bias=False)\n",
       "   (13): BatchNorm2d(512, eps=1e-05, momentum=0.1, affine=True, track_running_stats=True)\n",
       "   (14): ReLU(inplace)\n",
       "   (15): Conv2d(512, 512, kernel_size=(3, 3), stride=(1, 1), padding=(1, 1), bias=False)\n",
       "   (16): BatchNorm2d(512, eps=1e-05, momentum=0.1, affine=True, track_running_stats=True)\n",
       "   (17): Conv2d(256, 512, kernel_size=(1, 1), stride=(2, 2), bias=False)\n",
       "   (18): BatchNorm2d(512, eps=1e-05, momentum=0.1, affine=True, track_running_stats=True)\n",
       "   (19): Conv2d(512, 512, kernel_size=(3, 3), stride=(1, 1), padding=(1, 1), bias=False)\n",
       "   (20): BatchNorm2d(512, eps=1e-05, momentum=0.1, affine=True, track_running_stats=True)\n",
       "   (21): ReLU(inplace)\n",
       "   (22): Conv2d(512, 512, kernel_size=(3, 3), stride=(1, 1), padding=(1, 1), bias=False)\n",
       "   (23): BatchNorm2d(512, eps=1e-05, momentum=0.1, affine=True, track_running_stats=True)\n",
       " ), Sequential(\n",
       "   (0): AdaptiveAvgPool2d(output_size=1)\n",
       "   (1): AdaptiveMaxPool2d(output_size=1)\n",
       "   (2): Flatten()\n",
       "   (3): BatchNorm1d(1024, eps=1e-05, momentum=0.1, affine=True, track_running_stats=True)\n",
       "   (4): Dropout(p=0.25)\n",
       "   (5): Linear(in_features=1024, out_features=512, bias=True)\n",
       "   (6): ReLU(inplace)\n",
       "   (7): BatchNorm1d(512, eps=1e-05, momentum=0.1, affine=True, track_running_stats=True)\n",
       "   (8): Dropout(p=0.5)\n",
       "   (9): Linear(in_features=512, out_features=2, bias=True)\n",
       " )]"
      ]
     },
     "execution_count": 6,
     "metadata": {},
     "output_type": "execute_result"
    }
   ],
   "source": [
    "lg = learn.layer_groups\n",
    "len(lg)\n",
    "lg"
   ]
  },
  {
   "cell_type": "code",
   "execution_count": 7,
   "metadata": {},
   "outputs": [
    {
     "data": {
      "text/html": [],
      "text/plain": [
       "<IPython.core.display.HTML object>"
      ]
     },
     "metadata": {},
     "output_type": "display_data"
    },
    {
     "name": "stdout",
     "output_type": "stream",
     "text": [
      "LR Finder is complete, type {learner_name}.recorder.plot() to see the graph.\n"
     ]
    },
    {
     "data": {
      "image/png": "[encoded data removed]",
      "text/plain": [
       "<Figure size 432x288 with 1 Axes>"
      ]
     },
     "metadata": {
      "needs_background": "light"
     },
     "output_type": "display_data"
    }
   ],
   "source": [
    "learn.lr_find()\n",
    "learn.recorder.plot()"
   ]
  },
  {
   "cell_type": "code",
   "execution_count": 8,
   "metadata": {},
   "outputs": [],
   "source": [
    "lr = 1e-2"
   ]
  },
  {
   "cell_type": "code",
   "execution_count": 9,
   "metadata": {},
   "outputs": [
    {
     "data": {
      "text/plain": [
       "======================================================================\n",
       "Layer (type)         Output Shape         Param #    Trainable \n",
       "======================================================================\n",
       "Conv2d               [64, 14, 14]         9,408      False     \n",
       "______________________________________________________________________\n",
       "BatchNorm2d          [64, 14, 14]         128        True      \n",
       "______________________________________________________________________\n",
       "ReLU                 [64, 14, 14]         0          False     \n",
       "______________________________________________________________________\n",
       "MaxPool2d            [64, 7, 7]           0          False     \n",
       "______________________________________________________________________\n",
       "Conv2d               [64, 7, 7]           36,864     False     \n",
       "______________________________________________________________________\n",
       "BatchNorm2d          [64, 7, 7]           128        True      \n",
       "______________________________________________________________________\n",
       "ReLU                 [64, 7, 7]           0          False     \n",
       "______________________________________________________________________\n",
       "Conv2d               [64, 7, 7]           36,864     False     \n",
       "______________________________________________________________________\n",
       "BatchNorm2d          [64, 7, 7]           128        True      \n",
       "______________________________________________________________________\n",
       "Conv2d               [64, 7, 7]           36,864     False     \n",
       "______________________________________________________________________\n",
       "BatchNorm2d          [64, 7, 7]           128        True      \n",
       "______________________________________________________________________\n",
       "ReLU                 [64, 7, 7]           0          False     \n",
       "______________________________________________________________________\n",
       "Conv2d               [64, 7, 7]           36,864     False     \n",
       "______________________________________________________________________\n",
       "BatchNorm2d          [64, 7, 7]           128        True      \n",
       "______________________________________________________________________\n",
       "Conv2d               [128, 4, 4]          73,728     False     \n",
       "______________________________________________________________________\n",
       "BatchNorm2d          [128, 4, 4]          256        True      \n",
       "______________________________________________________________________\n",
       "ReLU                 [128, 4, 4]          0          False     \n",
       "______________________________________________________________________\n",
       "Conv2d               [128, 4, 4]          147,456    False     \n",
       "______________________________________________________________________\n",
       "BatchNorm2d          [128, 4, 4]          256        True      \n",
       "______________________________________________________________________\n",
       "Conv2d               [128, 4, 4]          8,192      False     \n",
       "______________________________________________________________________\n",
       "BatchNorm2d          [128, 4, 4]          256        True      \n",
       "______________________________________________________________________\n",
       "Conv2d               [128, 4, 4]          147,456    False     \n",
       "______________________________________________________________________\n",
       "BatchNorm2d          [128, 4, 4]          256        True      \n",
       "______________________________________________________________________\n",
       "ReLU                 [128, 4, 4]          0          False     \n",
       "______________________________________________________________________\n",
       "Conv2d               [128, 4, 4]          147,456    False     \n",
       "______________________________________________________________________\n",
       "BatchNorm2d          [128, 4, 4]          256        True      \n",
       "______________________________________________________________________\n",
       "Conv2d               [256, 2, 2]          294,912    False     \n",
       "______________________________________________________________________\n",
       "BatchNorm2d          [256, 2, 2]          512        True      \n",
       "______________________________________________________________________\n",
       "ReLU                 [256, 2, 2]          0          False     \n",
       "______________________________________________________________________\n",
       "Conv2d               [256, 2, 2]          589,824    False     \n",
       "______________________________________________________________________\n",
       "BatchNorm2d          [256, 2, 2]          512        True      \n",
       "______________________________________________________________________\n",
       "Conv2d               [256, 2, 2]          32,768     False     \n",
       "______________________________________________________________________\n",
       "BatchNorm2d          [256, 2, 2]          512        True      \n",
       "______________________________________________________________________\n",
       "Conv2d               [256, 2, 2]          589,824    False     \n",
       "______________________________________________________________________\n",
       "BatchNorm2d          [256, 2, 2]          512        True      \n",
       "______________________________________________________________________\n",
       "ReLU                 [256, 2, 2]          0          False     \n",
       "______________________________________________________________________\n",
       "Conv2d               [256, 2, 2]          589,824    False     \n",
       "______________________________________________________________________\n",
       "BatchNorm2d          [256, 2, 2]          512        True      \n",
       "______________________________________________________________________\n",
       "Conv2d               [512, 1, 1]          1,179,648  False     \n",
       "______________________________________________________________________\n",
       "BatchNorm2d          [512, 1, 1]          1,024      True      \n",
       "______________________________________________________________________\n",
       "ReLU                 [512, 1, 1]          0          False     \n",
       "______________________________________________________________________\n",
       "Conv2d               [512, 1, 1]          2,359,296  False     \n",
       "______________________________________________________________________\n",
       "BatchNorm2d          [512, 1, 1]          1,024      True      \n",
       "______________________________________________________________________\n",
       "Conv2d               [512, 1, 1]          131,072    False     \n",
       "______________________________________________________________________\n",
       "BatchNorm2d          [512, 1, 1]          1,024      True      \n",
       "______________________________________________________________________\n",
       "Conv2d               [512, 1, 1]          2,359,296  False     \n",
       "______________________________________________________________________\n",
       "BatchNorm2d          [512, 1, 1]          1,024      True      \n",
       "______________________________________________________________________\n",
       "ReLU                 [512, 1, 1]          0          False     \n",
       "______________________________________________________________________\n",
       "Conv2d               [512, 1, 1]          2,359,296  False     \n",
       "______________________________________________________________________\n",
       "BatchNorm2d          [512, 1, 1]          1,024      True      \n",
       "______________________________________________________________________\n",
       "AdaptiveAvgPool2d    [512, 1, 1]          0          False     \n",
       "______________________________________________________________________\n",
       "AdaptiveMaxPool2d    [512, 1, 1]          0          False     \n",
       "______________________________________________________________________\n",
       "Flatten              [1024]               0          False     \n",
       "______________________________________________________________________\n",
       "BatchNorm1d          [1024]               2,048      True      \n",
       "______________________________________________________________________\n",
       "Dropout              [1024]               0          False     \n",
       "______________________________________________________________________\n",
       "Linear               [512]                524,800    True      \n",
       "______________________________________________________________________\n",
       "ReLU                 [512]                0          False     \n",
       "______________________________________________________________________\n",
       "BatchNorm1d          [512]                1,024      True      \n",
       "______________________________________________________________________\n",
       "Dropout              [512]                0          False     \n",
       "______________________________________________________________________\n",
       "Linear               [2]                  1,026      True      \n",
       "______________________________________________________________________\n",
       "\n",
       "Total params: 11,705,410\n",
       "Total trainable params: 538,498\n",
       "Total non-trainable params: 11,166,912"
      ]
     },
     "execution_count": 9,
     "metadata": {},
     "output_type": "execute_result"
    }
   ],
   "source": [
    "learn.summary()"
   ]
  },
  {
   "cell_type": "code",
   "execution_count": 10,
   "metadata": {},
   "outputs": [
    {
     "data": {
      "text/html": [
       "<table border=\"1\" class=\"dataframe\">\n",
       "  <thead>\n",
       "    <tr style=\"text-align: left;\">\n",
       "      <th>epoch</th>\n",
       "      <th>train_loss</th>\n",
       "      <th>valid_loss</th>\n",
       "      <th>accuracy</th>\n",
       "      <th>time</th>\n",
       "    </tr>\n",
       "  </thead>\n",
       "  <tbody>\n",
       "    <tr>\n",
       "      <td>0</td>\n",
       "      <td>0.062794</td>\n",
       "      <td>0.014615</td>\n",
       "      <td>0.994112</td>\n",
       "      <td>00:05</td>\n",
       "    </tr>\n",
       "    <tr>\n",
       "      <td>1</td>\n",
       "      <td>0.036416</td>\n",
       "      <td>0.006548</td>\n",
       "      <td>0.998037</td>\n",
       "      <td>00:05</td>\n",
       "    </tr>\n",
       "    <tr>\n",
       "      <td>2</td>\n",
       "      <td>0.008165</td>\n",
       "      <td>0.002281</td>\n",
       "      <td>0.998528</td>\n",
       "      <td>00:05</td>\n",
       "    </tr>\n",
       "  </tbody>\n",
       "</table>"
      ],
      "text/plain": [
       "<IPython.core.display.HTML object>"
      ]
     },
     "metadata": {},
     "output_type": "display_data"
    },
    {
     "data": {
      "image/png": "[encoded data removed]",
      "text/plain": [
       "<Figure size 432x288 with 1 Axes>"
      ]
     },
     "metadata": {},
     "output_type": "display_data"
    }
   ],
   "source": [
    "learn.fit_one_cycle(3, lr)"
   ]
  },
  {
   "cell_type": "code",
   "execution_count": 11,
   "metadata": {},
   "outputs": [
    {
     "data": {
      "image/png": "[encoded data removed]",
      "text/plain": [
       "<Figure size 432x288 with 1 Axes>"
      ]
     },
     "metadata": {
      "needs_background": "light"
     },
     "output_type": "display_data"
    }
   ],
   "source": [
    "learn.recorder.plot_lr()"
   ]
  },
  {
   "cell_type": "code",
   "execution_count": 12,
   "metadata": {},
   "outputs": [],
   "source": [
    "learn.unfreeze()"
   ]
  },
  {
   "cell_type": "code",
   "execution_count": 13,
   "metadata": {},
   "outputs": [
    {
     "data": {
      "text/plain": [
       "======================================================================\n",
       "Layer (type)         Output Shape         Param #    Trainable \n",
       "======================================================================\n",
       "Conv2d               [64, 14, 14]         9,408      True      \n",
       "______________________________________________________________________\n",
       "BatchNorm2d          [64, 14, 14]         128        True      \n",
       "______________________________________________________________________\n",
       "ReLU                 [64, 14, 14]         0          False     \n",
       "______________________________________________________________________\n",
       "MaxPool2d            [64, 7, 7]           0          False     \n",
       "______________________________________________________________________\n",
       "Conv2d               [64, 7, 7]           36,864     True      \n",
       "______________________________________________________________________\n",
       "BatchNorm2d          [64, 7, 7]           128        True      \n",
       "______________________________________________________________________\n",
       "ReLU                 [64, 7, 7]           0          False     \n",
       "______________________________________________________________________\n",
       "Conv2d               [64, 7, 7]           36,864     True      \n",
       "______________________________________________________________________\n",
       "BatchNorm2d          [64, 7, 7]           128        True      \n",
       "______________________________________________________________________\n",
       "Conv2d               [64, 7, 7]           36,864     True      \n",
       "______________________________________________________________________\n",
       "BatchNorm2d          [64, 7, 7]           128        True      \n",
       "______________________________________________________________________\n",
       "ReLU                 [64, 7, 7]           0          False     \n",
       "______________________________________________________________________\n",
       "Conv2d               [64, 7, 7]           36,864     True      \n",
       "______________________________________________________________________\n",
       "BatchNorm2d          [64, 7, 7]           128        True      \n",
       "______________________________________________________________________\n",
       "Conv2d               [128, 4, 4]          73,728     True      \n",
       "______________________________________________________________________\n",
       "BatchNorm2d          [128, 4, 4]          256        True      \n",
       "______________________________________________________________________\n",
       "ReLU                 [128, 4, 4]          0          False     \n",
       "______________________________________________________________________\n",
       "Conv2d               [128, 4, 4]          147,456    True      \n",
       "______________________________________________________________________\n",
       "BatchNorm2d          [128, 4, 4]          256        True      \n",
       "______________________________________________________________________\n",
       "Conv2d               [128, 4, 4]          8,192      True      \n",
       "______________________________________________________________________\n",
       "BatchNorm2d          [128, 4, 4]          256        True      \n",
       "______________________________________________________________________\n",
       "Conv2d               [128, 4, 4]          147,456    True      \n",
       "______________________________________________________________________\n",
       "BatchNorm2d          [128, 4, 4]          256        True      \n",
       "______________________________________________________________________\n",
       "ReLU                 [128, 4, 4]          0          False     \n",
       "______________________________________________________________________\n",
       "Conv2d               [128, 4, 4]          147,456    True      \n",
       "______________________________________________________________________\n",
       "BatchNorm2d          [128, 4, 4]          256        True      \n",
       "______________________________________________________________________\n",
       "Conv2d               [256, 2, 2]          294,912    True      \n",
       "______________________________________________________________________\n",
       "BatchNorm2d          [256, 2, 2]          512        True      \n",
       "______________________________________________________________________\n",
       "ReLU                 [256, 2, 2]          0          False     \n",
       "______________________________________________________________________\n",
       "Conv2d               [256, 2, 2]          589,824    True      \n",
       "______________________________________________________________________\n",
       "BatchNorm2d          [256, 2, 2]          512        True      \n",
       "______________________________________________________________________\n",
       "Conv2d               [256, 2, 2]          32,768     True      \n",
       "______________________________________________________________________\n",
       "BatchNorm2d          [256, 2, 2]          512        True      \n",
       "______________________________________________________________________\n",
       "Conv2d               [256, 2, 2]          589,824    True      \n",
       "______________________________________________________________________\n",
       "BatchNorm2d          [256, 2, 2]          512        True      \n",
       "______________________________________________________________________\n",
       "ReLU                 [256, 2, 2]          0          False     \n",
       "______________________________________________________________________\n",
       "Conv2d               [256, 2, 2]          589,824    True      \n",
       "______________________________________________________________________\n",
       "BatchNorm2d          [256, 2, 2]          512        True      \n",
       "______________________________________________________________________\n",
       "Conv2d               [512, 1, 1]          1,179,648  True      \n",
       "______________________________________________________________________\n",
       "BatchNorm2d          [512, 1, 1]          1,024      True      \n",
       "______________________________________________________________________\n",
       "ReLU                 [512, 1, 1]          0          False     \n",
       "______________________________________________________________________\n",
       "Conv2d               [512, 1, 1]          2,359,296  True      \n",
       "______________________________________________________________________\n",
       "BatchNorm2d          [512, 1, 1]          1,024      True      \n",
       "______________________________________________________________________\n",
       "Conv2d               [512, 1, 1]          131,072    True      \n",
       "______________________________________________________________________\n",
       "BatchNorm2d          [512, 1, 1]          1,024      True      \n",
       "______________________________________________________________________\n",
       "Conv2d               [512, 1, 1]          2,359,296  True      \n",
       "______________________________________________________________________\n",
       "BatchNorm2d          [512, 1, 1]          1,024      True      \n",
       "______________________________________________________________________\n",
       "ReLU                 [512, 1, 1]          0          False     \n",
       "______________________________________________________________________\n",
       "Conv2d               [512, 1, 1]          2,359,296  True      \n",
       "______________________________________________________________________\n",
       "BatchNorm2d          [512, 1, 1]          1,024      True      \n",
       "______________________________________________________________________\n",
       "AdaptiveAvgPool2d    [512, 1, 1]          0          False     \n",
       "______________________________________________________________________\n",
       "AdaptiveMaxPool2d    [512, 1, 1]          0          False     \n",
       "______________________________________________________________________\n",
       "Flatten              [1024]               0          False     \n",
       "______________________________________________________________________\n",
       "BatchNorm1d          [1024]               2,048      True      \n",
       "______________________________________________________________________\n",
       "Dropout              [1024]               0          False     \n",
       "______________________________________________________________________\n",
       "Linear               [512]                524,800    True      \n",
       "______________________________________________________________________\n",
       "ReLU                 [512]                0          False     \n",
       "______________________________________________________________________\n",
       "BatchNorm1d          [512]                1,024      True      \n",
       "______________________________________________________________________\n",
       "Dropout              [512]                0          False     \n",
       "______________________________________________________________________\n",
       "Linear               [2]                  1,026      True      \n",
       "______________________________________________________________________\n",
       "\n",
       "Total params: 11,705,410\n",
       "Total trainable params: 11,705,410\n",
       "Total non-trainable params: 0"
      ]
     },
     "execution_count": 13,
     "metadata": {},
     "output_type": "execute_result"
    }
   ],
   "source": [
    "learn.summary()"
   ]
  },
  {
   "cell_type": "code",
   "execution_count": 14,
   "metadata": {},
   "outputs": [
    {
     "data": {
      "text/html": [],
      "text/plain": [
       "<IPython.core.display.HTML object>"
      ]
     },
     "metadata": {},
     "output_type": "display_data"
    },
    {
     "name": "stdout",
     "output_type": "stream",
     "text": [
      "LR Finder is complete, type {learner_name}.recorder.plot() to see the graph.\n"
     ]
    },
    {
     "data": {
      "image/png": "[encoded data removed]",
      "text/plain": [
       "<Figure size 432x288 with 1 Axes>"
      ]
     },
     "metadata": {
      "needs_background": "light"
     },
     "output_type": "display_data"
    }
   ],
   "source": [
    "learn.lr_find()\n",
    "learn.recorder.plot()"
   ]
  },
  {
   "cell_type": "code",
   "execution_count": 15,
   "metadata": {},
   "outputs": [
    {
     "data": {
      "text/html": [
       "<table border=\"1\" class=\"dataframe\">\n",
       "  <thead>\n",
       "    <tr style=\"text-align: left;\">\n",
       "      <th>epoch</th>\n",
       "      <th>train_loss</th>\n",
       "      <th>valid_loss</th>\n",
       "      <th>accuracy</th>\n",
       "      <th>time</th>\n",
       "    </tr>\n",
       "  </thead>\n",
       "  <tbody>\n",
       "    <tr>\n",
       "      <td>0</td>\n",
       "      <td>0.029815</td>\n",
       "      <td>0.003424</td>\n",
       "      <td>0.998528</td>\n",
       "      <td>00:06</td>\n",
       "    </tr>\n",
       "    <tr>\n",
       "      <td>1</td>\n",
       "      <td>0.016085</td>\n",
       "      <td>0.000419</td>\n",
       "      <td>1.000000</td>\n",
       "      <td>00:06</td>\n",
       "    </tr>\n",
       "    <tr>\n",
       "      <td>2</td>\n",
       "      <td>0.002738</td>\n",
       "      <td>0.001257</td>\n",
       "      <td>0.999509</td>\n",
       "      <td>00:06</td>\n",
       "    </tr>\n",
       "  </tbody>\n",
       "</table>"
      ],
      "text/plain": [
       "<IPython.core.display.HTML object>"
      ]
     },
     "metadata": {},
     "output_type": "display_data"
    },
    {
     "data": {
      "image/png": "[encoded data removed]",
      "text/plain": [
       "<Figure size 432x288 with 1 Axes>"
      ]
     },
     "metadata": {},
     "output_type": "display_data"
    }
   ],
   "source": [
    "learn.fit_one_cycle(3, slice(1e-2/2.6**4, 1e-2))"
   ]
  },
  {
   "cell_type": "code",
   "execution_count": 16,
   "metadata": {},
   "outputs": [
    {
     "data": {
      "image/png": "[encoded data removed]",
      "text/plain": [
       "<Figure size 432x288 with 1 Axes>"
      ]
     },
     "metadata": {
      "needs_background": "light"
     },
     "output_type": "display_data"
    }
   ],
   "source": [
    "learn.recorder.plot_lr()"
   ]
  },
  {
   "cell_type": "code",
   "execution_count": null,
   "metadata": {},
   "outputs": [],
   "source": []
  }
 ],
 "metadata": {
  "kernelspec": {
   "display_name": "Python 3",
   "language": "python",
   "name": "python3"
  },
  "language_info": {
   "codemirror_mode": {
    "name": "ipython",
    "version": 3
   },
   "file_extension": ".py",
   "mimetype": "text/x-python",
   "name": "python",
   "nbconvert_exporter": "python",
   "pygments_lexer": "ipython3",
   "version": "3.6.6"
  }
 },
 "nbformat": 4,
 "nbformat_minor": 2
}
