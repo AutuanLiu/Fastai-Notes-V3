{
 "cells": [
  {
   "cell_type": "code",
   "execution_count": 1,
   "metadata": {},
   "outputs": [],
   "source": [
    "%matplotlib inline\n",
    "%reload_ext autoreload\n",
    "%autoreload 2\n",
    "# 多行输出\n",
    "from IPython.core.interactiveshell import InteractiveShell\n",
    "InteractiveShell.ast_node_interactivity = \"all\" "
   ]
  },
  {
   "cell_type": "markdown",
   "metadata": {},
   "source": [
    "# GCN 推荐系统\n",
    "1. [AutuanLiu/PyTorch-Geometric-YooChoose: This is a tutorial for PyTorch Geometric on the YooChoose dataset](https://github.com/AutuanLiu/PyTorch-Geometric-YooChoose)\n",
    "2. [Hands on Graph Neural Networks with PyTorch & PyTorch Geometric](https://towardsdatascience.com/hands-on-graph-neural-networks-with-pytorch-pytorch-geometric-359487e221a8)\n",
    "3. [RecSys Challenge 2015 - Challenge](https://2015.recsyschallenge.com/challenge.html?source=post_page)"
   ]
  },
  {
   "cell_type": "markdown",
   "metadata": {},
   "source": [
    "## Task\n",
    "给出电商网站的用户点击序列，预测用户是否会购买，如果购买，他会买什么？\n",
    "\n",
    "1. 用户是否会点击？\n",
    "2. 用户如果点击，他会买什么？"
   ]
  },
  {
   "cell_type": "markdown",
   "metadata": {},
   "source": [
    "## Data\n",
    "### Training\n",
    "- yoochoose-clicks.dat - 点击记录. \n",
    "    - Session ID – 每个 session 可能有一个或者多个点击记录.\n",
    "    - Timestamp – 时间戳\n",
    "    - Item ID – item的标识.\n",
    "    - Category – item的类别.\n",
    "- yoochoose-buys.dat - 购买记录:\n",
    "    - Session ID - 每个 session 可能有一个或者多个购买记录.\n",
    "    - Timestamp - 时间戳.\n",
    "    - Item ID – item的标识.\n",
    "    - Price – item的价格.\n",
    "    - Quantity – item被购买的次数.\n",
    "- yoochoose-buys.dat 中的 Session ID 一定会出现在 yoochoose-clicks.dat， 具有相同会话ID的记录一起构成会话期间某个用户的单击事件序列， 会话可以很短(几分钟)或很长(几小时)，可以单击一次或数百次，一切都取决于用户的活动。\n",
    "\n",
    "### Test\n",
    "- yoochoose-test.dat - 和 yoochoose-clicks.dat 数据的结构相同\n",
    "    - Session ID\n",
    "    - Timestamp\n",
    "    - Item ID\n",
    "    - Category\n",
    "\n",
    "### Solution\n",
    "\n",
    "任务是预测测试文件中的每个会话，这个会话中是否有购买事件，如果有，将购买哪些项。不需要预测数量\n",
    "\n",
    "- solution.dat\n",
    "    - Session ID\n",
    "    - 用逗号分割在这个 session中会购买的 item ID\n",
    "    - 用 ';' 分割不同的域\n",
    "- 如果测试文件中存在会话ID，但解决方案文件中不存在，这意味着挑战者预测的会话不会以购买事件结束。"
   ]
  },
  {
   "cell_type": "code",
   "execution_count": 2,
   "metadata": {},
   "outputs": [],
   "source": [
    "# export\n",
    "import os, gc\n",
    "import torch\n",
    "import pickle\n",
    "from pathlib import Path\n",
    "import pandas as pd\n",
    "import numpy as np\n",
    "from sklearn.preprocessing import LabelEncoder\n",
    "np.random.seed(123)"
   ]
  },
  {
   "cell_type": "code",
   "execution_count": 3,
   "metadata": {},
   "outputs": [],
   "source": [
    "# export\n",
    "root = Path('../data/yoochoose-data/')"
   ]
  },
  {
   "cell_type": "code",
   "execution_count": 4,
   "metadata": {},
   "outputs": [
    {
     "data": {
      "text/plain": [
       "['dataset-README.txt',\n",
       " 'processed',\n",
       " 'clicks_pro.csv',\n",
       " 'yoochoose-clicks.dat',\n",
       " 'clicks_pro_100m.csv',\n",
       " 'yoochoose-test.dat',\n",
       " 'data.h5',\n",
       " 'clicks_dataset.pkl',\n",
       " 'yoochoose-buys.dat',\n",
       " '.ipynb_checkpoints']"
      ]
     },
     "execution_count": 4,
     "metadata": {},
     "output_type": "execute_result"
    }
   ],
   "source": [
    "os.listdir(root)"
   ]
  },
  {
   "cell_type": "code",
   "execution_count": 5,
   "metadata": {},
   "outputs": [],
   "source": [
    "click_columns=['session_id', 'timestamp', 'item_id', 'category']\n",
    "buy_columns=['session_id', 'timestamp', 'item_id', 'price', 'quantity']"
   ]
  },
  {
   "cell_type": "code",
   "execution_count": 6,
   "metadata": {},
   "outputs": [],
   "source": [
    "clicks = pd.read_csv(root/'yoochoose-clicks.dat', header=None, names=click_columns, low_memory=False)\n",
    "buys = pd.read_csv(root/'yoochoose-buys.dat', header=None, names=buy_columns, low_memory=False)"
   ]
  },
  {
   "cell_type": "markdown",
   "metadata": {},
   "source": [
    "### 数据"
   ]
  },
  {
   "cell_type": "code",
   "execution_count": 7,
   "metadata": {},
   "outputs": [
    {
     "data": {
      "text/html": [
       "<div>\n",
       "<style scoped>\n",
       "    .dataframe tbody tr th:only-of-type {\n",
       "        vertical-align: middle;\n",
       "    }\n",
       "\n",
       "    .dataframe tbody tr th {\n",
       "        vertical-align: top;\n",
       "    }\n",
       "\n",
       "    .dataframe thead th {\n",
       "        text-align: right;\n",
       "    }\n",
       "</style>\n",
       "<table border=\"1\" class=\"dataframe\">\n",
       "  <thead>\n",
       "    <tr style=\"text-align: right;\">\n",
       "      <th></th>\n",
       "      <th>session_id</th>\n",
       "      <th>timestamp</th>\n",
       "      <th>item_id</th>\n",
       "      <th>category</th>\n",
       "    </tr>\n",
       "  </thead>\n",
       "  <tbody>\n",
       "    <tr>\n",
       "      <th>14350187</th>\n",
       "      <td>4834644</td>\n",
       "      <td>2014-06-15T17:07:12.299Z</td>\n",
       "      <td>214587317</td>\n",
       "      <td>0</td>\n",
       "    </tr>\n",
       "    <tr>\n",
       "      <th>7348567</th>\n",
       "      <td>2625326</td>\n",
       "      <td>2014-05-08T13:36:33.640Z</td>\n",
       "      <td>214699633</td>\n",
       "      <td>0</td>\n",
       "    </tr>\n",
       "    <tr>\n",
       "      <th>17161170</th>\n",
       "      <td>5660749</td>\n",
       "      <td>2014-07-05T18:13:47.308Z</td>\n",
       "      <td>214849040</td>\n",
       "      <td>6</td>\n",
       "    </tr>\n",
       "    <tr>\n",
       "      <th>17090065</th>\n",
       "      <td>5672639</td>\n",
       "      <td>2014-07-06T07:47:33.648Z</td>\n",
       "      <td>214845405</td>\n",
       "      <td>4</td>\n",
       "    </tr>\n",
       "    <tr>\n",
       "      <th>27329543</th>\n",
       "      <td>9474893</td>\n",
       "      <td>2014-09-01T10:17:48.382Z</td>\n",
       "      <td>214509013</td>\n",
       "      <td>S</td>\n",
       "    </tr>\n",
       "    <tr>\n",
       "      <th>22672083</th>\n",
       "      <td>7551453</td>\n",
       "      <td>2014-08-06T08:54:37.650Z</td>\n",
       "      <td>214567404</td>\n",
       "      <td>S</td>\n",
       "    </tr>\n",
       "    <tr>\n",
       "      <th>28748896</th>\n",
       "      <td>10175682</td>\n",
       "      <td>2014-09-07T08:35:58.247Z</td>\n",
       "      <td>214854155</td>\n",
       "      <td>S</td>\n",
       "    </tr>\n",
       "    <tr>\n",
       "      <th>21567501</th>\n",
       "      <td>7431274</td>\n",
       "      <td>2014-08-04T17:13:49.795Z</td>\n",
       "      <td>214537967</td>\n",
       "      <td>0</td>\n",
       "    </tr>\n",
       "    <tr>\n",
       "      <th>25264004</th>\n",
       "      <td>8933501</td>\n",
       "      <td>2014-08-22T20:53:32.377Z</td>\n",
       "      <td>214848302</td>\n",
       "      <td>S</td>\n",
       "    </tr>\n",
       "    <tr>\n",
       "      <th>13336902</th>\n",
       "      <td>4475823</td>\n",
       "      <td>2014-06-12T12:09:26.139Z</td>\n",
       "      <td>214553565</td>\n",
       "      <td>0</td>\n",
       "    </tr>\n",
       "  </tbody>\n",
       "</table>\n",
       "</div>"
      ],
      "text/plain": [
       "          session_id                 timestamp    item_id category\n",
       "14350187     4834644  2014-06-15T17:07:12.299Z  214587317        0\n",
       "7348567      2625326  2014-05-08T13:36:33.640Z  214699633        0\n",
       "17161170     5660749  2014-07-05T18:13:47.308Z  214849040        6\n",
       "17090065     5672639  2014-07-06T07:47:33.648Z  214845405        4\n",
       "27329543     9474893  2014-09-01T10:17:48.382Z  214509013        S\n",
       "22672083     7551453  2014-08-06T08:54:37.650Z  214567404        S\n",
       "28748896    10175682  2014-09-07T08:35:58.247Z  214854155        S\n",
       "21567501     7431274  2014-08-04T17:13:49.795Z  214537967        0\n",
       "25264004     8933501  2014-08-22T20:53:32.377Z  214848302        S\n",
       "13336902     4475823  2014-06-12T12:09:26.139Z  214553565        0"
      ]
     },
     "execution_count": 7,
     "metadata": {},
     "output_type": "execute_result"
    }
   ],
   "source": [
    "clicks.sample(10)"
   ]
  },
  {
   "cell_type": "code",
   "execution_count": 8,
   "metadata": {},
   "outputs": [
    {
     "data": {
      "text/plain": [
       "session_id     9249729\n",
       "timestamp     32937845\n",
       "item_id          52739\n",
       "category           339\n",
       "dtype: int64"
      ]
     },
     "execution_count": 8,
     "metadata": {},
     "output_type": "execute_result"
    }
   ],
   "source": [
    "clicks.nunique()"
   ]
  },
  {
   "cell_type": "code",
   "execution_count": 9,
   "metadata": {},
   "outputs": [],
   "source": [
    "# with pd.HDFStore(root/'data.h5', 'w') as data:\n",
    "#     data['clicks'] = clicks\n",
    "#     data['buys'] = buys"
   ]
  },
  {
   "cell_type": "code",
   "execution_count": 10,
   "metadata": {},
   "outputs": [
    {
     "data": {
      "text/html": [
       "<div>\n",
       "<style scoped>\n",
       "    .dataframe tbody tr th:only-of-type {\n",
       "        vertical-align: middle;\n",
       "    }\n",
       "\n",
       "    .dataframe tbody tr th {\n",
       "        vertical-align: top;\n",
       "    }\n",
       "\n",
       "    .dataframe thead th {\n",
       "        text-align: right;\n",
       "    }\n",
       "</style>\n",
       "<table border=\"1\" class=\"dataframe\">\n",
       "  <thead>\n",
       "    <tr style=\"text-align: right;\">\n",
       "      <th></th>\n",
       "      <th>session_id</th>\n",
       "      <th>timestamp</th>\n",
       "      <th>item_id</th>\n",
       "      <th>price</th>\n",
       "      <th>quantity</th>\n",
       "    </tr>\n",
       "  </thead>\n",
       "  <tbody>\n",
       "    <tr>\n",
       "      <th>1129238</th>\n",
       "      <td>11445978</td>\n",
       "      <td>2014-09-27T10:21:30.900Z</td>\n",
       "      <td>214690775</td>\n",
       "      <td>1570</td>\n",
       "      <td>1</td>\n",
       "    </tr>\n",
       "    <tr>\n",
       "      <th>557492</th>\n",
       "      <td>5789688</td>\n",
       "      <td>2014-07-04T15:35:54.405Z</td>\n",
       "      <td>214839956</td>\n",
       "      <td>0</td>\n",
       "      <td>0</td>\n",
       "    </tr>\n",
       "    <tr>\n",
       "      <th>760398</th>\n",
       "      <td>7615309</td>\n",
       "      <td>2014-08-07T07:25:37.493Z</td>\n",
       "      <td>214587328</td>\n",
       "      <td>0</td>\n",
       "      <td>0</td>\n",
       "    </tr>\n",
       "    <tr>\n",
       "      <th>269394</th>\n",
       "      <td>2873916</td>\n",
       "      <td>2014-05-15T09:00:28.363Z</td>\n",
       "      <td>214835165</td>\n",
       "      <td>0</td>\n",
       "      <td>0</td>\n",
       "    </tr>\n",
       "    <tr>\n",
       "      <th>742293</th>\n",
       "      <td>8002044</td>\n",
       "      <td>2014-08-06T09:35:38.562Z</td>\n",
       "      <td>214587028</td>\n",
       "      <td>0</td>\n",
       "      <td>0</td>\n",
       "    </tr>\n",
       "    <tr>\n",
       "      <th>474160</th>\n",
       "      <td>5157217</td>\n",
       "      <td>2014-06-23T06:47:14.637Z</td>\n",
       "      <td>214839617</td>\n",
       "      <td>0</td>\n",
       "      <td>0</td>\n",
       "    </tr>\n",
       "    <tr>\n",
       "      <th>374486</th>\n",
       "      <td>3670649</td>\n",
       "      <td>2014-06-01T12:26:18.565Z</td>\n",
       "      <td>214839984</td>\n",
       "      <td>0</td>\n",
       "      <td>0</td>\n",
       "    </tr>\n",
       "    <tr>\n",
       "      <th>604516</th>\n",
       "      <td>6520068</td>\n",
       "      <td>2014-07-16T12:23:20.937Z</td>\n",
       "      <td>214826565</td>\n",
       "      <td>0</td>\n",
       "      <td>0</td>\n",
       "    </tr>\n",
       "    <tr>\n",
       "      <th>89424</th>\n",
       "      <td>499127</td>\n",
       "      <td>2014-04-09T08:58:21.114Z</td>\n",
       "      <td>214829336</td>\n",
       "      <td>313</td>\n",
       "      <td>3</td>\n",
       "    </tr>\n",
       "    <tr>\n",
       "      <th>393849</th>\n",
       "      <td>4241381</td>\n",
       "      <td>2014-06-09T18:08:43.776Z</td>\n",
       "      <td>214748338</td>\n",
       "      <td>0</td>\n",
       "      <td>0</td>\n",
       "    </tr>\n",
       "  </tbody>\n",
       "</table>\n",
       "</div>"
      ],
      "text/plain": [
       "         session_id                 timestamp    item_id  price  quantity\n",
       "1129238    11445978  2014-09-27T10:21:30.900Z  214690775   1570         1\n",
       "557492      5789688  2014-07-04T15:35:54.405Z  214839956      0         0\n",
       "760398      7615309  2014-08-07T07:25:37.493Z  214587328      0         0\n",
       "269394      2873916  2014-05-15T09:00:28.363Z  214835165      0         0\n",
       "742293      8002044  2014-08-06T09:35:38.562Z  214587028      0         0\n",
       "474160      5157217  2014-06-23T06:47:14.637Z  214839617      0         0\n",
       "374486      3670649  2014-06-01T12:26:18.565Z  214839984      0         0\n",
       "604516      6520068  2014-07-16T12:23:20.937Z  214826565      0         0\n",
       "89424        499127  2014-04-09T08:58:21.114Z  214829336    313         3\n",
       "393849      4241381  2014-06-09T18:08:43.776Z  214748338      0         0"
      ]
     },
     "execution_count": 10,
     "metadata": {},
     "output_type": "execute_result"
    }
   ],
   "source": [
    "buys.sample(10)"
   ]
  },
  {
   "cell_type": "code",
   "execution_count": 11,
   "metadata": {},
   "outputs": [
    {
     "data": {
      "text/plain": [
       "session_id     509696\n",
       "timestamp     1136477\n",
       "item_id         19949\n",
       "price             735\n",
       "quantity           28\n",
       "dtype: int64"
      ]
     },
     "execution_count": 11,
     "metadata": {},
     "output_type": "execute_result"
    }
   ],
   "source": [
    "buys.nunique()"
   ]
  },
  {
   "cell_type": "code",
   "execution_count": 12,
   "metadata": {},
   "outputs": [
    {
     "data": {
      "text/plain": [
       "(339,)"
      ]
     },
     "execution_count": 12,
     "metadata": {},
     "output_type": "execute_result"
    }
   ],
   "source": [
    "clicks.category.unique().shape"
   ]
  },
  {
   "cell_type": "code",
   "execution_count": 13,
   "metadata": {},
   "outputs": [
    {
     "data": {
      "text/plain": [
       "(33003944, 4)"
      ]
     },
     "execution_count": 13,
     "metadata": {},
     "output_type": "execute_result"
    }
   ],
   "source": [
    "clicks.shape  # 3000万的点击量"
   ]
  },
  {
   "cell_type": "markdown",
   "metadata": {},
   "source": [
    "**计算每个session的点击数量，当点击数量大于2 的时候，认为是一个有效的 session，同时删除无效的session**"
   ]
  },
  {
   "cell_type": "markdown",
   "metadata": {},
   "source": [
    "```\n",
    "pandas.core.groupby.generic.SeriesGroupBy.size()\n",
    "Compute group sizes.\n",
    "\n",
    "Returns:\t\n",
    "Series\n",
    "Number of rows in each group.\n",
    "```"
   ]
  },
  {
   "cell_type": "code",
   "execution_count": 14,
   "metadata": {},
   "outputs": [],
   "source": [
    "clicks['valid_session'] = clicks.session_id.map(clicks.groupby('session_id')['item_id'].size() > 2)"
   ]
  },
  {
   "cell_type": "code",
   "execution_count": 15,
   "metadata": {},
   "outputs": [
    {
     "data": {
      "text/plain": [
       "valid_session\n",
       "False     8375885\n",
       "True     24628059\n",
       "dtype: int64"
      ]
     },
     "execution_count": 15,
     "metadata": {},
     "output_type": "execute_result"
    }
   ],
   "source": [
    "clicks.groupby('valid_session').size()"
   ]
  },
  {
   "cell_type": "code",
   "execution_count": 16,
   "metadata": {},
   "outputs": [
    {
     "data": {
      "text/plain": [
       "session_id     4431931\n",
       "timestamp     24590089\n",
       "item_id          48255\n",
       "category           330\n",
       "dtype: int64"
      ]
     },
     "execution_count": 16,
     "metadata": {},
     "output_type": "execute_result"
    }
   ],
   "source": [
    "clicks = clicks.loc[clicks.valid_session].drop('valid_session',axis=1)\n",
    "clicks.nunique()"
   ]
  },
  {
   "cell_type": "code",
   "execution_count": 17,
   "metadata": {},
   "outputs": [
    {
     "data": {
      "text/plain": [
       "session_id    0\n",
       "timestamp     0\n",
       "item_id       0\n",
       "category      0\n",
       "dtype: int64"
      ]
     },
     "execution_count": 17,
     "metadata": {},
     "output_type": "execute_result"
    }
   ],
   "source": [
    "# 是否存在缺失\n",
    "clicks.isna().sum()"
   ]
  },
  {
   "cell_type": "code",
   "execution_count": 18,
   "metadata": {},
   "outputs": [
    {
     "data": {
      "text/plain": [
       "5.556959032078794"
      ]
     },
     "execution_count": 18,
     "metadata": {},
     "output_type": "execute_result"
    }
   ],
   "source": [
    "# session 的平均点击记录\n",
    "clicks.groupby('session_id')['item_id'].size().mean()"
   ]
  },
  {
   "cell_type": "markdown",
   "metadata": {},
   "source": [
    "- item id 要做 embedding ，其属于稀疏变量，我们对其进行编码"
   ]
  },
  {
   "cell_type": "code",
   "execution_count": 19,
   "metadata": {},
   "outputs": [],
   "source": [
    "item_encoder = LabelEncoder()\n",
    "clicks['item_id'] = item_encoder.fit_transform(clicks['item_id'])"
   ]
  },
  {
   "cell_type": "code",
   "execution_count": 20,
   "metadata": {},
   "outputs": [
    {
     "data": {
      "text/html": [
       "<div>\n",
       "<style scoped>\n",
       "    .dataframe tbody tr th:only-of-type {\n",
       "        vertical-align: middle;\n",
       "    }\n",
       "\n",
       "    .dataframe tbody tr th {\n",
       "        vertical-align: top;\n",
       "    }\n",
       "\n",
       "    .dataframe thead th {\n",
       "        text-align: right;\n",
       "    }\n",
       "</style>\n",
       "<table border=\"1\" class=\"dataframe\">\n",
       "  <thead>\n",
       "    <tr style=\"text-align: right;\">\n",
       "      <th></th>\n",
       "      <th>session_id</th>\n",
       "      <th>timestamp</th>\n",
       "      <th>item_id</th>\n",
       "      <th>category</th>\n",
       "    </tr>\n",
       "  </thead>\n",
       "  <tbody>\n",
       "    <tr>\n",
       "      <th>0</th>\n",
       "      <td>1</td>\n",
       "      <td>2014-04-07T10:51:09.277Z</td>\n",
       "      <td>1909</td>\n",
       "      <td>0</td>\n",
       "    </tr>\n",
       "    <tr>\n",
       "      <th>1</th>\n",
       "      <td>1</td>\n",
       "      <td>2014-04-07T10:54:09.868Z</td>\n",
       "      <td>1908</td>\n",
       "      <td>0</td>\n",
       "    </tr>\n",
       "    <tr>\n",
       "      <th>2</th>\n",
       "      <td>1</td>\n",
       "      <td>2014-04-07T10:54:46.998Z</td>\n",
       "      <td>1910</td>\n",
       "      <td>0</td>\n",
       "    </tr>\n",
       "    <tr>\n",
       "      <th>3</th>\n",
       "      <td>1</td>\n",
       "      <td>2014-04-07T10:57:00.306Z</td>\n",
       "      <td>9038</td>\n",
       "      <td>0</td>\n",
       "    </tr>\n",
       "    <tr>\n",
       "      <th>4</th>\n",
       "      <td>2</td>\n",
       "      <td>2014-04-07T13:56:37.614Z</td>\n",
       "      <td>17503</td>\n",
       "      <td>0</td>\n",
       "    </tr>\n",
       "  </tbody>\n",
       "</table>\n",
       "</div>"
      ],
      "text/plain": [
       "   session_id                 timestamp  item_id category\n",
       "0           1  2014-04-07T10:51:09.277Z     1909        0\n",
       "1           1  2014-04-07T10:54:09.868Z     1908        0\n",
       "2           1  2014-04-07T10:54:46.998Z     1910        0\n",
       "3           1  2014-04-07T10:57:00.306Z     9038        0\n",
       "4           2  2014-04-07T13:56:37.614Z    17503        0"
      ]
     },
     "execution_count": 20,
     "metadata": {},
     "output_type": "execute_result"
    }
   ],
   "source": [
    "clicks.head()"
   ]
  },
  {
   "cell_type": "markdown",
   "metadata": {},
   "source": [
    "- 要确定标签，即给定会话是否有任何购买事件，我们只需检查yoochoose-click.dat中的session_id是否也出现在yoochoose-buy.dat中"
   ]
  },
  {
   "cell_type": "code",
   "execution_count": 21,
   "metadata": {},
   "outputs": [],
   "source": [
    "clicks['label'] = clicks.session_id.isin(buys.session_id)"
   ]
  },
  {
   "cell_type": "markdown",
   "metadata": {},
   "source": [
    "- 统计 session id 的标签"
   ]
  },
  {
   "cell_type": "code",
   "execution_count": 22,
   "metadata": {},
   "outputs": [
    {
     "data": {
      "text/plain": [
       "0.08514934009577316"
      ]
     },
     "execution_count": 22,
     "metadata": {},
     "output_type": "execute_result"
    }
   ],
   "source": [
    "clicks.drop_duplicates('session_id')['label'].mean()"
   ]
  },
  {
   "cell_type": "markdown",
   "metadata": {},
   "source": [
    "- 上述结果说明 样本存在严重的不平衡问题"
   ]
  },
  {
   "cell_type": "markdown",
   "metadata": {},
   "source": [
    "保存处理好的数据"
   ]
  },
  {
   "cell_type": "code",
   "execution_count": 41,
   "metadata": {},
   "outputs": [],
   "source": [
    "clicks.to_csv(root/'clicks_pro.csv', index=False, encoding='utf-8')"
   ]
  },
  {
   "cell_type": "code",
   "execution_count": 42,
   "metadata": {},
   "outputs": [
    {
     "data": {
      "text/plain": [
       "260"
      ]
     },
     "execution_count": 42,
     "metadata": {},
     "output_type": "execute_result"
    }
   ],
   "source": [
    "gc.collect()"
   ]
  },
  {
   "cell_type": "code",
   "execution_count": 44,
   "metadata": {},
   "outputs": [
    {
     "data": {
      "text/plain": [
       "48255"
      ]
     },
     "execution_count": 44,
     "metadata": {},
     "output_type": "execute_result"
    }
   ],
   "source": [
    "clicks.item_id.nunique()"
   ]
  },
  {
   "cell_type": "markdown",
   "metadata": {},
   "source": [
    "构造小型数据集"
   ]
  },
  {
   "cell_type": "code",
   "execution_count": 45,
   "metadata": {},
   "outputs": [],
   "source": [
    "lenx = 1000000\n",
    "clicks = pd.read_csv(root / 'clicks_pro.csv', encoding='utf-8', low_memory=False)\n",
    "samples = np.random.choice(clicks.session_id.unique(), lenx, replace=False)\n",
    "clicks_pro_100m = clicks.loc[clicks.session_id.isin(samples)]\n",
    "clicks_pro_100m.to_csv(root/'clicks_pro_100m.csv', index=False, encoding='utf-8')"
   ]
  },
  {
   "cell_type": "code",
   "execution_count": 46,
   "metadata": {},
   "outputs": [
    {
     "data": {
      "text/plain": [
       "session_id    1000000\n",
       "timestamp     5546820\n",
       "item_id         37494\n",
       "category          257\n",
       "label               2\n",
       "dtype: int64"
      ]
     },
     "execution_count": 46,
     "metadata": {},
     "output_type": "execute_result"
    }
   ],
   "source": [
    "clicks_pro_100m.nunique()"
   ]
  },
  {
   "cell_type": "markdown",
   "metadata": {},
   "source": [
    "**为避免内存超出，上述过程运行一次即可， 导入必要的包和变量**"
   ]
  },
  {
   "cell_type": "markdown",
   "metadata": {},
   "source": [
    "我们将会话中的每个item视为node，因此同一会话中的所有item形成一个graph,即可将每个session id中的每次点击当做一个节点，这个session构成一个graph"
   ]
  },
  {
   "cell_type": "markdown",
   "metadata": {},
   "source": [
    "### 构造数据集"
   ]
  },
  {
   "cell_type": "markdown",
   "metadata": {},
   "source": [
    "- 每个 session id 构成一个图\n",
    "- 每个 session中的序列从 0 开始计数当做节点\n",
    "- 每个 session id 中的 item id 要重新进行编码（节点）,用于确定顺序，节点的特征使用 item id，不使用 category 的原因是因为，我们的目标是对节点进行分类，\n",
    "    category对应的是节点的组别信息，多个item id 可能属于同一个类别\n",
    "- 图的流向是从前一个节点流向后一个节点的链表形式连接  0-->1-->2-->3-->4\n",
    "- 这里也可以从 Dataset 继承，构造更大的数据集，但是要事先对 clicks 进行分块处理"
   ]
  },
  {
   "cell_type": "code",
   "execution_count": 5,
   "metadata": {},
   "outputs": [],
   "source": [
    "# export\n",
    "from torch_geometric.data import InMemoryDataset, Data\n",
    "from tqdm import tqdm\n",
    "\n",
    "class YooChooseBinaryDataset(InMemoryDataset):\n",
    "    def __init__(self, root, transform=None, pre_transform=None):\n",
    "        super().__init__(root, transform, pre_transform)\n",
    "        self.data, self.slices = torch.load(self.processed_paths[0])\n",
    "\n",
    "    @property\n",
    "    def raw_file_names(self):\n",
    "        return []\n",
    "\n",
    "    @property\n",
    "    def processed_file_names(self):\n",
    "        return [Path(self.processed_dir)/'click_binary.pt']\n",
    "\n",
    "    def download(self):\n",
    "        pass\n",
    "\n",
    "    def process(self):\n",
    "        data_list = []\n",
    "        # clicks = pd.read_csv(root / 'clicks_pro.csv', encoding='utf-8', low_memory=False)  # 使用全部数据\n",
    "        clicks = pd.read_csv(root / 'clicks_pro_100m.csv', encoding='utf-8', low_memory=False)  # 使用全部数据\n",
    "\n",
    "        # process by session_id\n",
    "        grouped = clicks.groupby('session_id')\n",
    "        lens = clicks.session_id.unique().shape[0]\n",
    "\n",
    "        # clicks 不需要常驻内存, 并且使用动态加载\n",
    "        del clicks\n",
    "\n",
    "        for session_id, group in tqdm(iter(grouped), total=lens):\n",
    "            # 重新编码，作为节点的顺序\n",
    "            sess_item_id = LabelEncoder().fit_transform(group.item_id)\n",
    "\n",
    "            # 重建索引\n",
    "            group = group.reset_index(drop=True)\n",
    "            group['sess_item_id'] = sess_item_id\n",
    "\n",
    "            # 节点的初始特征\n",
    "            # 重复的浏览记录当做一次记录\n",
    "            # 使用 item id 作为节点特征\n",
    "            # 每个子表 group 都有同样的 session id\n",
    "            node_features = group.loc[group.session_id == session_id, ['sess_item_id', 'item_id']].sort_values('sess_item_id').item_id.drop_duplicates().values\n",
    "            node_features = torch.LongTensor(node_features).unsqueeze(1)\n",
    "\n",
    "            # 序列访问的顺序\n",
    "            source_nodes = group.sess_item_id.values[:-1]\n",
    "            target_nodes = group.sess_item_id.values[1:]\n",
    "            edge_index = torch.tensor([source_nodes, target_nodes], dtype=torch.long)\n",
    "\n",
    "            x = node_features\n",
    "            y = torch.FloatTensor([group.label.values[0]])\n",
    "\n",
    "            # 每个 session 当做一个 graph\n",
    "            data = Data(x=x, edge_index=edge_index, y=y)\n",
    "            data_list.append(data)\n",
    "\n",
    "        data, slices = self.collate(data_list)\n",
    "        torch.save((data, slices), self.processed_paths[0])"
   ]
  },
  {
   "cell_type": "code",
   "execution_count": null,
   "metadata": {},
   "outputs": [],
   "source": [
    "dataset  =  YooChooseBinaryDataset(root=root)"
   ]
  },
  {
   "cell_type": "markdown",
   "metadata": {},
   "source": [
    " **为了避免再次处理数据，对上述生成的数据进行保存，方便下次使用**"
   ]
  },
  {
   "cell_type": "code",
   "execution_count": null,
   "metadata": {},
   "outputs": [],
   "source": [
    "with open(root/'clicks_dataset.pkl', 'wb') as f:\n",
    "    pickle.dump(dataset, f)"
   ]
  },
  {
   "cell_type": "markdown",
   "metadata": {},
   "source": [
    "分割训练集、测试集、验证集，先随机打乱数据"
   ]
  },
  {
   "cell_type": "markdown",
   "metadata": {},
   "source": [
    "存在样本不均衡问题，因为大量session没有购买记录，使用 auc作为评估指标"
   ]
  },
  {
   "cell_type": "code",
   "execution_count": null,
   "metadata": {},
   "outputs": [],
   "source": [
    "dataset = dataset.shuffle()\n",
    "train_dataset = dataset[:800000]\n",
    "val_dataset = dataset[800000:900000]\n",
    "test_dataset = dataset[900000:]\n",
    "len(train_dataset), len(val_dataset), len(test_dataset)"
   ]
  },
  {
   "cell_type": "markdown",
   "metadata": {},
   "source": [
    "- 构建模型"
   ]
  },
  {
   "cell_type": "code",
   "execution_count": null,
   "metadata": {},
   "outputs": [],
   "source": [
    "embed_dim = 128\n",
    "import torch\n",
    "import torch.nn.functional as F\n",
    "from torch import nn\n",
    "from torch_geometric.nn import (SAGEConv, TopKPooling, global_max_pool, global_mean_pool)\n",
    "\n",
    "\n",
    "class Net(torch.nn.Module):\n",
    "    def __init__(self, sparse_sz, emb_sz=128, p=0.5):\n",
    "        super().__init__()\n",
    "\n",
    "        self.item_embedding = torch.nn.Embedding(num_embeddings=sparse_sz, embedding_dim=emb_sz)\n",
    "        self.conv1 = SAGEConv(emb_sz, 128)\n",
    "        self.pool = TopKPooling(128, ratio=0.8)\n",
    "        self.conv2 = SAGEConv(128, 128)\n",
    "        self.fc1 = nn.Sequential(nn.Linear(256, 128), nn.BatchNorm1d(128), nn.ReLU())\n",
    "        self.fc2 = nn.Sequential(nn.Linear(128, 64), nn.BatchNorm1d(64), nn.ReLU())\n",
    "        self.drop = nn.Dropout(p)\n",
    "        self.lin = nn.Linear(64, 1)\n",
    "\n",
    "    def forward(self, data):\n",
    "        x, edge_index, batch = data.x, data.edge_index, data.batch\n",
    "        x = self.item_embedding(x).squeeze(1)\n",
    "\n",
    "        x = F.relu(self.conv1(x, edge_index))\n",
    "\n",
    "        x, edge_index, _, batch, _ = self.pool(x, edge_index, None, batch)\n",
    "        x1 = torch.cat([global_max_pool(x, batch), global_mean_pool(x, batch)], dim=1)\n",
    "\n",
    "        x = F.relu(self.conv2(x, edge_index))\n",
    "\n",
    "        x, edge_index, _, batch, _ = self.pool(x, edge_index, None, batch)\n",
    "        x2 = torch.cat([global_max_pool(x, batch), global_mean_pool(x, batch)], dim=1)\n",
    "\n",
    "        x = F.relu(self.conv2(x, edge_index))\n",
    "\n",
    "        x, edge_index, _, batch, _ = self.pool(x, edge_index, None, batch)\n",
    "        x3 = torch.cat([global_max_pool(x, batch), global_mean_pool(x, batch)], dim=1)\n",
    "\n",
    "        x = x1 + x2 + x3\n",
    "\n",
    "        x = self.fc1(x)\n",
    "        x = self.fc2(x)\n",
    "        x = self.drop(x)\n",
    "        x = torch.sigmoid(self.lin(x)).squeeze(1)\n",
    "        return x"
   ]
  },
  {
   "cell_type": "markdown",
   "metadata": {},
   "source": [
    "### 训练与评估\n",
    "\n",
    "[yooChoose_train.py](./yooChoose_train.py)"
   ]
  },
  {
   "cell_type": "code",
   "execution_count": null,
   "metadata": {},
   "outputs": [],
   "source": []
  }
 ],
 "metadata": {
  "kernelspec": {
   "display_name": "Python 3",
   "language": "python",
   "name": "python3"
  },
  "language_info": {
   "codemirror_mode": {
    "name": "ipython",
    "version": 3
   },
   "file_extension": ".py",
   "mimetype": "text/x-python",
   "name": "python",
   "nbconvert_exporter": "python",
   "pygments_lexer": "ipython3",
   "version": "3.6.7"
  }
 },
 "nbformat": 4,
 "nbformat_minor": 4
}
