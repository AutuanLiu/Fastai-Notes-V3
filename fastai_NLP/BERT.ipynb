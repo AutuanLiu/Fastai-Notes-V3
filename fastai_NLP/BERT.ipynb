{
 "cells": [
  {
   "cell_type": "markdown",
   "metadata": {
    "colab_type": "text",
    "id": "XqLEbsvyOjJ5"
   },
   "source": [
    "# 在Fastai框架下基于BERT模型的中文文本分类\n"
   ]
  },
  {
   "cell_type": "code",
   "execution_count": 1,
   "metadata": {},
   "outputs": [],
   "source": [
    "%matplotlib inline\n",
    "%reload_ext autoreload\n",
    "%autoreload 2\n",
    "# 多行输出\n",
    "from IPython.core.interactiveshell import InteractiveShell\n",
    "InteractiveShell.ast_node_interactivity = \"all\" "
   ]
  },
  {
   "cell_type": "markdown",
   "metadata": {
    "colab_type": "text",
    "id": "KdRDycJLO1qW"
   },
   "source": [
    "## Preparation"
   ]
  },
  {
   "cell_type": "code",
   "execution_count": 2,
   "metadata": {
    "colab": {},
    "colab_type": "code",
    "id": "Yea4tylQORLi"
   },
   "outputs": [],
   "source": [
    "#安装pytorch下包含BERT预训练模型的库\n",
    "# !pip install pytorch-pretrained-bert"
   ]
  },
  {
   "cell_type": "code",
   "execution_count": 3,
   "metadata": {
    "colab": {},
    "colab_type": "code",
    "id": "hmikQXQAPenZ"
   },
   "outputs": [],
   "source": [
    "#引入必要的依赖包\n",
    "import numpy as np\n",
    "import pandas as pd\n",
    "\n",
    "from pathlib import Path\n",
    "from typing import *\n",
    "\n",
    "import torch\n",
    "import torch.optim as optim\n",
    "\n",
    "from fastai import *\n",
    "from fastai.vision import *\n",
    "from fastai.text import *\n",
    "from fastai.callbacks import *"
   ]
  },
  {
   "cell_type": "code",
   "execution_count": 4,
   "metadata": {
    "colab": {},
    "colab_type": "code",
    "id": "uFPURKkfQATE"
   },
   "outputs": [],
   "source": [
    "#设置一个config类，便于参数配置与更改\n",
    "class Config(dict):\n",
    "    def __init__(self, **kwargs):\n",
    "        super().__init__(**kwargs)\n",
    "        for k, v in kwargs.items():\n",
    "            setattr(self, k, v)\n",
    "    \n",
    "    def set(self, key, val):\n",
    "        self[key] = val\n",
    "        setattr(self, key, val)\n",
    "\n",
    "config = Config(\n",
    "    testing=False,\n",
    "    bert_model_name=\"bert-base-chinese\", \n",
    "    #选用中文预训练模型：Chinese Simplified and Traditional, 12-layer, 768-hidden, 12-heads, 110M parameters\n",
    "    max_lr=3e-5,\n",
    "    epochs=5,\n",
    "    use_fp16=False, #fastai里可以方便地调整精度，加快训练速度：learner.to_fp16()\n",
    "    bs=8,\n",
    "    max_seq_len=128, #选取合适的seq_length，较大的值可能导致训练极慢报错等\n",
    ")"
   ]
  },
  {
   "cell_type": "code",
   "execution_count": null,
   "metadata": {
    "colab": {},
    "colab_type": "code",
    "id": "3dS1_jNESiEv"
   },
   "outputs": [],
   "source": []
  },
  {
   "cell_type": "markdown",
   "metadata": {
    "colab_type": "text",
    "id": "bYXEtepaSilw"
   },
   "source": [
    "## Customize Tokenizer and Vocab"
   ]
  },
  {
   "cell_type": "code",
   "execution_count": 5,
   "metadata": {
    "colab": {
     "base_uri": "https://localhost:8080/",
     "height": 34
    },
    "colab_type": "code",
    "id": "JiKPDWViStZS",
    "outputId": "3e7057eb-4b85-41a6-c79d-30c2fa61735a"
   },
   "outputs": [],
   "source": [
    "#pytorch_bert包提供了BertTokenizer类，从选取的模型中提取tok\n",
    "from pytorch_pretrained_bert import BertTokenizer\n",
    "bert_tok = BertTokenizer.from_pretrained(\n",
    "    config.bert_model_name,\n",
    ")"
   ]
  },
  {
   "cell_type": "markdown",
   "metadata": {
    "colab_type": "text",
    "id": "8WHx6utjUCVs"
   },
   "source": [
    "定制Tokenizer需要继承fastai的BaseTokenizer类，注意BERT会在sequence的首尾加上特殊token[CLS]和[SEP]，与fastai里的bos和eos有重合，所以在之后会有include_eos=Fasle的设置"
   ]
  },
  {
   "cell_type": "code",
   "execution_count": 6,
   "metadata": {
    "colab": {},
    "colab_type": "code",
    "id": "09bYVoWBT0wr"
   },
   "outputs": [],
   "source": [
    "class FastAiBertTokenizer(BaseTokenizer):\n",
    "    \"\"\"Wrapper around a BertTokenizer to be a BaseTokenizer in fastai\"\"\"\n",
    "    def __init__(self, tokenizer: BertTokenizer, max_seq_len: int=128, **kwargs):\n",
    "        self._pretrained_tokenizer = tokenizer\n",
    "        self.max_seq_len = max_seq_len\n",
    "\n",
    "    def __call__(self, *args, **kwargs):\n",
    "        return self\n",
    "\n",
    "    def tokenizer(self, t:str) -> List[str]:\n",
    "        \"\"\"Limits the maximum sequence length\"\"\"\n",
    "        return [\"[CLS]\"] + self._pretrained_tokenizer.tokenize(t)[:self.max_seq_len - 2] + [\"[SEP]\"]"
   ]
  },
  {
   "cell_type": "code",
   "execution_count": 7,
   "metadata": {
    "colab": {},
    "colab_type": "code",
    "id": "0HD1qCGCVMMe"
   },
   "outputs": [],
   "source": [
    "#最终的tokenizer\n",
    "fastai_tokenizer = Tokenizer(\n",
    "    tok_func=FastAiBertTokenizer(bert_tok, max_seq_len=config.max_seq_len), \n",
    "    pre_rules=[], \n",
    "    post_rules=[]\n",
    ")"
   ]
  },
  {
   "cell_type": "code",
   "execution_count": 8,
   "metadata": {
    "colab": {
     "base_uri": "https://localhost:8080/",
     "height": 369
    },
    "colab_type": "code",
    "id": "LxXk9yB1V0nB",
    "outputId": "cb24389b-849a-4396-e2af-2fc8b60b0475"
   },
   "outputs": [
    {
     "data": {
      "text/plain": [
       "[('傲', 1000),\n",
       " ('傳', 1001),\n",
       " ('債', 1002),\n",
       " ('傷', 1003),\n",
       " ('傻', 1004),\n",
       " ('傾', 1005),\n",
       " ('僅', 1006),\n",
       " ('働', 1007),\n",
       " ('像', 1008),\n",
       " ('僑', 1009)]"
      ]
     },
     "execution_count": 8,
     "metadata": {},
     "output_type": "execute_result"
    }
   ],
   "source": [
    "#check the vocab\n",
    "list(bert_tok.vocab.items())[1000:1010]"
   ]
  },
  {
   "cell_type": "code",
   "execution_count": 9,
   "metadata": {
    "colab": {},
    "colab_type": "code",
    "id": "NYIrjtkHW2F2"
   },
   "outputs": [],
   "source": [
    "#设置vocab\n",
    "fastai_bert_vocab = Vocab(list(bert_tok.vocab.keys()))"
   ]
  },
  {
   "cell_type": "code",
   "execution_count": null,
   "metadata": {
    "colab": {},
    "colab_type": "code",
    "id": "DUU3lFXrXAUw"
   },
   "outputs": [],
   "source": []
  },
  {
   "cell_type": "markdown",
   "metadata": {
    "colab_type": "text",
    "id": "KHfJODECXEVp"
   },
   "source": [
    "## Dataset"
   ]
  },
  {
   "cell_type": "markdown",
   "metadata": {
    "colab_type": "text",
    "id": "rwkcOhG3Uc_x"
   },
   "source": [
    "本次使用的数据集信息：\n",
    "\n",
    "*   名称及出处：[ChnSentiCorp_htl_all](https://github.com/ZeroLeon/ChineseNlpCorpus/blob/master/datasets/ChnSentiCorp_htl_all/intro.ipynb)\n",
    "*   数据概览： 7000 多条酒店评论数据，5000 多条正向评论，2000 多条负向评论\n",
    "*   推荐实验： 情感/观点/评论 倾向性分析\n",
    "*   数据来源： 携程网\n",
    "*   原数据集： ChnSentiCorp_htl，由谭松波老师整理的一份数据集\n",
    "\n"
   ]
  },
  {
   "cell_type": "code",
   "execution_count": 10,
   "metadata": {
    "colab": {},
    "colab_type": "code",
    "id": "5gU8EtWUXRjS"
   },
   "outputs": [],
   "source": [
    "# !wget https://github.com/SophonPlus/ChineseNlpCorpus/raw/master/datasets/ChnSentiCorp_htl_all/ChnSentiCorp_htl_all.csv"
   ]
  },
  {
   "cell_type": "code",
   "execution_count": 11,
   "metadata": {
    "colab": {},
    "colab_type": "code",
    "id": "xk7iS5FpXngc"
   },
   "outputs": [],
   "source": [
    "df_htl = pd.read_csv('data/ChnSentiCorp_htl_all.csv')"
   ]
  },
  {
   "cell_type": "code",
   "execution_count": 12,
   "metadata": {
    "colab": {
     "base_uri": "https://localhost:8080/",
     "height": 343
    },
    "colab_type": "code",
    "id": "E7EE0A_hYS4E",
    "outputId": "33fdd402-59e3-4588-eca5-ffc0c0ad85df"
   },
   "outputs": [
    {
     "data": {
      "text/html": [
       "<div>\n",
       "<style scoped>\n",
       "    .dataframe tbody tr th:only-of-type {\n",
       "        vertical-align: middle;\n",
       "    }\n",
       "\n",
       "    .dataframe tbody tr th {\n",
       "        vertical-align: top;\n",
       "    }\n",
       "\n",
       "    .dataframe thead th {\n",
       "        text-align: right;\n",
       "    }\n",
       "</style>\n",
       "<table border=\"1\" class=\"dataframe\">\n",
       "  <thead>\n",
       "    <tr style=\"text-align: right;\">\n",
       "      <th></th>\n",
       "      <th>label</th>\n",
       "      <th>review</th>\n",
       "    </tr>\n",
       "  </thead>\n",
       "  <tbody>\n",
       "    <tr>\n",
       "      <th>87</th>\n",
       "      <td>1</td>\n",
       "      <td>我已经住过两次了。比较满意，特别是接机服务，一个人也接，及时周到。宽带速度也比较快。但是没有...</td>\n",
       "    </tr>\n",
       "    <tr>\n",
       "      <th>4988</th>\n",
       "      <td>1</td>\n",
       "      <td>虽然遭遇台风“凤凰”，夜里没休息好，但极佳的位置，很好的服务总算弥补了一下。酒店旧了点，但时...</td>\n",
       "    </tr>\n",
       "    <tr>\n",
       "      <th>3027</th>\n",
       "      <td>1</td>\n",
       "      <td>环境还不错滴~~就是入住时发生了一点小小的意外!预定是用英文名字预定的,登记的时候出示的是中...</td>\n",
       "    </tr>\n",
       "    <tr>\n",
       "      <th>1523</th>\n",
       "      <td>1</td>\n",
       "      <td>服务还是不错。房间有些陈旧了，周边最近最近在建楼稍稍有些不太爽，不过关上窗户也没什么影响。所...</td>\n",
       "    </tr>\n",
       "    <tr>\n",
       "      <th>233</th>\n",
       "      <td>1</td>\n",
       "      <td>本次入住酒店的网络不是很稳定，断断续续，希望能够改进。</td>\n",
       "    </tr>\n",
       "    <tr>\n",
       "      <th>3800</th>\n",
       "      <td>1</td>\n",
       "      <td>由于酒店距火车站近，所以出租车不愿去，但这是长沙出租车主管部门的问题，和酒店无关，后来火车站...</td>\n",
       "    </tr>\n",
       "    <tr>\n",
       "      <th>5463</th>\n",
       "      <td>0</td>\n",
       "      <td>给本酒店差评.遭遇如下:1.入住时被告知没有预订的'园林景观房',理由牵强,说是携程的订单不...</td>\n",
       "    </tr>\n",
       "    <tr>\n",
       "      <th>3794</th>\n",
       "      <td>1</td>\n",
       "      <td>很不错呀，就是浴室太搞笑了，三个水龙头，也没标哪个热水哪个冷水。电梯太慢，其它都还好，早餐很...</td>\n",
       "    </tr>\n",
       "    <tr>\n",
       "      <th>771</th>\n",
       "      <td>1</td>\n",
       "      <td>这家酒店真的不错.在这住了4天给了我3个惊喜:1.房间比我想像的要大,还有沙发.2.每天有水...</td>\n",
       "    </tr>\n",
       "    <tr>\n",
       "      <th>5317</th>\n",
       "      <td>1</td>\n",
       "      <td>绝对是超三星标准，地处商业区，购物还是很方便的，对门有家羊杂店，绝对正宗。除了价格稍贵，总体...</td>\n",
       "    </tr>\n",
       "  </tbody>\n",
       "</table>\n",
       "</div>"
      ],
      "text/plain": [
       "      label                                             review\n",
       "87        1  我已经住过两次了。比较满意，特别是接机服务，一个人也接，及时周到。宽带速度也比较快。但是没有...\n",
       "4988      1  虽然遭遇台风“凤凰”，夜里没休息好，但极佳的位置，很好的服务总算弥补了一下。酒店旧了点，但时...\n",
       "3027      1  环境还不错滴~~就是入住时发生了一点小小的意外!预定是用英文名字预定的,登记的时候出示的是中...\n",
       "1523      1  服务还是不错。房间有些陈旧了，周边最近最近在建楼稍稍有些不太爽，不过关上窗户也没什么影响。所...\n",
       "233       1                        本次入住酒店的网络不是很稳定，断断续续，希望能够改进。\n",
       "3800      1  由于酒店距火车站近，所以出租车不愿去，但这是长沙出租车主管部门的问题，和酒店无关，后来火车站...\n",
       "5463      0  给本酒店差评.遭遇如下:1.入住时被告知没有预订的'园林景观房',理由牵强,说是携程的订单不...\n",
       "3794      1  很不错呀，就是浴室太搞笑了，三个水龙头，也没标哪个热水哪个冷水。电梯太慢，其它都还好，早餐很...\n",
       "771       1  这家酒店真的不错.在这住了4天给了我3个惊喜:1.房间比我想像的要大,还有沙发.2.每天有水...\n",
       "5317      1  绝对是超三星标准，地处商业区，购物还是很方便的，对门有家羊杂店，绝对正宗。除了价格稍贵，总体..."
      ]
     },
     "execution_count": 12,
     "metadata": {},
     "output_type": "execute_result"
    }
   ],
   "source": [
    "#标签涵义：1代表正向评论，0代表负向评论\n",
    "label_denotation = {1:'positive',0:'negative'}\n",
    "df_htl.sample(10)"
   ]
  },
  {
   "cell_type": "markdown",
   "metadata": {},
   "source": [
    "- 正负向语料"
   ]
  },
  {
   "cell_type": "code",
   "execution_count": 13,
   "metadata": {},
   "outputs": [
    {
     "name": "stdout",
     "output_type": "stream",
     "text": [
      "评论数目（总体）：7766\n",
      "评论数目（正向）：5322\n",
      "评论数目（负向）：2444\n"
     ]
    }
   ],
   "source": [
    "print('评论数目（总体）：%d' % df_htl.shape[0])\n",
    "print('评论数目（正向）：%d' % df_htl[df_htl.label==1].shape[0])\n",
    "print('评论数目（负向）：%d' % df_htl[df_htl.label==0].shape[0])"
   ]
  },
  {
   "cell_type": "code",
   "execution_count": 14,
   "metadata": {},
   "outputs": [],
   "source": [
    "df_htl.dropna(inplace=True)"
   ]
  },
  {
   "cell_type": "markdown",
   "metadata": {},
   "source": [
    "### 构造平衡语料\n",
    "- 用随机抽样的方法，很容易构造出类似的平衡语料"
   ]
  },
  {
   "cell_type": "code",
   "execution_count": 15,
   "metadata": {},
   "outputs": [],
   "source": [
    "pd_positive = df_htl[df_htl.label==1]\n",
    "pd_negative = df_htl[df_htl.label==0]\n",
    "\n",
    "def get_balance_corpus(corpus_size, corpus_pos, corpus_neg):\n",
    "    sample_size = corpus_size // 2\n",
    "    # 是否有放回抽样\n",
    "    pd_corpus_balance = pd.concat([corpus_pos.sample(sample_size, replace=corpus_pos.shape[0]<sample_size), \\\n",
    "                                   corpus_neg.sample(sample_size, replace=corpus_neg.shape[0]<sample_size)])\n",
    "    \n",
    "    print('评论数目（总体）：%d' % pd_corpus_balance.shape[0])\n",
    "    print('评论数目（正向）：%d' % pd_corpus_balance[pd_corpus_balance.label==1].shape[0])\n",
    "    print('评论数目（负向）：%d' % pd_corpus_balance[pd_corpus_balance.label==0].shape[0])    \n",
    "    \n",
    "    return pd_corpus_balance"
   ]
  },
  {
   "cell_type": "code",
   "execution_count": 16,
   "metadata": {},
   "outputs": [
    {
     "name": "stdout",
     "output_type": "stream",
     "text": [
      "评论数目（总体）：10000\n",
      "评论数目（正向）：5000\n",
      "评论数目（负向）：5000\n"
     ]
    },
    {
     "data": {
      "text/html": [
       "<div>\n",
       "<style scoped>\n",
       "    .dataframe tbody tr th:only-of-type {\n",
       "        vertical-align: middle;\n",
       "    }\n",
       "\n",
       "    .dataframe tbody tr th {\n",
       "        vertical-align: top;\n",
       "    }\n",
       "\n",
       "    .dataframe thead th {\n",
       "        text-align: right;\n",
       "    }\n",
       "</style>\n",
       "<table border=\"1\" class=\"dataframe\">\n",
       "  <thead>\n",
       "    <tr style=\"text-align: right;\">\n",
       "      <th></th>\n",
       "      <th>label</th>\n",
       "      <th>review</th>\n",
       "    </tr>\n",
       "  </thead>\n",
       "  <tbody>\n",
       "    <tr>\n",
       "      <th>2270</th>\n",
       "      <td>1</td>\n",
       "      <td>酒店的服务人员服务周到，细致，给人一种宾至如归的感觉。</td>\n",
       "    </tr>\n",
       "    <tr>\n",
       "      <th>6245</th>\n",
       "      <td>0</td>\n",
       "      <td>本来想订的不是这家。找酒店时看到这家每条点评都有回馈，觉得服务不错，就订了。但是对于我们自驾...</td>\n",
       "    </tr>\n",
       "    <tr>\n",
       "      <th>7244</th>\n",
       "      <td>0</td>\n",
       "      <td>携程推荐不怎么样,总台登记后房间在打扫,让在大堂等一下,但等了一小时也没人过问,经过与大堂副...</td>\n",
       "    </tr>\n",
       "    <tr>\n",
       "      <th>5707</th>\n",
       "      <td>0</td>\n",
       "      <td>没有住过这么差的2星级酒店：白色的床灯灯罩霉到发黑。浴缸锈到有5块斑点，就像是这次在涠洲岛上...</td>\n",
       "    </tr>\n",
       "    <tr>\n",
       "      <th>6814</th>\n",
       "      <td>0</td>\n",
       "      <td>缺点：1.酒店靠近铁路，晚上睡觉非常吵2.酒店隔音效果非常差，邻居像和自己住在同一个房间3....</td>\n",
       "    </tr>\n",
       "    <tr>\n",
       "      <th>4</th>\n",
       "      <td>1</td>\n",
       "      <td>CBD中心,周围没什么店铺,说5星有点勉强.不知道为什么卫生间没有电吹风</td>\n",
       "    </tr>\n",
       "    <tr>\n",
       "      <th>6989</th>\n",
       "      <td>0</td>\n",
       "      <td>俗话说\"便宜没好货\",\"一分价钱一分货\",建议携程网不要再向客户推荐该酒店.</td>\n",
       "    </tr>\n",
       "    <tr>\n",
       "      <th>3017</th>\n",
       "      <td>1</td>\n",
       "      <td>5.1期间入住的，我住的是小标间，去了才知道小标间是靠马路的几栋。由于修路车辆不是很多，所以...</td>\n",
       "    </tr>\n",
       "    <tr>\n",
       "      <th>7666</th>\n",
       "      <td>0</td>\n",
       "      <td>交通还比较方便,价格相对便宜,但是设施有些陈旧,没有网络可上网,服务生的素质相对较低些,如果...</td>\n",
       "    </tr>\n",
       "    <tr>\n",
       "      <th>6533</th>\n",
       "      <td>0</td>\n",
       "      <td>房间</td>\n",
       "    </tr>\n",
       "  </tbody>\n",
       "</table>\n",
       "</div>"
      ],
      "text/plain": [
       "      label                                             review\n",
       "2270      1                        酒店的服务人员服务周到，细致，给人一种宾至如归的感觉。\n",
       "6245      0  本来想订的不是这家。找酒店时看到这家每条点评都有回馈，觉得服务不错，就订了。但是对于我们自驾...\n",
       "7244      0  携程推荐不怎么样,总台登记后房间在打扫,让在大堂等一下,但等了一小时也没人过问,经过与大堂副...\n",
       "5707      0  没有住过这么差的2星级酒店：白色的床灯灯罩霉到发黑。浴缸锈到有5块斑点，就像是这次在涠洲岛上...\n",
       "6814      0  缺点：1.酒店靠近铁路，晚上睡觉非常吵2.酒店隔音效果非常差，邻居像和自己住在同一个房间3....\n",
       "4         1               CBD中心,周围没什么店铺,说5星有点勉强.不知道为什么卫生间没有电吹风\n",
       "6989      0             俗话说\"便宜没好货\",\"一分价钱一分货\",建议携程网不要再向客户推荐该酒店.\n",
       "3017      1  5.1期间入住的，我住的是小标间，去了才知道小标间是靠马路的几栋。由于修路车辆不是很多，所以...\n",
       "7666      0  交通还比较方便,价格相对便宜,但是设施有些陈旧,没有网络可上网,服务生的素质相对较低些,如果...\n",
       "6533      0                                                 房间"
      ]
     },
     "execution_count": 16,
     "metadata": {},
     "output_type": "execute_result"
    }
   ],
   "source": [
    "ChnSentiCorp_htl_ba_10000 = get_balance_corpus(10000, pd_positive, pd_negative)\n",
    "ChnSentiCorp_htl_ba_10000.sample(10)"
   ]
  },
  {
   "cell_type": "code",
   "execution_count": 17,
   "metadata": {
    "colab": {},
    "colab_type": "code",
    "id": "LKBd5hlzYUkr"
   },
   "outputs": [],
   "source": [
    "#分割训练集train与验证集val\n",
    "from sklearn.model_selection import train_test_split\n",
    "# 按分类分层抽样\n",
    "train, val = train_test_split(ChnSentiCorp_htl_ba_10000, test_size=0.1, stratify=ChnSentiCorp_htl_ba_10000.label)"
   ]
  },
  {
   "cell_type": "code",
   "execution_count": 18,
   "metadata": {
    "colab": {
     "base_uri": "https://localhost:8080/",
     "height": 34
    },
    "colab_type": "code",
    "id": "N69Q-7GjZzxq",
    "outputId": "45f15c1c-9bd8-4f1f-8af1-a729e78f3f8b"
   },
   "outputs": [
    {
     "name": "stdout",
     "output_type": "stream",
     "text": [
      "(9000, 2) (1000, 2)\n"
     ]
    }
   ],
   "source": [
    "#check their size\n",
    "print(train.shape,val.shape)"
   ]
  },
  {
   "cell_type": "code",
   "execution_count": 19,
   "metadata": {},
   "outputs": [
    {
     "data": {
      "text/plain": [
       "(4500, 4500)"
      ]
     },
     "execution_count": 19,
     "metadata": {},
     "output_type": "execute_result"
    },
    {
     "data": {
      "text/plain": [
       "(500, 500)"
      ]
     },
     "execution_count": 19,
     "metadata": {},
     "output_type": "execute_result"
    }
   ],
   "source": [
    "train[train.label==1].shape[0], train[train.label==0].shape[0]\n",
    "val[val.label==1].shape[0], val[val.label==0].shape[0]"
   ]
  },
  {
   "cell_type": "code",
   "execution_count": 20,
   "metadata": {},
   "outputs": [
    {
     "data": {
      "text/html": [
       "<div>\n",
       "<style scoped>\n",
       "    .dataframe tbody tr th:only-of-type {\n",
       "        vertical-align: middle;\n",
       "    }\n",
       "\n",
       "    .dataframe tbody tr th {\n",
       "        vertical-align: top;\n",
       "    }\n",
       "\n",
       "    .dataframe thead th {\n",
       "        text-align: right;\n",
       "    }\n",
       "</style>\n",
       "<table border=\"1\" class=\"dataframe\">\n",
       "  <thead>\n",
       "    <tr style=\"text-align: right;\">\n",
       "      <th></th>\n",
       "      <th>label</th>\n",
       "      <th>review</th>\n",
       "    </tr>\n",
       "  </thead>\n",
       "  <tbody>\n",
       "    <tr>\n",
       "      <th>1430</th>\n",
       "      <td>1</td>\n",
       "      <td>在香港难得有那么大的房间，不过就是卫生间旧了一点。对于去香港血拼的人来说这是最好的选择，因为...</td>\n",
       "    </tr>\n",
       "    <tr>\n",
       "      <th>5243</th>\n",
       "      <td>1</td>\n",
       "      <td>地段好，到九龙坐酒店门口的天星小轮很方便，坐地铁沿着天桥走就到了，一点不用晒太阳，熟悉天桥，...</td>\n",
       "    </tr>\n",
       "    <tr>\n",
       "      <th>5887</th>\n",
       "      <td>0</td>\n",
       "      <td>电梯维修，只能爬楼，房间不大，设施一般。房间里居然连个大灯都没有，只有一盏远远的台灯晃着暗暗...</td>\n",
       "    </tr>\n",
       "    <tr>\n",
       "      <th>7106</th>\n",
       "      <td>0</td>\n",
       "      <td>缺点是房间里一点信号都没.这点很恼火,试问一下万一家中有急事,却联系不到本人怎么办?问题很严...</td>\n",
       "    </tr>\n",
       "    <tr>\n",
       "      <th>7293</th>\n",
       "      <td>0</td>\n",
       "      <td>住过很多大连酒店，这个酒店是最差的，客人在房间呆了一个小时不到的时间，酒店竟然收取了100元...</td>\n",
       "    </tr>\n",
       "  </tbody>\n",
       "</table>\n",
       "</div>"
      ],
      "text/plain": [
       "      label                                             review\n",
       "1430      1  在香港难得有那么大的房间，不过就是卫生间旧了一点。对于去香港血拼的人来说这是最好的选择，因为...\n",
       "5243      1  地段好，到九龙坐酒店门口的天星小轮很方便，坐地铁沿着天桥走就到了，一点不用晒太阳，熟悉天桥，...\n",
       "5887      0  电梯维修，只能爬楼，房间不大，设施一般。房间里居然连个大灯都没有，只有一盏远远的台灯晃着暗暗...\n",
       "7106      0  缺点是房间里一点信号都没.这点很恼火,试问一下万一家中有急事,却联系不到本人怎么办?问题很严...\n",
       "7293      0  住过很多大连酒店，这个酒店是最差的，客人在房间呆了一个小时不到的时间，酒店竟然收取了100元..."
      ]
     },
     "execution_count": 20,
     "metadata": {},
     "output_type": "execute_result"
    }
   ],
   "source": [
    "train.head()"
   ]
  },
  {
   "cell_type": "code",
   "execution_count": 21,
   "metadata": {},
   "outputs": [
    {
     "data": {
      "text/plain": [
       "Index(['label', 'review'], dtype='object')"
      ]
     },
     "execution_count": 21,
     "metadata": {},
     "output_type": "execute_result"
    }
   ],
   "source": [
    "train.columns"
   ]
  },
  {
   "cell_type": "code",
   "execution_count": 22,
   "metadata": {},
   "outputs": [],
   "source": [
    "train.reset_index(inplace=True, drop=True)\n",
    "val.reset_index(inplace=True, drop=True)"
   ]
  },
  {
   "cell_type": "code",
   "execution_count": 23,
   "metadata": {},
   "outputs": [
    {
     "data": {
      "text/html": [
       "<div>\n",
       "<style scoped>\n",
       "    .dataframe tbody tr th:only-of-type {\n",
       "        vertical-align: middle;\n",
       "    }\n",
       "\n",
       "    .dataframe tbody tr th {\n",
       "        vertical-align: top;\n",
       "    }\n",
       "\n",
       "    .dataframe thead th {\n",
       "        text-align: right;\n",
       "    }\n",
       "</style>\n",
       "<table border=\"1\" class=\"dataframe\">\n",
       "  <thead>\n",
       "    <tr style=\"text-align: right;\">\n",
       "      <th></th>\n",
       "      <th>label</th>\n",
       "      <th>review</th>\n",
       "    </tr>\n",
       "  </thead>\n",
       "  <tbody>\n",
       "    <tr>\n",
       "      <th>0</th>\n",
       "      <td>1</td>\n",
       "      <td>周围环境有些乱，但是很热闹吃饭的地方也比较多。房间还可以。</td>\n",
       "    </tr>\n",
       "    <tr>\n",
       "      <th>1</th>\n",
       "      <td>0</td>\n",
       "      <td>地毯很赃床下的簧凸出睡得很不舒服隔音很差很吵市有段距不是很方便我得糟糕透了补充点评2007年...</td>\n",
       "    </tr>\n",
       "    <tr>\n",
       "      <th>2</th>\n",
       "      <td>0</td>\n",
       "      <td>还是一个多月前住的了.印象很深刻.酒店外表看起来是很不错.里面还算一般了.给我印象深刻的是我...</td>\n",
       "    </tr>\n",
       "    <tr>\n",
       "      <th>3</th>\n",
       "      <td>1</td>\n",
       "      <td>硬件设施，前台服务，房间服务都不错，值得表扬。早餐种类也还算丰富，6点半就有了，这点不错。宾...</td>\n",
       "    </tr>\n",
       "    <tr>\n",
       "      <th>4</th>\n",
       "      <td>0</td>\n",
       "      <td>酒店设施烂的可以,说明了宽带上网,永远是上不去的,跟去年十月的时候一样,象如家这样的酒店,携...</td>\n",
       "    </tr>\n",
       "  </tbody>\n",
       "</table>\n",
       "</div>"
      ],
      "text/plain": [
       "   label                                             review\n",
       "0      1                      周围环境有些乱，但是很热闹吃饭的地方也比较多。房间还可以。\n",
       "1      0  地毯很赃床下的簧凸出睡得很不舒服隔音很差很吵市有段距不是很方便我得糟糕透了补充点评2007年...\n",
       "2      0  还是一个多月前住的了.印象很深刻.酒店外表看起来是很不错.里面还算一般了.给我印象深刻的是我...\n",
       "3      1  硬件设施，前台服务，房间服务都不错，值得表扬。早餐种类也还算丰富，6点半就有了，这点不错。宾...\n",
       "4      0  酒店设施烂的可以,说明了宽带上网,永远是上不去的,跟去年十月的时候一样,象如家这样的酒店,携..."
      ]
     },
     "execution_count": 23,
     "metadata": {},
     "output_type": "execute_result"
    }
   ],
   "source": [
    "val.head()"
   ]
  },
  {
   "cell_type": "code",
   "execution_count": 24,
   "metadata": {
    "colab": {},
    "colab_type": "code",
    "id": "GWq0P4LnaL9M"
   },
   "outputs": [],
   "source": [
    "#建立TextDataBunch\n",
    "databunch = TextClasDataBunch.from_df(\".\", train, val,\n",
    "                  tokenizer=fastai_tokenizer,\n",
    "                  vocab=fastai_bert_vocab,\n",
    "                  include_bos=False,\n",
    "                  include_eos=False,\n",
    "                  text_cols=\"review\",\n",
    "                  label_cols='label',\n",
    "                  bs=config.bs,\n",
    "                  collate_fn=partial(pad_collate, pad_first=False, pad_idx=0)\n",
    "             )"
   ]
  },
  {
   "cell_type": "code",
   "execution_count": 25,
   "metadata": {},
   "outputs": [
    {
     "data": {
      "text/html": [
       "<h4 id=\"pad_collate\" class=\"doc_header\"><code>pad_collate</code><a href=\"https://github.com/fastai/fastai/blob/master/fastai/text/data.py#L128\" class=\"source_link\" style=\"float:right\">[source]</a><a class=\"source_link\" data-toggle=\"collapse\" data-target=\"#pad_collate-pytest\" style=\"float:right; padding-right:10px\">[test]</a></h4><blockquote><p><code>pad_collate</code>(<strong><code>samples</code></strong>:<code>BatchSamples</code>, <strong><code>pad_idx</code></strong>:<code>int</code>=<strong><em><code>1</code></em></strong>, <strong><code>pad_first</code></strong>:<code>bool</code>=<strong><em><code>True</code></em></strong>, <strong><code>backwards</code></strong>:<code>bool</code>=<strong><em><code>False</code></em></strong>) → <code>Tuple</code>[<code>LongTensor</code>, <code>LongTensor</code>]</p>\n",
       "</blockquote>\n",
       "<div class=\"collapse\" id=\"pad_collate-pytest\"><div class=\"card card-body pytest_card\"><a type=\"button\" data-toggle=\"collapse\" data-target=\"#pad_collate-pytest\" class=\"close\" aria-label=\"Close\"><span aria-hidden=\"true\">&times;</span></a><p>No tests found for <code>pad_collate</code>. To contribute a test please refer to <a href=\"/dev/test.html\">this guide</a> and <a href=\"https://forums.fast.ai/t/improving-expanding-functional-tests/32929\">this discussion</a>.</p></div></div><p>Function that collect samples and adds padding. Flips token order if needed</p>\n",
       "<p><a href=\"https://docs.fast.ai/text.data.html#pad_collate\" target=\"_blank\" rel=\"noreferrer noopener\">Show in docs</a></p>\n"
      ]
     },
     "metadata": {},
     "output_type": "display_data"
    }
   ],
   "source": [
    "doc(pad_collate)"
   ]
  },
  {
   "cell_type": "code",
   "execution_count": 26,
   "metadata": {
    "colab": {
     "base_uri": "https://localhost:8080/",
     "height": 279
    },
    "colab_type": "code",
    "id": "2EtfF2hrfFQw",
    "outputId": "c27831b3-a7c9-452b-dcfa-e469cd361f73"
   },
   "outputs": [
    {
     "data": {
      "text/html": [
       "<table border=\"1\" class=\"dataframe\">\n",
       "  <thead>\n",
       "    <tr style=\"text-align: right;\">\n",
       "      <th>text</th>\n",
       "      <th>target</th>\n",
       "    </tr>\n",
       "  </thead>\n",
       "  <tbody>\n",
       "    <tr>\n",
       "      <td>[CLS] 我 想 在 此 提 供 本 人 的 入 住 经 历 给 大 家 ， 仅 供 参 考 1 . 提 前 预 订 酒 店 时 就 曾 打 电 话 申 明 过 需 要 接 机 ， 结 果 当 日 下 机 后 和 老 公 托 着 行 李 前 前 后 后 找 了 一 圈 也 没 找 到</td>\n",
       "      <td>0</td>\n",
       "    </tr>\n",
       "    <tr>\n",
       "      <td>[CLS] 我 是 1 月 20 日 入 住 的 。 。 订 的 大 床 房 。 位 于 西 环 的 中 远 ， 很 明 显 有 内 地 装 修 的 风 格 。 。 哈 哈 。 比 如 电 视 能 收 到 中 央 一 台 而 没 有 cnn 之 类 的 。 。 400 一 晚 。 。 后 来 两</td>\n",
       "      <td>1</td>\n",
       "    </tr>\n",
       "    <tr>\n",
       "      <td>[CLS] 去 过 中 茵 皇 冠 公 寓 ， 味 道 太 大 。 苏 州 索 菲 特 ， 大 堂 装 修 尚 可 ， 房 间 和 楼 道 太 简 单 。 只 有 尼 盛 万 丽 不 错 。 。 公 司 2 次 来 人 都 住 这 里 ， 非 常 不 错 。 服 务 很 好 ， 很 温</td>\n",
       "      <td>1</td>\n",
       "    </tr>\n",
       "    <tr>\n",
       "      <td>[CLS] 房 间 有 味 道 ， 服 务 实 在 不 敢 恭 维 ， 预 订 的 房 间 给 卖 掉 ， 好 在 给 免 费 升 级 ， 还 算 不 错 。 就 是 实 在 可 气 的 是 退 房 后 我 忘 在 酒 店 了 衣 服 ， 在 前 台 办 理 手 续 的 时 候 不 予</td>\n",
       "      <td>0</td>\n",
       "    </tr>\n",
       "    <tr>\n",
       "      <td>[CLS] 入 住 西 楼 海 景 套 房 （ 据 说 离 海 更 近 一 点 ） ， 应 该 说 总 体 很 不 错 ， 有 老 五 星 的 风 范 。 服 务 也 比 较 热 情 。 可 能 是 比 较 老 或 是 空 调 或 是 近 海 的 原 因 ， 房 间 内 稍 有 一 点</td>\n",
       "      <td>1</td>\n",
       "    </tr>\n",
       "  </tbody>\n",
       "</table>"
      ],
      "text/plain": [
       "<IPython.core.display.HTML object>"
      ]
     },
     "metadata": {},
     "output_type": "display_data"
    }
   ],
   "source": [
    "databunch.show_batch()"
   ]
  },
  {
   "cell_type": "code",
   "execution_count": 27,
   "metadata": {
    "colab": {},
    "colab_type": "code",
    "id": "EWFDIeoJbgfb"
   },
   "outputs": [],
   "source": [
    "x, y = databunch.train_ds[0]"
   ]
  },
  {
   "cell_type": "code",
   "execution_count": 28,
   "metadata": {},
   "outputs": [
    {
     "data": {
      "text/plain": [
       "'[CLS] 在 香 港 难 得 有 那 么 大 的 房 间 ， 不 过 就 是 卫 生 间 旧 了 一 点 。 对 于 去 香 港 血 拼 的 人 来 说 这 是 最 好 的 选 择 ， 因 为 酒 店 就 在 海 港 城 内 ， 偌 大 的 海 港 城 逛 一 星 期 估 计 也 难 以 逛 全 ， 逛 累 了 还 可 以 直 接 到 酒 店 歇 一 歇 [SEP]'"
      ]
     },
     "execution_count": 28,
     "metadata": {},
     "output_type": "execute_result"
    },
    {
     "data": {
      "text/plain": [
       "Category 1"
      ]
     },
     "execution_count": 28,
     "metadata": {},
     "output_type": "execute_result"
    },
    {
     "data": {
      "text/plain": [
       "1"
      ]
     },
     "execution_count": 28,
     "metadata": {},
     "output_type": "execute_result"
    }
   ],
   "source": [
    "str(x)\n",
    "y\n",
    "y.data"
   ]
  },
  {
   "cell_type": "code",
   "execution_count": 29,
   "metadata": {},
   "outputs": [
    {
     "data": {
      "text/plain": [
       "185"
      ]
     },
     "execution_count": 29,
     "metadata": {},
     "output_type": "execute_result"
    }
   ],
   "source": [
    "len(str(x))"
   ]
  },
  {
   "cell_type": "code",
   "execution_count": 30,
   "metadata": {},
   "outputs": [
    {
     "data": {
      "text/plain": [
       "Text [CLS] 电 梯 维 修 ， 只 能 爬 楼 ， 房 间 不 大 ， 设 施 一 般 。 房 间 里 居 然 连 个 大 灯 都 没 有 ， 只 有 一 盏 远 远 的 台 灯 晃 着 暗 暗 的 光 。 最 恐 怖 的 是 窗 户 外 面 就 是 走 廊 ， 隔 音 基 本 为 零 ， 只 要 有 人 走 路 说 话 ， 都 会 有 回 音 ， 特 响 。 清 晨 就 有 酒 店 人 员 穿 着 拖 鞋 嘻 嘻 哈 哈 的 走 过 ， 您 就 别 想 睡 了 。 [SEP]"
      ]
     },
     "execution_count": 30,
     "metadata": {},
     "output_type": "execute_result"
    },
    {
     "data": {
      "text/plain": [
       "Category 0"
      ]
     },
     "execution_count": 30,
     "metadata": {},
     "output_type": "execute_result"
    }
   ],
   "source": [
    "x1, y1 = databunch.train_ds[2]\n",
    "x1\n",
    "y1"
   ]
  },
  {
   "cell_type": "code",
   "execution_count": 31,
   "metadata": {},
   "outputs": [
    {
     "data": {
      "text/plain": [
       "241"
      ]
     },
     "execution_count": 31,
     "metadata": {},
     "output_type": "execute_result"
    }
   ],
   "source": [
    "len(str(x1))"
   ]
  },
  {
   "cell_type": "markdown",
   "metadata": {
    "colab_type": "text",
    "id": "CZ4lw8TadPMS"
   },
   "source": [
    "## Model and Loss Function"
   ]
  },
  {
   "cell_type": "code",
   "execution_count": 32,
   "metadata": {
    "colab": {
     "base_uri": "https://localhost:8080/",
     "height": 34
    },
    "colab_type": "code",
    "id": "6CLYlVWYdQlH",
    "outputId": "b58a66da-0dd6-4d17-e51d-ad16bd0cf1c1"
   },
   "outputs": [],
   "source": [
    "from pytorch_pretrained_bert.modeling import BertConfig, BertForSequenceClassification\n",
    "bert_model = BertForSequenceClassification.from_pretrained(config.bert_model_name, num_labels=2)"
   ]
  },
  {
   "cell_type": "code",
   "execution_count": 33,
   "metadata": {
    "colab": {},
    "colab_type": "code",
    "id": "xyaJ7ooIdhvq"
   },
   "outputs": [],
   "source": [
    "#二分类问题选用CrossEntrypyLoss作为损失函数\n",
    "loss_func = nn.CrossEntropyLoss()"
   ]
  },
  {
   "cell_type": "code",
   "execution_count": 34,
   "metadata": {
    "colab": {},
    "colab_type": "code",
    "id": "oN47kdZ-d69i"
   },
   "outputs": [],
   "source": [
    "#建立Learner(数据,预训练模型,损失函数)\n",
    "learner = Learner(databunch, bert_model, loss_func=loss_func, metrics=accuracy)"
   ]
  },
  {
   "cell_type": "code",
   "execution_count": 35,
   "metadata": {
    "colab": {
     "base_uri": "https://localhost:8080/",
     "height": 34
    },
    "colab_type": "code",
    "id": "VhCBr5YyeYQz",
    "outputId": "cbf4de65-dc42-479e-f258-3d19af52a24e"
   },
   "outputs": [
    {
     "data": {
      "text/html": [],
      "text/plain": [
       "<IPython.core.display.HTML object>"
      ]
     },
     "metadata": {},
     "output_type": "display_data"
    },
    {
     "name": "stdout",
     "output_type": "stream",
     "text": [
      "LR Finder is complete, type {learner_name}.recorder.plot() to see the graph.\n"
     ]
    }
   ],
   "source": [
    "#尝试寻找合适的最大学习率，这里使用了BERT原论文推荐的学习率3e-5作为默认值\n",
    "learner.lr_find()"
   ]
  },
  {
   "cell_type": "code",
   "execution_count": 36,
   "metadata": {
    "colab": {
     "base_uri": "https://localhost:8080/",
     "height": 283
    },
    "colab_type": "code",
    "id": "qj9hzFd0efEx",
    "outputId": "dee9db99-5783-400a-c20f-a33f098af923"
   },
   "outputs": [
    {
     "name": "stdout",
     "output_type": "stream",
     "text": [
      "Min numerical gradient: 5.75E-04\n"
     ]
    },
    {
     "data": {
      "image/png": "[encoded data removed]",
      "text/plain": [
       "<Figure size 432x288 with 1 Axes>"
      ]
     },
     "metadata": {
      "needs_background": "light"
     },
     "output_type": "display_data"
    }
   ],
   "source": [
    "learner.recorder.plot(suggestion=True, skip_end=20)"
   ]
  },
  {
   "cell_type": "code",
   "execution_count": 37,
   "metadata": {
    "colab": {
     "base_uri": "https://localhost:8080/",
     "height": 77
    },
    "colab_type": "code",
    "id": "2C9Jwn7KemDB",
    "outputId": "a1fef34d-5ae6-4083-d81c-467015066ad0"
   },
   "outputs": [
    {
     "data": {
      "text/html": [
       "Total time: 15:45 <p><table border=\"1\" class=\"dataframe\">\n",
       "  <thead>\n",
       "    <tr style=\"text-align: left;\">\n",
       "      <th>epoch</th>\n",
       "      <th>train_loss</th>\n",
       "      <th>valid_loss</th>\n",
       "      <th>accuracy</th>\n",
       "      <th>time</th>\n",
       "    </tr>\n",
       "  </thead>\n",
       "  <tbody>\n",
       "    <tr>\n",
       "      <td>0</td>\n",
       "      <td>0.286651</td>\n",
       "      <td>0.210489</td>\n",
       "      <td>0.908000</td>\n",
       "      <td>03:08</td>\n",
       "    </tr>\n",
       "    <tr>\n",
       "      <td>1</td>\n",
       "      <td>0.187557</td>\n",
       "      <td>0.171379</td>\n",
       "      <td>0.930000</td>\n",
       "      <td>03:09</td>\n",
       "    </tr>\n",
       "    <tr>\n",
       "      <td>2</td>\n",
       "      <td>0.127004</td>\n",
       "      <td>0.140221</td>\n",
       "      <td>0.950000</td>\n",
       "      <td>03:09</td>\n",
       "    </tr>\n",
       "    <tr>\n",
       "      <td>3</td>\n",
       "      <td>0.038747</td>\n",
       "      <td>0.172435</td>\n",
       "      <td>0.952000</td>\n",
       "      <td>03:09</td>\n",
       "    </tr>\n",
       "    <tr>\n",
       "      <td>4</td>\n",
       "      <td>0.008313</td>\n",
       "      <td>0.159150</td>\n",
       "      <td>0.959000</td>\n",
       "      <td>03:09</td>\n",
       "    </tr>\n",
       "  </tbody>\n",
       "</table>"
      ],
      "text/plain": [
       "<IPython.core.display.HTML object>"
      ]
     },
     "metadata": {},
     "output_type": "display_data"
    }
   ],
   "source": [
    "#开始训练\n",
    "learner.fit_one_cycle(config.epochs, slice(3e-5))"
   ]
  },
  {
   "cell_type": "code",
   "execution_count": 38,
   "metadata": {},
   "outputs": [],
   "source": [
    "learner.save('htl_stage1')"
   ]
  },
  {
   "cell_type": "code",
   "execution_count": 39,
   "metadata": {},
   "outputs": [
    {
     "data": {
      "text/plain": [
       "BertForSequenceClassification(\n",
       "  (bert): BertModel(\n",
       "    (embeddings): BertEmbeddings(\n",
       "      (word_embeddings): Embedding(21128, 768, padding_idx=0)\n",
       "      (position_embeddings): Embedding(512, 768)\n",
       "      (token_type_embeddings): Embedding(2, 768)\n",
       "      (LayerNorm): BertLayerNorm()\n",
       "      (dropout): Dropout(p=0.1)\n",
       "    )\n",
       "    (encoder): BertEncoder(\n",
       "      (layer): ModuleList(\n",
       "        (0): BertLayer(\n",
       "          (attention): BertAttention(\n",
       "            (self): BertSelfAttention(\n",
       "              (query): Linear(in_features=768, out_features=768, bias=True)\n",
       "              (key): Linear(in_features=768, out_features=768, bias=True)\n",
       "              (value): Linear(in_features=768, out_features=768, bias=True)\n",
       "              (dropout): Dropout(p=0.1)\n",
       "            )\n",
       "            (output): BertSelfOutput(\n",
       "              (dense): Linear(in_features=768, out_features=768, bias=True)\n",
       "              (LayerNorm): BertLayerNorm()\n",
       "              (dropout): Dropout(p=0.1)\n",
       "            )\n",
       "          )\n",
       "          (intermediate): BertIntermediate(\n",
       "            (dense): Linear(in_features=768, out_features=3072, bias=True)\n",
       "          )\n",
       "          (output): BertOutput(\n",
       "            (dense): Linear(in_features=3072, out_features=768, bias=True)\n",
       "            (LayerNorm): BertLayerNorm()\n",
       "            (dropout): Dropout(p=0.1)\n",
       "          )\n",
       "        )\n",
       "        (1): BertLayer(\n",
       "          (attention): BertAttention(\n",
       "            (self): BertSelfAttention(\n",
       "              (query): Linear(in_features=768, out_features=768, bias=True)\n",
       "              (key): Linear(in_features=768, out_features=768, bias=True)\n",
       "              (value): Linear(in_features=768, out_features=768, bias=True)\n",
       "              (dropout): Dropout(p=0.1)\n",
       "            )\n",
       "            (output): BertSelfOutput(\n",
       "              (dense): Linear(in_features=768, out_features=768, bias=True)\n",
       "              (LayerNorm): BertLayerNorm()\n",
       "              (dropout): Dropout(p=0.1)\n",
       "            )\n",
       "          )\n",
       "          (intermediate): BertIntermediate(\n",
       "            (dense): Linear(in_features=768, out_features=3072, bias=True)\n",
       "          )\n",
       "          (output): BertOutput(\n",
       "            (dense): Linear(in_features=3072, out_features=768, bias=True)\n",
       "            (LayerNorm): BertLayerNorm()\n",
       "            (dropout): Dropout(p=0.1)\n",
       "          )\n",
       "        )\n",
       "        (2): BertLayer(\n",
       "          (attention): BertAttention(\n",
       "            (self): BertSelfAttention(\n",
       "              (query): Linear(in_features=768, out_features=768, bias=True)\n",
       "              (key): Linear(in_features=768, out_features=768, bias=True)\n",
       "              (value): Linear(in_features=768, out_features=768, bias=True)\n",
       "              (dropout): Dropout(p=0.1)\n",
       "            )\n",
       "            (output): BertSelfOutput(\n",
       "              (dense): Linear(in_features=768, out_features=768, bias=True)\n",
       "              (LayerNorm): BertLayerNorm()\n",
       "              (dropout): Dropout(p=0.1)\n",
       "            )\n",
       "          )\n",
       "          (intermediate): BertIntermediate(\n",
       "            (dense): Linear(in_features=768, out_features=3072, bias=True)\n",
       "          )\n",
       "          (output): BertOutput(\n",
       "            (dense): Linear(in_features=3072, out_features=768, bias=True)\n",
       "            (LayerNorm): BertLayerNorm()\n",
       "            (dropout): Dropout(p=0.1)\n",
       "          )\n",
       "        )\n",
       "        (3): BertLayer(\n",
       "          (attention): BertAttention(\n",
       "            (self): BertSelfAttention(\n",
       "              (query): Linear(in_features=768, out_features=768, bias=True)\n",
       "              (key): Linear(in_features=768, out_features=768, bias=True)\n",
       "              (value): Linear(in_features=768, out_features=768, bias=True)\n",
       "              (dropout): Dropout(p=0.1)\n",
       "            )\n",
       "            (output): BertSelfOutput(\n",
       "              (dense): Linear(in_features=768, out_features=768, bias=True)\n",
       "              (LayerNorm): BertLayerNorm()\n",
       "              (dropout): Dropout(p=0.1)\n",
       "            )\n",
       "          )\n",
       "          (intermediate): BertIntermediate(\n",
       "            (dense): Linear(in_features=768, out_features=3072, bias=True)\n",
       "          )\n",
       "          (output): BertOutput(\n",
       "            (dense): Linear(in_features=3072, out_features=768, bias=True)\n",
       "            (LayerNorm): BertLayerNorm()\n",
       "            (dropout): Dropout(p=0.1)\n",
       "          )\n",
       "        )\n",
       "        (4): BertLayer(\n",
       "          (attention): BertAttention(\n",
       "            (self): BertSelfAttention(\n",
       "              (query): Linear(in_features=768, out_features=768, bias=True)\n",
       "              (key): Linear(in_features=768, out_features=768, bias=True)\n",
       "              (value): Linear(in_features=768, out_features=768, bias=True)\n",
       "              (dropout): Dropout(p=0.1)\n",
       "            )\n",
       "            (output): BertSelfOutput(\n",
       "              (dense): Linear(in_features=768, out_features=768, bias=True)\n",
       "              (LayerNorm): BertLayerNorm()\n",
       "              (dropout): Dropout(p=0.1)\n",
       "            )\n",
       "          )\n",
       "          (intermediate): BertIntermediate(\n",
       "            (dense): Linear(in_features=768, out_features=3072, bias=True)\n",
       "          )\n",
       "          (output): BertOutput(\n",
       "            (dense): Linear(in_features=3072, out_features=768, bias=True)\n",
       "            (LayerNorm): BertLayerNorm()\n",
       "            (dropout): Dropout(p=0.1)\n",
       "          )\n",
       "        )\n",
       "        (5): BertLayer(\n",
       "          (attention): BertAttention(\n",
       "            (self): BertSelfAttention(\n",
       "              (query): Linear(in_features=768, out_features=768, bias=True)\n",
       "              (key): Linear(in_features=768, out_features=768, bias=True)\n",
       "              (value): Linear(in_features=768, out_features=768, bias=True)\n",
       "              (dropout): Dropout(p=0.1)\n",
       "            )\n",
       "            (output): BertSelfOutput(\n",
       "              (dense): Linear(in_features=768, out_features=768, bias=True)\n",
       "              (LayerNorm): BertLayerNorm()\n",
       "              (dropout): Dropout(p=0.1)\n",
       "            )\n",
       "          )\n",
       "          (intermediate): BertIntermediate(\n",
       "            (dense): Linear(in_features=768, out_features=3072, bias=True)\n",
       "          )\n",
       "          (output): BertOutput(\n",
       "            (dense): Linear(in_features=3072, out_features=768, bias=True)\n",
       "            (LayerNorm): BertLayerNorm()\n",
       "            (dropout): Dropout(p=0.1)\n",
       "          )\n",
       "        )\n",
       "        (6): BertLayer(\n",
       "          (attention): BertAttention(\n",
       "            (self): BertSelfAttention(\n",
       "              (query): Linear(in_features=768, out_features=768, bias=True)\n",
       "              (key): Linear(in_features=768, out_features=768, bias=True)\n",
       "              (value): Linear(in_features=768, out_features=768, bias=True)\n",
       "              (dropout): Dropout(p=0.1)\n",
       "            )\n",
       "            (output): BertSelfOutput(\n",
       "              (dense): Linear(in_features=768, out_features=768, bias=True)\n",
       "              (LayerNorm): BertLayerNorm()\n",
       "              (dropout): Dropout(p=0.1)\n",
       "            )\n",
       "          )\n",
       "          (intermediate): BertIntermediate(\n",
       "            (dense): Linear(in_features=768, out_features=3072, bias=True)\n",
       "          )\n",
       "          (output): BertOutput(\n",
       "            (dense): Linear(in_features=3072, out_features=768, bias=True)\n",
       "            (LayerNorm): BertLayerNorm()\n",
       "            (dropout): Dropout(p=0.1)\n",
       "          )\n",
       "        )\n",
       "        (7): BertLayer(\n",
       "          (attention): BertAttention(\n",
       "            (self): BertSelfAttention(\n",
       "              (query): Linear(in_features=768, out_features=768, bias=True)\n",
       "              (key): Linear(in_features=768, out_features=768, bias=True)\n",
       "              (value): Linear(in_features=768, out_features=768, bias=True)\n",
       "              (dropout): Dropout(p=0.1)\n",
       "            )\n",
       "            (output): BertSelfOutput(\n",
       "              (dense): Linear(in_features=768, out_features=768, bias=True)\n",
       "              (LayerNorm): BertLayerNorm()\n",
       "              (dropout): Dropout(p=0.1)\n",
       "            )\n",
       "          )\n",
       "          (intermediate): BertIntermediate(\n",
       "            (dense): Linear(in_features=768, out_features=3072, bias=True)\n",
       "          )\n",
       "          (output): BertOutput(\n",
       "            (dense): Linear(in_features=3072, out_features=768, bias=True)\n",
       "            (LayerNorm): BertLayerNorm()\n",
       "            (dropout): Dropout(p=0.1)\n",
       "          )\n",
       "        )\n",
       "        (8): BertLayer(\n",
       "          (attention): BertAttention(\n",
       "            (self): BertSelfAttention(\n",
       "              (query): Linear(in_features=768, out_features=768, bias=True)\n",
       "              (key): Linear(in_features=768, out_features=768, bias=True)\n",
       "              (value): Linear(in_features=768, out_features=768, bias=True)\n",
       "              (dropout): Dropout(p=0.1)\n",
       "            )\n",
       "            (output): BertSelfOutput(\n",
       "              (dense): Linear(in_features=768, out_features=768, bias=True)\n",
       "              (LayerNorm): BertLayerNorm()\n",
       "              (dropout): Dropout(p=0.1)\n",
       "            )\n",
       "          )\n",
       "          (intermediate): BertIntermediate(\n",
       "            (dense): Linear(in_features=768, out_features=3072, bias=True)\n",
       "          )\n",
       "          (output): BertOutput(\n",
       "            (dense): Linear(in_features=3072, out_features=768, bias=True)\n",
       "            (LayerNorm): BertLayerNorm()\n",
       "            (dropout): Dropout(p=0.1)\n",
       "          )\n",
       "        )\n",
       "        (9): BertLayer(\n",
       "          (attention): BertAttention(\n",
       "            (self): BertSelfAttention(\n",
       "              (query): Linear(in_features=768, out_features=768, bias=True)\n",
       "              (key): Linear(in_features=768, out_features=768, bias=True)\n",
       "              (value): Linear(in_features=768, out_features=768, bias=True)\n",
       "              (dropout): Dropout(p=0.1)\n",
       "            )\n",
       "            (output): BertSelfOutput(\n",
       "              (dense): Linear(in_features=768, out_features=768, bias=True)\n",
       "              (LayerNorm): BertLayerNorm()\n",
       "              (dropout): Dropout(p=0.1)\n",
       "            )\n",
       "          )\n",
       "          (intermediate): BertIntermediate(\n",
       "            (dense): Linear(in_features=768, out_features=3072, bias=True)\n",
       "          )\n",
       "          (output): BertOutput(\n",
       "            (dense): Linear(in_features=3072, out_features=768, bias=True)\n",
       "            (LayerNorm): BertLayerNorm()\n",
       "            (dropout): Dropout(p=0.1)\n",
       "          )\n",
       "        )\n",
       "        (10): BertLayer(\n",
       "          (attention): BertAttention(\n",
       "            (self): BertSelfAttention(\n",
       "              (query): Linear(in_features=768, out_features=768, bias=True)\n",
       "              (key): Linear(in_features=768, out_features=768, bias=True)\n",
       "              (value): Linear(in_features=768, out_features=768, bias=True)\n",
       "              (dropout): Dropout(p=0.1)\n",
       "            )\n",
       "            (output): BertSelfOutput(\n",
       "              (dense): Linear(in_features=768, out_features=768, bias=True)\n",
       "              (LayerNorm): BertLayerNorm()\n",
       "              (dropout): Dropout(p=0.1)\n",
       "            )\n",
       "          )\n",
       "          (intermediate): BertIntermediate(\n",
       "            (dense): Linear(in_features=768, out_features=3072, bias=True)\n",
       "          )\n",
       "          (output): BertOutput(\n",
       "            (dense): Linear(in_features=3072, out_features=768, bias=True)\n",
       "            (LayerNorm): BertLayerNorm()\n",
       "            (dropout): Dropout(p=0.1)\n",
       "          )\n",
       "        )\n",
       "        (11): BertLayer(\n",
       "          (attention): BertAttention(\n",
       "            (self): BertSelfAttention(\n",
       "              (query): Linear(in_features=768, out_features=768, bias=True)\n",
       "              (key): Linear(in_features=768, out_features=768, bias=True)\n",
       "              (value): Linear(in_features=768, out_features=768, bias=True)\n",
       "              (dropout): Dropout(p=0.1)\n",
       "            )\n",
       "            (output): BertSelfOutput(\n",
       "              (dense): Linear(in_features=768, out_features=768, bias=True)\n",
       "              (LayerNorm): BertLayerNorm()\n",
       "              (dropout): Dropout(p=0.1)\n",
       "            )\n",
       "          )\n",
       "          (intermediate): BertIntermediate(\n",
       "            (dense): Linear(in_features=768, out_features=3072, bias=True)\n",
       "          )\n",
       "          (output): BertOutput(\n",
       "            (dense): Linear(in_features=3072, out_features=768, bias=True)\n",
       "            (LayerNorm): BertLayerNorm()\n",
       "            (dropout): Dropout(p=0.1)\n",
       "          )\n",
       "        )\n",
       "      )\n",
       "    )\n",
       "    (pooler): BertPooler(\n",
       "      (dense): Linear(in_features=768, out_features=768, bias=True)\n",
       "      (activation): Tanh()\n",
       "    )\n",
       "  )\n",
       "  (dropout): Dropout(p=0.1)\n",
       "  (classifier): Linear(in_features=768, out_features=2, bias=True)\n",
       ")"
      ]
     },
     "execution_count": 39,
     "metadata": {},
     "output_type": "execute_result"
    }
   ],
   "source": [
    "learner.model"
   ]
  },
  {
   "cell_type": "code",
   "execution_count": 40,
   "metadata": {},
   "outputs": [
    {
     "data": {
      "text/plain": [
       "======================================================================\n",
       "Layer (type)         Output Shape         Param #    Trainable \n",
       "======================================================================\n",
       "Embedding            [128, 768]           16,226,304 True      \n",
       "______________________________________________________________________\n",
       "Embedding            [128, 768]           393,216    True      \n",
       "______________________________________________________________________\n",
       "Embedding            [128, 768]           1,536      True      \n",
       "______________________________________________________________________\n",
       "BertLayerNorm        [128, 768]           1,536      True      \n",
       "______________________________________________________________________\n",
       "Dropout              [128, 768]           0          False     \n",
       "______________________________________________________________________\n",
       "Linear               [128, 768]           590,592    True      \n",
       "______________________________________________________________________\n",
       "Linear               [128, 768]           590,592    True      \n",
       "______________________________________________________________________\n",
       "Linear               [128, 768]           590,592    True      \n",
       "______________________________________________________________________\n",
       "Dropout              [12, 128, 128]       0          False     \n",
       "______________________________________________________________________\n",
       "Linear               [128, 768]           590,592    True      \n",
       "______________________________________________________________________\n",
       "BertLayerNorm        [128, 768]           1,536      True      \n",
       "______________________________________________________________________\n",
       "Dropout              [128, 768]           0          False     \n",
       "______________________________________________________________________\n",
       "Linear               [128, 3072]          2,362,368  True      \n",
       "______________________________________________________________________\n",
       "Linear               [128, 768]           2,360,064  True      \n",
       "______________________________________________________________________\n",
       "BertLayerNorm        [128, 768]           1,536      True      \n",
       "______________________________________________________________________\n",
       "Dropout              [128, 768]           0          False     \n",
       "______________________________________________________________________\n",
       "Linear               [128, 768]           590,592    True      \n",
       "______________________________________________________________________\n",
       "Linear               [128, 768]           590,592    True      \n",
       "______________________________________________________________________\n",
       "Linear               [128, 768]           590,592    True      \n",
       "______________________________________________________________________\n",
       "Dropout              [12, 128, 128]       0          False     \n",
       "______________________________________________________________________\n",
       "Linear               [128, 768]           590,592    True      \n",
       "______________________________________________________________________\n",
       "BertLayerNorm        [128, 768]           1,536      True      \n",
       "______________________________________________________________________\n",
       "Dropout              [128, 768]           0          False     \n",
       "______________________________________________________________________\n",
       "Linear               [128, 3072]          2,362,368  True      \n",
       "______________________________________________________________________\n",
       "Linear               [128, 768]           2,360,064  True      \n",
       "______________________________________________________________________\n",
       "BertLayerNorm        [128, 768]           1,536      True      \n",
       "______________________________________________________________________\n",
       "Dropout              [128, 768]           0          False     \n",
       "______________________________________________________________________\n",
       "Linear               [128, 768]           590,592    True      \n",
       "______________________________________________________________________\n",
       "Linear               [128, 768]           590,592    True      \n",
       "______________________________________________________________________\n",
       "Linear               [128, 768]           590,592    True      \n",
       "______________________________________________________________________\n",
       "Dropout              [12, 128, 128]       0          False     \n",
       "______________________________________________________________________\n",
       "Linear               [128, 768]           590,592    True      \n",
       "______________________________________________________________________\n",
       "BertLayerNorm        [128, 768]           1,536      True      \n",
       "______________________________________________________________________\n",
       "Dropout              [128, 768]           0          False     \n",
       "______________________________________________________________________\n",
       "Linear               [128, 3072]          2,362,368  True      \n",
       "______________________________________________________________________\n",
       "Linear               [128, 768]           2,360,064  True      \n",
       "______________________________________________________________________\n",
       "BertLayerNorm        [128, 768]           1,536      True      \n",
       "______________________________________________________________________\n",
       "Dropout              [128, 768]           0          False     \n",
       "______________________________________________________________________\n",
       "Linear               [128, 768]           590,592    True      \n",
       "______________________________________________________________________\n",
       "Linear               [128, 768]           590,592    True      \n",
       "______________________________________________________________________\n",
       "Linear               [128, 768]           590,592    True      \n",
       "______________________________________________________________________\n",
       "Dropout              [12, 128, 128]       0          False     \n",
       "______________________________________________________________________\n",
       "Linear               [128, 768]           590,592    True      \n",
       "______________________________________________________________________\n",
       "BertLayerNorm        [128, 768]           1,536      True      \n",
       "______________________________________________________________________\n",
       "Dropout              [128, 768]           0          False     \n",
       "______________________________________________________________________\n",
       "Linear               [128, 3072]          2,362,368  True      \n",
       "______________________________________________________________________\n",
       "Linear               [128, 768]           2,360,064  True      \n",
       "______________________________________________________________________\n",
       "BertLayerNorm        [128, 768]           1,536      True      \n",
       "______________________________________________________________________\n",
       "Dropout              [128, 768]           0          False     \n",
       "______________________________________________________________________\n",
       "Linear               [128, 768]           590,592    True      \n",
       "______________________________________________________________________\n",
       "Linear               [128, 768]           590,592    True      \n",
       "______________________________________________________________________\n",
       "Linear               [128, 768]           590,592    True      \n",
       "______________________________________________________________________\n",
       "Dropout              [12, 128, 128]       0          False     \n",
       "______________________________________________________________________\n",
       "Linear               [128, 768]           590,592    True      \n",
       "______________________________________________________________________\n",
       "BertLayerNorm        [128, 768]           1,536      True      \n",
       "______________________________________________________________________\n",
       "Dropout              [128, 768]           0          False     \n",
       "______________________________________________________________________\n",
       "Linear               [128, 3072]          2,362,368  True      \n",
       "______________________________________________________________________\n",
       "Linear               [128, 768]           2,360,064  True      \n",
       "______________________________________________________________________\n",
       "BertLayerNorm        [128, 768]           1,536      True      \n",
       "______________________________________________________________________\n",
       "Dropout              [128, 768]           0          False     \n",
       "______________________________________________________________________\n",
       "Linear               [128, 768]           590,592    True      \n",
       "______________________________________________________________________\n",
       "Linear               [128, 768]           590,592    True      \n",
       "______________________________________________________________________\n",
       "Linear               [128, 768]           590,592    True      \n",
       "______________________________________________________________________\n",
       "Dropout              [12, 128, 128]       0          False     \n",
       "______________________________________________________________________\n",
       "Linear               [128, 768]           590,592    True      \n",
       "______________________________________________________________________\n",
       "BertLayerNorm        [128, 768]           1,536      True      \n",
       "______________________________________________________________________\n",
       "Dropout              [128, 768]           0          False     \n",
       "______________________________________________________________________\n",
       "Linear               [128, 3072]          2,362,368  True      \n",
       "______________________________________________________________________\n",
       "Linear               [128, 768]           2,360,064  True      \n",
       "______________________________________________________________________\n",
       "BertLayerNorm        [128, 768]           1,536      True      \n",
       "______________________________________________________________________\n",
       "Dropout              [128, 768]           0          False     \n",
       "______________________________________________________________________\n",
       "Linear               [128, 768]           590,592    True      \n",
       "______________________________________________________________________\n",
       "Linear               [128, 768]           590,592    True      \n",
       "______________________________________________________________________\n",
       "Linear               [128, 768]           590,592    True      \n",
       "______________________________________________________________________\n",
       "Dropout              [12, 128, 128]       0          False     \n",
       "______________________________________________________________________\n",
       "Linear               [128, 768]           590,592    True      \n",
       "______________________________________________________________________\n",
       "BertLayerNorm        [128, 768]           1,536      True      \n",
       "______________________________________________________________________\n",
       "Dropout              [128, 768]           0          False     \n",
       "______________________________________________________________________\n",
       "Linear               [128, 3072]          2,362,368  True      \n",
       "______________________________________________________________________\n",
       "Linear               [128, 768]           2,360,064  True      \n",
       "______________________________________________________________________\n",
       "BertLayerNorm        [128, 768]           1,536      True      \n",
       "______________________________________________________________________\n",
       "Dropout              [128, 768]           0          False     \n",
       "______________________________________________________________________\n",
       "Linear               [128, 768]           590,592    True      \n",
       "______________________________________________________________________\n",
       "Linear               [128, 768]           590,592    True      \n",
       "______________________________________________________________________\n",
       "Linear               [128, 768]           590,592    True      \n",
       "______________________________________________________________________\n",
       "Dropout              [12, 128, 128]       0          False     \n",
       "______________________________________________________________________\n",
       "Linear               [128, 768]           590,592    True      \n",
       "______________________________________________________________________\n",
       "BertLayerNorm        [128, 768]           1,536      True      \n",
       "______________________________________________________________________\n",
       "Dropout              [128, 768]           0          False     \n",
       "______________________________________________________________________\n",
       "Linear               [128, 3072]          2,362,368  True      \n",
       "______________________________________________________________________\n",
       "Linear               [128, 768]           2,360,064  True      \n",
       "______________________________________________________________________\n",
       "BertLayerNorm        [128, 768]           1,536      True      \n",
       "______________________________________________________________________\n",
       "Dropout              [128, 768]           0          False     \n",
       "______________________________________________________________________\n",
       "Linear               [128, 768]           590,592    True      \n",
       "______________________________________________________________________\n",
       "Linear               [128, 768]           590,592    True      \n",
       "______________________________________________________________________\n",
       "Linear               [128, 768]           590,592    True      \n",
       "______________________________________________________________________\n",
       "Dropout              [12, 128, 128]       0          False     \n",
       "______________________________________________________________________\n",
       "Linear               [128, 768]           590,592    True      \n",
       "______________________________________________________________________\n",
       "BertLayerNorm        [128, 768]           1,536      True      \n",
       "______________________________________________________________________\n",
       "Dropout              [128, 768]           0          False     \n",
       "______________________________________________________________________\n",
       "Linear               [128, 3072]          2,362,368  True      \n",
       "______________________________________________________________________\n",
       "Linear               [128, 768]           2,360,064  True      \n",
       "______________________________________________________________________\n",
       "BertLayerNorm        [128, 768]           1,536      True      \n",
       "______________________________________________________________________\n",
       "Dropout              [128, 768]           0          False     \n",
       "______________________________________________________________________\n",
       "Linear               [128, 768]           590,592    True      \n",
       "______________________________________________________________________\n",
       "Linear               [128, 768]           590,592    True      \n",
       "______________________________________________________________________\n",
       "Linear               [128, 768]           590,592    True      \n",
       "______________________________________________________________________\n",
       "Dropout              [12, 128, 128]       0          False     \n",
       "______________________________________________________________________\n",
       "Linear               [128, 768]           590,592    True      \n",
       "______________________________________________________________________\n",
       "BertLayerNorm        [128, 768]           1,536      True      \n",
       "______________________________________________________________________\n",
       "Dropout              [128, 768]           0          False     \n",
       "______________________________________________________________________\n",
       "Linear               [128, 3072]          2,362,368  True      \n",
       "______________________________________________________________________\n",
       "Linear               [128, 768]           2,360,064  True      \n",
       "______________________________________________________________________\n",
       "BertLayerNorm        [128, 768]           1,536      True      \n",
       "______________________________________________________________________\n",
       "Dropout              [128, 768]           0          False     \n",
       "______________________________________________________________________\n",
       "Linear               [128, 768]           590,592    True      \n",
       "______________________________________________________________________\n",
       "Linear               [128, 768]           590,592    True      \n",
       "______________________________________________________________________\n",
       "Linear               [128, 768]           590,592    True      \n",
       "______________________________________________________________________\n",
       "Dropout              [12, 128, 128]       0          False     \n",
       "______________________________________________________________________\n",
       "Linear               [128, 768]           590,592    True      \n",
       "______________________________________________________________________\n",
       "BertLayerNorm        [128, 768]           1,536      True      \n",
       "______________________________________________________________________\n",
       "Dropout              [128, 768]           0          False     \n",
       "______________________________________________________________________\n",
       "Linear               [128, 3072]          2,362,368  True      \n",
       "______________________________________________________________________\n",
       "Linear               [128, 768]           2,360,064  True      \n",
       "______________________________________________________________________\n",
       "BertLayerNorm        [128, 768]           1,536      True      \n",
       "______________________________________________________________________\n",
       "Dropout              [128, 768]           0          False     \n",
       "______________________________________________________________________\n",
       "Linear               [128, 768]           590,592    True      \n",
       "______________________________________________________________________\n",
       "Linear               [128, 768]           590,592    True      \n",
       "______________________________________________________________________\n",
       "Linear               [128, 768]           590,592    True      \n",
       "______________________________________________________________________\n",
       "Dropout              [12, 128, 128]       0          False     \n",
       "______________________________________________________________________\n",
       "Linear               [128, 768]           590,592    True      \n",
       "______________________________________________________________________\n",
       "BertLayerNorm        [128, 768]           1,536      True      \n",
       "______________________________________________________________________\n",
       "Dropout              [128, 768]           0          False     \n",
       "______________________________________________________________________\n",
       "Linear               [128, 3072]          2,362,368  True      \n",
       "______________________________________________________________________\n",
       "Linear               [128, 768]           2,360,064  True      \n",
       "______________________________________________________________________\n",
       "BertLayerNorm        [128, 768]           1,536      True      \n",
       "______________________________________________________________________\n",
       "Dropout              [128, 768]           0          False     \n",
       "______________________________________________________________________\n",
       "Linear               [768]                590,592    True      \n",
       "______________________________________________________________________\n",
       "Tanh                 [768]                0          False     \n",
       "______________________________________________________________________\n",
       "Dropout              [768]                0          False     \n",
       "______________________________________________________________________\n",
       "Linear               [2]                  1,538      True      \n",
       "______________________________________________________________________\n",
       "\n",
       "Total params: 102,269,186\n",
       "Total trainable params: 102,269,186\n",
       "Total non-trainable params: 0"
      ]
     },
     "execution_count": 40,
     "metadata": {},
     "output_type": "execute_result"
    }
   ],
   "source": [
    "learner.summary()"
   ]
  },
  {
   "cell_type": "code",
   "execution_count": 41,
   "metadata": {},
   "outputs": [],
   "source": [
    "learner.unfreeze()"
   ]
  },
  {
   "cell_type": "code",
   "execution_count": 42,
   "metadata": {},
   "outputs": [
    {
     "data": {
      "text/html": [
       "Total time: 09:27 <p><table border=\"1\" class=\"dataframe\">\n",
       "  <thead>\n",
       "    <tr style=\"text-align: left;\">\n",
       "      <th>epoch</th>\n",
       "      <th>train_loss</th>\n",
       "      <th>valid_loss</th>\n",
       "      <th>accuracy</th>\n",
       "      <th>time</th>\n",
       "    </tr>\n",
       "  </thead>\n",
       "  <tbody>\n",
       "    <tr>\n",
       "      <td>0</td>\n",
       "      <td>0.034001</td>\n",
       "      <td>0.352218</td>\n",
       "      <td>0.929000</td>\n",
       "      <td>03:09</td>\n",
       "    </tr>\n",
       "    <tr>\n",
       "      <td>1</td>\n",
       "      <td>0.014278</td>\n",
       "      <td>0.243409</td>\n",
       "      <td>0.950000</td>\n",
       "      <td>03:09</td>\n",
       "    </tr>\n",
       "    <tr>\n",
       "      <td>2</td>\n",
       "      <td>0.001612</td>\n",
       "      <td>0.281989</td>\n",
       "      <td>0.947000</td>\n",
       "      <td>03:09</td>\n",
       "    </tr>\n",
       "  </tbody>\n",
       "</table>"
      ],
      "text/plain": [
       "<IPython.core.display.HTML object>"
      ]
     },
     "metadata": {},
     "output_type": "display_data"
    }
   ],
   "source": [
    "learner.fit_one_cycle(3, slice(3e-5/2.6))"
   ]
  },
  {
   "cell_type": "code",
   "execution_count": 43,
   "metadata": {},
   "outputs": [],
   "source": [
    "learner.save('htl_stage2')"
   ]
  },
  {
   "cell_type": "code",
   "execution_count": 44,
   "metadata": {},
   "outputs": [
    {
     "data": {
      "text/plain": [
       "(Category 0, tensor(0), tensor([9.9972e-01, 2.8313e-04]))"
      ]
     },
     "execution_count": 44,
     "metadata": {},
     "output_type": "execute_result"
    }
   ],
   "source": [
    "#用样例测试下\n",
    "learner.predict(\"设施老化，紧靠马路噪音太大，晚上楼上卫生间的水流声和空调噪音非常大，无法入眠\")"
   ]
  },
  {
   "cell_type": "code",
   "execution_count": 45,
   "metadata": {},
   "outputs": [
    {
     "data": {
      "text/plain": [
       "(Category 1, tensor(1), tensor([3.6966e-05, 9.9996e-01]))"
      ]
     },
     "execution_count": 45,
     "metadata": {},
     "output_type": "execute_result"
    }
   ],
   "source": [
    "learner.predict(\"位置真是好的没话讲，距解放碑步行只要两分钟不到，周边吃的、买的、看的都很多\")"
   ]
  }
 ],
 "metadata": {
  "accelerator": "GPU",
  "colab": {
   "collapsed_sections": [],
   "name": "Chinese_htlData_Classification_with_BERT.ipynb",
   "provenance": [],
   "version": "0.3.2"
  },
  "kernelspec": {
   "display_name": "Python 3",
   "language": "python",
   "name": "python3"
  },
  "language_info": {
   "codemirror_mode": {
    "name": "ipython",
    "version": 3
   },
   "file_extension": ".py",
   "mimetype": "text/x-python",
   "name": "python",
   "nbconvert_exporter": "python",
   "pygments_lexer": "ipython3",
   "version": "3.6.7"
  }
 },
 "nbformat": 4,
 "nbformat_minor": 2
}
