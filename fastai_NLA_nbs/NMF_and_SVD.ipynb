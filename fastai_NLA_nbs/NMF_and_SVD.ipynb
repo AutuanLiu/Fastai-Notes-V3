{
 "cells": [
  {
   "cell_type": "code",
   "execution_count": 1,
   "metadata": {},
   "outputs": [],
   "source": [
    "%matplotlib inline\n",
    "%reload_ext autoreload\n",
    "%autoreload 2\n",
    "# 多行输出\n",
    "from IPython.core.interactiveshell import InteractiveShell\n",
    "InteractiveShell.ast_node_interactivity = \"all\" "
   ]
  },
  {
   "cell_type": "markdown",
   "metadata": {},
   "source": [
    "# NMF and SVD"
   ]
  },
  {
   "cell_type": "markdown",
   "metadata": {},
   "source": [
    "![NMF and SVD](NMF1.png)"
   ]
  },
  {
   "cell_type": "markdown",
   "metadata": {},
   "source": [
    "- 传统的奇异值分解方法只能对稠密矩阵进行分解，即不允许所分解矩阵有空值。因而，若采用奇异值分解，需要首先填充数值，这样造成了两个问题：\n",
    "    - 其一，填充大大增加了数据量，增加了算法复杂度\n",
    "    - 其二，简单粗暴的数据填充很容易造成数据失真\n",
    "\n",
    "- 使用矩阵分解具有以下优点：\n",
    "    - 比较容易编程实现，随机梯度下降方法依次迭代即可训练出模型\n",
    "    - 比较低的时间和空间复杂度，高维矩阵映射为两个低维矩阵节省了存储空间，训练过程比较费时，但是可以离线完成\n",
    "    - 评分预测一般在线计算，直接使用离线训练得到的参数，可以实时推荐\n",
    "    - 预测的精度比较高，预测准确率要高于基于领域的协同过滤以及内容过滤等方法\n",
    "    - 非常好的扩展性，很方便在用户特征向量和物品特征向量中添加其它因素\n",
    "\n",
    "- 矩阵分解的不足主要有：\n",
    "    - 模型训练比较费时。\n",
    "    - 推荐结果不具有很好的可解释性，分解出来的用户和物品矩阵的每个维度无法和现实生活中的概念来解释，无法用现实概念给每个维度命名，只能理解为潜在语义空间。\n",
    "\n",
    "- 非负矩阵分解(non-negative matrix factorization)1，或非负矩阵近似(non-negative matrix approximation)，是多变量分析和线性代数的算法。\n",
    "    - 输入：非负矩阵V\n",
    "    - 输出：两个非负矩阵W和H\n",
    "    - 目标：V=WH\n",
    "- 优点\n",
    "    - 处理大规模数据更快更便捷；\n",
    "    - 实现简便性、分解形式和分解结果上的可解释性，占用存储空间少。\n",
    "- 缺点\n",
    "    - NMF中只用一层表示隐变量，无法处理复杂学习问题；\n",
    "    - NMF只约束了W和H的非负性（这是唯一先验，只要求满足这个），而没有考虑到对于该先验，H内部元素间的相关性。\n",
    "- 应用领域\n",
    "　　- 计算机视觉，文档聚类，化学统计学，音频信号处理，推荐系统"
   ]
  },
  {
   "cell_type": "code",
   "execution_count": null,
   "metadata": {},
   "outputs": [],
   "source": []
  }
 ],
 "metadata": {
  "kernelspec": {
   "display_name": "Python 3",
   "language": "python",
   "name": "python3"
  },
  "language_info": {
   "codemirror_mode": {
    "name": "ipython",
    "version": 3
   },
   "file_extension": ".py",
   "mimetype": "text/x-python",
   "name": "python",
   "nbconvert_exporter": "python",
   "pygments_lexer": "ipython3",
   "version": "3.6.7"
  }
 },
 "nbformat": 4,
 "nbformat_minor": 2
}
