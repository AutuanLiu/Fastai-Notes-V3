{
 "cells": [
  {
   "cell_type": "code",
   "execution_count": 1,
   "metadata": {},
   "outputs": [],
   "source": [
    "%matplotlib inline\n",
    "%reload_ext autoreload\n",
    "%autoreload 2\n",
    "# 多行输出\n",
    "from IPython.core.interactiveshell import InteractiveShell\n",
    "InteractiveShell.ast_node_interactivity = \"all\" "
   ]
  },
  {
   "cell_type": "code",
   "execution_count": 2,
   "metadata": {},
   "outputs": [],
   "source": [
    "import numpy as np\n",
    "from sklearn.feature_extraction.text import CountVectorizer, TfidfVectorizer\n",
    "from sklearn.decomposition import randomized_svd, NMF\n",
    "from glob import glob\n",
    "import os"
   ]
  },
  {
   "cell_type": "markdown",
   "metadata": {},
   "source": [
    "## 获取数据"
   ]
  },
  {
   "cell_type": "code",
   "execution_count": 3,
   "metadata": {},
   "outputs": [],
   "source": [
    "filenames = glob(\"data/british-fiction-corpus\" + \"/*.txt\")"
   ]
  },
  {
   "cell_type": "code",
   "execution_count": 4,
   "metadata": {},
   "outputs": [
    {
     "data": {
      "text/plain": [
       "27"
      ]
     },
     "execution_count": 4,
     "metadata": {},
     "output_type": "execute_result"
    }
   ],
   "source": [
    "len(filenames)"
   ]
  },
  {
   "cell_type": "markdown",
   "metadata": {},
   "source": [
    "- 向量化-数值化"
   ]
  },
  {
   "cell_type": "code",
   "execution_count": 5,
   "metadata": {},
   "outputs": [
    {
     "data": {
      "text/plain": [
       "((27, 55035), (55035,))"
      ]
     },
     "execution_count": 5,
     "metadata": {},
     "output_type": "execute_result"
    }
   ],
   "source": [
    "vectorizer = TfidfVectorizer(input='filename', stop_words='english')\n",
    "tfidf = vectorizer.fit_transform(filenames).toarray()\n",
    "vocab = np.array(vectorizer.get_feature_names())\n",
    "tfidf.shape, vocab.shape"
   ]
  },
  {
   "cell_type": "code",
   "execution_count": 6,
   "metadata": {},
   "outputs": [
    {
     "data": {
      "text/plain": [
       "array([0.        , 0.        , 0.        , 0.        , 0.        ,\n",
       "       0.        , 0.        , 0.        , 0.        , 0.        ,\n",
       "       0.        , 0.        , 0.        , 0.00396722, 0.        ,\n",
       "       0.        , 0.        , 0.        , 0.        , 0.        ,\n",
       "       0.        , 0.        , 0.        , 0.        , 0.        ])"
      ]
     },
     "execution_count": 6,
     "metadata": {},
     "output_type": "execute_result"
    }
   ],
   "source": [
    "tfidf[0, 245: 270]"
   ]
  },
  {
   "cell_type": "markdown",
   "metadata": {},
   "source": [
    "- 文档存储名"
   ]
  },
  {
   "cell_type": "code",
   "execution_count": 7,
   "metadata": {},
   "outputs": [
    {
     "data": {
      "text/plain": [
       "['ABronte_Tenant.txt',\n",
       " 'Thackeray_Barry.txt',\n",
       " 'Dickens_Hard.txt',\n",
       " 'Thackeray_Pendennis.txt',\n",
       " 'Trollope_Phineas.txt',\n",
       " 'Richardson_Pamela.txt',\n",
       " 'CBronte_Villette.txt',\n",
       " 'Austen_Pride.txt',\n",
       " 'Fielding_Joseph.txt',\n",
       " 'CBronte_Professor.txt',\n",
       " 'Dickens_Bleak.txt',\n",
       " 'Trollope_Prime.txt',\n",
       " 'Fielding_Tom.txt',\n",
       " 'CBronte_Jane.txt',\n",
       " 'Sterne_Tristram.txt',\n",
       " 'EBronte_Wuthering.txt',\n",
       " 'Dickens_David.txt',\n",
       " 'Eliot_Middlemarch.txt',\n",
       " 'Austen_Sense.txt',\n",
       " 'Richardson_Clarissa.txt',\n",
       " 'Sterne_Sentimental.txt',\n",
       " 'Austen_Emma.txt',\n",
       " 'Eliot_Mill.txt',\n",
       " 'ABronte_Agnes.txt',\n",
       " 'Trollope_Barchester.txt',\n",
       " 'Eliot_Adam.txt',\n",
       " 'Thackeray_Vanity.txt']"
      ]
     },
     "execution_count": 7,
     "metadata": {},
     "output_type": "execute_result"
    }
   ],
   "source": [
    "[f.split(\"/\")[2] for f in filenames]"
   ]
  },
  {
   "cell_type": "markdown",
   "metadata": {},
   "source": [
    "## 基于 NMF 主题模型"
   ]
  },
  {
   "cell_type": "code",
   "execution_count": 8,
   "metadata": {},
   "outputs": [],
   "source": [
    "num_topics, num_top_words= 8, 10"
   ]
  },
  {
   "cell_type": "code",
   "execution_count": 9,
   "metadata": {},
   "outputs": [],
   "source": [
    "model = NMF(n_components=num_topics, random_state=123)"
   ]
  },
  {
   "cell_type": "code",
   "execution_count": 10,
   "metadata": {},
   "outputs": [],
   "source": [
    "W = model.fit_transform(tfidf)\n",
    "H = model.components_"
   ]
  },
  {
   "cell_type": "code",
   "execution_count": 11,
   "metadata": {},
   "outputs": [
    {
     "data": {
      "text/plain": [
       "((27, 8), (8, 55035))"
      ]
     },
     "execution_count": 11,
     "metadata": {},
     "output_type": "execute_result"
    }
   ],
   "source": [
    "W.shape, H.shape"
   ]
  },
  {
   "cell_type": "markdown",
   "metadata": {},
   "source": [
    "- 关键词"
   ]
  },
  {
   "cell_type": "code",
   "execution_count": 12,
   "metadata": {},
   "outputs": [],
   "source": [
    "def show_topics(a):\n",
    "    top_words = lambda t: [vocab[i] for i in np.argsort(t)[:-num_top_words-1:-1]]\n",
    "    topic_words = ([top_words(t) for t in a])\n",
    "    return [' '.join(t) for t in topic_words]"
   ]
  },
  {
   "cell_type": "code",
   "execution_count": 13,
   "metadata": {},
   "outputs": [
    {
     "data": {
      "text/plain": [
       "['mr said mrs little know sir good old bounderby miss',\n",
       " 'said little like did time good thought know monsieur hunsden',\n",
       " 'adams said jones lady man allworthy sophia joseph good mr',\n",
       " 'mr elinor emma darcy mrs weston marianne miss knightley elton',\n",
       " 'toby said uncle father corporal quoth tis trim yorick man',\n",
       " 'heathcliff linton hareton catherine earnshaw cathy edgar ll said ellen',\n",
       " 'maggie tulliver said tom glegg philip mr stephen wakem lucy',\n",
       " 'phineas said lopez mr finn man wharton laura duke kennedy']"
      ]
     },
     "execution_count": 13,
     "metadata": {},
     "output_type": "execute_result"
    }
   ],
   "source": [
    "show_topics(H)"
   ]
  },
  {
   "cell_type": "markdown",
   "metadata": {},
   "source": [
    "- 所有的不重复关键词"
   ]
  },
  {
   "cell_type": "code",
   "execution_count": 14,
   "metadata": {},
   "outputs": [],
   "source": [
    "def get_all_topic_words(H):\n",
    "    top_indices = lambda t: {i for i in np.argsort(t)[:-num_top_words-1:-1]}\n",
    "    topic_indices = [top_indices(t) for t in H]\n",
    "    return sorted(set.union(*topic_indices))"
   ]
  },
  {
   "cell_type": "code",
   "execution_count": 15,
   "metadata": {},
   "outputs": [],
   "source": [
    "idx = get_all_topic_words(H)"
   ]
  },
  {
   "cell_type": "code",
   "execution_count": 16,
   "metadata": {},
   "outputs": [
    {
     "data": {
      "text/plain": [
       "array(['adams', 'allworthy', 'bounderby', 'catherine', 'cathy',\n",
       "       'corporal', 'darcy', 'did', 'duke', 'earnshaw', 'edgar', 'elinor',\n",
       "       'ellen', 'elton', 'emma', 'father', 'finn', 'glegg', 'good',\n",
       "       'hareton', 'heathcliff', 'hunsden', 'jones', 'joseph', 'kennedy',\n",
       "       'knightley', 'know', 'lady', 'laura', 'like', 'linton', 'little',\n",
       "       'll', 'lopez', 'lucy', 'maggie', 'man', 'marianne', 'miss',\n",
       "       'monsieur', 'mr', 'mrs', 'old', 'philip', 'phineas', 'quoth',\n",
       "       'said', 'sir', 'sophia', 'stephen', 'thought', 'time', 'tis',\n",
       "       'toby', 'tom', 'trim', 'tulliver', 'uncle', 'wakem', 'weston',\n",
       "       'wharton', 'yorick'], dtype='<U31')"
      ]
     },
     "execution_count": 16,
     "metadata": {},
     "output_type": "execute_result"
    }
   ],
   "source": [
    "vocab[idx]"
   ]
  },
  {
   "cell_type": "code",
   "execution_count": 17,
   "metadata": {},
   "outputs": [
    {
     "data": {
      "text/plain": [
       "(8, 62)"
      ]
     },
     "execution_count": 17,
     "metadata": {},
     "output_type": "execute_result"
    }
   ],
   "source": [
    "H[:, idx].shape"
   ]
  },
  {
   "cell_type": "code",
   "execution_count": 18,
   "metadata": {},
   "outputs": [],
   "source": [
    "y = show_topics(H)\n",
    "v = [set(t.split(' ')) for t in y]"
   ]
  },
  {
   "cell_type": "code",
   "execution_count": 19,
   "metadata": {},
   "outputs": [
    {
     "data": {
      "text/plain": [
       "array(['adams', 'allworthy', 'bounderby', 'catherine', 'cathy',\n",
       "       'corporal', 'darcy', 'did', 'duke', 'earnshaw', 'edgar', 'elinor',\n",
       "       'ellen', 'elton', 'emma', 'father', 'finn', 'glegg', 'good',\n",
       "       'hareton', 'heathcliff', 'hunsden', 'jones', 'joseph', 'kennedy',\n",
       "       'knightley', 'know', 'lady', 'laura', 'like', 'linton', 'little',\n",
       "       'll', 'lopez', 'lucy', 'maggie', 'man', 'marianne', 'miss',\n",
       "       'monsieur', 'mr', 'mrs', 'old', 'philip', 'phineas', 'quoth',\n",
       "       'said', 'sir', 'sophia', 'stephen', 'thought', 'time', 'tis',\n",
       "       'toby', 'tom', 'trim', 'tulliver', 'uncle', 'wakem', 'weston',\n",
       "       'wharton', 'yorick'], dtype='<U10')"
      ]
     },
     "execution_count": 19,
     "metadata": {},
     "output_type": "execute_result"
    }
   ],
   "source": [
    "np.array(sorted(set.union(*v)))"
   ]
  },
  {
   "cell_type": "code",
   "execution_count": 20,
   "metadata": {},
   "outputs": [
    {
     "data": {
      "text/plain": [
       "True"
      ]
     },
     "execution_count": 20,
     "metadata": {},
     "output_type": "execute_result"
    }
   ],
   "source": [
    "all(np.array(sorted(set.union(*v))) == vocab[idx])"
   ]
  },
  {
   "cell_type": "markdown",
   "metadata": {},
   "source": [
    "## 基于SVD的模型"
   ]
  },
  {
   "cell_type": "code",
   "execution_count": 21,
   "metadata": {},
   "outputs": [],
   "source": [
    "U, s, Vh = randomized_svd(tfidf, num_topics)"
   ]
  },
  {
   "cell_type": "code",
   "execution_count": 22,
   "metadata": {},
   "outputs": [],
   "source": [
    "idx1 = get_all_topic_words(Vh)"
   ]
  },
  {
   "cell_type": "code",
   "execution_count": 23,
   "metadata": {},
   "outputs": [
    {
     "data": {
      "text/plain": [
       "array(['adams', 'allworthy', 'bounderby', 'bretton', 'catherine', 'cathy',\n",
       "       'crimsworth', 'darcy', 'dashwood', 'did', 'earnshaw', 'edgar',\n",
       "       'elinor', 'elton', 'emma', 'fairfax', 'father', 'finn', 'fleur',\n",
       "       'good', 'hareton', 'harriet', 'hath', 'heathcliff', 'hunsden',\n",
       "       'jennings', 'jones', 'joseph', 'knightley', 'know', 'la', 'lady',\n",
       "       'linton', 'little', 'lopez', 'lovelace', 'madame', 'maggie', 'man',\n",
       "       'marianne', 'mdlle', 'miss', 'monsieur', 'mr', 'mrs', 'pelet',\n",
       "       'phineas', 'said', 'sophia', 'think', 'time', 'toby', 'tom',\n",
       "       'tulliver', 'uncle', 'weston', 'woodhouse'], dtype='<U31')"
      ]
     },
     "execution_count": 23,
     "metadata": {},
     "output_type": "execute_result"
    }
   ],
   "source": [
    "vocab[idx1]"
   ]
  },
  {
   "cell_type": "code",
   "execution_count": 24,
   "metadata": {},
   "outputs": [
    {
     "data": {
      "text/plain": [
       "57"
      ]
     },
     "execution_count": 24,
     "metadata": {},
     "output_type": "execute_result"
    }
   ],
   "source": [
    "len(idx1)"
   ]
  },
  {
   "cell_type": "code",
   "execution_count": 25,
   "metadata": {},
   "outputs": [
    {
     "data": {
      "text/plain": [
       "((27, 8), (8,), (8, 55035))"
      ]
     },
     "execution_count": 25,
     "metadata": {},
     "output_type": "execute_result"
    }
   ],
   "source": [
    "U.shape, s.shape, Vh.shape"
   ]
  },
  {
   "cell_type": "markdown",
   "metadata": {},
   "source": [
    "- 两种方法共有的单词"
   ]
  },
  {
   "cell_type": "code",
   "execution_count": 26,
   "metadata": {},
   "outputs": [],
   "source": [
    "vs = set.difference(set(vocab[idx1]), set(vocab[idx]))"
   ]
  },
  {
   "cell_type": "code",
   "execution_count": 27,
   "metadata": {},
   "outputs": [
    {
     "data": {
      "text/plain": [
       "15"
      ]
     },
     "execution_count": 27,
     "metadata": {},
     "output_type": "execute_result"
    },
    {
     "data": {
      "text/plain": [
       "{'bretton',\n",
       " 'crimsworth',\n",
       " 'dashwood',\n",
       " 'fairfax',\n",
       " 'fleur',\n",
       " 'harriet',\n",
       " 'hath',\n",
       " 'jennings',\n",
       " 'la',\n",
       " 'lovelace',\n",
       " 'madame',\n",
       " 'mdlle',\n",
       " 'pelet',\n",
       " 'think',\n",
       " 'woodhouse'}"
      ]
     },
     "execution_count": 27,
     "metadata": {},
     "output_type": "execute_result"
    }
   ],
   "source": [
    "len(vs)\n",
    "vs"
   ]
  },
  {
   "cell_type": "markdown",
   "metadata": {},
   "source": [
    "`np.linalg.svd(vectors, full_matrices=False)`"
   ]
  },
  {
   "cell_type": "markdown",
   "metadata": {},
   "source": [
    "![](../imgs/full_svd.JPG)\n",
    "\n",
    "![](../imgs/reduced_svd.JPG)"
   ]
  },
  {
   "cell_type": "code",
   "execution_count": null,
   "metadata": {},
   "outputs": [],
   "source": []
  }
 ],
 "metadata": {
  "kernelspec": {
   "display_name": "Python 3",
   "language": "python",
   "name": "python3"
  },
  "language_info": {
   "codemirror_mode": {
    "name": "ipython",
    "version": 3
   },
   "file_extension": ".py",
   "mimetype": "text/x-python",
   "name": "python",
   "nbconvert_exporter": "python",
   "pygments_lexer": "ipython3",
   "version": "3.6.7"
  }
 },
 "nbformat": 4,
 "nbformat_minor": 2
}
