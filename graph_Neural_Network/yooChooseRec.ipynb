{
 "cells": [
  {
   "cell_type": "code",
   "execution_count": 1,
   "metadata": {},
   "outputs": [],
   "source": [
    "%matplotlib inline\n",
    "%reload_ext autoreload\n",
    "%autoreload 2\n",
    "# 多行输出\n",
    "from IPython.core.interactiveshell import InteractiveShell\n",
    "InteractiveShell.ast_node_interactivity = \"all\" "
   ]
  },
  {
   "cell_type": "markdown",
   "metadata": {},
   "source": [
    "# GCN 推荐系统\n",
    "1. [AutuanLiu/PyTorch-Geometric-YooChoose: This is a tutorial for PyTorch Geometric on the YooChoose dataset](https://github.com/AutuanLiu/PyTorch-Geometric-YooChoose)\n",
    "2. [Hands on Graph Neural Networks with PyTorch & PyTorch Geometric](https://towardsdatascience.com/hands-on-graph-neural-networks-with-pytorch-pytorch-geometric-359487e221a8)\n",
    "3. [RecSys Challenge 2015 - Challenge](https://2015.recsyschallenge.com/challenge.html?source=post_page)"
   ]
  },
  {
   "cell_type": "markdown",
   "metadata": {},
   "source": [
    "## Task\n",
    "给出电商网站的用户点击序列，预测用户是否会购买，如果购买，他会买什么？\n",
    "\n",
    "1. 用户是否会点击？\n",
    "2. 用户如果点击，他会买什么？"
   ]
  },
  {
   "cell_type": "markdown",
   "metadata": {},
   "source": [
    "## Data\n",
    "### Training\n",
    "- yoochoose-clicks.dat - 点击记录. \n",
    "    - Session ID – 每个 session 可能有一个或者多个点击记录.\n",
    "    - Timestamp – 时间戳\n",
    "    - Item ID – item的标识.\n",
    "    - Category – item的类别.\n",
    "- yoochoose-buys.dat - 购买记录:\n",
    "    - Session ID - 每个 session 可能有一个或者多个购买记录.\n",
    "    - Timestamp - 时间戳.\n",
    "    - Item ID – item的标识.\n",
    "    - Price – item的价格.\n",
    "    - Quantity – item被购买的次数.\n",
    "- yoochoose-buys.dat 中的 Session ID 一定会出现在 yoochoose-clicks.dat， 具有相同会话ID的记录一起构成会话期间某个用户的单击事件序列， 会话可以很短(几分钟)或很长(几小时)，可以单击一次或数百次，一切都取决于用户的活动。\n",
    "\n",
    "### Test\n",
    "- yoochoose-test.dat - 和 yoochoose-clicks.dat 数据的结构相同\n",
    "    - Session ID\n",
    "    - Timestamp\n",
    "    - Item ID\n",
    "    - Category\n",
    "\n",
    "### Solution\n",
    "\n",
    "任务是预测测试文件中的每个会话，这个会话中是否有购买事件，如果有，将购买哪些项。不需要预测数量\n",
    "\n",
    "- solution.dat\n",
    "    - Session ID\n",
    "    - 用逗号分割在这个 session中会购买的 item ID\n",
    "    - 用 ';' 分割不同的域\n",
    "- 如果测试文件中存在会话ID，但解决方案文件中不存在，这意味着挑战者预测的会话不会以购买事件结束。"
   ]
  },
  {
   "cell_type": "code",
   "execution_count": 2,
   "metadata": {},
   "outputs": [],
   "source": [
    "# export\n",
    "import os, gc\n",
    "import torch\n",
    "import pickle\n",
    "from pathlib import Path\n",
    "import pandas as pd\n",
    "from sklearn.preprocessing import LabelEncoder"
   ]
  },
  {
   "cell_type": "code",
   "execution_count": 3,
   "metadata": {},
   "outputs": [],
   "source": [
    "# export\n",
    "root = Path('../data/yoochoose-data/')"
   ]
  },
  {
   "cell_type": "code",
   "execution_count": 4,
   "metadata": {},
   "outputs": [
    {
     "data": {
      "text/plain": [
       "['dataset-README.txt',\n",
       " 'processed',\n",
       " 'yoochoose-clicks.dat',\n",
       " 'yoochoose-test.dat',\n",
       " 'data.h5',\n",
       " 'yoochoose-buys.dat',\n",
       " '.ipynb_checkpoints']"
      ]
     },
     "execution_count": 4,
     "metadata": {},
     "output_type": "execute_result"
    }
   ],
   "source": [
    "os.listdir(root)"
   ]
  },
  {
   "cell_type": "code",
   "execution_count": 5,
   "metadata": {},
   "outputs": [],
   "source": [
    "click_columns=['session_id', 'timestamp', 'item_id', 'category']\n",
    "buy_columns=['session_id', 'timestamp', 'item_id', 'price', 'quantity']"
   ]
  },
  {
   "cell_type": "code",
   "execution_count": 6,
   "metadata": {},
   "outputs": [],
   "source": [
    "clicks = pd.read_csv(root/'yoochoose-clicks.dat', header=None, names=click_columns, low_memory=False)\n",
    "buys = pd.read_csv(root/'yoochoose-buys.dat', header=None, names=buy_columns, low_memory=False)"
   ]
  },
  {
   "cell_type": "markdown",
   "metadata": {},
   "source": [
    "### 数据"
   ]
  },
  {
   "cell_type": "code",
   "execution_count": 7,
   "metadata": {},
   "outputs": [
    {
     "data": {
      "text/html": [
       "<div>\n",
       "<style scoped>\n",
       "    .dataframe tbody tr th:only-of-type {\n",
       "        vertical-align: middle;\n",
       "    }\n",
       "\n",
       "    .dataframe tbody tr th {\n",
       "        vertical-align: top;\n",
       "    }\n",
       "\n",
       "    .dataframe thead th {\n",
       "        text-align: right;\n",
       "    }\n",
       "</style>\n",
       "<table border=\"1\" class=\"dataframe\">\n",
       "  <thead>\n",
       "    <tr style=\"text-align: right;\">\n",
       "      <th></th>\n",
       "      <th>session_id</th>\n",
       "      <th>timestamp</th>\n",
       "      <th>item_id</th>\n",
       "      <th>category</th>\n",
       "    </tr>\n",
       "  </thead>\n",
       "  <tbody>\n",
       "    <tr>\n",
       "      <th>5918405</th>\n",
       "      <td>1797391</td>\n",
       "      <td>2014-05-03T03:37:32.665Z</td>\n",
       "      <td>214829855</td>\n",
       "      <td>0</td>\n",
       "    </tr>\n",
       "    <tr>\n",
       "      <th>19405979</th>\n",
       "      <td>6414712</td>\n",
       "      <td>2014-07-20T09:57:53.541Z</td>\n",
       "      <td>214845435</td>\n",
       "      <td>3</td>\n",
       "    </tr>\n",
       "    <tr>\n",
       "      <th>27034841</th>\n",
       "      <td>9370293</td>\n",
       "      <td>2014-08-30T07:54:35.410Z</td>\n",
       "      <td>214711284</td>\n",
       "      <td>2</td>\n",
       "    </tr>\n",
       "    <tr>\n",
       "      <th>368496</th>\n",
       "      <td>121007</td>\n",
       "      <td>2014-04-07T09:58:22.237Z</td>\n",
       "      <td>214549950</td>\n",
       "      <td>0</td>\n",
       "    </tr>\n",
       "    <tr>\n",
       "      <th>16680947</th>\n",
       "      <td>5627108</td>\n",
       "      <td>2014-07-01T12:06:23.520Z</td>\n",
       "      <td>214848997</td>\n",
       "      <td>S</td>\n",
       "    </tr>\n",
       "    <tr>\n",
       "      <th>18339004</th>\n",
       "      <td>5910052</td>\n",
       "      <td>2014-07-12T10:04:16.332Z</td>\n",
       "      <td>214850612</td>\n",
       "      <td>6</td>\n",
       "    </tr>\n",
       "    <tr>\n",
       "      <th>27706363</th>\n",
       "      <td>9626101</td>\n",
       "      <td>2014-08-31T18:14:32.628Z</td>\n",
       "      <td>214854125</td>\n",
       "      <td>S</td>\n",
       "    </tr>\n",
       "    <tr>\n",
       "      <th>6732793</th>\n",
       "      <td>2007893</td>\n",
       "      <td>2014-05-01T06:16:04.941Z</td>\n",
       "      <td>214711657</td>\n",
       "      <td>0</td>\n",
       "    </tr>\n",
       "    <tr>\n",
       "      <th>15713769</th>\n",
       "      <td>5538089</td>\n",
       "      <td>2014-06-25T09:11:09.462Z</td>\n",
       "      <td>214539527</td>\n",
       "      <td>2</td>\n",
       "    </tr>\n",
       "    <tr>\n",
       "      <th>1197480</th>\n",
       "      <td>361061</td>\n",
       "      <td>2014-04-07T08:50:04.474Z</td>\n",
       "      <td>214538951</td>\n",
       "      <td>0</td>\n",
       "    </tr>\n",
       "  </tbody>\n",
       "</table>\n",
       "</div>"
      ],
      "text/plain": [
       "          session_id                 timestamp    item_id category\n",
       "5918405      1797391  2014-05-03T03:37:32.665Z  214829855        0\n",
       "19405979     6414712  2014-07-20T09:57:53.541Z  214845435        3\n",
       "27034841     9370293  2014-08-30T07:54:35.410Z  214711284        2\n",
       "368496        121007  2014-04-07T09:58:22.237Z  214549950        0\n",
       "16680947     5627108  2014-07-01T12:06:23.520Z  214848997        S\n",
       "18339004     5910052  2014-07-12T10:04:16.332Z  214850612        6\n",
       "27706363     9626101  2014-08-31T18:14:32.628Z  214854125        S\n",
       "6732793      2007893  2014-05-01T06:16:04.941Z  214711657        0\n",
       "15713769     5538089  2014-06-25T09:11:09.462Z  214539527        2\n",
       "1197480       361061  2014-04-07T08:50:04.474Z  214538951        0"
      ]
     },
     "execution_count": 7,
     "metadata": {},
     "output_type": "execute_result"
    }
   ],
   "source": [
    "clicks.sample(10)"
   ]
  },
  {
   "cell_type": "code",
   "execution_count": 8,
   "metadata": {},
   "outputs": [],
   "source": [
    "# with pd.HDFStore(root/'data.h5', 'w') as data:\n",
    "#     data['clicks'] = clicks\n",
    "#     data['buys'] = buys"
   ]
  },
  {
   "cell_type": "code",
   "execution_count": 9,
   "metadata": {},
   "outputs": [
    {
     "data": {
      "text/html": [
       "<div>\n",
       "<style scoped>\n",
       "    .dataframe tbody tr th:only-of-type {\n",
       "        vertical-align: middle;\n",
       "    }\n",
       "\n",
       "    .dataframe tbody tr th {\n",
       "        vertical-align: top;\n",
       "    }\n",
       "\n",
       "    .dataframe thead th {\n",
       "        text-align: right;\n",
       "    }\n",
       "</style>\n",
       "<table border=\"1\" class=\"dataframe\">\n",
       "  <thead>\n",
       "    <tr style=\"text-align: right;\">\n",
       "      <th></th>\n",
       "      <th>session_id</th>\n",
       "      <th>timestamp</th>\n",
       "      <th>item_id</th>\n",
       "      <th>price</th>\n",
       "      <th>quantity</th>\n",
       "    </tr>\n",
       "  </thead>\n",
       "  <tbody>\n",
       "    <tr>\n",
       "      <th>452115</th>\n",
       "      <td>4842482</td>\n",
       "      <td>2014-06-15T19:12:39.431Z</td>\n",
       "      <td>214839967</td>\n",
       "      <td>0</td>\n",
       "      <td>0</td>\n",
       "    </tr>\n",
       "    <tr>\n",
       "      <th>38974</th>\n",
       "      <td>52026</td>\n",
       "      <td>2014-04-02T13:59:48.327Z</td>\n",
       "      <td>214826835</td>\n",
       "      <td>1674</td>\n",
       "      <td>1</td>\n",
       "    </tr>\n",
       "    <tr>\n",
       "      <th>74068</th>\n",
       "      <td>519397</td>\n",
       "      <td>2014-04-11T14:14:52.051Z</td>\n",
       "      <td>214837483</td>\n",
       "      <td>523</td>\n",
       "      <td>1</td>\n",
       "    </tr>\n",
       "    <tr>\n",
       "      <th>995024</th>\n",
       "      <td>10090984</td>\n",
       "      <td>2014-09-07T07:54:07.303Z</td>\n",
       "      <td>214853700</td>\n",
       "      <td>837</td>\n",
       "      <td>1</td>\n",
       "    </tr>\n",
       "    <tr>\n",
       "      <th>459527</th>\n",
       "      <td>4957258</td>\n",
       "      <td>2014-06-20T19:58:18.870Z</td>\n",
       "      <td>214837288</td>\n",
       "      <td>0</td>\n",
       "      <td>0</td>\n",
       "    </tr>\n",
       "    <tr>\n",
       "      <th>608319</th>\n",
       "      <td>6486388</td>\n",
       "      <td>2014-07-20T08:49:46.128Z</td>\n",
       "      <td>214836924</td>\n",
       "      <td>0</td>\n",
       "      <td>0</td>\n",
       "    </tr>\n",
       "    <tr>\n",
       "      <th>1074418</th>\n",
       "      <td>11193231</td>\n",
       "      <td>2014-09-17T17:33:59.808Z</td>\n",
       "      <td>214854227</td>\n",
       "      <td>3141</td>\n",
       "      <td>1</td>\n",
       "    </tr>\n",
       "    <tr>\n",
       "      <th>13842</th>\n",
       "      <td>404642</td>\n",
       "      <td>2014-04-05T11:35:10.381Z</td>\n",
       "      <td>214821277</td>\n",
       "      <td>1046</td>\n",
       "      <td>6</td>\n",
       "    </tr>\n",
       "    <tr>\n",
       "      <th>1000893</th>\n",
       "      <td>9772747</td>\n",
       "      <td>2014-09-06T19:35:44.366Z</td>\n",
       "      <td>214828957</td>\n",
       "      <td>5654</td>\n",
       "      <td>1</td>\n",
       "    </tr>\n",
       "    <tr>\n",
       "      <th>456558</th>\n",
       "      <td>5095898</td>\n",
       "      <td>2014-06-22T14:34:07.664Z</td>\n",
       "      <td>214819468</td>\n",
       "      <td>0</td>\n",
       "      <td>0</td>\n",
       "    </tr>\n",
       "  </tbody>\n",
       "</table>\n",
       "</div>"
      ],
      "text/plain": [
       "         session_id                 timestamp    item_id  price  quantity\n",
       "452115      4842482  2014-06-15T19:12:39.431Z  214839967      0         0\n",
       "38974         52026  2014-04-02T13:59:48.327Z  214826835   1674         1\n",
       "74068        519397  2014-04-11T14:14:52.051Z  214837483    523         1\n",
       "995024     10090984  2014-09-07T07:54:07.303Z  214853700    837         1\n",
       "459527      4957258  2014-06-20T19:58:18.870Z  214837288      0         0\n",
       "608319      6486388  2014-07-20T08:49:46.128Z  214836924      0         0\n",
       "1074418    11193231  2014-09-17T17:33:59.808Z  214854227   3141         1\n",
       "13842        404642  2014-04-05T11:35:10.381Z  214821277   1046         6\n",
       "1000893     9772747  2014-09-06T19:35:44.366Z  214828957   5654         1\n",
       "456558      5095898  2014-06-22T14:34:07.664Z  214819468      0         0"
      ]
     },
     "execution_count": 9,
     "metadata": {},
     "output_type": "execute_result"
    }
   ],
   "source": [
    "buys.sample(10)"
   ]
  },
  {
   "cell_type": "code",
   "execution_count": 10,
   "metadata": {},
   "outputs": [
    {
     "data": {
      "text/plain": [
       "(339,)"
      ]
     },
     "execution_count": 10,
     "metadata": {},
     "output_type": "execute_result"
    }
   ],
   "source": [
    "clicks.category.unique().shape"
   ]
  },
  {
   "cell_type": "markdown",
   "metadata": {},
   "source": [
    "- item id 要做 embedding ，其属于稀疏变量，我们对其进行编码"
   ]
  },
  {
   "cell_type": "code",
   "execution_count": 11,
   "metadata": {},
   "outputs": [
    {
     "data": {
      "text/plain": [
       "LabelEncoder()"
      ]
     },
     "execution_count": 11,
     "metadata": {},
     "output_type": "execute_result"
    }
   ],
   "source": [
    "item_encoder = LabelEncoder()\n",
    "item_encoder.fit(clicks['item_id'])\n",
    "clicks['item_id'] = item_encoder.transform(clicks['item_id'])"
   ]
  },
  {
   "cell_type": "code",
   "execution_count": 12,
   "metadata": {},
   "outputs": [
    {
     "data": {
      "text/html": [
       "<div>\n",
       "<style scoped>\n",
       "    .dataframe tbody tr th:only-of-type {\n",
       "        vertical-align: middle;\n",
       "    }\n",
       "\n",
       "    .dataframe tbody tr th {\n",
       "        vertical-align: top;\n",
       "    }\n",
       "\n",
       "    .dataframe thead th {\n",
       "        text-align: right;\n",
       "    }\n",
       "</style>\n",
       "<table border=\"1\" class=\"dataframe\">\n",
       "  <thead>\n",
       "    <tr style=\"text-align: right;\">\n",
       "      <th></th>\n",
       "      <th>session_id</th>\n",
       "      <th>timestamp</th>\n",
       "      <th>item_id</th>\n",
       "      <th>category</th>\n",
       "    </tr>\n",
       "  </thead>\n",
       "  <tbody>\n",
       "    <tr>\n",
       "      <th>0</th>\n",
       "      <td>1</td>\n",
       "      <td>2014-04-07T10:51:09.277Z</td>\n",
       "      <td>2053</td>\n",
       "      <td>0</td>\n",
       "    </tr>\n",
       "    <tr>\n",
       "      <th>1</th>\n",
       "      <td>1</td>\n",
       "      <td>2014-04-07T10:54:09.868Z</td>\n",
       "      <td>2052</td>\n",
       "      <td>0</td>\n",
       "    </tr>\n",
       "    <tr>\n",
       "      <th>2</th>\n",
       "      <td>1</td>\n",
       "      <td>2014-04-07T10:54:46.998Z</td>\n",
       "      <td>2054</td>\n",
       "      <td>0</td>\n",
       "    </tr>\n",
       "    <tr>\n",
       "      <th>3</th>\n",
       "      <td>1</td>\n",
       "      <td>2014-04-07T10:57:00.306Z</td>\n",
       "      <td>9876</td>\n",
       "      <td>0</td>\n",
       "    </tr>\n",
       "    <tr>\n",
       "      <th>4</th>\n",
       "      <td>2</td>\n",
       "      <td>2014-04-07T13:56:37.614Z</td>\n",
       "      <td>19448</td>\n",
       "      <td>0</td>\n",
       "    </tr>\n",
       "  </tbody>\n",
       "</table>\n",
       "</div>"
      ],
      "text/plain": [
       "   session_id                 timestamp  item_id category\n",
       "0           1  2014-04-07T10:51:09.277Z     2053        0\n",
       "1           1  2014-04-07T10:54:09.868Z     2052        0\n",
       "2           1  2014-04-07T10:54:46.998Z     2054        0\n",
       "3           1  2014-04-07T10:57:00.306Z     9876        0\n",
       "4           2  2014-04-07T13:56:37.614Z    19448        0"
      ]
     },
     "execution_count": 12,
     "metadata": {},
     "output_type": "execute_result"
    }
   ],
   "source": [
    "clicks.head()"
   ]
  },
  {
   "cell_type": "markdown",
   "metadata": {},
   "source": [
    "- 要确定标签，即给定会话是否有任何购买事件，我们只需检查yoochoose-click.dat中的session_id是否也出现在yoochoose-buy.dat中"
   ]
  },
  {
   "cell_type": "code",
   "execution_count": 13,
   "metadata": {},
   "outputs": [],
   "source": [
    "clicks['label'] = clicks.session_id.isin(buys.session_id)"
   ]
  },
  {
   "cell_type": "code",
   "execution_count": 14,
   "metadata": {},
   "outputs": [
    {
     "data": {
      "text/html": [
       "<div>\n",
       "<style scoped>\n",
       "    .dataframe tbody tr th:only-of-type {\n",
       "        vertical-align: middle;\n",
       "    }\n",
       "\n",
       "    .dataframe tbody tr th {\n",
       "        vertical-align: top;\n",
       "    }\n",
       "\n",
       "    .dataframe thead th {\n",
       "        text-align: right;\n",
       "    }\n",
       "</style>\n",
       "<table border=\"1\" class=\"dataframe\">\n",
       "  <thead>\n",
       "    <tr style=\"text-align: right;\">\n",
       "      <th></th>\n",
       "      <th>session_id</th>\n",
       "      <th>timestamp</th>\n",
       "      <th>item_id</th>\n",
       "      <th>category</th>\n",
       "      <th>label</th>\n",
       "    </tr>\n",
       "  </thead>\n",
       "  <tbody>\n",
       "    <tr>\n",
       "      <th>0</th>\n",
       "      <td>1</td>\n",
       "      <td>2014-04-07T10:51:09.277Z</td>\n",
       "      <td>2053</td>\n",
       "      <td>0</td>\n",
       "      <td>False</td>\n",
       "    </tr>\n",
       "    <tr>\n",
       "      <th>1</th>\n",
       "      <td>1</td>\n",
       "      <td>2014-04-07T10:54:09.868Z</td>\n",
       "      <td>2052</td>\n",
       "      <td>0</td>\n",
       "      <td>False</td>\n",
       "    </tr>\n",
       "    <tr>\n",
       "      <th>2</th>\n",
       "      <td>1</td>\n",
       "      <td>2014-04-07T10:54:46.998Z</td>\n",
       "      <td>2054</td>\n",
       "      <td>0</td>\n",
       "      <td>False</td>\n",
       "    </tr>\n",
       "    <tr>\n",
       "      <th>3</th>\n",
       "      <td>1</td>\n",
       "      <td>2014-04-07T10:57:00.306Z</td>\n",
       "      <td>9876</td>\n",
       "      <td>0</td>\n",
       "      <td>False</td>\n",
       "    </tr>\n",
       "    <tr>\n",
       "      <th>4</th>\n",
       "      <td>2</td>\n",
       "      <td>2014-04-07T13:56:37.614Z</td>\n",
       "      <td>19448</td>\n",
       "      <td>0</td>\n",
       "      <td>False</td>\n",
       "    </tr>\n",
       "  </tbody>\n",
       "</table>\n",
       "</div>"
      ],
      "text/plain": [
       "   session_id                 timestamp  item_id category  label\n",
       "0           1  2014-04-07T10:51:09.277Z     2053        0  False\n",
       "1           1  2014-04-07T10:54:09.868Z     2052        0  False\n",
       "2           1  2014-04-07T10:54:46.998Z     2054        0  False\n",
       "3           1  2014-04-07T10:57:00.306Z     9876        0  False\n",
       "4           2  2014-04-07T13:56:37.614Z    19448        0  False"
      ]
     },
     "execution_count": 14,
     "metadata": {},
     "output_type": "execute_result"
    }
   ],
   "source": [
    "clicks.head()"
   ]
  },
  {
   "cell_type": "markdown",
   "metadata": {},
   "source": [
    "保存处理好的数据"
   ]
  },
  {
   "cell_type": "code",
   "execution_count": 15,
   "metadata": {},
   "outputs": [],
   "source": [
    "clicks.to_csv(root/'clicks_pro.csv', index=False, encoding='utf-8')"
   ]
  },
  {
   "cell_type": "code",
   "execution_count": 16,
   "metadata": {},
   "outputs": [
    {
     "data": {
      "text/plain": [
       "0"
      ]
     },
     "execution_count": 16,
     "metadata": {},
     "output_type": "execute_result"
    }
   ],
   "source": [
    "gc.collect()"
   ]
  },
  {
   "cell_type": "markdown",
   "metadata": {},
   "source": [
    "**为避免内存超出，上述过程运行一次即可， 导入必要的包和变量**"
   ]
  },
  {
   "cell_type": "markdown",
   "metadata": {},
   "source": [
    "我们将会话中的每个item视为node，因此同一会话中的所有item形成一个graph,即可将每个session id中的每次点击当做一个节点，这个session构成一个graph"
   ]
  },
  {
   "cell_type": "markdown",
   "metadata": {},
   "source": [
    "### 构造数据集"
   ]
  },
  {
   "cell_type": "markdown",
   "metadata": {},
   "source": [
    "- 每个 session id 构成一个图\n",
    "- 每个 session中的序列从 0 开始计数当做节点\n",
    "- 每个 session id 中的 item id 要重新进行编码（节点）,用于确定顺序，节点的特征使用 item id，不使用 category 的原因是因为，我们的目标是对节点进行分类，\n",
    "    category对应的是节点的组别信息，多个item id 可能属于同一个类别\n",
    "- 图的流向是从前一个节点流向后一个节点的链表形式连接  0-->1-->2-->3-->4"
   ]
  },
  {
   "cell_type": "code",
   "execution_count": 5,
   "metadata": {},
   "outputs": [],
   "source": [
    "# export\n",
    "from torch_geometric.data import InMemoryDataset, Data\n",
    "from tqdm import tqdm\n",
    "\n",
    "class YooChooseBinaryDataset(InMemoryDataset):\n",
    "    def __init__(self, root, transform=None, pre_transform=None):\n",
    "        super().__init__(root, transform, pre_transform)\n",
    "        self.data, self.slices = torch.load(self.processed_paths[0])\n",
    "\n",
    "    @property\n",
    "    def raw_file_names(self):\n",
    "        return []\n",
    "\n",
    "    @property\n",
    "    def processed_file_names(self):\n",
    "        return [Path(self.processed_dir)/'click_binary.pt']\n",
    "\n",
    "    def download(self):\n",
    "        pass\n",
    "\n",
    "    def process(self):\n",
    "        data_list = []\n",
    "        clicks = pd.read_csv(root/'clicks_pro.csv', encoding='utf-8', low_memory=False)\n",
    "        # process by session_id\n",
    "        grouped = clicks.groupby('session_id')\n",
    "        \n",
    "        for session_id, group in tqdm(grouped):\n",
    "            # 重新编码，作为节点的顺序\n",
    "            sess_item_id = LabelEncoder().fit_transform(group.item_id)\n",
    "            \n",
    "            # 重建索引\n",
    "            group = group.reset_index(drop=True)\n",
    "            group['sess_item_id'] = sess_item_id\n",
    "            # 节点的初始特征\n",
    "            # 重复的浏览记录当做一次记录\n",
    "            # 使用 item id 作为节点特征\n",
    "            # 每个子表 group 都有同样的 session id\n",
    "            node_features = group.loc[group.session_id == session_id, ['sess_item_id', 'item_id']].sort_values('sess_item_id').item_id.drop_duplicates().values\n",
    "            node_features = torch.LongTensor(node_features).unsqueeze(1)\n",
    "            \n",
    "            # 序列访问的顺序\n",
    "            source_nodes = group.sess_item_id.values[:-1]\n",
    "            target_nodes = group.sess_item_id.values[1:]\n",
    "            edge_index = torch.tensor([source_nodes, target_nodes], dtype=torch.long)\n",
    "            \n",
    "            x = node_features\n",
    "            y = torch.FloatTensor([group.label.values[0]])\n",
    "            \n",
    "            # 每个 session 当做一个 graph\n",
    "            data = Data(x=x, edge_index=edge_index, y=y)\n",
    "            data_list.append(data)\n",
    "            \n",
    "            # 清理内存\n",
    "            gc.collect()\n",
    "\n",
    "        data, slices = self.collate(data_list)\n",
    "        torch.save((data, slices), self.processed_paths[0])"
   ]
  },
  {
   "cell_type": "code",
   "execution_count": null,
   "metadata": {},
   "outputs": [],
   "source": [
    "dataset  =  YooChooseBinaryDataset(root=root)"
   ]
  },
  {
   "cell_type": "markdown",
   "metadata": {},
   "source": [
    " **为了避免再次处理数据，对上述生成的数据进行保存，方便下次使用**"
   ]
  },
  {
   "cell_type": "code",
   "execution_count": null,
   "metadata": {},
   "outputs": [],
   "source": [
    "with open(root/'clicks_dataset.pkl', 'wb') as f:\n",
    "    pickle.dump(dataset, f)"
   ]
  },
  {
   "cell_type": "code",
   "execution_count": null,
   "metadata": {},
   "outputs": [],
   "source": []
  }
 ],
 "metadata": {
  "kernelspec": {
   "display_name": "Python 3",
   "language": "python",
   "name": "python3"
  },
  "language_info": {
   "codemirror_mode": {
    "name": "ipython",
    "version": 3
   },
   "file_extension": ".py",
   "mimetype": "text/x-python",
   "name": "python",
   "nbconvert_exporter": "python",
   "pygments_lexer": "ipython3",
   "version": "3.6.7"
  }
 },
 "nbformat": 4,
 "nbformat_minor": 4
}
