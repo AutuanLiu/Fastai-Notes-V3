{
 "cells": [
  {
   "cell_type": "code",
   "execution_count": 1,
   "metadata": {},
   "outputs": [],
   "source": [
    "%matplotlib inline\n",
    "%reload_ext autoreload\n",
    "%autoreload 2\n",
    "# 多行输出\n",
    "from IPython.core.interactiveshell import InteractiveShell\n",
    "InteractiveShell.ast_node_interactivity = \"all\" "
   ]
  },
  {
   "cell_type": "markdown",
   "metadata": {},
   "source": [
    "# 精调通用语言模型用于文本分类"
   ]
  },
  {
   "cell_type": "code",
   "execution_count": 2,
   "metadata": {},
   "outputs": [],
   "source": [
    "from fastai import *\n",
    "from fastai.text import *\n",
    "from fastai.core import *\n",
    "import bz2"
   ]
  },
  {
   "cell_type": "markdown",
   "metadata": {},
   "source": [
    "- 基于中文维基百科训练"
   ]
  },
  {
   "cell_type": "code",
   "execution_count": 3,
   "metadata": {},
   "outputs": [],
   "source": [
    "bs = 64\n",
    "lang = 'zh'"
   ]
  },
  {
   "cell_type": "code",
   "execution_count": 4,
   "metadata": {},
   "outputs": [
    {
     "data": {
      "text/plain": [
       "PosixPath('/home/lab/.fastai/data')"
      ]
     },
     "execution_count": 4,
     "metadata": {},
     "output_type": "execute_result"
    }
   ],
   "source": [
    "data_path = Config.data_path()\n",
    "data_path"
   ]
  },
  {
   "cell_type": "markdown",
   "metadata": {},
   "source": [
    "- 提取TXT文件放在 docs 文件夹下"
   ]
  },
  {
   "cell_type": "code",
   "execution_count": 5,
   "metadata": {},
   "outputs": [],
   "source": [
    "name = f'{lang}wiki'\n",
    "path = data_path/name\n",
    "path.mkdir(exist_ok=True, parents=True)\n",
    "dest = path/'docs'\n",
    "lm_fns = [f'{lang}_wt', f'{lang}_wt_vocab']"
   ]
  },
  {
   "cell_type": "markdown",
   "metadata": {},
   "source": [
    "- 下载的文件为 xml 格式\n",
    "- 大概有 46480 词目"
   ]
  },
  {
   "cell_type": "code",
   "execution_count": 6,
   "metadata": {},
   "outputs": [],
   "source": [
    "xml_fn = f\"{lang}wiki-latest-pages-articles.xml\"\n",
    "zip_fn = f\"{xml_fn}.bz2\""
   ]
  },
  {
   "cell_type": "code",
   "execution_count": 7,
   "metadata": {},
   "outputs": [],
   "source": [
    "# def bunzip(fn:PathOrStr):\n",
    "#     \"bunzip `fn`, raising exception if output already exists\"\n",
    "#     fn = Path(fn)\n",
    "#     assert fn.exists(), f\"{fn} doesn't exist\"\n",
    "#     out_fn = fn.with_suffix('')\n",
    "#     assert not out_fn.exists(), f\"{out_fn} already exists\"\n",
    "#     with bz2.BZ2File(fn, 'rb') as src, out_fn.open('wb') as dst:\n",
    "#         for d in iter(lambda: src.read(1024*1024), b''): dst.write(d)\n",
    "\n",
    "# @contextmanager\n",
    "# def working_directory(path:PathOrStr):\n",
    "#     \"Change working directory to `path` and return to previous on exit.\"\n",
    "#     prev_cwd = Path.cwd()\n",
    "#     os.chdir(path)\n",
    "#     try: yield\n",
    "#     finally: os.chdir(prev_cwd)"
   ]
  },
  {
   "cell_type": "markdown",
   "metadata": {},
   "source": [
    "- 提取信息"
   ]
  },
  {
   "cell_type": "code",
   "execution_count": 8,
   "metadata": {},
   "outputs": [],
   "source": [
    "def get_wiki():\n",
    "    if not (path/xml_fn).exists():\n",
    "        print(\"downloading...\")\n",
    "        download_url(f'https://dumps.wikimedia.org/{name}/latest/{zip_fn}', path/zip_fn)\n",
    "        print(\"unzipping...\")\n",
    "        bunzip(path/zip_fn)\n",
    "        \n",
    "    with working_directory(path):\n",
    "        if not (path/'wikiextractor').exists(): os.system('git clone https://github.com/attardi/wikiextractor.git')\n",
    "        print(\"extracting...\")\n",
    "        os.system(\"python wikiextractor/WikiExtractor.py --processes 4 --no_templates \" +\n",
    "            f\"--min_text_length 1800 --filter_disambig_pages --log_file log -b 100G -q {xml_fn}\")\n",
    "    shutil.move(str(path/'text/AA/wiki_00'), str(path/name))\n",
    "    shutil.rmtree(path/'text')"
   ]
  },
  {
   "cell_type": "code",
   "execution_count": 9,
   "metadata": {},
   "outputs": [],
   "source": [
    "if not (path/name).exists(): get_wiki()"
   ]
  },
  {
   "cell_type": "code",
   "execution_count": 10,
   "metadata": {},
   "outputs": [
    {
     "data": {
      "text/plain": [
       "[PosixPath('/home/lab/.fastai/data/zhwiki/log'),\n",
       " PosixPath('/home/lab/.fastai/data/zhwiki/train.csv'),\n",
       " PosixPath('/home/lab/.fastai/data/zhwiki/zhwiki'),\n",
       " PosixPath('/home/lab/.fastai/data/zhwiki/zh_textlist_class'),\n",
       " PosixPath('/home/lab/.fastai/data/zhwiki/models'),\n",
       " PosixPath('/home/lab/.fastai/data/zhwiki/docs'),\n",
       " PosixPath('/home/lab/.fastai/data/zhwiki/zhwiki-latest-pages-articles.xml'),\n",
       " PosixPath('/home/lab/.fastai/data/zhwiki/val.csv'),\n",
       " PosixPath('/home/lab/.fastai/data/zhwiki/zh_databunch'),\n",
       " PosixPath('/home/lab/.fastai/data/zhwiki/zhwiki-latest-pages-articles.xml.bz2'),\n",
       " PosixPath('/home/lab/.fastai/data/zhwiki/wikiextractor')]"
      ]
     },
     "execution_count": 10,
     "metadata": {},
     "output_type": "execute_result"
    }
   ],
   "source": [
    "path.ls()"
   ]
  },
  {
   "cell_type": "code",
   "execution_count": 11,
   "metadata": {},
   "outputs": [
    {
     "name": "stdout",
     "output_type": "stream",
     "text": [
      "<doc id=\"13\" url=\"https://zh.wikipedia.org/wiki?curid=13\" title=\"数学\">\n",
      "数学\n",
      "\n",
      "数学是利用符号语言研究數量、结构、变化以及空间等概念的一門学科，从某种角度看屬於形式科學的一種。數學透過抽象化和邏輯推理的使用，由計數、計算、量度和對物體形狀及運動的觀察而產生。數學家們拓展這些概念，為了公式化新的猜想以及從選定的公理及定義中建立起嚴謹推導出的定理。\n",
      "\n",
      "基礎數學的知識與運用總是個人與團體生活中不可或缺的一環。對數學基本概念的完善，早在古埃及、美索不達米亞及古印度內的古代數學文本便可觀見，而在古希臘那裡有更為嚴謹的處理。從那時開始，數學的發展便持續不斷地小幅進展，至16世紀的文藝復興時期，因为新的科學發現和數學革新兩者的交互，致使數學的加速发展，直至今日。数学并成为許多國家及地區的教育範疇中的一部分。\n",
      "\n",
      "今日，數學使用在不同的領域中，包括科學、工程、醫學、經濟學和金融學等。數學對這些領域的應用通常被稱為應用數學，有時亦會激起新的數學發現，並導致全新學科的發展，例如物理学的实质性发展中建立的某些理论激发数学家对于某些问题的不同角度的思考。數學家也研究純數學，就是數學本身的实质性內容，而不以任何實際應用為目標。雖然許多研究以純數學開始，但其过程中也發現許多應用之处。\n",
      "\n",
      "西方语言中“數學”（）一詞源自於古希臘語的（），其有“學習”、“學問”、“科學”，以及另外還有個較狹義且技術性的意思－「數學研究」，即使在其語源內。其形容詞（），意思為\"和學習有關的\"或\"用功的\"，亦會被用來指\"數學的\"。其在英语中表面上的複數形式，及在法语中的表面複數形式'，可溯至拉丁文的中性複數'，由西塞罗譯自希臘文複數（），此一希臘語被亚里士多德拿來指「萬物皆數」的概念。\n",
      "\n",
      "汉字表示的「數學」一詞大約产生于中国宋元時期。多指象數之學，但有時也含有今天上的數學意義，例如，秦九韶的《數學九章》（《永樂大典》記，即《數書九章》也被宋代周密所著的《癸辛雜識》記爲《數學大略》）、《數學通軌》（明代柯尚遷著）、《数学钥》（清代杜知耕著）、《數學拾遺》（清代丁取忠撰）。直到1939年，經過中國數學名詞審查委員會研究“算學”與“數學”兩詞的使用狀況後，確認以“數學”表示今天意義上的數學含義。\n",
      "\n",
      "數學有着久遠的歷史。它被認為起源於人類早期的生產活動：中國古代的六艺之一就有「數」，數學一詞在西方有希腊语詞源（mathematikós），意思是“学问的基础”，源于（máthema，“科学，知识，学问”）。\n",
      "\n",
      "史前的人類就已嘗試用自然的法則來衡量物質的多少、時間的長短等抽象的數量關係，比如时间单位有日、季節和年等。算術（加減乘除）也自然而然地產生了。古代的石碑及泥版亦證實了當時已有幾何的知識。\n",
      "\n",
      "更進一步則需要寫作或其他可記錄數字的系統，如符木或於印加帝國內用來儲存數據的奇普。歷史上曾有過許多不同的記數系統。\n",
      "\n",
      "在最初有歷史記錄的時候，數學內的主要原理是為了做稅務和貿易等相關計算，為了解數字間的關係，為了測量土地，以及為了預測天文事件而形成的。这些需要可以简单地被概括为数学对數量、结构、空间及时间方面的研究。\n"
     ]
    }
   ],
   "source": [
    "!head -n20 {path}/zhwiki"
   ]
  },
  {
   "cell_type": "markdown",
   "metadata": {},
   "source": [
    "- 分割为 TXT 文件"
   ]
  },
  {
   "cell_type": "code",
   "execution_count": 12,
   "metadata": {},
   "outputs": [],
   "source": [
    "def split_wiki():\n",
    "    dest.mkdir(exist_ok=True, parents=True)\n",
    "    title_re = re.compile(rf'<doc id=\"\\d+\" url=\"https://{lang}.wikipedia.org/wiki\\?curid=\\d+\" title=\"([^\"]+)\">')\n",
    "    lines = (path/name).open()\n",
    "    f=None\n",
    "\n",
    "    for i,l in enumerate(lines):\n",
    "#         if i%100000 == 0: print(i)\n",
    "        if l.startswith('<doc'):\n",
    "            title = title_re.findall(l)[0].replace('/','_')\n",
    "            if f: f.close()\n",
    "            f = (dest/f'{title}.txt').open('w')\n",
    "        else: f.write(l)\n",
    "    f.close()"
   ]
  },
  {
   "cell_type": "code",
   "execution_count": 13,
   "metadata": {},
   "outputs": [],
   "source": [
    "if not dest.exists(): split_wiki()"
   ]
  },
  {
   "cell_type": "code",
   "execution_count": 14,
   "metadata": {},
   "outputs": [
    {
     "data": {
      "text/plain": [
       "[PosixPath('/home/lab/.fastai/data/zhwiki/docs/Super Junior.txt'),\n",
       " PosixPath('/home/lab/.fastai/data/zhwiki/docs/三九政变.txt'),\n",
       " PosixPath('/home/lab/.fastai/data/zhwiki/docs/1941年德克萨斯飓风.txt'),\n",
       " PosixPath('/home/lab/.fastai/data/zhwiki/docs/中国人民解放军浙江省舟山警备区.txt'),\n",
       " PosixPath('/home/lab/.fastai/data/zhwiki/docs/傑克·切斯伯.txt')]"
      ]
     },
     "execution_count": 14,
     "metadata": {},
     "output_type": "execute_result"
    }
   ],
   "source": [
    "dest.ls()[:5]"
   ]
  },
  {
   "cell_type": "code",
   "execution_count": 15,
   "metadata": {},
   "outputs": [
    {
     "name": "stdout",
     "output_type": "stream",
     "text": [
      "Super Junior\n",
      "\n",
      "Super Junior（），簡稱為SJ 或SuJu（），是韓國SM娱樂於2005年推出的流行音樂男子組合，出道初期由12名成員組成，成員包括：利特、希澈、韓庚、藝聲、強仁、神童、晟敏、銀赫、東海、始源、厲旭及起範。2006年起，圭賢加入Super Junior成為第13位成員。2015年11月6日，在Super Junior出道十周年之際，宣布設立獨立工作室廠牌《Label SJ》，專屬負責其專輯製作、經紀管理等方面的事業。\n",
      "\n",
      "2009年至2012年，Super Junior連續四年獲得韓國唱片銷量總冠軍。另外，Super Junior獲得韓國金唱片獎三屆唱片大賞、五屆唱片本賞、七次人氣獎，成為在韓國金唱片頒獎典禮中取得最多獎項的歌手以及第一個蟬聯金唱片大賞的團體。2011年，Super Junior在Mnet亞洲音樂大獎獲得最佳男子團體、年度專輯大獎，2012年獲得全球最佳男子團體並蟬聯年度專輯大獎，同時亦成為在該音樂頒獎禮中獲得最多獎項的歌手其中之一。除此之外，他們在2011年獲得韓國首爾歌謠大賞的大賞及本賞，成為該年度韓國三大頒獎典禮的大賞得主，奠定其在樂壇不可撼動的地位。\n",
      "\n",
      "由於組合人數眾多，成員亦各有所長，為了活動不受限制，涉足不同的音樂類型，自出道以來一共建立了五個子團體。他們在歌手、演員、主持人、DJ及模特等多方面全方位發展，成員們演藝活動經驗豐富，活躍於演藝圈各個領域之中，發展優秀且獲獎無數。迄今為止，Super Junior已發行的9張韓語正規專輯及1張日語正規專輯均取得卓越成績。Super Junior作為第一隊將K-pop推向世界的組合，一直被傳媒冠以「韓流帝王」之稱號。\n",
      "\n",
      "Super Junior的官方歌迷名稱是E.L.F.（韓語：엘프），意思是Ever Lasting Friends（永遠的朋友），2006年6月2日正式公開，由隊長利特命名。應援色是寶藍色(Sapphire Blue)。\n",
      "\n"
     ]
    }
   ],
   "source": [
    "!head {dest}/'Super Junior.txt'"
   ]
  },
  {
   "cell_type": "markdown",
   "metadata": {},
   "source": [
    "### 创建数据"
   ]
  },
  {
   "cell_type": "markdown",
   "metadata": {},
   "source": [
    "- token和数值"
   ]
  },
  {
   "cell_type": "code",
   "execution_count": 16,
   "metadata": {},
   "outputs": [],
   "source": [
    "# data = (TextList.from_folder(dest)\n",
    "#             .split_by_rand_pct(0.1, seed=42)\n",
    "#             .label_for_lm()           \n",
    "#             .databunch(bs=bs, num_workers=1))"
   ]
  },
  {
   "cell_type": "code",
   "execution_count": 17,
   "metadata": {},
   "outputs": [],
   "source": [
    "# len(data.vocab.itos),len(data.train_ds)"
   ]
  },
  {
   "cell_type": "code",
   "execution_count": null,
   "metadata": {},
   "outputs": [],
   "source": []
  },
  {
   "cell_type": "code",
   "execution_count": 18,
   "metadata": {},
   "outputs": [],
   "source": [
    "# data.save(path/f'{lang}_databunch')"
   ]
  },
  {
   "cell_type": "code",
   "execution_count": 19,
   "metadata": {},
   "outputs": [
    {
     "data": {
      "text/plain": [
       "[PosixPath('/home/lab/.fastai/data/zhwiki/log'),\n",
       " PosixPath('/home/lab/.fastai/data/zhwiki/train.csv'),\n",
       " PosixPath('/home/lab/.fastai/data/zhwiki/zhwiki'),\n",
       " PosixPath('/home/lab/.fastai/data/zhwiki/zh_textlist_class'),\n",
       " PosixPath('/home/lab/.fastai/data/zhwiki/models'),\n",
       " PosixPath('/home/lab/.fastai/data/zhwiki/docs'),\n",
       " PosixPath('/home/lab/.fastai/data/zhwiki/zhwiki-latest-pages-articles.xml'),\n",
       " PosixPath('/home/lab/.fastai/data/zhwiki/val.csv'),\n",
       " PosixPath('/home/lab/.fastai/data/zhwiki/zh_databunch'),\n",
       " PosixPath('/home/lab/.fastai/data/zhwiki/zhwiki-latest-pages-articles.xml.bz2'),\n",
       " PosixPath('/home/lab/.fastai/data/zhwiki/wikiextractor')]"
      ]
     },
     "execution_count": 19,
     "metadata": {},
     "output_type": "execute_result"
    }
   ],
   "source": [
    "path.ls()"
   ]
  },
  {
   "cell_type": "code",
   "execution_count": 20,
   "metadata": {},
   "outputs": [],
   "source": [
    "data = load_data(path, f'{lang}_databunch', bs=bs)"
   ]
  },
  {
   "cell_type": "code",
   "execution_count": 21,
   "metadata": {},
   "outputs": [
    {
     "data": {
      "text/html": [
       "<table border=\"1\" class=\"dataframe\">\n",
       "  <thead>\n",
       "    <tr style=\"text-align: right;\">\n",
       "      <th>idx</th>\n",
       "      <th>text</th>\n",
       "    </tr>\n",
       "  </thead>\n",
       "  <tbody>\n",
       "    <tr>\n",
       "      <td>0</td>\n",
       "      <td>xxmaj junior xxunk xxmaj junior xxunk xxmaj xxunk 。 \\n \\n  xxunk xxunk xxmaj lasting xxmaj xxunk 。 \\n \\n  xxunk xxunk 。 \\n \\n  xxunk 。 \\n \\n  xxunk xxunk xxmaj junior xxmaj kiss xxmaj the xxunk 。 \\n \\n  xxunk xxunk xxunk 。 \\n \\n  xxunk xxmaj junior xxmaj kiss xxmaj the xxmaj xxunk 。 \\n \\n  xxunk xxunk xxunk 。</td>\n",
       "    </tr>\n",
       "    <tr>\n",
       "      <td>1</td>\n",
       "      <td>xxunk - xxunk - xxunk 。 \\n \\n  xxunk - xxunk 。 \\n \\n  xxunk 。 \\n \\n  xxunk 。 \\n \\n  xxunk 。 \\n \\n  xxunk 。 \\n \\n  xxunk / xxunk / xxunk / xxunk / xxunk 。 \\n \\n  xxunk - xxunk 。 \\n \\n  xxunk 。 \\n \\n  xxunk 。 \\n \\n  xxunk 。 \\n \\n</td>\n",
       "    </tr>\n",
       "    <tr>\n",
       "      <td>2</td>\n",
       "      <td>\\n \\n  xxunk 。 \\n \\n  xxup xxunk / xxup xxunk / xxup xxunk / xxunk 。 \\n \\n  xxunk / xxup xxunk / xxup xxunk / xxup xxunk / xxup xxunk / xxup xxunk / xxup xxunk - xxup xxunk - xxup xxunk - xxunk 。 \\n \\n  xxunk 。 \\n \\n  xxunk 。 \\n \\n  xxunk xxrep 4 、 xxunk 。 \\n</td>\n",
       "    </tr>\n",
       "    <tr>\n",
       "      <td>3</td>\n",
       "      <td>。 ” \\n \\n  《 xxunk 。 ” \\n \\n  《 xxunk 。 ” \\n \\n  xxunk 》 ） \\n \\n  《 xxunk 。 ” \\n \\n  xxunk 》 ） \\n \\n  《 xxunk … … xxunk … … xxunk ） 。 \\n \\n  xxunk 》 ） \\n \\n  xxunk 》 ） \\n \\n  xxunk 》 ） \\n \\n  xxunk</td>\n",
       "    </tr>\n",
       "    <tr>\n",
       "      <td>4</td>\n",
       "      <td>。 \\n \\n  xxunk 。 \\n \\n  xxunk ： \\n \\n  xxunk 。 \\n \\n  xxunk ： \\n \\n  formula_4 \\n \\n  xxunk \\n  xxunk 。 \\n \\n  xxunk xxunk ： \\n \\n  formula_13 \\n \\n  xxunk ： \\n \\n  xxunk 。 \\n \\n  xxunk \\n \\n  xxunk \\n \\n  xxunk \\n \\n  xxunk \\n</td>\n",
       "    </tr>\n",
       "  </tbody>\n",
       "</table>"
      ],
      "text/plain": [
       "<IPython.core.display.HTML object>"
      ]
     },
     "metadata": {},
     "output_type": "display_data"
    }
   ],
   "source": [
    "data.show_batch()"
   ]
  },
  {
   "cell_type": "markdown",
   "metadata": {},
   "source": [
    "- 模型配置"
   ]
  },
  {
   "cell_type": "code",
   "execution_count": 22,
   "metadata": {},
   "outputs": [
    {
     "data": {
      "text/plain": [
       "{'emb_sz': 400,\n",
       " 'n_hid': 1152,\n",
       " 'n_layers': 3,\n",
       " 'pad_token': 1,\n",
       " 'qrnn': False,\n",
       " 'bidir': False,\n",
       " 'output_p': 0.1,\n",
       " 'hidden_p': 0.15,\n",
       " 'input_p': 0.25,\n",
       " 'embed_p': 0.02,\n",
       " 'weight_p': 0.2,\n",
       " 'tie_weights': True,\n",
       " 'out_bias': True}"
      ]
     },
     "execution_count": 22,
     "metadata": {},
     "output_type": "execute_result"
    }
   ],
   "source": [
    "awd_lstm_lm_config"
   ]
  },
  {
   "cell_type": "code",
   "execution_count": 23,
   "metadata": {},
   "outputs": [],
   "source": [
    "config = {**awd_lstm_lm_config, 'n_hid': 1152}"
   ]
  },
  {
   "cell_type": "markdown",
   "metadata": {},
   "source": [
    "- 不使用预训练权重，我们从头训练，使用中文维基百科"
   ]
  },
  {
   "cell_type": "code",
   "execution_count": 24,
   "metadata": {},
   "outputs": [],
   "source": [
    "learn = language_model_learner(data, AWD_LSTM, drop_mult=0.5, pretrained=False).to_fp16()"
   ]
  },
  {
   "cell_type": "code",
   "execution_count": 25,
   "metadata": {},
   "outputs": [
    {
     "data": {
      "text/html": [],
      "text/plain": [
       "<IPython.core.display.HTML object>"
      ]
     },
     "metadata": {},
     "output_type": "display_data"
    },
    {
     "name": "stdout",
     "output_type": "stream",
     "text": [
      "LR Finder is complete, type {learner_name}.recorder.plot() to see the graph.\n"
     ]
    },
    {
     "data": {
      "image/png": "[encoded data removed]",
      "text/plain": [
       "<Figure size 432x288 with 1 Axes>"
      ]
     },
     "metadata": {
      "needs_background": "light"
     },
     "output_type": "display_data"
    }
   ],
   "source": [
    "learn.lr_find()\n",
    "learn.recorder.plot()"
   ]
  },
  {
   "cell_type": "code",
   "execution_count": 26,
   "metadata": {},
   "outputs": [],
   "source": [
    "lr = 1e-2\n",
    "lr *= bs/48  # Scale learning rate by batch size\n",
    "# 所有层都是可以训练的\n",
    "learn.unfreeze()"
   ]
  },
  {
   "cell_type": "code",
   "execution_count": 27,
   "metadata": {},
   "outputs": [
    {
     "data": {
      "text/html": [
       "Total time: 59:33 <p><table border=\"1\" class=\"dataframe\">\n",
       "  <thead>\n",
       "    <tr style=\"text-align: left;\">\n",
       "      <th>epoch</th>\n",
       "      <th>train_loss</th>\n",
       "      <th>valid_loss</th>\n",
       "      <th>accuracy</th>\n",
       "      <th>time</th>\n",
       "    </tr>\n",
       "  </thead>\n",
       "  <tbody>\n",
       "    <tr>\n",
       "      <td>0</td>\n",
       "      <td>1.887008</td>\n",
       "      <td>1.798630</td>\n",
       "      <td>0.654654</td>\n",
       "      <td>05:57</td>\n",
       "    </tr>\n",
       "    <tr>\n",
       "      <td>1</td>\n",
       "      <td>1.741272</td>\n",
       "      <td>1.659219</td>\n",
       "      <td>0.671275</td>\n",
       "      <td>05:58</td>\n",
       "    </tr>\n",
       "    <tr>\n",
       "      <td>2</td>\n",
       "      <td>1.788368</td>\n",
       "      <td>1.625148</td>\n",
       "      <td>0.671960</td>\n",
       "      <td>05:57</td>\n",
       "    </tr>\n",
       "    <tr>\n",
       "      <td>3</td>\n",
       "      <td>1.742386</td>\n",
       "      <td>1.604050</td>\n",
       "      <td>0.676389</td>\n",
       "      <td>05:56</td>\n",
       "    </tr>\n",
       "    <tr>\n",
       "      <td>4</td>\n",
       "      <td>1.617492</td>\n",
       "      <td>1.584450</td>\n",
       "      <td>0.678097</td>\n",
       "      <td>05:57</td>\n",
       "    </tr>\n",
       "    <tr>\n",
       "      <td>5</td>\n",
       "      <td>1.599604</td>\n",
       "      <td>1.564778</td>\n",
       "      <td>0.681194</td>\n",
       "      <td>05:56</td>\n",
       "    </tr>\n",
       "    <tr>\n",
       "      <td>6</td>\n",
       "      <td>1.652450</td>\n",
       "      <td>1.549637</td>\n",
       "      <td>0.683385</td>\n",
       "      <td>05:57</td>\n",
       "    </tr>\n",
       "    <tr>\n",
       "      <td>7</td>\n",
       "      <td>1.603712</td>\n",
       "      <td>1.533945</td>\n",
       "      <td>0.686270</td>\n",
       "      <td>05:57</td>\n",
       "    </tr>\n",
       "    <tr>\n",
       "      <td>8</td>\n",
       "      <td>1.607642</td>\n",
       "      <td>1.527879</td>\n",
       "      <td>0.687579</td>\n",
       "      <td>05:57</td>\n",
       "    </tr>\n",
       "    <tr>\n",
       "      <td>9</td>\n",
       "      <td>1.525901</td>\n",
       "      <td>1.528156</td>\n",
       "      <td>0.687429</td>\n",
       "      <td>05:57</td>\n",
       "    </tr>\n",
       "  </tbody>\n",
       "</table>"
      ],
      "text/plain": [
       "<IPython.core.display.HTML object>"
      ]
     },
     "metadata": {},
     "output_type": "display_data"
    }
   ],
   "source": [
    "learn.fit_one_cycle(10, lr, moms=(0.8,0.7))"
   ]
  },
  {
   "cell_type": "markdown",
   "metadata": {},
   "source": [
    "- 保存模型权重与字典"
   ]
  },
  {
   "cell_type": "code",
   "execution_count": 28,
   "metadata": {},
   "outputs": [
    {
     "data": {
      "text/plain": [
       "[PosixPath('/home/lab/.fastai/data/zhwiki/log'),\n",
       " PosixPath('/home/lab/.fastai/data/zhwiki/train.csv'),\n",
       " PosixPath('/home/lab/.fastai/data/zhwiki/zhwiki'),\n",
       " PosixPath('/home/lab/.fastai/data/zhwiki/zh_textlist_class'),\n",
       " PosixPath('/home/lab/.fastai/data/zhwiki/models'),\n",
       " PosixPath('/home/lab/.fastai/data/zhwiki/docs'),\n",
       " PosixPath('/home/lab/.fastai/data/zhwiki/zhwiki-latest-pages-articles.xml'),\n",
       " PosixPath('/home/lab/.fastai/data/zhwiki/val.csv'),\n",
       " PosixPath('/home/lab/.fastai/data/zhwiki/zh_databunch'),\n",
       " PosixPath('/home/lab/.fastai/data/zhwiki/zhwiki-latest-pages-articles.xml.bz2'),\n",
       " PosixPath('/home/lab/.fastai/data/zhwiki/wikiextractor')]"
      ]
     },
     "execution_count": 28,
     "metadata": {},
     "output_type": "execute_result"
    }
   ],
   "source": [
    "path.ls()"
   ]
  },
  {
   "cell_type": "code",
   "execution_count": 29,
   "metadata": {},
   "outputs": [],
   "source": [
    "mdl_path = path/'models'\n",
    "mdl_path.mkdir(exist_ok=True)\n",
    "learn.to_fp32().save(mdl_path/lm_fns[0], with_opt=False)\n",
    "learn.data.vocab.save(mdl_path/(lm_fns[1] + '.pkl'))"
   ]
  },
  {
   "cell_type": "code",
   "execution_count": 30,
   "metadata": {},
   "outputs": [],
   "source": [
    "TEXT = \"中国\"\n",
    "N_WORDS = 40\n",
    "N_SENTENCES = 2"
   ]
  },
  {
   "cell_type": "code",
   "execution_count": 31,
   "metadata": {},
   "outputs": [
    {
     "name": "stdout",
     "output_type": "stream",
     "text": [
      "中国 \n",
      " \n",
      "  PIANO SPORTS PHILIPPINES / EXPRESSED STORAGE RECORDS \n",
      " \n",
      "  L. René Douglas Tree 2009 , Jr. 警察局 : 2011 \n",
      "  A8 . David , 1965\n",
      "\n",
      "中国 \n",
      " \n",
      "  leadership ╱ ... Fields - v - 是研究各种方法的性质，可能性，和实现在机器上。主要是歸納推理、溯因推理，也有在歸納推理的研究 b - Instagram NVIDIA proof ; zh - at heaven - Warning PRO has a ♭ FEB , but more than 25 -\n"
     ]
    }
   ],
   "source": [
    "print(\"\\n\\n\".join(learn.predict(TEXT, N_WORDS, temperature=0.9) for _ in range(N_SENTENCES)))"
   ]
  },
  {
   "cell_type": "markdown",
   "metadata": {},
   "source": [
    "- 进行语义分析任务\n",
    "- 参看 [中文数据集](BERT.ipynb)"
   ]
  },
  {
   "cell_type": "code",
   "execution_count": 32,
   "metadata": {},
   "outputs": [],
   "source": [
    "root = Config.data_path()/r'xiecheng'"
   ]
  },
  {
   "cell_type": "code",
   "execution_count": 33,
   "metadata": {},
   "outputs": [],
   "source": [
    "!cp {root}/'train.csv' {root}/'val.csv' {path}"
   ]
  },
  {
   "cell_type": "code",
   "execution_count": 34,
   "metadata": {},
   "outputs": [
    {
     "data": {
      "text/plain": [
       "[PosixPath('/home/lab/.fastai/data/zhwiki/log'),\n",
       " PosixPath('/home/lab/.fastai/data/zhwiki/train.csv'),\n",
       " PosixPath('/home/lab/.fastai/data/zhwiki/zhwiki'),\n",
       " PosixPath('/home/lab/.fastai/data/zhwiki/zh_textlist_class'),\n",
       " PosixPath('/home/lab/.fastai/data/zhwiki/models'),\n",
       " PosixPath('/home/lab/.fastai/data/zhwiki/docs'),\n",
       " PosixPath('/home/lab/.fastai/data/zhwiki/zhwiki-latest-pages-articles.xml'),\n",
       " PosixPath('/home/lab/.fastai/data/zhwiki/val.csv'),\n",
       " PosixPath('/home/lab/.fastai/data/zhwiki/zh_databunch'),\n",
       " PosixPath('/home/lab/.fastai/data/zhwiki/zhwiki-latest-pages-articles.xml.bz2'),\n",
       " PosixPath('/home/lab/.fastai/data/zhwiki/wikiextractor')]"
      ]
     },
     "execution_count": 34,
     "metadata": {},
     "output_type": "execute_result"
    }
   ],
   "source": [
    "path.ls()"
   ]
  },
  {
   "cell_type": "code",
   "execution_count": 35,
   "metadata": {},
   "outputs": [
    {
     "data": {
      "text/html": [
       "<div>\n",
       "<style scoped>\n",
       "    .dataframe tbody tr th:only-of-type {\n",
       "        vertical-align: middle;\n",
       "    }\n",
       "\n",
       "    .dataframe tbody tr th {\n",
       "        vertical-align: top;\n",
       "    }\n",
       "\n",
       "    .dataframe thead th {\n",
       "        text-align: right;\n",
       "    }\n",
       "</style>\n",
       "<table border=\"1\" class=\"dataframe\">\n",
       "  <thead>\n",
       "    <tr style=\"text-align: right;\">\n",
       "      <th></th>\n",
       "      <th>label</th>\n",
       "      <th>review</th>\n",
       "    </tr>\n",
       "  </thead>\n",
       "  <tbody>\n",
       "    <tr>\n",
       "      <th>0</th>\n",
       "      <td>0</td>\n",
       "      <td>这个酒店在苏州的园区，位置相当远，房间也一般，好象原先这个楼不是设计为酒店的，因为在园区内这...</td>\n",
       "    </tr>\n",
       "    <tr>\n",
       "      <th>1</th>\n",
       "      <td>1</td>\n",
       "      <td>房间很大，可以和家里的媲美。进门就有种家的感觉，有衣物间，还有厨房。房间不大，但是客厅很大，...</td>\n",
       "    </tr>\n",
       "    <tr>\n",
       "      <th>2</th>\n",
       "      <td>1</td>\n",
       "      <td>周边环境优美,交通便利.早餐种类较少,前台服务态度一般,如多一点热情微笑则更佳.</td>\n",
       "    </tr>\n",
       "    <tr>\n",
       "      <th>3</th>\n",
       "      <td>1</td>\n",
       "      <td>环境还可以，房间不大但也不是太小，够住了。写字桌前的落地灯离得太近了，每次移椅子都会碰到，另...</td>\n",
       "    </tr>\n",
       "    <tr>\n",
       "      <th>4</th>\n",
       "      <td>0</td>\n",
       "      <td>办入住的时候，说没有收到携程的预定，但还是给了携程的价格。问了早餐的事情才给了餐卷，早餐很差...</td>\n",
       "    </tr>\n",
       "  </tbody>\n",
       "</table>\n",
       "</div>"
      ],
      "text/plain": [
       "   label                                             review\n",
       "0      0  这个酒店在苏州的园区，位置相当远，房间也一般，好象原先这个楼不是设计为酒店的，因为在园区内这...\n",
       "1      1  房间很大，可以和家里的媲美。进门就有种家的感觉，有衣物间，还有厨房。房间不大，但是客厅很大，...\n",
       "2      1           周边环境优美,交通便利.早餐种类较少,前台服务态度一般,如多一点热情微笑则更佳.\n",
       "3      1  环境还可以，房间不大但也不是太小，够住了。写字桌前的落地灯离得太近了，每次移椅子都会碰到，另...\n",
       "4      0  办入住的时候，说没有收到携程的预定，但还是给了携程的价格。问了早餐的事情才给了餐卷，早餐很差..."
      ]
     },
     "execution_count": 35,
     "metadata": {},
     "output_type": "execute_result"
    }
   ],
   "source": [
    "train_df = pd.read_csv(path/'train.csv')\n",
    "train_df.head()"
   ]
  },
  {
   "cell_type": "code",
   "execution_count": 36,
   "metadata": {},
   "outputs": [
    {
     "data": {
      "text/html": [
       "<div>\n",
       "<style scoped>\n",
       "    .dataframe tbody tr th:only-of-type {\n",
       "        vertical-align: middle;\n",
       "    }\n",
       "\n",
       "    .dataframe tbody tr th {\n",
       "        vertical-align: top;\n",
       "    }\n",
       "\n",
       "    .dataframe thead th {\n",
       "        text-align: right;\n",
       "    }\n",
       "</style>\n",
       "<table border=\"1\" class=\"dataframe\">\n",
       "  <thead>\n",
       "    <tr style=\"text-align: right;\">\n",
       "      <th></th>\n",
       "      <th>label</th>\n",
       "      <th>review</th>\n",
       "    </tr>\n",
       "  </thead>\n",
       "  <tbody>\n",
       "    <tr>\n",
       "      <th>0</th>\n",
       "      <td>0</td>\n",
       "      <td>非常不愉快的一次经历!!!酒店的服务一塌糊涂!!!在下午3点左右入住竟然没有打扫好房间!办理...</td>\n",
       "    </tr>\n",
       "    <tr>\n",
       "      <th>1</th>\n",
       "      <td>0</td>\n",
       "      <td>酒店的硬件一般，服务较差。因为我们带小孩是自助游方式，怕万一来不及回来，要求先退一个房，另一...</td>\n",
       "    </tr>\n",
       "    <tr>\n",
       "      <th>2</th>\n",
       "      <td>1</td>\n",
       "      <td>原先看了别人的评价，做好了不怎么样的准备，到了之后真的有惊喜的感觉，在富豪酒店住了3天，（我...</td>\n",
       "    </tr>\n",
       "    <tr>\n",
       "      <th>3</th>\n",
       "      <td>1</td>\n",
       "      <td>酒店人员的服务相当好，几乎是有求必应，在得知我们飞机晚点后，一直派专人守在门口。由于给到我们...</td>\n",
       "    </tr>\n",
       "    <tr>\n",
       "      <th>4</th>\n",
       "      <td>1</td>\n",
       "      <td>服务很周到合理，也很亲切~房间按时打扫，还有水果送，不错</td>\n",
       "    </tr>\n",
       "  </tbody>\n",
       "</table>\n",
       "</div>"
      ],
      "text/plain": [
       "   label                                             review\n",
       "0      0  非常不愉快的一次经历!!!酒店的服务一塌糊涂!!!在下午3点左右入住竟然没有打扫好房间!办理...\n",
       "1      0  酒店的硬件一般，服务较差。因为我们带小孩是自助游方式，怕万一来不及回来，要求先退一个房，另一...\n",
       "2      1  原先看了别人的评价，做好了不怎么样的准备，到了之后真的有惊喜的感觉，在富豪酒店住了3天，（我...\n",
       "3      1  酒店人员的服务相当好，几乎是有求必应，在得知我们飞机晚点后，一直派专人守在门口。由于给到我们...\n",
       "4      1                       服务很周到合理，也很亲切~房间按时打扫，还有水果送，不错"
      ]
     },
     "execution_count": 36,
     "metadata": {},
     "output_type": "execute_result"
    }
   ],
   "source": [
    "test_df = pd.read_csv(path/'val.csv')\n",
    "test_df.head()"
   ]
  },
  {
   "cell_type": "code",
   "execution_count": 37,
   "metadata": {},
   "outputs": [],
   "source": [
    "df = pd.concat([train_df,test_df], sort=False)"
   ]
  },
  {
   "cell_type": "code",
   "execution_count": 38,
   "metadata": {},
   "outputs": [],
   "source": [
    "data_lm = (TextList.from_df(df, path, cols='review')\n",
    "    .split_by_rand_pct(0.1, seed=42)\n",
    "    .label_for_lm()           \n",
    "    .databunch(bs=bs, num_workers=4))"
   ]
  },
  {
   "cell_type": "code",
   "execution_count": 39,
   "metadata": {},
   "outputs": [
    {
     "data": {
      "text/html": [
       "<table border=\"1\" class=\"dataframe\">\n",
       "  <thead>\n",
       "    <tr style=\"text-align: right;\">\n",
       "      <th>idx</th>\n",
       "      <th>text</th>\n",
       "    </tr>\n",
       "  </thead>\n",
       "  <tbody>\n",
       "    <tr>\n",
       "      <td>0</td>\n",
       "      <td>xxunk xxbos xxunk xxbos xxunk xxrep xxunk 。 xxbos 虽说合肥的酒店及服务比较差能理解,但没见过这么差的服务及酒店设施!还四星级呢,简直不如街边的小旅馆!服务员前台和大堂经理的素质特低!房间简直就是垃圾房拼的,而且酒店还说通过携程订的房间就是这种房,而且还是最差的,要么就在酒店前台订,房价一样房间却要好很多 xxrep 7 . 晕!强烈谴责此酒店的做法!坚决不会再入住该酒店!火车站旁边有个邮政宾馆还可以 xxbos 10月25日入住单人大床间一晚,感觉较差:1.晚上22:30左右入住,前台接待很冷淡,无笑容,感觉不亲切;2.最可怕的是冲澡3分钟后淋浴龙头停水,2分钟以后浴缸龙头也完全停水.没办法浴室内打电话给大堂,说派人上来看一下,这时发现房间内未配浴袍.后大堂副理上来,告诉也有其它房间有类似情况,因最近酒店附近管理维修.只是建议给换房间 xxbos 头两晚入住单间,窗式空调以及窗外传来的噪音让人无法入睡。查因房间唯一的窗户外是两栋大厦的夹缝,宽约两米,而两栋大厦的所有空调机都安装于此,可想而知同时启动的噪音有多么的轰动.但正值元旦假期,只能屈就.第三天转为双人间,犹如从地狱转往天堂,空调是分体的,远离夹缝,面积大两倍,还可远眺香港城貌,房价只交多100元.建议有意入住该酒店的朋友哪怕一个人也选择双人间,这里的地理位置实在棒极了. xxbos 优点就是地理位置，到外滩和南京路走路10分钟。房间比较小，楼层举架低，有点压抑。卫生间毛巾也许消过毒，但很旧，颜色发黄，没办法，我用的自带毛巾。服务人员都不太热情，办理入住的女孩子们还好，大堂前的服务生，问个路什么的回答问题时基本不正眼看我，很锻炼我的脾气，有利于修身养性 。 xxbos xxunk xxbos xxunk ！ xxbos xxunk / xxunk 。 xxbos xxunk 。 xxbos xxup xxunk ！ xxbos xxunk 。 xxbos xxunk 。 xxbos xxunk 。 。 。 xxbos 一个词 xxrep 4 - \" 大失所望\"!!!去广州之前,在携程上研究了半天,后来应老公的要求选择了elan,因为他从欧洲带过来的那本\"china xxrep 4 - lonelyplanet\"上极尽完美之辞的推荐了该酒店.网上看图片和介绍,觉得应该也不错(没有查点评),我当时认为应该和\"有一家\"的水平差不多.可是一进房间,发现和图片实在相差太远.房间小得可怜,没有地方放行李,甚至连坐的地方都没有.一张小得可怜的写字台上有一台小得可怜的\"液晶电视\".如果你想躺在床上看电视,恐怕需要一双\"千里眼\";如果你想使用那张写字台,那你一定需要很苗条,才能坐在那个位置,并且需要带一台小于12寸的笔记本，否则是放不下的.房间也不干净,首先进去的那间330元的大床房,马桶里居然还漂着头发.后来立马换了间560元的套房,其实也就稍微大一点点,多了个坐的地方,有沙发和桌子及大一点的普通电视.房间设施很陈旧,地板有些地方已经翘起来了,隔音不好,热水水压也不够 xxrep 5 . 前台服务还不错,服务员能说英语;但是压根没见到行李生.个人感觉,不值那个价钱;个人意见,不推荐入住 ! xxbos xxunk 。 xxbos xxunk</td>\n",
       "    </tr>\n",
       "    <tr>\n",
       "      <td>1</td>\n",
       "      <td>4 . xxunk xxrep 4 . xxunk xxrep 5 . xxbos xxunk 。 xxbos 很老的酒店，箱柜旧的都没法看了，前台服务跟门童都值得夸奖。不然真的是一无是处了。270的价格让人诧异，有点疯。不会再去了 。 xxbos xxunk ！ xxbos xxunk ！ xxbos xxunk xxrep 8 ！ xxunk ！ xxbos 隔音效果非常非常非常的差，睡在房间里象睡在马路边一样，路上声音听的清清楚楚。我还是看了携程上该酒店的点评，采纳网友意见预定了5楼以上的房间。结果还是非常的吵，到晚上12点还是睡不着，只好打开电视以掩盖马路上的车声。不知道几点睡着了，一大早就被车声吵醒，一看表，才早上4点！才4点啊，也就是说就算晚上12点我睡着了，也才睡了4个小时。头疼啊，白天还要工作啊，闭上眼睛努力睡，怎么样也睡不着啊，太吵了。坚持到5：30实在是受不了了，打电话给前台，问有没有安静点的房间可以换，现在不能换晚上换也可以，答曰：没有。盯着天花板熬到6：30，起床。在早餐厅灌了3杯咖啡后，马上去退房。本来是要住三天的，实在是受不了这个吵啊。真不明白这样差的条件怎么在携程上有4.0的评分。另：1.电视播放太复杂，不方便2.服务员服务意识不强，没有为客人着想、以解决问题为本的意识。体现在早餐券、开发票等问题上3、网线太短，大概就20厘米长吧，不能在床上上网4.电源接触不好，电脑电源连到插座上时火花噼里啪啦的冒，当时我想：因为电源问题损坏电脑不知道酒店赔不赔再次表示疑问：这样的酒店上怎么会有4、0的高分数，宾馆反馈2008年3月30日：首先感谢您的入住并提出宝贵的意见，由于房间的环境问题影响到您的休息为此我们深表歉意。对于您提出的一些问题，我们会酌情整改，另外酒店早餐是凭房卡用的，没有早餐券；我们客房中心随时都为一些有特殊要求的客人准备了较长的网线，如果有需要只要一个电话，马上送到房间。非常感谢您的宝贵意见，真诚期待您能再次光临，给我们一个能为您提供更好服务的机会 。 xxbos xxunk ! xxbos xxunk 。 xxbos xxunk xxbos xxunk / xxunk / xxunk xxbos 好小的门面，没有电梯，房间也不是很一致！豪华房居然要400多，马桶还是坏的！酒店太自作主张了 xxrep 4 。 xxbos xxunk ! xxbos xxunk 。 xxbos 好小的门面，没有电梯，房间也不是很一致！最郁闷的是我不知道我们公司跟他们有合约，他就让我的客人（另外一次）直接用我们公司的名义住的酒店，而没有通过ctrip。还好第二天ctrip打电话给我确认，让我退单了 。 xxbos xxunk 。 xxbos xxunk 。 xxbos xxunk 。 xxbos</td>\n",
       "    </tr>\n",
       "    <tr>\n",
       "      <td>2</td>\n",
       "      <td>。 xxbos xxunk xxbos xxunk 。 xxbos 入住当晚,因火车到达得较晚。到酒店前门一看，感觉就象烂尾楼，黑灯瞎火的，还以为出租车拉错地方了。后面到总台一问说是大堂搞装修。上到房间一看，房间内的设置就更差了。地毯上到处是补丁，一股子霉味，我住的还是豪华标双。不晓得普标哪得成什么样？两百多人民币还不如现如今的经济型酒店，太失望了，货不对板(跟图片上比）。宾馆反馈2008年5月30日：谢谢您的宝贵意见!实在对不起,我代表酒店向您致以诚挚的歉意!您提的这几个问题酒店现在已经全部解决,欢迎您下次入住 ! xxbos 酒店房间太烂。服务一般。地点也差。房间小，卫生间小，居然还是蹲便 。 。 。 xxbos xxunk ！ xxbos xxunk xxrep 8 ！ xxunk xxrep 6 ！ xxbos xxunk 。 xxbos 房间还可以,设施简单,不像是四星标准。早餐还算丰富,不过要早去。前台接待、结算速度和态度还不错。后院停车场很有特点，一晚上有两台车被划伤，真恐怖，最关键的是保安及小头目还不想认帐，气愤啊 xxbos xxunk 。 xxbos 订的豪华标间，738元的价格，住过的同等对比是最差的。周边环境除了一地铁口没有其它，餐厅不行，周边也找不着吃的。房间小，住了两天还有一天晚上没水，宽带收费40，打印贡献了几十个10元。绝对不值 。 xxbos xxup 388元的房间,也就值248元.上网居然收费且人工配制ip.打死也不再住. xxbos xxunk ! xxbos xxunk xxbos 房间巨小，电视成了摆设，开不了，服务员态度冷漠。以后不会再进这家酒店 xxbos xxunk xxbos 请各位注意酒店提供的饮用水是自来水，这是前台服务员说的。所以各位千万不能生喝酒店提供的饮用水。2008年了，北京的酒店还是这种水平，真是令人心寒 。 xxbos 1 \\ xxunk \\ xxunk \\ xxunk \\ xxunk xxbos 酒店比较旧，听说有十几年的历史，房间也比较小。一个所谓三星酒店连一次性的剃须刀都不提供，要另外花15块钱买。总体上还不如火车站周边的商务酒店 。 xxbos xxunk 。 xxbos 临近道路边,相当的吵,隔音效果差</td>\n",
       "    </tr>\n",
       "    <tr>\n",
       "      <td>3</td>\n",
       "      <td>- xxunk xxrep 4 . xxunk xxrep 4 . xxup xxunk 。 xxbos xxunk xxbos 根本就是家庭旅馆 .. 还298 + 12基金 ... 我去的时候刚好是国庆他们说在装修,把我安排在前面的民宅一样的地方 .. 刚开始带我去6号楼，妈的根本不是人住的破 .. 然后把我带回8号楼.大一点 .. 而且这个地方离海很远,,到的晚上说明天会用车送我们到海边,第2天下大雨,说车不在，我朋友和他交涉,旅游的心情都被影响 ... 被ctrip的照片骗了 .. 这个破旅馆真的不是人住的!!以后再也不图便宜了!!补充点评2007年10月11日：298的房间ctrip上标有\"宽带免费\" .. 可那里根本不能上网 .. 我带的那么重的电脑就白拿了 .. 我有被骗的感觉 ! ! xxbos xxunk ! xxbos xxup 9月9日入住,从小事即可见一斑：浴帘比浴盆高200毫米，弄得卫生间一地水，功能丧失，不如说是遮羞布；餐厅桌布油迹斑斑，服务员总是理直气壮地回答，昨晚忘记换了。让人不可思议的是房间不能打国际长途！11日晚23时，我要打国际长途，前台首先声明不好使，建议买ic卡打（想赚卡钱吧？）。在我的坚持下开通了国际长途，但拨号后传来了中文提示：这个号码是空号 xxrep 6 . 。 xxup 显然没有“出国”。与前台理论，找值班经理都不解决问题，无奈，找出一张ip卡，试拨17900，无法拨通，又试拨10060（该宾馆号称用网通的电话），也不能拨通。最后用手机拨打了国际长途。电话打过，确久久不能入睡，倒不是心痛电话费过高。而是心中恐怖，万一夜里着火、被盗，我能拨打119、110吗？可爱的正宗三星级酒店！抬眼看日历，啊！9月11日--恐怖的911！！！次日提前退房离去。留下携程与你长期合作 。 xxbos xxunk xxbos 一个字：差！招待所的水平，地毯很葬，卫生间很陈旧。补充点评2007年9月12日：离三孔有一段距离，有停车位。号称其装修和布置是儒家风格，但本人无论如何也没有看出来。据说曲阜的宾馆都是如此水平 。 xxbos xxunk 。 xxbos xxup xxunk 。 xxbos 这家酒店太烂了。特别是服务差的很，简直让人火大。我通过携程预定了早餐，结果被告知从七点钟才开始，那我说我退掉吧，结果告诉我携程订了就不能退。早晨在房间打电话告诉前台查房，结果我到前台后，前台还没打，等到再次说退房时，才磨磨蹭蹭的打电话，结果等了几分钟还是没人查。等签单时才发现自己名字的两个字竟然被搞反了，真搞不懂，我实在是不敢恭维，而且莫名其妙的在我的名字后面竟然出现了另一个人名。建议各位不要入住。至所以给服务打两分，是因为其餐厅给我送了碗姜汤，比较感动，要不然服务肯定的一分 。 xxbos xxunk</td>\n",
       "    </tr>\n",
       "    <tr>\n",
       "      <td>4</td>\n",
       "      <td>... xxunk xxrep 4 . xxunk xxbos xxunk xxrep 5 ！ xxbos xxunk 。 xxbos xxunk xxbos xxunk 。 xxbos xxunk 。 xxbos 第一住的房都是味，地上有好香灰，后了另外一味那麽重！建酒店清生必注意，及最好有非吸 xxbos xxunk 。 xxbos xxup xxunk 。 xxbos xxup xxunk ！ xxbos xxunk xxbos xxunk xxrep 6 ~ xxunk xxbos 这家酒店太烂了。特别是服务差的很，简直让人火大。我通过携程预定了早餐，结果被告知从七点钟才开始，那我说我退掉吧，结果告诉我携程订了就不能退。早晨在房间打电话告诉前台查房，结果我到前台后，前台还没打，等到再次说退房时，才磨磨蹭蹭的打电话，结果等了几分钟还是没人查。等签单时才发现自己名字的两个字竟然被搞反了，真搞不懂，我实在是不敢恭维，而且莫名其妙的在我的名字后面竟然出现了另一个人名。建议各位不要入住。至所以给服务打两分，是因为其餐厅给我送了碗姜汤，比较感动，要不然服务肯定的一分 。 xxbos 前台手续复杂且慢，用两个房间要签三次字；有客人刚办完入住手续就发现房间冷而要求不住的，服务人员坚持按已经住过收费，让人感到是“可下子抓住一个客人决不放过”；我们入住和离开时分别看到有客人不小心弄脏了毛巾、床单，看上去洗一下也就没事了，可服务员一定要客人赔偿，且价格不低，一条白床单要价180元；携程的价格高于该店的优惠价 。 xxbos xxunk xxbos 房间和走廊里味道很重，楼外下面马路上的声音很吵，早上隔壁的电视机的声音听的很清楚，可以当闹钟使用，但时间是隔壁定的，没有给“闹钟”定时，结帐的时候发票没有给我盖章，总的感觉是让人失望。今后不会再住了 。 xxbos xxunk xxrep 4 ！ xxunk ！ xxbos xxunk 。 xxbos xxunk 。 xxbos xxunk 。</td>\n",
       "    </tr>\n",
       "  </tbody>\n",
       "</table>"
      ],
      "text/plain": [
       "<IPython.core.display.HTML object>"
      ]
     },
     "metadata": {},
     "output_type": "display_data"
    }
   ],
   "source": [
    "data_lm.show_batch()"
   ]
  },
  {
   "cell_type": "markdown",
   "metadata": {},
   "source": [
    "### 使用我们之前训练的模型学习一个语言模型"
   ]
  },
  {
   "cell_type": "markdown",
   "metadata": {},
   "source": [
    "- `pretrained_fnames=lm_fns`"
   ]
  },
  {
   "cell_type": "code",
   "execution_count": 40,
   "metadata": {},
   "outputs": [
    {
     "data": {
      "text/plain": [
       "['zh_wt', 'zh_wt_vocab']"
      ]
     },
     "execution_count": 40,
     "metadata": {},
     "output_type": "execute_result"
    }
   ],
   "source": [
    "lm_fns"
   ]
  },
  {
   "cell_type": "code",
   "execution_count": 41,
   "metadata": {},
   "outputs": [],
   "source": [
    "learn_lm = language_model_learner(data_lm, AWD_LSTM, pretrained_fnames=lm_fns)"
   ]
  },
  {
   "cell_type": "code",
   "execution_count": 42,
   "metadata": {},
   "outputs": [],
   "source": [
    "lr = 1e-3\n",
    "lr *= bs/48"
   ]
  },
  {
   "cell_type": "code",
   "execution_count": 43,
   "metadata": {},
   "outputs": [
    {
     "data": {
      "text/html": [
       "Total time: 00:01 <p><table border=\"1\" class=\"dataframe\">\n",
       "  <thead>\n",
       "    <tr style=\"text-align: left;\">\n",
       "      <th>epoch</th>\n",
       "      <th>train_loss</th>\n",
       "      <th>valid_loss</th>\n",
       "      <th>accuracy</th>\n",
       "      <th>time</th>\n",
       "    </tr>\n",
       "  </thead>\n",
       "  <tbody>\n",
       "    <tr>\n",
       "      <td>0</td>\n",
       "      <td>6.825648</td>\n",
       "      <td>5.656390</td>\n",
       "      <td>0.346429</td>\n",
       "      <td>00:00</td>\n",
       "    </tr>\n",
       "    <tr>\n",
       "      <td>1</td>\n",
       "      <td>6.414371</td>\n",
       "      <td>5.291976</td>\n",
       "      <td>0.371429</td>\n",
       "      <td>00:00</td>\n",
       "    </tr>\n",
       "  </tbody>\n",
       "</table>"
      ],
      "text/plain": [
       "<IPython.core.display.HTML object>"
      ]
     },
     "metadata": {},
     "output_type": "display_data"
    }
   ],
   "source": [
    "learn_lm.fit_one_cycle(2, lr*10, moms=(0.8,0.7))"
   ]
  },
  {
   "cell_type": "code",
   "execution_count": 44,
   "metadata": {},
   "outputs": [
    {
     "data": {
      "text/html": [
       "Total time: 00:07 <p><table border=\"1\" class=\"dataframe\">\n",
       "  <thead>\n",
       "    <tr style=\"text-align: left;\">\n",
       "      <th>epoch</th>\n",
       "      <th>train_loss</th>\n",
       "      <th>valid_loss</th>\n",
       "      <th>accuracy</th>\n",
       "      <th>time</th>\n",
       "    </tr>\n",
       "  </thead>\n",
       "  <tbody>\n",
       "    <tr>\n",
       "      <td>0</td>\n",
       "      <td>5.966403</td>\n",
       "      <td>5.122570</td>\n",
       "      <td>0.382366</td>\n",
       "      <td>00:00</td>\n",
       "    </tr>\n",
       "    <tr>\n",
       "      <td>1</td>\n",
       "      <td>5.701670</td>\n",
       "      <td>4.197936</td>\n",
       "      <td>0.442634</td>\n",
       "      <td>00:01</td>\n",
       "    </tr>\n",
       "    <tr>\n",
       "      <td>2</td>\n",
       "      <td>5.017968</td>\n",
       "      <td>2.179635</td>\n",
       "      <td>0.547098</td>\n",
       "      <td>00:00</td>\n",
       "    </tr>\n",
       "    <tr>\n",
       "      <td>3</td>\n",
       "      <td>4.418200</td>\n",
       "      <td>1.848256</td>\n",
       "      <td>0.621652</td>\n",
       "      <td>00:00</td>\n",
       "    </tr>\n",
       "    <tr>\n",
       "      <td>4</td>\n",
       "      <td>3.969230</td>\n",
       "      <td>1.754683</td>\n",
       "      <td>0.627232</td>\n",
       "      <td>00:00</td>\n",
       "    </tr>\n",
       "    <tr>\n",
       "      <td>5</td>\n",
       "      <td>3.635008</td>\n",
       "      <td>1.730213</td>\n",
       "      <td>0.610045</td>\n",
       "      <td>00:00</td>\n",
       "    </tr>\n",
       "    <tr>\n",
       "      <td>6</td>\n",
       "      <td>3.395650</td>\n",
       "      <td>1.712010</td>\n",
       "      <td>0.614732</td>\n",
       "      <td>00:00</td>\n",
       "    </tr>\n",
       "    <tr>\n",
       "      <td>7</td>\n",
       "      <td>3.215359</td>\n",
       "      <td>1.700940</td>\n",
       "      <td>0.619643</td>\n",
       "      <td>00:00</td>\n",
       "    </tr>\n",
       "  </tbody>\n",
       "</table>"
      ],
      "text/plain": [
       "<IPython.core.display.HTML object>"
      ]
     },
     "metadata": {},
     "output_type": "display_data"
    }
   ],
   "source": [
    "learn_lm.unfreeze()\n",
    "learn_lm.fit_one_cycle(8, lr, moms=(0.8,0.7))"
   ]
  },
  {
   "cell_type": "code",
   "execution_count": 45,
   "metadata": {},
   "outputs": [],
   "source": [
    "learn_lm.save(f'{lang}fine_tuned')\n",
    "learn_lm.save_encoder(f'{lang}fine_tuned_enc')"
   ]
  },
  {
   "cell_type": "code",
   "execution_count": 46,
   "metadata": {},
   "outputs": [],
   "source": [
    "TEXT = '我喜欢'"
   ]
  },
  {
   "cell_type": "code",
   "execution_count": 47,
   "metadata": {},
   "outputs": [
    {
     "name": "stdout",
     "output_type": "stream",
     "text": [
      "我喜欢 。 \" 。 。 11 - > ， 。 7 。 4 。 。 8 , 万杰国际不能刷卡是件令人最难以接受的事情，房间电视时长不能使用，网络还收费更让人难以接受 。 6 。 6 - .\n",
      "\n",
      "我喜欢 ( ) 。 ) 。 \" 、 。 ” 。 。 ” 。 ！ ” ， ， 。 ” ， 。 ” 。 4 ” 。\n"
     ]
    }
   ],
   "source": [
    "print(\"\\n\\n\".join(learn_lm.predict(TEXT, N_WORDS, temperature=0.9) for _ in range(N_SENTENCES)))"
   ]
  },
  {
   "cell_type": "code",
   "execution_count": 48,
   "metadata": {},
   "outputs": [
    {
     "data": {
      "text/plain": [
       "9000"
      ]
     },
     "execution_count": 48,
     "metadata": {},
     "output_type": "execute_result"
    }
   ],
   "source": [
    "len(data_lm.train_ds)"
   ]
  },
  {
   "cell_type": "markdown",
   "metadata": {},
   "source": [
    "### 分类"
   ]
  },
  {
   "cell_type": "code",
   "execution_count": 49,
   "metadata": {},
   "outputs": [],
   "source": [
    "data_clas = (TextList.from_df(train_df, path, vocab=data_lm.vocab, cols='review')\n",
    "    .split_by_rand_pct(0.1, seed=42)\n",
    "    .label_from_df(cols='label')\n",
    "    .databunch(bs=bs, num_workers=4))\n",
    "\n",
    "data_clas.save(f'{lang}_textlist_class')"
   ]
  },
  {
   "cell_type": "code",
   "execution_count": 50,
   "metadata": {},
   "outputs": [],
   "source": [
    "data_clas = load_data(path, f'{lang}_textlist_class', bs=bs, num_workers=4)"
   ]
  },
  {
   "cell_type": "code",
   "execution_count": null,
   "metadata": {},
   "outputs": [],
   "source": [
    "@np_func\n",
    "def f1(inp,targ): return f1_score(targ, np.argmax(inp, axis=-1))"
   ]
  },
  {
   "cell_type": "code",
   "execution_count": 51,
   "metadata": {},
   "outputs": [],
   "source": [
    "learn_c = text_classifier_learner(data_clas, AWD_LSTM, drop_mult=0.5, metrics=[f1, accuracy]).to_fp16()\n",
    "learn_c.load_encoder(f'{lang}fine_tuned_enc')\n",
    "learn_c.freeze()"
   ]
  },
  {
   "cell_type": "code",
   "execution_count": 52,
   "metadata": {},
   "outputs": [],
   "source": [
    "lr=2e-2\n",
    "lr *= bs/48"
   ]
  },
  {
   "cell_type": "code",
   "execution_count": 53,
   "metadata": {},
   "outputs": [
    {
     "data": {
      "text/html": [
       "Total time: 00:11 <p><table border=\"1\" class=\"dataframe\">\n",
       "  <thead>\n",
       "    <tr style=\"text-align: left;\">\n",
       "      <th>epoch</th>\n",
       "      <th>train_loss</th>\n",
       "      <th>valid_loss</th>\n",
       "      <th>accuracy</th>\n",
       "      <th>time</th>\n",
       "    </tr>\n",
       "  </thead>\n",
       "  <tbody>\n",
       "    <tr>\n",
       "      <td>0</td>\n",
       "      <td>0.506918</td>\n",
       "      <td>0.532543</td>\n",
       "      <td>0.736667</td>\n",
       "      <td>00:01</td>\n",
       "    </tr>\n",
       "    <tr>\n",
       "      <td>1</td>\n",
       "      <td>0.492927</td>\n",
       "      <td>0.499378</td>\n",
       "      <td>0.738889</td>\n",
       "      <td>00:01</td>\n",
       "    </tr>\n",
       "    <tr>\n",
       "      <td>2</td>\n",
       "      <td>0.495496</td>\n",
       "      <td>0.546750</td>\n",
       "      <td>0.731111</td>\n",
       "      <td>00:01</td>\n",
       "    </tr>\n",
       "    <tr>\n",
       "      <td>3</td>\n",
       "      <td>0.496079</td>\n",
       "      <td>0.497189</td>\n",
       "      <td>0.736667</td>\n",
       "      <td>00:01</td>\n",
       "    </tr>\n",
       "    <tr>\n",
       "      <td>4</td>\n",
       "      <td>0.483515</td>\n",
       "      <td>0.480997</td>\n",
       "      <td>0.745556</td>\n",
       "      <td>00:01</td>\n",
       "    </tr>\n",
       "    <tr>\n",
       "      <td>5</td>\n",
       "      <td>0.483690</td>\n",
       "      <td>0.503028</td>\n",
       "      <td>0.747778</td>\n",
       "      <td>00:01</td>\n",
       "    </tr>\n",
       "    <tr>\n",
       "      <td>6</td>\n",
       "      <td>0.477162</td>\n",
       "      <td>0.498185</td>\n",
       "      <td>0.745556</td>\n",
       "      <td>00:01</td>\n",
       "    </tr>\n",
       "    <tr>\n",
       "      <td>7</td>\n",
       "      <td>0.470506</td>\n",
       "      <td>0.547335</td>\n",
       "      <td>0.752222</td>\n",
       "      <td>00:01</td>\n",
       "    </tr>\n",
       "  </tbody>\n",
       "</table>"
      ],
      "text/plain": [
       "<IPython.core.display.HTML object>"
      ]
     },
     "metadata": {},
     "output_type": "display_data"
    }
   ],
   "source": [
    "learn_c.fit_one_cycle(8, lr, moms=(0.8,0.7))"
   ]
  },
  {
   "cell_type": "code",
   "execution_count": 54,
   "metadata": {},
   "outputs": [
    {
     "data": {
      "text/html": [
       "Total time: 00:04 <p><table border=\"1\" class=\"dataframe\">\n",
       "  <thead>\n",
       "    <tr style=\"text-align: left;\">\n",
       "      <th>epoch</th>\n",
       "      <th>train_loss</th>\n",
       "      <th>valid_loss</th>\n",
       "      <th>accuracy</th>\n",
       "      <th>time</th>\n",
       "    </tr>\n",
       "  </thead>\n",
       "  <tbody>\n",
       "    <tr>\n",
       "      <td>0</td>\n",
       "      <td>0.488151</td>\n",
       "      <td>0.495879</td>\n",
       "      <td>0.745556</td>\n",
       "      <td>00:01</td>\n",
       "    </tr>\n",
       "    <tr>\n",
       "      <td>1</td>\n",
       "      <td>0.485026</td>\n",
       "      <td>0.480137</td>\n",
       "      <td>0.747778</td>\n",
       "      <td>00:01</td>\n",
       "    </tr>\n",
       "    <tr>\n",
       "      <td>2</td>\n",
       "      <td>0.471632</td>\n",
       "      <td>0.513555</td>\n",
       "      <td>0.753333</td>\n",
       "      <td>00:01</td>\n",
       "    </tr>\n",
       "  </tbody>\n",
       "</table>"
      ],
      "text/plain": [
       "<IPython.core.display.HTML object>"
      ]
     },
     "metadata": {},
     "output_type": "display_data"
    }
   ],
   "source": [
    "learn_c.freeze_to(-2)\n",
    "learn_c.fit_one_cycle(3, slice(lr/(2.6**4),lr), moms=(0.8,0.7))"
   ]
  },
  {
   "cell_type": "code",
   "execution_count": 55,
   "metadata": {},
   "outputs": [
    {
     "data": {
      "text/html": [
       "Total time: 00:08 <p><table border=\"1\" class=\"dataframe\">\n",
       "  <thead>\n",
       "    <tr style=\"text-align: left;\">\n",
       "      <th>epoch</th>\n",
       "      <th>train_loss</th>\n",
       "      <th>valid_loss</th>\n",
       "      <th>accuracy</th>\n",
       "      <th>time</th>\n",
       "    </tr>\n",
       "  </thead>\n",
       "  <tbody>\n",
       "    <tr>\n",
       "      <td>0</td>\n",
       "      <td>0.475392</td>\n",
       "      <td>0.539779</td>\n",
       "      <td>0.748889</td>\n",
       "      <td>00:02</td>\n",
       "    </tr>\n",
       "    <tr>\n",
       "      <td>1</td>\n",
       "      <td>0.482827</td>\n",
       "      <td>0.511783</td>\n",
       "      <td>0.747778</td>\n",
       "      <td>00:02</td>\n",
       "    </tr>\n",
       "    <tr>\n",
       "      <td>2</td>\n",
       "      <td>0.463830</td>\n",
       "      <td>0.487542</td>\n",
       "      <td>0.753333</td>\n",
       "      <td>00:02</td>\n",
       "    </tr>\n",
       "  </tbody>\n",
       "</table>"
      ],
      "text/plain": [
       "<IPython.core.display.HTML object>"
      ]
     },
     "metadata": {},
     "output_type": "display_data"
    }
   ],
   "source": [
    "learn_c.freeze_to(-3)\n",
    "learn_c.fit_one_cycle(3, slice(lr/(2.6**4),lr), moms=(0.8,0.7))"
   ]
  },
  {
   "cell_type": "code",
   "execution_count": 56,
   "metadata": {},
   "outputs": [
    {
     "data": {
      "text/html": [
       "Total time: 00:18 <p><table border=\"1\" class=\"dataframe\">\n",
       "  <thead>\n",
       "    <tr style=\"text-align: left;\">\n",
       "      <th>epoch</th>\n",
       "      <th>train_loss</th>\n",
       "      <th>valid_loss</th>\n",
       "      <th>accuracy</th>\n",
       "      <th>time</th>\n",
       "    </tr>\n",
       "  </thead>\n",
       "  <tbody>\n",
       "    <tr>\n",
       "      <td>0</td>\n",
       "      <td>0.465022</td>\n",
       "      <td>0.482218</td>\n",
       "      <td>0.755556</td>\n",
       "      <td>00:03</td>\n",
       "    </tr>\n",
       "    <tr>\n",
       "      <td>1</td>\n",
       "      <td>0.466324</td>\n",
       "      <td>0.526466</td>\n",
       "      <td>0.757778</td>\n",
       "      <td>00:03</td>\n",
       "    </tr>\n",
       "    <tr>\n",
       "      <td>2</td>\n",
       "      <td>0.459744</td>\n",
       "      <td>0.491625</td>\n",
       "      <td>0.753333</td>\n",
       "      <td>00:03</td>\n",
       "    </tr>\n",
       "    <tr>\n",
       "      <td>3</td>\n",
       "      <td>0.459465</td>\n",
       "      <td>0.488808</td>\n",
       "      <td>0.753333</td>\n",
       "      <td>00:03</td>\n",
       "    </tr>\n",
       "    <tr>\n",
       "      <td>4</td>\n",
       "      <td>0.459654</td>\n",
       "      <td>0.503824</td>\n",
       "      <td>0.754444</td>\n",
       "      <td>00:03</td>\n",
       "    </tr>\n",
       "  </tbody>\n",
       "</table>"
      ],
      "text/plain": [
       "<IPython.core.display.HTML object>"
      ]
     },
     "metadata": {},
     "output_type": "display_data"
    }
   ],
   "source": [
    "learn_c.unfreeze()\n",
    "learn_c.fit_one_cycle(5, slice(lr/10/(2.6**4),lr/10), moms=(0.8,0.7))"
   ]
  },
  {
   "cell_type": "code",
   "execution_count": 57,
   "metadata": {},
   "outputs": [],
   "source": [
    "learn_c.save(f'{lang}clas')"
   ]
  },
  {
   "cell_type": "code",
   "execution_count": 58,
   "metadata": {},
   "outputs": [
    {
     "data": {
      "text/plain": [
       "{'emb_sz': 400,\n",
       " 'n_hid': 1152,\n",
       " 'n_layers': 3,\n",
       " 'pad_token': 1,\n",
       " 'qrnn': False,\n",
       " 'bidir': False,\n",
       " 'output_p': 0.4,\n",
       " 'hidden_p': 0.3,\n",
       " 'input_p': 0.4,\n",
       " 'embed_p': 0.05,\n",
       " 'weight_p': 0.5}"
      ]
     },
     "execution_count": 58,
     "metadata": {},
     "output_type": "execute_result"
    }
   ],
   "source": [
    "awd_lstm_clas_config"
   ]
  },
  {
   "cell_type": "code",
   "execution_count": null,
   "metadata": {},
   "outputs": [],
   "source": []
  }
 ],
 "metadata": {
  "kernelspec": {
   "display_name": "Python 3",
   "language": "python",
   "name": "python3"
  },
  "language_info": {
   "codemirror_mode": {
    "name": "ipython",
    "version": 3
   },
   "file_extension": ".py",
   "mimetype": "text/x-python",
   "name": "python",
   "nbconvert_exporter": "python",
   "pygments_lexer": "ipython3",
   "version": "3.6.7"
  }
 },
 "nbformat": 4,
 "nbformat_minor": 2
}
